{
 "cells": [
  {
   "cell_type": "markdown",
   "metadata": {
    "scrolled": true,
    "slideshow": {
     "slide_type": "slide"
    }
   },
   "source": [
    "\n",
    "# Using OLI Calculations in WaterTAP\n",
    "\n",
    "#### Author: Paul Vecchiarelli\n",
    "#### Maintainer: Adam Atia\n",
    "\n",
    "This tutorial will demonstrate basic usage of OLI Cloud calls using our custom API tools."
   ]
  },
  {
   "cell_type": "markdown",
   "metadata": {
    "slideshow": {
     "slide_type": "slide"
    }
   },
   "source": [
    "## Rationale\n",
    "\n",
    " - Simulations for realistic water sources are mathematically complex: \n",
    " > $ Interactions \\ge Cations * Anions$\n",
    " - OLI improves WaterTAP approximations and offloads computational resources"
   ]
  },
  {
   "cell_type": "markdown",
   "metadata": {
    "slideshow": {
     "slide_type": "slide"
    }
   },
   "source": [
    "## Required OLI API Inputs\n",
    "\n",
    "\n",
    " - State variables (solute concentrations, temperature, pressure), which can be extracted from a state block\n",
    " \n",
    " - Login credentials\n",
    " \n",
    " - A chemistry (*.dbs) file\n",
    "     - establishes state variables, phases, etc. to be considered in flash calls"
   ]
  },
  {
   "cell_type": "code",
   "execution_count": null,
   "metadata": {
    "slideshow": {
     "slide_type": "slide"
    }
   },
   "outputs": [],
   "source": [
    "# used to build survey lists\n",
    "from numpy import linspace\n",
    "\n",
    "# used to execute OLI Cloud functions\n",
    "from watertap.tools.oli_api.flash import (\n",
    "    Flash,\n",
    "    build_survey,\n",
    "    get_survey_sample_conditions,\n",
    "    write_output,\n",
    ")\n",
    "from watertap.tools.oli_api.credentials import CredentialManager\n",
    "from watertap.tools.oli_api.client import OLIApi"
   ]
  },
  {
   "cell_type": "markdown",
   "metadata": {
    "slideshow": {
     "slide_type": "slide"
    }
   },
   "source": [
    "# 1. Specify State Variables.\n",
    "\n",
    "- This data is used to construct inputs to OLI Cloud\n",
    "- Same basic information is required by Water Analysis and Isothermal flashes (temperature, pressure, solutes)"
   ]
  },
  {
   "cell_type": "code",
   "execution_count": null,
   "metadata": {
    "slideshow": {
     "slide_type": "subslide"
    }
   },
   "outputs": [],
   "source": [
    "inflows = {\n",
    "    \"Na_+\": 1200,\n",
    "    \"Cl_-\": 1800,\n",
    "    \"Ca_2+\": 200,\n",
    "    \"SO4_2-\": 300,\n",
    "}"
   ]
  },
  {
   "cell_type": "markdown",
   "metadata": {
    "slideshow": {
     "slide_type": "slide"
    }
   },
   "source": [
    "# 2. Initialize Flash Instance.\n",
    "\n",
    " - We will run most of our methods with this class"
   ]
  },
  {
   "cell_type": "code",
   "execution_count": null,
   "metadata": {},
   "outputs": [],
   "source": [
    "flash = Flash(debug_level=\"INFO\")"
   ]
  },
  {
   "cell_type": "markdown",
   "metadata": {
    "slideshow": {
     "slide_type": "slide"
    }
   },
   "source": [
    "# 3. Get Survey Parameters.\n",
    "\n",
    " - In this example, we will generate a temperature sweep survey"
   ]
  },
  {
   "cell_type": "code",
   "execution_count": null,
   "metadata": {
    "scrolled": true,
    "slideshow": {
     "slide_type": "subslide"
    }
   },
   "outputs": [],
   "source": [
    "# a survey will sweep through one or more variables simultaneously\n",
    "# surveys are enabled for concentration, pH, temperature, pressure, and other variables\n",
    "\n",
    "# using the default grid_mesh setting,\n",
    "# build_survey computes the Cartesian product of the input arrays\n",
    "survey = build_survey(\n",
    "    {\n",
    "        \"Na_+\": linspace(0, 1e4, 2),\n",
    "        \"Cl_-\": linspace(0, 1e4, 5),\n",
    "    },\n",
    "    get_oli_names=True,\n",
    "    mesh_grid=True,\n",
    "    file_name=\"oli_survey.json\",\n",
    ")\n",
    "\n",
    "# uncomment the following lines to view results:\n",
    "#print(\"Survey using grid_mesh\")\n",
    "#print(survey)\n",
    "\n",
    "# setting mesh_grid=False allows custom surveys to be defined, i.e., no Cartesian product is computed.\n",
    "survey_custom = build_survey(\n",
    "    {\n",
    "         \"Na_+\": [0., 0., 0., 0., 0., 1e4, 1e4, 1e4, 1e4, 1e4],\n",
    "         \"Cl_-\": [0., 2.5e3, 5e3, 7.5e3, 1e4, 0., 2.5e3, 5e3, 7.5e3, 1e4],\n",
    "    },\n",
    "    get_oli_names=True,\n",
    "    mesh_grid=False,\n",
    "    file_name=\"oli_survey_custom.json\",\n",
    ")\n",
    "\n",
    "# uncomment the following lines to view results:\n",
    "#print(\"Survey with custom sampling\")\n",
    "#print(survey_custom)"
   ]
  },
  {
   "cell_type": "code",
   "execution_count": null,
   "metadata": {},
   "outputs": [],
   "source": [
    "# individual sample points can be accessed to see what will be modified\n",
    "samples = [0,1,2,3,4,5,6,7,8,9]\n",
    "survey_points = get_survey_sample_conditions(survey, samples)\n",
    "survey_points_custom = get_survey_sample_conditions(survey_custom, samples)\n",
    "\n",
    "# uncomment the following lines to view results:\n",
    "#for sample in samples:\n",
    "#    print(f\"sample: {sample}\")\n",
    "#    print(f\"grid survey point: {survey_points[sample]}\")\n",
    "#    print(f\"custom survey point: {survey_points_custom[sample]}\")\n",
    "\n",
    "write_output(survey_points, \"test_survey_points.json\")\n",
    "write_output(survey_points_custom, \"test_survey_points_custom.json\")"
   ]
  },
  {
   "cell_type": "markdown",
   "metadata": {
    "slideshow": {
     "slide_type": "slide"
    }
   },
   "source": [
    "# 4. Login to OLI Cloud.\n",
    "\n",
    "- The following code demonstrates an OLI Cloud login:"
   ]
  },
  {
   "cell_type": "code",
   "execution_count": null,
   "metadata": {
    "slideshow": {
     "slide_type": "fragment"
    }
   },
   "outputs": [],
   "source": [
    "import os \n",
    "\n",
    "# there are 3 intended methods of logging in:\n",
    "# 1: using username, password, root_url, and auth_url\n",
    "# 2: using access_keys and root_url\n",
    "# 3: using encryption_key to load credentials from config_file\n",
    "\n",
    "# methods 1 and 2 will prompt to save credentials and provide an encryption key to use with method 3.\n",
    "\n",
    "# NOTE: `interactive_mode` in CredentialManager works like `debug_level` in OLIApi and Flash\n",
    "# while `test` in CredentialManager is equivalent to `interactive_mode` in OLIApi\n",
    "'''\n",
    "# method 1: input username, password, root_url, and auth_url\n",
    "credential_manager = CredentialManager(\n",
    "    username=\"\",\n",
    "    password=\"\",\n",
    "    root_url=\"\",\n",
    "    auth_url=\"\",\n",
    "    interactive_mode=True,\n",
    "    test=True,\n",
    ")\n",
    "'''\n",
    "# when prompted, allow WaterTAP to save credentials to generate encryption key.\n",
    "\n",
    "# to overwrite saved credentials, create a new credential_manager instance with \n",
    "# the credentials to write and permit credentials to be save to the config_file.\n",
    "# e.g., new_credential_manager = CredentialManager(credential_manager.credentials)\n",
    "\n",
    "# method 2: input access_keys and root_url\n",
    "\n",
    "# credential_manager.generate_oliapi_access_key will create a new access key and add it to\n",
    "# credential_manager.credentials[\"access_keys\"].\n",
    "\n",
    "# credential_manager.delete_oliapi_access_key will delete a specified key.\n",
    "\n",
    "# NOTE: by default, this method is enabled in the tutorial for testing purposes.\n",
    "# Change test to False to enable prompts with CredentialManager.\n",
    "credential_manager = CredentialManager(\n",
    "    access_keys=[os.environ[\"OLI_API_KEY\"]],\n",
    "    root_url=os.environ[\"OLI_API_ROOT_URL\"],\n",
    "    interactive_mode=False,\n",
    "    test=True,\n",
    ")\n",
    "'''\n",
    "# method 3: input encryption_key\n",
    "credential_manager = CredentialManager(\n",
    "    encryption_key=\"\",\n",
    "    interactive_mode=True,\n",
    "    test=True,\n",
    ")\n",
    "'''\n",
    "# NOTE: a new encryption key will be generated every time the config_file is overwritten "
   ]
  },
  {
   "cell_type": "markdown",
   "metadata": {
    "slideshow": {
     "slide_type": "slide"
    }
   },
   "source": [
    "# 5. Process Flash Calculations."
   ]
  },
  {
   "cell_type": "code",
   "execution_count": null,
   "metadata": {},
   "outputs": [],
   "source": [
    "# OLIApi is used as a context manager\n",
    "with OLIApi(credential_manager, interactive_mode=False, debug_level=\"INFO\") as oliapi:\n",
    "    # create a new DBS file\n",
    "    # - alternative thermo_frameworks and databanks are available.\n",
    "    # - use keep_file = True to save a DBS file ID on the Cloud\n",
    "    # for use in more than one session\n",
    "    dbs_file_id = oliapi.generate_dbs_file(\n",
    "        inflows=inflows,\n",
    "        thermo_framework=\"MSE (H3O+ ion)\",\n",
    "        phases=[\"liquid1\", \"solid\"],\n",
    "        model_name=\"test\",\n",
    "        keep_file=True,\n",
    "    )\n",
    "    # NOTE: liquid2 (non-aqueous) and vapor phases are available but not yet fully supported."
   ]
  },
  {
   "cell_type": "code",
   "execution_count": null,
   "metadata": {
    "scrolled": false,
    "slideshow": {
     "slide_type": "fragment"
    }
   },
   "outputs": [],
   "source": [
    "# Flash calculation example #1: Water Analysis survey with pH reconciliation.\n",
    "\n",
    "# OLIApi is used as a context manager\n",
    "with OLIApi(credential_manager, interactive_mode=False, debug_level=\"INFO\") as oliapi:\n",
    "\n",
    "    # create water analysis input\n",
    "    # Water Analysis uses true species for inputs, i.e., IONS.\n",
    "    json_input = flash.configure_water_analysis(\n",
    "        inflows,\n",
    "        reconciliation=\"ReconcilePh\",\n",
    "        ph=5,\n",
    "        allow_solids=True,\n",
    "        file_name=\"water_analysis_inputs.json\",\n",
    "    )\n",
    "    # run Water Analysis flash calculation survey as specified        \n",
    "    stream_output = flash.run_flash(\n",
    "        \"wateranalysis\",\n",
    "        oliapi,\n",
    "        dbs_file_id,\n",
    "        json_input,\n",
    "        survey,\n",
    "        file_name=\"water_analysis_outputs.json\",\n",
    "    )\n",
    "\n",
    "    # The output of Water Analysis gives apparent species\n",
    "    # i.e., SALTS, COMPLEXES (MgO, CaO, etc.)"
   ]
  },
  {
   "cell_type": "code",
   "execution_count": null,
   "metadata": {
    "scrolled": false
   },
   "outputs": [],
   "source": [
    "# Flash calculation example #2: isothermal analysis survey\n",
    "with OLIApi(credential_manager, interactive_mode=False, debug_level=\"INFO\") as oliapi:\n",
    "\n",
    "    # Other flash calculations use apparent species for inputs.\n",
    "\n",
    "    # These can be obtained in one step with get_apparent_species_from_true(),\n",
    "    # and saved to a file and reloaded as needed.\n",
    "    apparent_species = flash.get_apparent_species_from_true(\n",
    "        json_input, oliapi, dbs_file_id, file_name=\"apparent_species.json\"\n",
    "    )\n",
    "    isothermal_input = flash.configure_flash_analysis(\n",
    "        apparent_species, \"isothermal\", file_name=\"isothermal_inputs.json\"\n",
    "    )\n",
    "    # specify a new survey to compare apparent species\n",
    "    isothermal_survey = build_survey(\n",
    "        {\"NaCl\": linspace(0, 1e6, 10)},\n",
    "        get_oli_names=True,\n",
    "        file_name=\"isothermal_survey.json\",\n",
    "    )\n",
    "    flash.run_flash(\n",
    "        \"isothermal\",\n",
    "        oliapi,\n",
    "        dbs_file_id,\n",
    "        isothermal_input,\n",
    "        isothermal_survey,\n",
    "        file_name=\"isothermal_outputs.json\",\n",
    "    )"
   ]
  },
  {
   "cell_type": "code",
   "execution_count": null,
   "metadata": {
    "scrolled": false
   },
   "outputs": [],
   "source": [
    "# Additional OLIApi functions to know:\n",
    "\n",
    "with OLIApi(credential_manager, interactive_mode=False, debug_level=\"INFO\") as oliapi:\n",
    "    # all of a user's DBS files can be fetched from OLI Cloud\n",
    "    dbs_files = oliapi.get_user_dbs_file_ids()\n",
    "    \n",
    "    # uncomment the following lines to view results:\n",
    "    for idx, file in enumerate(dbs_files):\n",
    "       print(f\"{idx+1}\\t{file}\")\n",
    "    \n",
    "    # if a DBS file has been retained from a previous session,\n",
    "    # its flash history and chemistry information can be summarized.\n",
    "    file_summary = oliapi.get_dbs_file_summary(dbs_file_id)\n",
    "    print(file_summary)\n",
    "    \n",
    "    # save chemistry information\n",
    "    chemistry_info = file_summary[\"chemistry_info\"]\n",
    "    # Uncomment next line to save as json file\n",
    "    # write_output(chemistry_info[\"result\"], \"chemistry_info.json\")\n",
    "    \n",
    "    # DBS files can also be deleted.\n",
    "    oliapi.dbs_file_cleanup(dbs_files)\n",
    "\n",
    "# uncomment the following lines to view results:\n",
    "#print(file_summary)"
   ]
  },
  {
   "cell_type": "markdown",
   "metadata": {
    "slideshow": {
     "slide_type": "slide"
    }
   },
   "source": [
    "# 6. Extract Results."
   ]
  },
  {
   "cell_type": "code",
   "execution_count": null,
   "metadata": {
    "scrolled": false,
    "slideshow": {
     "slide_type": "subslide"
    }
   },
   "outputs": [],
   "source": [
    "# There are 3 keys for results:\n",
    "# 'submitted_requests' stores the JSON input for each Flash calculation\n",
    "# 'metaData' stores metadata for each Flash calculation\n",
    "# 'result' stores the JSON output for each Flash calculation\n",
    "\n",
    "import json\n",
    "from pandas import Series, DataFrame\n",
    "\n",
    "with open(\"water_analysis_outputs.json\", \"rb\") as json_output:\n",
    "    results = json.load(json_output)[\"result\"]\n",
    "\n",
    "# uncomment the following lines to view results:\n",
    "#print(\"Available keys:\")\n",
    "#for k in results:\n",
    "#    print(f\"- {k}\")\n",
    "#print()"
   ]
  },
  {
   "cell_type": "code",
   "execution_count": null,
   "metadata": {},
   "outputs": [],
   "source": [
    "# example #1 extraction\n",
    "prop = \"selfDiffusivities_liquid1\"\n",
    "result = results[prop]\n",
    "dataframe_input = []\n",
    "units = \"\"\n",
    "for k,v in result.items():\n",
    "    if not units:\n",
    "        units = v[\"units\"]\n",
    "    dataframe_input.append(Series(name=k, data=v[\"values\"], dtype='Float64'))\n",
    "    \n",
    "# uncomment the following lines to view results:\n",
    "#print(f\"Result for {prop} ({units}):\")\n",
    "#DataFrame(dataframe_input)"
   ]
  },
  {
   "cell_type": "code",
   "execution_count": null,
   "metadata": {},
   "outputs": [],
   "source": [
    "# example #1 extraction, part 2\n",
    "prop = \"enthalpy_total\"\n",
    "result = results[prop]\n",
    "dataframe_input = []\n",
    "units = result[\"units\"]\n",
    "\n",
    "# uncomment the following lines to view results:\n",
    "#print(f\"Result for {prop} ({units}):\")\n",
    "#Series(result[\"values\"])"
   ]
  },
  {
   "cell_type": "code",
   "execution_count": null,
   "metadata": {},
   "outputs": [],
   "source": [
    "# example #2 extraction\n",
    "with open(\"isothermal_outputs.json\", \"rb\") as json_output:\n",
    "    results = json.load(json_output)[\"result\"]\n",
    "\n",
    "prop = \"prescalingTendencies\"\n",
    "result = results[prop]\n",
    "dataframe_input = []\n",
    "units = \"\"\n",
    "for k,v in result.items():\n",
    "    if not units:\n",
    "        units = v[\"units\"]\n",
    "    dataframe_input.append(Series(name=k, data=v[\"values\"], dtype='Float64'))\n",
    "\n",
    "# uncomment the following lines to view results:    \n",
    "#print(f\"Result for {prop} ({units}):\")\n",
    "#DataFrame(dataframe_input)"
   ]
  }
 ],
 "metadata": {
  "celltoolbar": "Slideshow",
  "kernelspec": {
   "display_name": "watertap-dev",
   "language": "python",
   "name": "watertap-dev"
  },
  "language_info": {
   "codemirror_mode": {
    "name": "ipython",
    "version": 3
   },
   "file_extension": ".py",
   "mimetype": "text/x-python",
   "name": "python",
   "nbconvert_exporter": "python",
   "pygments_lexer": "ipython3",
   "version": "3.8.17"
  }
 },
 "nbformat": 4,
 "nbformat_minor": 2
}
