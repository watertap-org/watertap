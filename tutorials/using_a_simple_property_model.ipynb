{
 "cells": [
  {
   "cell_type": "markdown",
   "id": "81ab54a4",
   "metadata": {
    "slideshow": {
     "slide_type": "slide"
    }
   },
   "source": [
    "# Using a Simple Custom Property Model\n",
    "\n",
    "This demo will show how a user can utilize a custom property model using the WaterTAP framework. For a guide on how to create this simple property model, see [Creating a Simple Property Model](./creating_a_simple_property_model.ipynb). For documentation on property models that already exist in WaterTAP, see [Property Model Documentation](https://watertap.readthedocs.io/en/latest/technical_reference/property_models/index.html)."
   ]
  },
  {
   "cell_type": "markdown",
   "id": "bca61450-d2aa-40b0-8782-dcfde1e9daff",
   "metadata": {},
   "source": [
    "## Step 1: Import the necessary functions"
   ]
  },
  {
   "cell_type": "code",
   "execution_count": null,
   "id": "cdf0d270-835d-46a1-8cda-168802481352",
   "metadata": {},
   "outputs": [],
   "source": [
    "from pyomo.environ import ConcreteModel, assert_optimal_termination\n",
    "from idaes.core import FlowsheetBlock\n",
    "from idaes.core.util.model_statistics import degrees_of_freedom\n",
    "from pyomo.util.check_units import assert_units_consistent\n",
    "import idaes.core.util.scaling as iscale\n",
    "from watertap.core.solvers import get_solver\n",
    "\n",
    "# Imports the property model created in the \"Creating a Simple Property Model\" Jupyter Notebook\n",
    "%run creating_a_simple_property_model.ipynb\n",
    "\n",
    "# To import a custom property model, custom_prop_pack, add it to the following directory and run the line below\n",
    "# from watertap.property_models.custom_prop_pack import ProcessBlockClassName"
   ]
  },
  {
   "cell_type": "markdown",
   "id": "f1bf7d8c-2d27-44ba-b924-d659a48e7c32",
   "metadata": {},
   "source": [
    "## Step 2: Create the ConcreteModel and FlowsheetBlock\n",
    "Create the flowsheet by touching the properties to build them on the state block and fixing the state variables. Default scaling should also be set for the flow rate to ensure the model is well-scaled."
   ]
  },
  {
   "cell_type": "code",
   "execution_count": null,
   "id": "76b16230-2125-4423-a90e-db5b45359640",
   "metadata": {},
   "outputs": [],
   "source": [
    "m = ConcreteModel()\n",
    "m.fs = FlowsheetBlock(dynamic=False)\n",
    "\n",
    "# Attach property package\n",
    "m.fs.properties = PropParameterBlock()\n",
    "# Build a state block, must specify a time which, by convention for steady state models, is just 0\n",
    "m.fs.stream = m.fs.properties.build_state_block([0])\n",
    "\n",
    "# Display the state block, it only has the state variables and they are all unfixed\n",
    "print(\"\\n---First Display---\")\n",
    "m.fs.stream[0].display()"
   ]
  },
  {
   "cell_type": "code",
   "execution_count": null,
   "id": "2b71d7c3-9007-4b5b-b067-fe4fbe4b8212",
   "metadata": {},
   "outputs": [],
   "source": [
    "# Attempt to access properties so that they are built\n",
    "m.fs.stream[0].mass_frac_phase_comp\n",
    "# After touching the property, the state block automatically builds it,\n",
    "# note the mass_frac_phase_comp variable and the constraint to calculate it\n",
    "print(\"\\n---Second Display---\")\n",
    "m.fs.stream[0].display()"
   ]
  },
  {
   "cell_type": "code",
   "execution_count": null,
   "id": "a4806299-0db7-450d-b990-d76be95cdd62",
   "metadata": {},
   "outputs": [],
   "source": [
    "# Touch another property\n",
    "m.fs.stream[0].conc_mass_phase_comp\n",
    "# After touching this property, the state block automatically builds it AND any other properties that are necessary,\n",
    "# note that now there is the conc_mass_phase_comp and dens_mass_phase variable and associated constraints\n",
    "print(\"\\n---Third Display---\")\n",
    "m.fs.stream[0].display()\n",
    "\n",
    "# Touch another property\n",
    "m.fs.stream[0].flow_vol_phase\n",
    "\n",
    "# Now that we have a state block, we can fix the state variables and solve for the properties\n",
    "m.fs.stream[0].temperature.fix(273.15 + 25)\n",
    "m.fs.stream[0].pressure.fix(101325)\n",
    "m.fs.stream[0].flow_mass_phase_comp[\"Liq\", \"H2O\"].fix(1)\n",
    "m.fs.stream[0].flow_mass_phase_comp[\"Liq\", \"NaCl\"].fix(0.035)\n",
    "m.fs.stream[0].flow_mass_phase_comp[\"Liq\", \"TSS\"].fix(120e-6)\n",
    "\n",
    "# The user should provide the scale for the flow rate so that our tools can ensure the model is well scaled\n",
    "# Generally scaling factors should be such that if it is multiplied by the variable it will range between 0.01 and 100\n",
    "m.fs.properties.set_default_scaling(\"flow_mass_phase_comp\", 1, index=(\"Liq\", \"H2O\"))\n",
    "m.fs.properties.set_default_scaling(\"flow_mass_phase_comp\", 1e2, index=(\"Liq\", \"NaCl\"))\n",
    "m.fs.properties.set_default_scaling(\"flow_mass_phase_comp\", 1e4, index=(\"Liq\", \"TSS\"))\n",
    "iscale.calculate_scaling_factors(m.fs)  # this utility scales the model"
   ]
  },
  {
   "cell_type": "markdown",
   "id": "87c4e91c-ff20-479e-bfca-d67b0abf2474",
   "metadata": {},
   "source": [
    "## Step 3: Solve the flowsheet and display results"
   ]
  },
  {
   "cell_type": "code",
   "execution_count": null,
   "id": "051b194a-f028-43b5-9f88-98734137b176",
   "metadata": {},
   "outputs": [],
   "source": [
    "# Check that units are consistent\n",
    "assert_units_consistent(m)\n",
    "\n",
    "# Check that the degrees of freedom are what we expect\n",
    "assert degrees_of_freedom(m) == 0\n",
    "\n",
    "solver = get_solver()\n",
    "results = solver.solve(m, tee=False)\n",
    "\n",
    "# Check that the solver finds an optimal solution\n",
    "assert_optimal_termination(results)\n",
    "\n",
    "# Display results\n",
    "print(\"\\n---fourth display---\")\n",
    "m.fs.stream[0].display()\n",
    "# Note that the properties are solved, and the body of the constraints are small (residual)"
   ]
  },
  {
   "cell_type": "markdown",
   "id": "4cf8fe15-4e34-4def-96f2-13e626e2fef7",
   "metadata": {},
   "source": [
    "## Step 4: Solve the flowsheet and display results under new conditions"
   ]
  },
  {
   "cell_type": "code",
   "execution_count": null,
   "id": "e0fb88e0-10b8-41a7-8144-68b38d09e042",
   "metadata": {},
   "outputs": [],
   "source": [
    "# Equation oriented modeling has several advantages, one of them is that we can unfix variables and fix others\n",
    "# instead of setting the mass flow rates, we can set the volumetric flow rate and mass fractions\n",
    "m.fs.stream[0].flow_mass_phase_comp[\"Liq\", \"H2O\"].unfix()\n",
    "m.fs.stream[0].flow_mass_phase_comp[\"Liq\", \"NaCl\"].unfix()\n",
    "m.fs.stream[0].flow_mass_phase_comp[\"Liq\", \"TSS\"].unfix()\n",
    "\n",
    "m.fs.stream[0].flow_vol_phase[\"Liq\"].fix(1.5e-3)\n",
    "m.fs.stream[0].mass_frac_phase_comp[\"Liq\", \"NaCl\"].fix(0.05)\n",
    "m.fs.stream[0].mass_frac_phase_comp[\"Liq\", \"TSS\"].fix(80e-6)\n",
    "\n",
    "# Re-solve\n",
    "results = solver.solve(m, tee=False)\n",
    "assert_optimal_termination(results)\n",
    "\n",
    "print(\"\\n---fifth display---\")\n",
    "m.fs.stream[0].display()"
   ]
  }
 ],
 "metadata": {
  "celltoolbar": "Slideshow",
  "kernelspec": {
   "display_name": "watertap-dev",
   "language": "python",
   "name": "watertap-dev"
  },
  "language_info": {
   "codemirror_mode": {
    "name": "ipython",
    "version": 3
   },
   "file_extension": ".py",
   "mimetype": "text/x-python",
   "name": "python",
   "nbconvert_exporter": "python",
   "pygments_lexer": "ipython3",
   "version": "3.11.5"
  },
  "rise": {
   "enable_chalkboard": true,
   "height": "100%",
   "scroll": true,
   "slidenumber": true,
   "theme": "simple"
  }
 },
 "nbformat": 4,
 "nbformat_minor": 5
}
