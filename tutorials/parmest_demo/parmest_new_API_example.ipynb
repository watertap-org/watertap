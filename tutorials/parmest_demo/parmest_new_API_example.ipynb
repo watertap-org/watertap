{
 "cells": [
  {
   "cell_type": "markdown",
   "metadata": {},
   "source": [
    "\n",
    "___\n",
    "# Conducting a Parameter Estimation\n",
    "___\n",
    "\n",
    "Author: Savannah Sakhai\n",
    "\n",
    "For this demonstration, we will be going through how to set up a parameter estimation using the Pyomo tool ***parmest***. This simple case study aims to develop an empirical equation for the vapor pressure of an NaCl solution over a range of temperature and salt mass fractions."
   ]
  },
  {
   "cell_type": "markdown",
   "metadata": {},
   "source": [
    "### Step 0: Imports"
   ]
  },
  {
   "cell_type": "code",
   "execution_count": null,
   "metadata": {},
   "outputs": [],
   "source": [
    "import pandas as pd # to create a pandas dataframe to organize the data\n",
    "import numpy as np # to manipulate the data into a usable format\n",
    "import pyomo.contrib.parmest.parmest as parmest # to perform the parameter estimation\n",
    "import pyomo.environ as pyo # to create a pyomo model\n",
    "import matplotlib.pyplot as plt # to plot the results\n",
    "from watertap.core.solvers import get_solver # to bring in ipopt solver\n",
    "solver = get_solver() # this will make the ipopt solver available"
   ]
  },
  {
   "cell_type": "markdown",
   "metadata": {},
   "source": [
    "### Step 1: Gather the data"
   ]
  },
  {
   "cell_type": "code",
   "execution_count": null,
   "metadata": {},
   "outputs": [],
   "source": [
    "# data obtained using PhreeqC\n",
    "# read in csv file to pd.dataframe\n",
    "data = pd.read_csv(\n",
    "    'P_sat_Data.csv',\n",
    "    header=None,\n",
    ")\n",
    "\n",
    "display(data)"
   ]
  },
  {
   "cell_type": "markdown",
   "metadata": {},
   "source": [
    "\n",
    "### Step 2: Prepare the data\n",
    "*How does parmest need the data to be formatted?*\n",
    "\n",
    "\n",
    "- **Pandas Dataframe:** each column is an observed quantity (temperature, concentration, vapor pressure, etc.), each row is a distinct scenario (25, 0.02, 31.33)\n",
    "\n",
    "**Other options:**\n",
    "- **List of Pandas Dataframe:** each entry of the list is a distinct scenario, each dataframe an observed quantity\n",
    "- **List of dictionaries:** each entry of the list is a distinct scenario, each key an observed quantity \n",
    "- **List of json file names:** each entry of the list contains a json file with the distinct scenario (for large datasets in parallel computing)"
   ]
  },
  {
   "cell_type": "code",
   "execution_count": null,
   "metadata": {},
   "outputs": [],
   "source": [
    "def get_formatted_data(data):\n",
    "    # convert dataframe to numpy array for the manipulations\n",
    "    npdata = data.to_numpy()\n",
    "\n",
    "    # obtain input variables (salt g/kg water, temperature C)\n",
    "    c = npdata[1:, 0]\n",
    "    T = npdata[0, 1:]\n",
    "\n",
    "    # repeat each value of temperature for the number of mass fraction entries\n",
    "    T_col = np.repeat(T, len(c)).T +273 #celsius to kelvin\n",
    "\n",
    "    # repeat the set of mass fraction entries for the number of temperature entries\n",
    "    c_col = np.tile(c, len(T)).T /1000  #g/kg water to mass frac \n",
    "\n",
    "    # take the output table and create a column\n",
    "    output_data = npdata[1:, 1:].T.reshape(-1) * 101325 #atm to Pa\n",
    "\n",
    "    # compile into one table where each column is a different observed quantity\n",
    "    total_data = np.column_stack([c_col, T_col, output_data])\n",
    "\n",
    "    # redefine as a pandas dataframe with named columns\n",
    "    data = pd.DataFrame(total_data,\n",
    "                        columns=['Comp', 'Temp', 'PropData'],\n",
    "                        )\n",
    "\n",
    "    # delete all rows when column 'PropData' has a value of 0 (scenarios without measured property data)\n",
    "    index_NA = data[(data['PropData'] == 0)].index\n",
    "    data.drop(index_NA, inplace=True)\n",
    "\n",
    "    return data\n",
    "    "
   ]
  },
  {
   "cell_type": "code",
   "execution_count": null,
   "metadata": {},
   "outputs": [],
   "source": [
    "data_formatted = get_formatted_data(data) \n",
    "print(data_formatted.to_markdown())"
   ]
  },
  {
   "cell_type": "markdown",
   "metadata": {},
   "source": [
    "### Step 3: Propose a model\n",
    "*What equation are parameters being fit to?*\n",
    "\n",
    "***Parmest*** requires a \"model function\" to be defined that takes in the data and returns a Pyomo model.\n",
    "\n",
    "    Set up the Pyomo model defining:\n",
    "    - Pyomo Vars or Params for each parameter (or 'theta') to be estimated\n",
    "    - the model equation (a function of the observed data, i.e., temperature, mass fraction)\n",
    "\n",
    " \n",
    "\n",
    "For this example, the model we are proposing is:\n",
    "\n",
    "$$\n",
    " (a_0 + a_1*x + a_2*x^2 + a_3*x^3+ a_4*x^4)\n",
    "$$\n",
    "$$\n",
    "+ (b_0 + b_1*x + b_2*x^2 + b_3*x^3+ b_4*x^4)*T\n",
    "$$\n",
    "$$\n",
    "+ (c_0 + c_1*x + c_2*x^2 + c_3*x^3+ c_4*x^4)*T^2\n",
    "$$\n",
    "$$\n",
    "+ (d_0 + d_1*x + d_2*x^2 + d_3*x^3+ d_4*x^4)*T^3\n",
    "$$\n",
    "$$\n",
    "+ (e_0 + e_1*x + e_2*x^2 + e_3*x^3 + e_4*x^4)*T^4 \n",
    "$$\n",
    "\n",
    "*(This was an equation found in [literature](https://www.sciencedirect.com/science/article/pii/S0011916403900683) used when fitting Pitzer NaCl Data).*"
   ]
  },
  {
   "cell_type": "code",
   "execution_count": null,
   "metadata": {},
   "outputs": [],
   "source": [
    "def model_function(data):\n",
    "    m = pyo.ConcreteModel()\n",
    "\n",
    "    # define variables for the estimated parameters\n",
    "    m.a0 = pyo.Var(initialize=1)\n",
    "    m.a1 = pyo.Var(initialize=1)\n",
    "    m.a2 = pyo.Var(initialize=1)\n",
    "    m.a3 = pyo.Var(initialize=1)\n",
    "    m.a4 = pyo.Var(initialize=1)\n",
    "\n",
    "    m.b0 = pyo.Var(initialize=1)\n",
    "    m.b1 = pyo.Var(initialize=1)\n",
    "    m.b2 = pyo.Var(initialize=1)\n",
    "    m.b3 = pyo.Var(initialize=1)\n",
    "    m.b4 = pyo.Var(initialize=1)\n",
    "\n",
    "    m.c0 = pyo.Var(initialize=1)\n",
    "    m.c1 = pyo.Var(initialize=1)\n",
    "    m.c2 = pyo.Var(initialize=1)\n",
    "    m.c3 = pyo.Var(initialize=1)\n",
    "    m.c4 = pyo.Var(initialize=1)\n",
    "\n",
    "    m.d0 = pyo.Var(initialize=1)\n",
    "    m.d1 = pyo.Var(initialize=1)\n",
    "    m.d2 = pyo.Var(initialize=1)\n",
    "    m.d3 = pyo.Var(initialize=1)\n",
    "    m.d4 = pyo.Var(initialize=1)\n",
    "\n",
    "    m.e0 = pyo.Var(initialize=1)\n",
    "    m.e1 = pyo.Var(initialize=1)\n",
    "    m.e2 = pyo.Var(initialize=1)\n",
    "    m.e3 = pyo.Var(initialize=1)\n",
    "    m.e4 = pyo.Var(initialize=1)\n",
    "\n",
    "    # define the model/equation\n",
    "    def prop_rule(m, x, T):\n",
    "        expr = ((m.a0 + m.a1*x + m.a2*x**2 + m.a3*x**3+ m.a4*x**4)\n",
    "                + (m.b0 + m.b1*x + m.b2*x**2 + m.b3*x**3+ m.b4*x**4)*T\n",
    "                + (m.c0 + m.c1*x + m.c2*x**2 + m.c3*x**3+ m.c4*x**4)*T**2\n",
    "                + (m.d0 + m.d1*x + m.d2*x**2 + m.d3*x**3+ m.d4*x**4)*T**3\n",
    "                + (m.e0 + m.e1 * x + m.e2 * x ** 2 + m.e3 * x ** 3 + m.e4 * x ** 4) * T ** 4\n",
    "        )\n",
    "        return expr\n",
    "\n",
    "    m.prop_func = pyo.Expression(data.Comp, data.Temp, rule=prop_rule)\n",
    "\n",
    "    def SSE_rule(m):\n",
    "        return sum(\n",
    "            (data.PropData[i] - m.prop_func[data.Comp[i], data.Temp[i]]) ** 2 for i in data.index\n",
    "        )\n",
    "    \n",
    "    m.SSE = pyo.Objective(rule=SSE_rule, sense=pyo.minimize)\n",
    "\n",
    "    return m\n"
   ]
  },
  {
   "cell_type": "markdown",
   "metadata": {},
   "source": [
    "### Step 4: Create a list of theta names\n",
    "\n",
    "The variables to be estimated by parmest must be given as a list of strings of the variable names as they are defined in the model_function. "
   ]
  },
  {
   "cell_type": "code",
   "execution_count": null,
   "metadata": {},
   "outputs": [],
   "source": [
    "# variables from model to be estimated\n",
    "# required format: list with strings of param/var names\n",
    "theta_names = ['a0', 'a1', 'a2', 'a3', 'a4',\n",
    "               'b0', 'b1', 'b2', 'b3', 'b4',\n",
    "               'c0', 'c1', 'c2', 'c3', 'c4',\n",
    "               'd0', 'd1', 'd2', 'd3', 'd4',\n",
    "               'e0', 'e1', 'e2', 'e3', 'e4']"
   ]
  },
  {
   "cell_type": "markdown",
   "metadata": {},
   "source": [
    "### Step 5: Define an objective function\n",
    "\n",
    "Now, we must define an objective function for the parameter estimation. This is the deviation between the observation and the prediction typically chosen to be the sum of squared errors.\n",
    "\n",
    "$$\n",
    "\\sum_{i=0}^n (observation_i - prediction_i)^2 \n",
    "$$\n"
   ]
  },
  {
   "cell_type": "code",
   "execution_count": null,
   "metadata": {},
   "outputs": [],
   "source": [
    "# Sum of Squared Errors function\n",
    "def objective_function(m,data):\n",
    "    \n",
    "    expr = sum(((data.PropData[i] - m.prop_func[data.Comp[i], data.Temp[i]]) ** 2) for i in data.index)\n",
    "\n",
    "    return expr"
   ]
  },
  {
   "cell_type": "markdown",
   "metadata": {},
   "source": [
    "### Step 6: Solve the parameter estimation problem\n",
    "\n",
    "Now, we have everything we need for parmest to solve the parameter estimation problem: \n",
    "\n",
    "    - model_function\n",
    "    - data_formatted\n",
    "    - theta_names\n",
    "    - objective_function\n"
   ]
  },
  {
   "cell_type": "markdown",
   "metadata": {},
   "source": [
    "#### Step 6a: Set up the problem\n",
    "\n",
    "Set up the parameter estimation problem by creating an instance of the parmest 'Estimator' object and feed it the required inputs."
   ]
  },
  {
   "cell_type": "code",
   "execution_count": null,
   "metadata": {},
   "outputs": [],
   "source": [
    "# create an instance of the parmest estimator\n",
    "pest = parmest.Estimator(model_function, data_formatted, theta_names, objective_function, tee=False)"
   ]
  },
  {
   "cell_type": "markdown",
   "metadata": {},
   "source": [
    "#### Step 6b: Solve the parameter estimation problem \n",
    "\n",
    "Solve the parameter estimation problem by calling theta_est. This will use the entire data set to perform the parameter estimation. \n",
    "\n",
    "There are additional options for solving and testing. Further details can be found in the [parmest documentation](https://pyomo.readthedocs.io/en/stable/contributed_packages/parmest/index.html#index-of-parmest-documentation)."
   ]
  },
  {
   "cell_type": "code",
   "execution_count": null,
   "metadata": {},
   "outputs": [],
   "source": [
    "# solve the parameter estimation problem\n",
    "obj, theta = pest.theta_est()\n",
    "\n",
    "# display results\n",
    "print('theta:\\n', theta)"
   ]
  },
  {
   "cell_type": "markdown",
   "metadata": {},
   "source": [
    "### Step 7: Plot results\n",
    "\n",
    "Finally, we can visualize the results using ***matplotlib*** to create a 3D plot of the data and the parameter estimatation fit. "
   ]
  },
  {
   "cell_type": "code",
   "execution_count": null,
   "metadata": {},
   "outputs": [],
   "source": [
    "# define a function for the model with estimated thetas\n",
    "def est(x, T):\n",
    "    est = ((theta['a0'] + theta['a1']*x + theta['a2']*x**2 + theta['a3']*x**3 + theta['a4']*x**4)\n",
    "        + (theta['b0'] + theta['b1']*x + theta['b2']*x**2 + theta['b3']*x**3 + theta['b4']*x**4)*T\n",
    "        + (theta['c0'] + theta['c1']*x + theta['c2']*x**2 + theta['c3']*x**3 + theta['c4']*x**4)*T**2\n",
    "        + (theta['d0'] + theta['d1']*x + theta['d2']*x**2 + theta['d3']*x**3 + theta['d4']*x**4)*T**3\n",
    "        + (theta['e0'] + theta['e1']*x + theta['e2']*x**2 + theta['e3']*x**3 + theta['e4']*x**4)*T**4\n",
    ")\n",
    "    return est\n",
    "\n",
    "# uncommenting the next line makes figure interactive but may need to pip install ipympl\n",
    "# %matplotlib ipympl \n",
    "\n",
    "# plot the results\n",
    "fig = plt.figure()\n",
    "ax = fig.add_subplot(projection='3d')\n",
    "ax.scatter(data_formatted.Comp, data_formatted.Temp, data_formatted.PropData, color='b') # experimental data\n",
    "ax.scatter(data_formatted.Comp, data_formatted.Temp, est(data_formatted.Comp,data_formatted.Temp), color='r') # parmest fit\n",
    "ax.set_xlabel('Mass Fraction')\n",
    "ax.set_ylabel('Temperature, K')\n",
    "ax.set_zlabel('Vapor Pressure, Pa')\n",
    "plt.show()"
   ]
  }
 ],
 "metadata": {
  "kernelspec": {
   "display_name": "watertap-dev",
   "language": "python",
   "name": "watertap-dev"
  },
  "language_info": {
   "codemirror_mode": {
    "name": "ipython",
    "version": 3
   },
   "file_extension": ".py",
   "mimetype": "text/x-python",
   "name": "python",
   "nbconvert_exporter": "python",
   "pygments_lexer": "ipython3",
   "version": "3.8.17"
  },
  "orig_nbformat": 4
 },
 "nbformat": 4,
 "nbformat_minor": 2
}
