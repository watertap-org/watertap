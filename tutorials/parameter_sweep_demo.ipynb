{
 "cells": [
  {
   "cell_type": "markdown",
   "id": "81ab54a4",
   "metadata": {
    "slideshow": {
     "slide_type": "slide"
    }
   },
   "source": [
    "\n",
    "# Getting Started with the WaterTAP Parameter Sweep Tool\n",
    "\n",
    "<img src=\"assets_parameter_sweep_demo/watertap-logo.png\" alt=\"NAWI logo\" width=\"200\" align=\"right\"/>\n",
    "\n",
    "*NAWI Analysis Team*\\\n",
    "*Kinshuk Panda, Ben Knueven, Alexander Dudchenko*\n",
    "\n",
    "Other contributors to the tool:\\\n",
    "*Ethan Young, Jeffery Allen, Samuel Helman*\n",
    "\n",
    "\n",
    "*10/12/2023*\n"
   ]
  },
  {
   "cell_type": "markdown",
   "id": "cc2d54f8",
   "metadata": {},
   "source": [
    "Please cite this notebook as\n",
    "\n",
    "```bibtex\n",
    "@misc{howtouse_parameter_sweep,\n",
    "    title = \"Getting Started with the WaterTAP Parameter Sweep Tool (Citation Only)\",\n",
    "    keywords = \"eagle, IDAES, NAWI, parallel programming, parameter sweep, pyomo, sampling, water treatment, WaterTAP\",\n",
    "    author = \"Kinshuk Panda and Ben Knueven and Alexander Dudchenko and Ethan Young and Jeffrey Allen and Samuel Helman\",\n",
    "    year = \"2023\",\n",
    "    language = \"American English\",\n",
    "    series = \"Presented at the Advanced Process Systems Engineering Stakeholder Summit, 11-12 October 2023, Falls Church, Virginia\",\n",
    "    type = \"Other\",\n",
    "}\n",
    "```"
   ]
  },
  {
   "cell_type": "markdown",
   "id": "a7a1d0df",
   "metadata": {
    "slideshow": {
     "slide_type": "slide"
    }
   },
   "source": [
    "# Outline\n",
    "\n",
    "This demo will briefly describe and demonstrate how the parameter sweep tool in WaterTAP can be used for various technoeconomic analyses.\n",
    "\n",
    "1. Introduction to parameter sweep\n",
    "2. Software demonstration\n",
    "3. Advanced features"
   ]
  },
  {
   "cell_type": "markdown",
   "id": "1a187f2e",
   "metadata": {
    "slideshow": {
     "slide_type": "slide"
    }
   },
   "source": [
    "## Introduction\n",
    "\n",
    "* **Parameter sweep** is a tool for performing optimization, sensitivity analyses, and uncertainty quantification.\n",
    "* Experiments are run repeatedly with a different set of input parameters to see their effects on the output quantities of interest. \n",
    "* **Output metrics** can include levelized cost of water (LCOW), component cost, specific energy consumption, energy efficiency, water recovery rate, gained output ratio, and bulk temperature difference among others. \n",
    "* **Input parameters** are technology dependent, some of which include feed water salinity, membrane permeability, membrane area, pumping efficiency, thermal conductivity, operating temperature, number of stages, labor, and capital expenditure.\n",
    "\n"
   ]
  },
  {
   "cell_type": "markdown",
   "id": "4f458bf7",
   "metadata": {
    "slideshow": {
     "slide_type": "slide"
    }
   },
   "source": [
    "## Main Features of the Parameter Sweep Tool\n",
    "\n",
    "* **Modular** : It can work with any pyomo model, i.e., any WaterTAP flowsheet.\n",
    "* **Scalable** : Analyses can be run in parallel on a personal computer, HPC, or cloud. Uses HDF5 for output storage.\n",
    "* **Flexible** : Can be customized and combined to create complex analysis worflows."
   ]
  },
  {
   "cell_type": "markdown",
   "id": "4085d1c9",
   "metadata": {
    "slideshow": {
     "slide_type": "slide"
    }
   },
   "source": [
    "## Types of Parameter Sweeps\n",
    "\n",
    "* In its current form, a user can run 3 types of parameter sweeps\n",
    "    - **Simple parameter sweep**\n",
    "    - Recursive parameter sweep\n",
    "    - Differential parameter sweep\n",
    "* Samples for the parameter sweep can be generated from a probability distribution or an *n*-dimensional euclidean space where *n* is the number of parameters in the sweep. Latin hypercube sampling is also enabled."
   ]
  },
  {
   "cell_type": "markdown",
   "id": "cfb8b832",
   "metadata": {
    "slideshow": {
     "slide_type": "slide"
    }
   },
   "source": [
    "### Simple Parameter Sweep\n",
    "\n",
    "![ParameterSweep](assets_parameter_sweep_demo/Parameter_Sweep_Flowchart.png)\n",
    "*Generate samples from a distribution or a Euclidean space and solve flowsheets with those input values.*"
   ]
  },
  {
   "cell_type": "markdown",
   "id": "fe985f68",
   "metadata": {
    "slideshow": {
     "slide_type": "slide"
    }
   },
   "source": [
    "## Primary requirements for running a parameter sweep\n",
    "\n",
    "* Function to construct the Pyomo model of the flowsheet\n",
    "* Function to create the sweep parameters\n",
    "* Initialization and optimization functions (reinitialization function deprecated)\n",
    "* Parallel computing information\n",
    "* Output file information"
   ]
  },
  {
   "cell_type": "markdown",
   "id": "2fd561d9",
   "metadata": {
    "slideshow": {
     "slide_type": "slide"
    }
   },
   "source": [
    "## Test Flowsheet\n",
    "\n",
    "* We use a simple **RO system with an energy recovery device** to demonstrate the capabilities of the parameter sweep tool. \n",
    "* It comprises a high pressure pump connected to a steady state zero-dimensional RO process model. A turbine-type isothermal energy recovery device model is connected downstream of the RO model.\n",
    "* The feed water is an NaCl solution and is modeled using an property package within WaterTAP. \n",
    "* Outputs that can be measured from this flow sheet include LCOW, product flow rate and concentration, volumetric recovery, water recovery, and specific energy consumption.\n",
    "\n"
   ]
  },
  {
   "cell_type": "markdown",
   "id": "3551ef32",
   "metadata": {
    "slideshow": {
     "slide_type": "subslide"
    }
   },
   "source": [
    "<div>\n",
    "    <img src=\"assets_parameter_sweep_demo/RO_ERD_flowsheet.png\" alt=\"RO with energy recovery device\" width=\"60%\" height=\"auto\" align=\"center\"/>\n",
    "</div>"
   ]
  },
  {
   "cell_type": "code",
   "execution_count": null,
   "id": "53ce93e7",
   "metadata": {
    "slideshow": {
     "slide_type": "slide"
    }
   },
   "outputs": [],
   "source": [
    "# Make the necessary imports\n",
    "from pprint import pprint\n",
    "from IPython import get_ipython\n",
    "from watertap.core.solvers import get_solver\n",
    "from watertap.flowsheets.RO_with_energy_recovery.RO_with_energy_recovery import (\n",
    "    optimize,\n",
    ")\n",
    "from watertap.flowsheets.RO_with_energy_recovery.monte_carlo_sampling_RO_ERD import (\n",
    "    build_model,\n",
    "    build_outputs,\n",
    ")\n",
    "from parameter_sweep import (\n",
    "    LinearSample,\n",
    "    ParameterSweep,\n",
    ")\n",
    "from assets_parameter_sweep_demo.parameter_sweep_demo_script import (\n",
    "    build_sweep_params,\n",
    "    create_recursive_parameter_sweep_object,\n",
    "    create_differential_parameter_sweep_object,\n",
    ")"
   ]
  },
  {
   "cell_type": "code",
   "execution_count": null,
   "id": "f6ae31a5",
   "metadata": {
    "slideshow": {
     "slide_type": "subslide"
    }
   },
   "outputs": [],
   "source": [
    "def create_parameter_sweep_object(num_samples, num_procs):\n",
    "\n",
    "    solver = get_solver()\n",
    "    kwargs_dict = {\n",
    "        # Arguments being used in the demo\n",
    "        \"h5_results_file_name\": \"ps_demo.h5\", # Resulting output file name\n",
    "        \"build_model\": build_model, # Function that builds the flowsheet model\n",
    "        \"build_model_kwargs\": dict(read_model_defauls_from_file=False,\n",
    "                                   defaults_fname=\"default_configuration.yaml\"),\n",
    "        \"build_sweep_params\": build_sweep_params, # Function for building sweep param dictionary\n",
    "        \"build_sweep_params_kwargs\": dict(num_samples=num_samples,\n",
    "                                          scenario=\"A_comp_vs_B_comp_vs_LCOW\"),\n",
    "        \"build_outputs\": build_outputs, # Function the builds outputs to save\n",
    "        \"build_outputs_kwargs\": {},\n",
    "        \"optimize_function\": optimize, # Optimize flow sheet function\n",
    "        \"optimize_kwargs\": {\"solver\": solver, \"check_termination\": False},\n",
    "        \"initialize_function\": None,\n",
    "        \"initialize_kwargs\": {},\n",
    "        \"parallel_back_end\": \"MultiProcessing\", # ConcurrentFutures, MPI, Ray available\n",
    "        \"number_of_subprocesses\": num_procs,\n",
    "        \n",
    "        # Additional useful keyword arguments\n",
    "        \"csv_results_file_name\": None, # For storing results as CSV\n",
    "        \"h5_parent_group_name\": None,  # Useful for loop tool\n",
    "        \"update_sweep_params_before_init\": False,\n",
    "        \"initialize_before_sweep\": False,\n",
    "        \"reinitialize_function\": None,\n",
    "        \"reinitialize_kwargs\": {},\n",
    "        \"reinitialize_before_sweep\": False,\n",
    "        \"probe_function\": None,\n",
    "        \n",
    "        # Post-processing arguments\n",
    "        \"interpolate_nan_outputs\": False,\n",
    "        \n",
    "        # Advanced Users\n",
    "        \"debugging_data_dir\": None,\n",
    "        \"log_model_states\": False,\n",
    "        \"custom_do_param_sweep\": None, # Advanced users only!\n",
    "        \"custom_do_param_sweep_kwargs\": {},\n",
    "        \n",
    "        # GUI-related\n",
    "        \"publish_progress\": False, # Compatibility with WaterTAP GUI\n",
    "        \"publish_address\": \"http://localhost:8888\",\n",
    "    }\n",
    "    ps = ParameterSweep(**kwargs_dict)\n",
    "    return ps, kwargs_dict"
   ]
  },
  {
   "cell_type": "code",
   "execution_count": null,
   "id": "6fb19e4e",
   "metadata": {
    "slideshow": {
     "slide_type": "slide"
    }
   },
   "outputs": [],
   "source": [
    "num_samples = 4\n",
    "num_procs = 4\n",
    "ps, kwargs_dict = create_parameter_sweep_object(num_samples, num_procs)"
   ]
  },
  {
   "cell_type": "code",
   "execution_count": null,
   "id": "6f7ce19d",
   "metadata": {
    "slideshow": {
     "slide_type": "slide"
    }
   },
   "outputs": [],
   "source": [
    "results_array, results_dict = ps.parameter_sweep(\n",
    "    kwargs_dict[\"build_model\"],\n",
    "    kwargs_dict[\"build_sweep_params\"],\n",
    "    build_outputs = kwargs_dict[\"build_outputs\"],\n",
    "    build_outputs_kwargs = kwargs_dict[\"build_outputs_kwargs\"],\n",
    "    num_samples = num_samples,\n",
    "    seed=None,\n",
    "    build_model_kwargs = kwargs_dict[\"build_model_kwargs\"],\n",
    "    build_sweep_params_kwargs = kwargs_dict[\"build_sweep_params_kwargs\"]\n",
    ")"
   ]
  },
  {
   "cell_type": "code",
   "execution_count": null,
   "id": "c648a402",
   "metadata": {
    "slideshow": {
     "slide_type": "slide"
    }
   },
   "outputs": [],
   "source": [
    "pprint(results_dict)"
   ]
  },
  {
   "cell_type": "code",
   "execution_count": null,
   "id": "5410d0c3",
   "metadata": {
    "slideshow": {
     "slide_type": "subslide"
    }
   },
   "outputs": [],
   "source": [
    "pprint(results_array)"
   ]
  },
  {
   "cell_type": "markdown",
   "id": "7d14aba1",
   "metadata": {
    "slideshow": {
     "slide_type": "slide"
    }
   },
   "source": [
    "## Plotting Results\n",
    "\n",
    "The resulting H5 files can then be processed to generate plots, e.g., 2D scatter plots, map plots, etc.\n",
    "\n",
    "<table><tr>\n",
    "    <td> <img src=\"assets_parameter_sweep_demo/scatter_LCOW_vs_Acomp.jpg\" alt=\"LCOW vs water permeability\" width=\"100%\"/> </td>\n",
    "    <td> <img src=\"assets_parameter_sweep_demo/maps_LCOW_recovery_NaCl_loading.jpg\" alt=\"LCOW vs water recovery and NaCL concentration\" width=\"100%\"/> </td>\n",
    "</tr></table>\n"
   ]
  },
  {
   "cell_type": "markdown",
   "id": "d95eb8b4",
   "metadata": {
    "slideshow": {
     "slide_type": "slide"
    }
   },
   "source": [
    "# Advanced Usage and Features"
   ]
  },
  {
   "cell_type": "markdown",
   "id": "4ea976e5",
   "metadata": {
    "slideshow": {
     "slide_type": "slide"
    }
   },
   "source": [
    "## Types of Parameter Sweeps\n",
    "\n",
    "* In its current form, a user can run 3 types of parameter sweeps\n",
    "    - Simple parameter sweep\n",
    "    - **Recursive parameter sweep**\n",
    "    - Differential parameter sweep\n",
    "* Samples for the parameter sweep can be generated from a probability distribution or an *n*-dimensional euclidean space where *n* is the number of parameters in the sweep. Latin hypercube sampling is also enabled."
   ]
  },
  {
   "cell_type": "markdown",
   "id": "f8f87e0c",
   "metadata": {
    "slideshow": {
     "slide_type": "subslide"
    }
   },
   "source": [
    "### Recursive Parameter Sweep\n",
    "\n",
    "\n",
    "<div>\n",
    "    <img src=\"assets_parameter_sweep_demo/Recursive_Parameter_Sweep_flowchart.png\" alt=\"RecursiveParameterSweep\" width=\"100%\" align=\"center\"/>\n",
    "</div>\n",
    "\n",
    "*Run the simple parameter sweep in recursion if some runs fail to ensure that a user-specified number of sample results are generated. This involves resampling the input parameter space to compensate for the failed runs.*"
   ]
  },
  {
   "cell_type": "code",
   "execution_count": null,
   "id": "f0698a50",
   "metadata": {},
   "outputs": [],
   "source": [
    "num_samples = 20\n",
    "num_procs = 2\n",
    "rps, rps_kwargs_dict = create_recursive_parameter_sweep_object(num_samples, num_procs)\n",
    "rps_results_array, rps_results_dict = rps.parameter_sweep(\n",
    "    rps_kwargs_dict[\"build_model\"],\n",
    "    rps_kwargs_dict[\"build_sweep_params\"],\n",
    "    build_outputs=rps_kwargs_dict[\"build_outputs\"],\n",
    "    build_outputs_kwargs=rps_kwargs_dict[\"build_outputs_kwargs\"],\n",
    "    num_samples=num_samples,\n",
    "    seed=None,\n",
    "    build_model_kwargs=rps_kwargs_dict[\"build_model_kwargs\"],\n",
    "    build_sweep_params_kwargs=rps_kwargs_dict[\"build_sweep_params_kwargs\"],\n",
    ")"
   ]
  },
  {
   "cell_type": "code",
   "execution_count": null,
   "id": "0144d6a8",
   "metadata": {},
   "outputs": [],
   "source": [
    "pprint(rps_results_array)"
   ]
  },
  {
   "cell_type": "code",
   "execution_count": null,
   "id": "0d08d9c2",
   "metadata": {},
   "outputs": [],
   "source": [
    "pprint(rps_results_dict)"
   ]
  },
  {
   "cell_type": "markdown",
   "id": "01aa99e4",
   "metadata": {
    "slideshow": {
     "slide_type": "slide"
    }
   },
   "source": [
    "## Types of Parameter Sweeps\n",
    "\n",
    "* In its current form, a user can run 3 types of parameter sweeps\n",
    "    - Simple parameter sweep\n",
    "    - Recursive parameter sweep\n",
    "    - **Differential parameter sweep**\n",
    "* Samples for the parameter sweep can be generated from a probability distribution or an *n*-dimensional euclidean space where *n* is the number of parameters in the sweep. Latin hypercube sampling is also enabled."
   ]
  },
  {
   "cell_type": "markdown",
   "id": "61d4c711",
   "metadata": {
    "slideshow": {
     "slide_type": "slide"
    }
   },
   "source": [
    "### Differential Parameter Sweep\n",
    "\n",
    "<div>\n",
    "    <img src=\"assets_parameter_sweep_demo/Differential_Parameter_Sweep_Flowchart.png\" alt=\"DifferentialParameterSweep\"  width=\"90%\" align=\"center\"/>\n",
    "</div>\n",
    "\n",
    "* Gather sensitivity data when the input parameter space is more than one dimensional. \n",
    "* It comprises two types of sweeps, an outer \"nominal\" sweep and an inner \"differential\" sweep. \n",
    "* The nominal sweep is a simple parameter sweep over the sampled space. \n",
    "* The differential sweep is a simple parameter sweep that occurs at every nominal value, where one of the sweep parameters is perturbed keeping the others fixed to their nominal values."
   ]
  },
  {
   "cell_type": "code",
   "execution_count": null,
   "id": "d4e10423",
   "metadata": {
    "scrolled": true
   },
   "outputs": [],
   "source": [
    "num_samples = 2\n",
    "num_procs = 1\n",
    "\n",
    "model, dps, dkwargs_dict = create_differential_parameter_sweep_object(num_samples, num_procs)\n",
    "dps_results_array, dps_results_dict = dps.parameter_sweep(\n",
    "    dkwargs_dict[\"build_model\"],\n",
    "    dkwargs_dict[\"build_sweep_params\"],\n",
    "    build_outputs=dkwargs_dict[\"build_outputs\"],\n",
    "    build_outputs_kwargs=dkwargs_dict[\"build_outputs_kwargs\"],\n",
    "    num_samples=num_samples,\n",
    "    seed=None,\n",
    "    build_model_kwargs=dkwargs_dict[\"build_model_kwargs\"],\n",
    "    build_sweep_params_kwargs=dkwargs_dict[\"build_sweep_params_kwargs\"],\n",
    ")"
   ]
  },
  {
   "cell_type": "code",
   "execution_count": null,
   "id": "d95ad6d1",
   "metadata": {},
   "outputs": [],
   "source": [
    "pprint(dps_results_array)"
   ]
  },
  {
   "cell_type": "code",
   "execution_count": null,
   "id": "146d4fd0",
   "metadata": {},
   "outputs": [],
   "source": [
    "pprint(dps_results_dict)"
   ]
  },
  {
   "cell_type": "markdown",
   "id": "cc8f5038",
   "metadata": {
    "slideshow": {
     "slide_type": "slide"
    }
   },
   "source": [
    "## Loop Tool\n",
    "\n",
    "* The parameter sweep tool can be invoked from a looping tool, also within WaterTAP, that allows a user to iteratively run different design configurations, \n",
    "    - Different build options\n",
    "    - Different flowchart initialization options\n",
    "    - Different solve constraints\n",
    "    - e.g., different pressure exchanger types in RO\n",
    "* YAML based initial setup.\n",
    "* The loop tool uses HDF5 format to systematically store outputs from the various parameter sweeps.\n",
    "* The loop tool, in combination with differential parameter sweep, can be used to conduct high-impact stochastic value of innovation analysis (see [Dudchenko et al.](https://doi.org/10.1073/pnas.2022196118)). "
   ]
  },
  {
   "cell_type": "markdown",
   "id": "732294e6",
   "metadata": {
    "slideshow": {
     "slide_type": "slide"
    }
   },
   "source": [
    "## Parallel Manager\n",
    "\n",
    "The parallel manager allows the end-user to select which parallel backend to run their parameter sweep with. Currently supported parallel backends include:\n",
    "\n",
    "* Message Passing Interface (MPI)\n",
    "* Python multiprocessing\n",
    "* Python concurrent futures\n",
    "* Ray Core\n",
    "* Serial execution\n",
    "\n",
    "The parallel manager provides a unified API to use the parallel backends."
   ]
  },
  {
   "cell_type": "markdown",
   "id": "1bf1b592",
   "metadata": {
    "slideshow": {
     "slide_type": "subslide"
    }
   },
   "source": [
    "### Motivation\n",
    "\n",
    "* Most people will be running parameter sweep on a shared memory system and are familiar with python multiprocessing and concurrent futures.\n",
    "    - Use concurrent futures when pyomo model initialization and reinitialization is trivial\n",
    "    - Use python multiprocessing when initialization/reinitialization is computationally intensive.\n",
    "* MPI enables distributed parallel computing on an HPC\n",
    "* Ray is an MPI alternative for distributed parallel computing that has a simpler API.\n",
    "\n",
    "Multiple parallel backends necessitates an abstraction layer such that the onus of supporting these parallel paradigms does not fall on the average WaterTAP developer. *Parallel Manager is that abstraction layer.*"
   ]
  },
  {
   "cell_type": "markdown",
   "id": "fb7e448e",
   "metadata": {
    "slideshow": {
     "slide_type": "subslide"
    }
   },
   "source": [
    "### Currently Supported Parallel Features\n",
    "\n",
    "* Gather, all gather - Gather value on a specific or all process(es)\n",
    "* Scatter - Scatter values from one process to all other processess\n",
    "* Broadcast - Broadcast a data structure to all processes\n",
    "* All reduce - Reduce values and distribute to all processes"
   ]
  },
  {
   "cell_type": "markdown",
   "id": "a7a77016",
   "metadata": {
    "slideshow": {
     "slide_type": "subslide"
    }
   },
   "source": [
    "### Benchmarking Results\n",
    "\n",
    "Next we look at benchmarking results of running the parameter sweep tool"
   ]
  },
  {
   "cell_type": "markdown",
   "id": "4b658c5b",
   "metadata": {
    "slideshow": {
     "slide_type": "subslide"
    }
   },
   "source": [
    "#### Python Concurrent Futures\n",
    "\n",
    "<table><tr>\n",
    "    <td> \n",
    "        <img src=\"assets_parameter_sweep_demo/RO-ERD_Mac_2500_time.png\" alt=\"Strong Scaling for RO\" width=\"100%\"/>\n",
    "        <center><em>Compute Time</em></center>\n",
    "    </td>\n",
    "    <td> \n",
    "        <img src=\"assets_parameter_sweep_demo/RO-ERD_Mac_2500_speedup.png\" alt=\"RO-ERD Speedup\" width=\"100%\"/>\n",
    "        <center><em>Speed up</em></center>\n",
    "    </td>\n",
    "</tr></table>\n",
    "<center><em>Strong Scaling Results for RO with Energy Recovery Device on a Mac</em></center>"
   ]
  },
  {
   "cell_type": "markdown",
   "id": "f837a847",
   "metadata": {
    "slideshow": {
     "slide_type": "subslide"
    }
   },
   "source": [
    "#### MPI on NREL's Eagle HPC\n",
    "\n",
    "<table><tr>\n",
    "    <td> \n",
    "        <img src=\"assets_parameter_sweep_demo/RO-ERD_Eagle_Strong_Scaling_100K.png\" alt=\"Strong Scaling for RO\" width=\"100%\"/>\n",
    "        <center><em>RO with Energy Recovery Device</em></center>\n",
    "    </td>\n",
    "    <td> \n",
    "        <img src=\"assets_parameter_sweep_demo/LSRRO_Eagle_strong_10K.png\" alt=\"LSRRO Strong Scaling\" width=\"100%\"/>\n",
    "        <center><em>LSRRO</em></center>\n",
    "    </td>\n",
    "</tr></table>\n",
    "<center><em>Strong Scaling Results</em></center>"
   ]
  },
  {
   "cell_type": "markdown",
   "id": "fb9aae94",
   "metadata": {
    "slideshow": {
     "slide_type": "slide"
    }
   },
   "source": [
    "# Future Work\n",
    "\n",
    "* Closer integration with WaterTAP GUI.\n",
    "* Integration with plotting tools"
   ]
  },
  {
   "cell_type": "markdown",
   "id": "5acd4f62",
   "metadata": {
    "slideshow": {
     "slide_type": "slide"
    }
   },
   "source": [
    "# Useful Documentation Links\n",
    "\n",
    "* [How to explore a model with parameter sweep](https://watertap.readthedocs.io/en/latest/how_to_guides/how_to_use_parameter_sweep.html#how-to-explore-a-model-with-parameter-sweep)\n",
    "* [Monte Carlo testing with the Parameter Sweep](https://watertap.readthedocs.io/en/latest/how_to_guides/how_to_use_parameter_sweep_monte_carlo.html#monte-carlo-testing-with-the-parameter-sweep)\n",
    "* [How to Run Differential Parameter Sweep](https://watertap.readthedocs.io/en/latest/how_to_guides/how_to_run_differential_parameter_sweep.html#how-to-run-differential-parameter-sweep)\n",
    "* [How to use loopTool to explore flowsheets](https://watertap.readthedocs.io/en/latest/how_to_guides/how_to_use_loopTool_to_explore_flowsheets.html#how-to-use-looptool-to-explore-flowsheets)\n",
    "* [MPI Parallel Usage](https://watertap.readthedocs.io/en/latest/technical_reference/tools/parameter_sweep.html#parallel-usage)"
   ]
  },
  {
   "cell_type": "markdown",
   "id": "2ec8cdae",
   "metadata": {
    "slideshow": {
     "slide_type": "slide"
    }
   },
   "source": [
    "# Appendix"
   ]
  },
  {
   "cell_type": "markdown",
   "id": "8a37bcaf",
   "metadata": {
    "slideshow": {
     "slide_type": "slide"
    }
   },
   "source": [
    "## Example Slurm Job submission script on NREL's Kestrel"
   ]
  },
  {
   "cell_type": "markdown",
   "id": "105c8406",
   "metadata": {
    "slideshow": {
     "slide_type": "subslide"
    }
   },
   "source": [
    "### Slurm Batch File\n",
    "\n",
    "```bash\n",
    "#!/bin/bash \n",
    "#SBATCH --nodes=1  # Run the tasks on the same node\n",
    "#SBATCH --ntasks-per-node=104 # Tasks per node to be run\n",
    "#SBATCH --time=1:00:00   # Required, estimate 5 minutes\n",
    "#SBATCH --account=hpcapps # Required\n",
    "#SBATCH --partition=debug\n",
    "#SBATCH --mail-user=kinshuk.panda@nrel.gov\n",
    "#SBATCH --mail-type=BEGIN\n",
    "#SBATCH --mail-type=END\n",
    "#SBATCH --mail-type=FAIL\n",
    "#SBATCH --mail-type=REQUEUE\n",
    "\n",
    "cd /home/kpanda/NAWI/watertap/tutorials/parameter_sweep_demo\n",
    "module purge\n",
    "module load craype-x86-spr\n",
    "module load gcc/13.1.0 anaconda3/2022.05 netlib-lapack/3.11.0-gcc\n",
    "conda activate /projects/hpcapps/kpanda/conda-envs/watertap\n",
    "\n",
    "mkdir -p outputs\n",
    "N_SAMPLES=5000\n",
    "NPROCS=100\n",
    "\n",
    "python parameter_sweep_demo_script.py $N_SAMPLES $NPROCS > outputs/fout_mp_${N_SAMPLES}_${NPROCS} 2> outputs/errout__mp_${N_SAMPLES}_${NPROCS}\n",
    "```\n"
   ]
  },
  {
   "cell_type": "markdown",
   "id": "4a934ae6",
   "metadata": {
    "slideshow": {
     "slide_type": "subslide"
    }
   },
   "source": [
    "### Parameter Sweep Script"
   ]
  },
  {
   "cell_type": "code",
   "execution_count": null,
   "id": "40db8a69",
   "metadata": {
    "slideshow": {
     "slide_type": "subslide"
    }
   },
   "outputs": [],
   "source": [
    "from IPython.display import Code\n",
    "\n",
    "Code(filename='assets_parameter_sweep_demo/parameter_sweep_demo_script.py', language=\"python\")"
   ]
  }
 ],
 "metadata": {
  "celltoolbar": "Slideshow",
  "kernelspec": {
   "display_name": "watertap-dev",
   "language": "python",
   "name": "watertap-dev"
  },
  "language_info": {
   "codemirror_mode": {
    "name": "ipython",
    "version": 3
   },
   "file_extension": ".py",
   "mimetype": "text/x-python",
   "name": "python",
   "nbconvert_exporter": "python",
   "pygments_lexer": "ipython3",
   "version": "3.11.5"
  },
  "rise": {
   "enable_chalkboard": true,
   "height": "100%",
   "scroll": true,
   "slidenumber": true,
   "theme": "simple"
  }
 },
 "nbformat": 4,
 "nbformat_minor": 5
}
