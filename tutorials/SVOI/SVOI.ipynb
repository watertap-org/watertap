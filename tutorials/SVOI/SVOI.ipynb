{
 "cells": [
  {
   "cell_type": "markdown",
   "id": "938d0b38",
   "metadata": {},
   "source": [
    "## Stochastic Value of Innovation Tutorial\n",
    "#### Capabilities"
   ]
  },
  {
   "cell_type": "code",
   "execution_count": 1,
   "id": "daecde10",
   "metadata": {},
   "outputs": [],
   "source": [
    "import os\n",
    "from parameter_sweep.loop_tool.loop_tool import loopTool, get_working_dir\n",
    "from watertap.core.solvers import get_solver\n",
    "from pyomo.environ import (\n",
    "    check_optimal_termination,\n",
    ")\n",
    "import example_flowsheet as RO"
   ]
  },
  {
   "cell_type": "markdown",
   "id": "53facbf0",
   "metadata": {},
   "source": [
    "## Create a function to setup your sweep\n",
    "### This function needs to build the flowsheet, initialize, set operating conditions, and open DOFs for optimization if desired"
   ]
  },
  {
   "cell_type": "code",
   "execution_count": 2,
   "id": "ea703de0",
   "metadata": {},
   "outputs": [],
   "source": [
    "def build_sweep(\n",
    "        inlet_flow_rate=100,\n",
    "        inlet_concentration=35,\n",
    "        inlet_pressure=50e5,\n",
    "        membrane_area=10000,\n",
    "):\n",
    "    m = RO.build_system()\n",
    "    RO.set_operating_conditions(m, Qin=inlet_flow_rate, Cin=inlet_concentration)\n",
    "    RO.set_ro_system_operating_conditions(m, mem_area=membrane_area, RO_pressure=inlet_pressure)\n",
    "    RO.set_scaling(m)\n",
    "    RO.init_system(m)\n",
    "    RO.add_costing(m)\n",
    "    RO.solve(m)\n",
    "    RO.report_RO(m)\n",
    "    RO.optimize(\n",
    "        m,\n",
    "        water_recovery=0.5,\n",
    "    )\n",
    "\n",
    "    return m\n",
    "\n",
    "def solve(model, solver=None, tee=True, raise_on_failure=True):\n",
    "    # ---solving---\n",
    "    if solver is None:\n",
    "        solver = get_solver()\n",
    "\n",
    "    print(\"\\n--------- SOLVING ---------\\n\")\n",
    "\n",
    "    results = solver.solve(model, tee=tee)\n",
    "\n",
    "    if check_optimal_termination(results):\n",
    "        print(\"\\n--------- OPTIMAL SOLVE!!! ---------\\n\")\n",
    "        return results\n",
    "    msg = (\n",
    "        \"The current configuration is infeasible. Please adjust the decision variables.\"\n",
    "    )\n",
    "    if raise_on_failure:\n",
    "        raise RuntimeError(msg)\n",
    "    else:\n",
    "        return results"
   ]
  },
  {
   "cell_type": "code",
   "execution_count": 3,
   "id": "8f7fbc9a",
   "metadata": {},
   "outputs": [
    {
     "name": "stdout",
     "output_type": "stream",
     "text": [
      "/Users/zbinger/watertap/tutorials/SVOI/diff_param_sweep.yaml\n",
      "/Users/zbinger/watertap/tutorials/SVOI/sweep\n"
     ]
    }
   ],
   "source": [
    "cwd = get_working_dir()\n",
    "yaml_file = os.path.join(cwd, 'diff_param_sweep.yaml')\n",
    "save_name = 'sweep'\n",
    "save_dir = os.path.join(get_working_dir(), 'sweep')\n",
    "\n",
    "print(yaml_file)\n",
    "print(save_dir)"
   ]
  },
  {
   "cell_type": "markdown",
   "id": "7e43446c",
   "metadata": {},
   "source": [
    "## Explain YAML File Here"
   ]
  },
  {
   "cell_type": "markdown",
   "id": "1db92b98",
   "metadata": {},
   "source": [
    "![Image](resources/yaml_image.png)"
   ]
  },
  {
   "cell_type": "code",
   "execution_count": 4,
   "id": "f60f062d",
   "metadata": {},
   "outputs": [],
   "source": [
    "solver = get_solver()\n",
    "solver.options[\"max_iter\"] = 3000\n",
    "\n",
    "# lT = loopTool(\n",
    "#         yaml_file,\n",
    "#         build_function=build_sweep,\n",
    "#         optimize_function=solve,\n",
    "#         solver=solver,\n",
    "#         save_name=save_name,\n",
    "#         saving_dir=save_dir,\n",
    "#         execute_simulations=True,\n",
    "#         number_of_subprocesses=1,\n",
    "#     )"
   ]
  },
  {
   "cell_type": "code",
   "execution_count": 5,
   "id": "fa7acd7c",
   "metadata": {},
   "outputs": [],
   "source": [
    "# Load results file\n",
    "results_file = os.path.join(save_dir, \"output\", \"sweep_analysisType_example_diff_analysis.h5\")"
   ]
  },
  {
   "cell_type": "code",
   "execution_count": 6,
   "id": "ae054113",
   "metadata": {},
   "outputs": [],
   "source": [
    "from psPlotKit.data_manager.ps_data_manager import psDataManager"
   ]
  },
  {
   "cell_type": "code",
   "execution_count": 7,
   "id": "68ed67cf",
   "metadata": {},
   "outputs": [
    {
     "name": "stderr",
     "output_type": "stream",
     "text": [
      "psDataImport 14:34:14 INFO: data import v0.2\n",
      "psDataImport 14:34:14 INFO: Importing file /Users/zbinger/watertap/tutorials/SVOI/sweep/output/sweep_analysisType_example_diff_analysis.h5\n",
      "psDataImport 14:34:14 INFO: Getting directories\n",
      "psDataImport 14:34:14 INFO: global unique directory keys: [('example_diff_analysis', np.str_('Salt Permeability')), ('example_diff_analysis', np.str_('Water Permeability'))]\n",
      "psDataImport 14:34:14 INFO: example_diff_analysis/Salt Permeability contains unique directory [('example_diff_analysis', np.str_('Salt Permeability'))]\n",
      "psDataImport 14:34:14 INFO: example_diff_analysis/Water Permeability contains unique directory [('example_diff_analysis', np.str_('Water Permeability'))]\n",
      "psDataImport 14:34:14 INFO: Found directory: example_diff_analysis/Salt Permeability\n",
      "psDataImport 14:34:14 INFO: Found directory: example_diff_analysis/Water Permeability\n",
      "psDataImport 14:34:14 INFO: Getting directory contents for example_diff_analysis/Salt Permeability\n",
      "psDataImport 14:34:14 INFO: Getting directory contents for example_diff_analysis/Water Permeability\n",
      "psDataImport 14:34:14 INFO: Data types found: ['differential_idx', 'nominal_idx', 'outputs', 'solve_successful', 'sweep_params']\n"
     ]
    }
   ],
   "source": [
    "data_manager = psDataManager(\n",
    "            results_file\n",
    "        )"
   ]
  },
  {
   "cell_type": "markdown",
   "id": "c2158941",
   "metadata": {},
   "source": [
    "# Describe data here\n",
    "![Image](resources/data_idxs.png)"
   ]
  },
  {
   "cell_type": "code",
   "execution_count": 8,
   "id": "97c58542",
   "metadata": {},
   "outputs": [
    {
     "name": "stderr",
     "output_type": "stream",
     "text": [
      "psDataImport 14:34:14 INFO: User did not provide data key list, importing ALL data!\n",
      "psDataImport 14:34:14 INFO: User selected example_diff_analysis/Water Permeability\n",
      "psDataImport 14:34:15 INFO: Done importing data in 0.44762110710144043 seconds!\n",
      "psDataImport 14:34:15 INFO: User did not provide data key list, importing ALL data!\n",
      "psDataImport 14:34:15 INFO: User selected example_diff_analysis/Water Permeability\n",
      "psDataImport 14:34:15 INFO: Done importing data in 0.46283578872680664 seconds!\n",
      "psDataImport 14:34:15 INFO: User did not provide data key list, importing ALL data!\n",
      "psDataImport 14:34:15 INFO: User selected example_diff_analysis/Salt Permeability\n",
      "psDataImport 14:34:16 INFO: Done importing data in 0.5507183074951172 seconds!\n",
      "psDataImport 14:34:16 INFO: User did not provide data key list, importing ALL data!\n",
      "psDataImport 14:34:16 INFO: User selected example_diff_analysis/Salt Permeability\n",
      "psDataImport 14:34:16 INFO: Done importing data in 0.4717118740081787 seconds!\n"
     ]
    },
    {
     "data": {
      "text/plain": [
       "{'Water Permeability': {'fs.costing.LCOW': array([0.09443902, 0.12493324, 0.11561907, 0.18668978, 0.0657099 , 0.11012003]),\n",
       "  'fs.ro.A_comp[0.0,H2O]': array([0.95505939, 1.26324726, 1.20374858, 1.94297288, 0.78115893, 1.30876405]),\n",
       "  'VOI': array([0.09888288, 0.09889849, 0.09604918, 0.0960846 , 0.08411848, 0.08414048])},\n",
       " 'Salt Permeability': {'fs.costing.LCOW': array([-0.02552852, -0.02029706, -0.04678876, -0.03036247, -0.04857212, -0.03359057]),\n",
       "  'fs.ro.B_comp[0.0,NaCl]': array([-1.02922522, -0.81717413, -1.96387175, -1.2685835 , -2.19585885, -1.5116544 ]),\n",
       "  'VOI': array([0.02480363, 0.02483811, 0.02382476, 0.02393415, 0.02211987, 0.02222106])}}"
      ]
     },
     "execution_count": 8,
     "metadata": {},
     "output_type": "execute_result"
    }
   ],
   "source": [
    "VOI = data_manager.get_voi(yaml_file)\n",
    "VOI"
   ]
  },
  {
   "cell_type": "code",
   "execution_count": 9,
   "id": "1766d68c",
   "metadata": {},
   "outputs": [],
   "source": [
    "import pandas as pd\n",
    "import seaborn as sns\n",
    "import matplotlib.pyplot as plt"
   ]
  },
  {
   "cell_type": "code",
   "execution_count": 10,
   "id": "2c802dc9",
   "metadata": {},
   "outputs": [],
   "source": [
    "frames = [pd.DataFrame({'VOI': VOI[key]['VOI'], 'Sweep': key}) for key in VOI.keys()]\n",
    "df = pd.concat(frames, ignore_index=True)"
   ]
  },
  {
   "cell_type": "code",
   "execution_count": 17,
   "id": "676a7845",
   "metadata": {},
   "outputs": [
    {
     "data": {
      "application/vnd.microsoft.datawrangler.viewer.v0+json": {
       "columns": [
        {
         "name": "index",
         "rawType": "int64",
         "type": "integer"
        },
        {
         "name": "VOI",
         "rawType": "float64",
         "type": "float"
        },
        {
         "name": "Sweep",
         "rawType": "object",
         "type": "string"
        }
       ],
       "ref": "726d140d-1825-4b02-806f-fae6bdf4b876",
       "rows": [
        [
         "0",
         "0.11182784729276038",
         "Water Permeability"
        ],
        [
         "1",
         "0.11186368539840635",
         "Water Permeability"
        ],
        [
         "2",
         "0.07154212454725026",
         "Water Permeability"
        ],
        [
         "3",
         "0.07156704765176242",
         "Water Permeability"
        ],
        [
         "4",
         "0.061144524291449905",
         "Water Permeability"
        ],
        [
         "5",
         "0.061161526743652606",
         "Water Permeability"
        ],
        [
         "6",
         "0.021416724119887067",
         "Salt Permeability"
        ],
        [
         "7",
         "0.02146139410315141",
         "Salt Permeability"
        ],
        [
         "8",
         "0.024330815309262115",
         "Salt Permeability"
        ],
        [
         "9",
         "0.024365380886060044",
         "Salt Permeability"
        ],
        [
         "10",
         "0.02091629785931542",
         "Salt Permeability"
        ],
        [
         "11",
         "0.021073287881204467",
         "Salt Permeability"
        ],
        [
         "12",
         "0.20409323313366862",
         "Membrane Cost"
        ],
        [
         "13",
         "0.20665015136667206",
         "Membrane Cost"
        ],
        [
         "14",
         "0.18721045975465336",
         "Membrane Cost"
        ],
        [
         "15",
         "0.1899197643431313",
         "Membrane Cost"
        ],
        [
         "16",
         "0.1800749730444871",
         "Membrane Cost"
        ],
        [
         "17",
         "0.18227659612912958",
         "Membrane Cost"
        ],
        [
         "18",
         "0.8466321699386125",
         "Pump Efficiency"
        ],
        [
         "19",
         "0.8467128663282972",
         "Pump Efficiency"
        ],
        [
         "20",
         "0.8069854063853118",
         "Pump Efficiency"
        ],
        [
         "21",
         "0.8069854063853804",
         "Pump Efficiency"
        ],
        [
         "22",
         "0.8543192627728219",
         "Pump Efficiency"
        ],
        [
         "23",
         "0.8543939606991265",
         "Pump Efficiency"
        ],
        [
         "24",
         "0.401351576170143",
         "Pump Cost"
        ],
        [
         "25",
         "0.40257451831858443",
         "Pump Cost"
        ],
        [
         "26",
         "0.3589516787659132",
         "Pump Cost"
        ],
        [
         "27",
         "0.3598877984701889",
         "Pump Cost"
        ],
        [
         "28",
         "0.3924347563717345",
         "Pump Cost"
        ],
        [
         "29",
         "0.3930506369466009",
         "Pump Cost"
        ]
       ],
       "shape": {
        "columns": 2,
        "rows": 30
       }
      },
      "text/html": [
       "<div>\n",
       "<style scoped>\n",
       "    .dataframe tbody tr th:only-of-type {\n",
       "        vertical-align: middle;\n",
       "    }\n",
       "\n",
       "    .dataframe tbody tr th {\n",
       "        vertical-align: top;\n",
       "    }\n",
       "\n",
       "    .dataframe thead th {\n",
       "        text-align: right;\n",
       "    }\n",
       "</style>\n",
       "<table border=\"1\" class=\"dataframe\">\n",
       "  <thead>\n",
       "    <tr style=\"text-align: right;\">\n",
       "      <th></th>\n",
       "      <th>VOI</th>\n",
       "      <th>Sweep</th>\n",
       "    </tr>\n",
       "  </thead>\n",
       "  <tbody>\n",
       "    <tr>\n",
       "      <th>0</th>\n",
       "      <td>0.111828</td>\n",
       "      <td>Water Permeability</td>\n",
       "    </tr>\n",
       "    <tr>\n",
       "      <th>1</th>\n",
       "      <td>0.111864</td>\n",
       "      <td>Water Permeability</td>\n",
       "    </tr>\n",
       "    <tr>\n",
       "      <th>2</th>\n",
       "      <td>0.071542</td>\n",
       "      <td>Water Permeability</td>\n",
       "    </tr>\n",
       "    <tr>\n",
       "      <th>3</th>\n",
       "      <td>0.071567</td>\n",
       "      <td>Water Permeability</td>\n",
       "    </tr>\n",
       "    <tr>\n",
       "      <th>4</th>\n",
       "      <td>0.061145</td>\n",
       "      <td>Water Permeability</td>\n",
       "    </tr>\n",
       "    <tr>\n",
       "      <th>5</th>\n",
       "      <td>0.061162</td>\n",
       "      <td>Water Permeability</td>\n",
       "    </tr>\n",
       "    <tr>\n",
       "      <th>6</th>\n",
       "      <td>0.021417</td>\n",
       "      <td>Salt Permeability</td>\n",
       "    </tr>\n",
       "    <tr>\n",
       "      <th>7</th>\n",
       "      <td>0.021461</td>\n",
       "      <td>Salt Permeability</td>\n",
       "    </tr>\n",
       "    <tr>\n",
       "      <th>8</th>\n",
       "      <td>0.024331</td>\n",
       "      <td>Salt Permeability</td>\n",
       "    </tr>\n",
       "    <tr>\n",
       "      <th>9</th>\n",
       "      <td>0.024365</td>\n",
       "      <td>Salt Permeability</td>\n",
       "    </tr>\n",
       "    <tr>\n",
       "      <th>10</th>\n",
       "      <td>0.020916</td>\n",
       "      <td>Salt Permeability</td>\n",
       "    </tr>\n",
       "    <tr>\n",
       "      <th>11</th>\n",
       "      <td>0.021073</td>\n",
       "      <td>Salt Permeability</td>\n",
       "    </tr>\n",
       "    <tr>\n",
       "      <th>12</th>\n",
       "      <td>0.204093</td>\n",
       "      <td>Membrane Cost</td>\n",
       "    </tr>\n",
       "    <tr>\n",
       "      <th>13</th>\n",
       "      <td>0.206650</td>\n",
       "      <td>Membrane Cost</td>\n",
       "    </tr>\n",
       "    <tr>\n",
       "      <th>14</th>\n",
       "      <td>0.187210</td>\n",
       "      <td>Membrane Cost</td>\n",
       "    </tr>\n",
       "    <tr>\n",
       "      <th>15</th>\n",
       "      <td>0.189920</td>\n",
       "      <td>Membrane Cost</td>\n",
       "    </tr>\n",
       "    <tr>\n",
       "      <th>16</th>\n",
       "      <td>0.180075</td>\n",
       "      <td>Membrane Cost</td>\n",
       "    </tr>\n",
       "    <tr>\n",
       "      <th>17</th>\n",
       "      <td>0.182277</td>\n",
       "      <td>Membrane Cost</td>\n",
       "    </tr>\n",
       "    <tr>\n",
       "      <th>18</th>\n",
       "      <td>0.846632</td>\n",
       "      <td>Pump Efficiency</td>\n",
       "    </tr>\n",
       "    <tr>\n",
       "      <th>19</th>\n",
       "      <td>0.846713</td>\n",
       "      <td>Pump Efficiency</td>\n",
       "    </tr>\n",
       "    <tr>\n",
       "      <th>20</th>\n",
       "      <td>0.806985</td>\n",
       "      <td>Pump Efficiency</td>\n",
       "    </tr>\n",
       "    <tr>\n",
       "      <th>21</th>\n",
       "      <td>0.806985</td>\n",
       "      <td>Pump Efficiency</td>\n",
       "    </tr>\n",
       "    <tr>\n",
       "      <th>22</th>\n",
       "      <td>0.854319</td>\n",
       "      <td>Pump Efficiency</td>\n",
       "    </tr>\n",
       "    <tr>\n",
       "      <th>23</th>\n",
       "      <td>0.854394</td>\n",
       "      <td>Pump Efficiency</td>\n",
       "    </tr>\n",
       "    <tr>\n",
       "      <th>24</th>\n",
       "      <td>0.401352</td>\n",
       "      <td>Pump Cost</td>\n",
       "    </tr>\n",
       "    <tr>\n",
       "      <th>25</th>\n",
       "      <td>0.402575</td>\n",
       "      <td>Pump Cost</td>\n",
       "    </tr>\n",
       "    <tr>\n",
       "      <th>26</th>\n",
       "      <td>0.358952</td>\n",
       "      <td>Pump Cost</td>\n",
       "    </tr>\n",
       "    <tr>\n",
       "      <th>27</th>\n",
       "      <td>0.359888</td>\n",
       "      <td>Pump Cost</td>\n",
       "    </tr>\n",
       "    <tr>\n",
       "      <th>28</th>\n",
       "      <td>0.392435</td>\n",
       "      <td>Pump Cost</td>\n",
       "    </tr>\n",
       "    <tr>\n",
       "      <th>29</th>\n",
       "      <td>0.393051</td>\n",
       "      <td>Pump Cost</td>\n",
       "    </tr>\n",
       "  </tbody>\n",
       "</table>\n",
       "</div>"
      ],
      "text/plain": [
       "         VOI               Sweep\n",
       "0   0.111828  Water Permeability\n",
       "1   0.111864  Water Permeability\n",
       "2   0.071542  Water Permeability\n",
       "3   0.071567  Water Permeability\n",
       "4   0.061145  Water Permeability\n",
       "5   0.061162  Water Permeability\n",
       "6   0.021417   Salt Permeability\n",
       "7   0.021461   Salt Permeability\n",
       "8   0.024331   Salt Permeability\n",
       "9   0.024365   Salt Permeability\n",
       "10  0.020916   Salt Permeability\n",
       "11  0.021073   Salt Permeability\n",
       "12  0.204093       Membrane Cost\n",
       "13  0.206650       Membrane Cost\n",
       "14  0.187210       Membrane Cost\n",
       "15  0.189920       Membrane Cost\n",
       "16  0.180075       Membrane Cost\n",
       "17  0.182277       Membrane Cost\n",
       "18  0.846632     Pump Efficiency\n",
       "19  0.846713     Pump Efficiency\n",
       "20  0.806985     Pump Efficiency\n",
       "21  0.806985     Pump Efficiency\n",
       "22  0.854319     Pump Efficiency\n",
       "23  0.854394     Pump Efficiency\n",
       "24  0.401352           Pump Cost\n",
       "25  0.402575           Pump Cost\n",
       "26  0.358952           Pump Cost\n",
       "27  0.359888           Pump Cost\n",
       "28  0.392435           Pump Cost\n",
       "29  0.393051           Pump Cost"
      ]
     },
     "execution_count": 17,
     "metadata": {},
     "output_type": "execute_result"
    }
   ],
   "source": [
    "df"
   ]
  },
  {
   "cell_type": "code",
   "execution_count": 11,
   "id": "9dff2959",
   "metadata": {},
   "outputs": [
    {
     "name": "stderr",
     "output_type": "stream",
     "text": [
      "/var/folders/f6/ln_247ms54b5y1mdczhdrr59rtfn88/T/ipykernel_78276/4116949114.py:21: UserWarning: No artists with labels found to put in legend.  Note that artists whose label start with an underscore are ignored when legend() is called with no argument.\n",
      "  plt.legend(\n"
     ]
    },
    {
     "data": {
      "image/png": "[encoded data removed]",
      "text/plain": [
       "<Figure size 700x900 with 1 Axes>"
      ]
     },
     "metadata": {},
     "output_type": "display_data"
    }
   ],
   "source": [
    "def plot_voi(df):\n",
    "    fig, ax = plt.subplots(figsize=(7,9))\n",
    "    sns.boxplot(\n",
    "        df,\n",
    "        x='VOI',\n",
    "        y='Sweep',\n",
    "        gap=0.1,\n",
    "        fliersize=0,\n",
    "\n",
    "    )   \n",
    "\n",
    "    ax.set_xlim(0, 1)\n",
    "    ax.set_ylim(-0.5, len(df['Sweep'].unique())-0.5)\n",
    "    ax.tick_params(axis='both', which='major', labelsize=14)\n",
    "    ax.set_ylabel('')\n",
    "    ax.set_xlabel(\"VOI (%$_{\\Delta LCOW}$/%$_{\\Delta performance}$)\", fontsize=16)\n",
    "    color_bands = [\"#d1d1d1\", \"white\"]\n",
    "    for i in range(0, len(ax.get_yticks())):\n",
    "        ax.axhspan(i - 0.5, i + 0.5, facecolor=color_bands[i%2], alpha=0.75)\n",
    "\n",
    "    plt.legend(\n",
    "        bbox_to_anchor=(-0.3, 1.1), \n",
    "        loc='upper left',\n",
    "        ncol=len(df['Sweep'].unique()), \n",
    "        frameon=False, \n",
    "        fontsize=14,\n",
    "        alignment='left',\n",
    "        handlelength=1, \n",
    "        handleheight=1)\n",
    "\n",
    "    plt.tight_layout()\n",
    "\n",
    "plot_voi(df)"
   ]
  },
  {
   "cell_type": "code",
   "execution_count": 12,
   "id": "3ec92a90",
   "metadata": {},
   "outputs": [],
   "source": [
    "yaml_file = os.path.join(cwd, 'diff_param_sweep_full.yaml')\n",
    "\n",
    "# lT = loopTool(\n",
    "#         yaml_file,\n",
    "#         build_function=build_sweep,\n",
    "#         optimize_function=solve,\n",
    "#         solver=solver,\n",
    "#         save_name=save_name,\n",
    "#         saving_dir=save_dir,\n",
    "#         execute_simulations=True,\n",
    "#         number_of_subprocesses=1, # For some reason my cpu is not working > 1\n",
    "#     )\n",
    "\n",
    "# Load results file\n",
    "results_file = os.path.join(save_dir, \"output\", \"sweep_analysisType_example_diff_analysis_full.h5\")"
   ]
  },
  {
   "cell_type": "code",
   "execution_count": 15,
   "id": "95a33c7d",
   "metadata": {},
   "outputs": [
    {
     "name": "stderr",
     "output_type": "stream",
     "text": [
      "psDataImport 14:35:32 INFO: data import v0.2\n",
      "psDataImport 14:35:32 INFO: Importing file /Users/zbinger/watertap/tutorials/SVOI/sweep/output/sweep_analysisType_example_diff_analysis_full.h5\n",
      "psDataImport 14:35:32 INFO: Getting directories\n",
      "psDataImport 14:35:32 INFO: global unique directory keys: [('example_diff_analysis_full', np.str_('Membrane Cost')), ('example_diff_analysis_full', np.str_('Pump Cost')), ('example_diff_analysis_full', np.str_('Pump Efficiency')), ('example_diff_analysis_full', np.str_('Salt Permeability')), ('example_diff_analysis_full', np.str_('Water Permeability'))]\n",
      "psDataImport 14:35:32 INFO: example_diff_analysis_full/Membrane Cost contains unique directory [('example_diff_analysis_full', np.str_('Membrane Cost'))]\n",
      "psDataImport 14:35:32 INFO: example_diff_analysis_full/Pump Cost contains unique directory [('example_diff_analysis_full', np.str_('Pump Cost'))]\n",
      "psDataImport 14:35:32 INFO: example_diff_analysis_full/Pump Efficiency contains unique directory [('example_diff_analysis_full', np.str_('Pump Efficiency'))]\n",
      "psDataImport 14:35:32 INFO: example_diff_analysis_full/Salt Permeability contains unique directory [('example_diff_analysis_full', np.str_('Salt Permeability'))]\n",
      "psDataImport 14:35:32 INFO: example_diff_analysis_full/Water Permeability contains unique directory [('example_diff_analysis_full', np.str_('Water Permeability'))]\n",
      "psDataImport 14:35:32 INFO: Found directory: example_diff_analysis_full/Membrane Cost\n",
      "psDataImport 14:35:32 INFO: Found directory: example_diff_analysis_full/Pump Cost\n",
      "psDataImport 14:35:32 INFO: Found directory: example_diff_analysis_full/Pump Efficiency\n",
      "psDataImport 14:35:32 INFO: Found directory: example_diff_analysis_full/Salt Permeability\n",
      "psDataImport 14:35:32 INFO: Found directory: example_diff_analysis_full/Water Permeability\n",
      "psDataImport 14:35:32 INFO: Getting directory contents for example_diff_analysis_full/Membrane Cost\n",
      "psDataImport 14:35:32 INFO: Getting directory contents for example_diff_analysis_full/Pump Cost\n",
      "psDataImport 14:35:32 INFO: Getting directory contents for example_diff_analysis_full/Pump Efficiency\n",
      "psDataImport 14:35:32 INFO: Getting directory contents for example_diff_analysis_full/Salt Permeability\n",
      "psDataImport 14:35:32 INFO: Getting directory contents for example_diff_analysis_full/Water Permeability\n",
      "psDataImport 14:35:32 INFO: Data types found: ['differential_idx', 'nominal_idx', 'outputs', 'solve_successful', 'sweep_params']\n",
      "psDataImport 14:35:32 INFO: User did not provide data key list, importing ALL data!\n",
      "psDataImport 14:35:32 INFO: User selected example_diff_analysis_full/Water Permeability\n",
      "psDataImport 14:35:33 INFO: Done importing data in 0.45280885696411133 seconds!\n",
      "psDataImport 14:35:33 INFO: User did not provide data key list, importing ALL data!\n",
      "psDataImport 14:35:33 INFO: User selected example_diff_analysis_full/Water Permeability\n",
      "psDataImport 14:35:33 INFO: Done importing data in 0.4966902732849121 seconds!\n",
      "psDataImport 14:35:33 INFO: User did not provide data key list, importing ALL data!\n",
      "psDataImport 14:35:33 INFO: User selected example_diff_analysis_full/Salt Permeability\n",
      "psDataImport 14:35:34 INFO: Done importing data in 0.4896419048309326 seconds!\n",
      "psDataImport 14:35:34 INFO: User did not provide data key list, importing ALL data!\n",
      "psDataImport 14:35:34 INFO: User selected example_diff_analysis_full/Salt Permeability\n",
      "psDataImport 14:35:34 INFO: Done importing data in 0.48114013671875 seconds!\n",
      "psDataImport 14:35:34 INFO: User did not provide data key list, importing ALL data!\n",
      "psDataImport 14:35:34 INFO: User selected example_diff_analysis_full/Membrane Cost\n",
      "psDataImport 14:35:35 INFO: Done importing data in 0.49055981636047363 seconds!\n",
      "psDataImport 14:35:35 INFO: User did not provide data key list, importing ALL data!\n",
      "psDataImport 14:35:35 INFO: User selected example_diff_analysis_full/Membrane Cost\n",
      "psDataImport 14:35:35 INFO: Done importing data in 0.46886491775512695 seconds!\n",
      "psDataImport 14:35:35 INFO: User did not provide data key list, importing ALL data!\n",
      "psDataImport 14:35:35 INFO: User selected example_diff_analysis_full/Pump Efficiency\n",
      "psDataImport 14:35:35 INFO: Done importing data in 0.4968130588531494 seconds!\n",
      "psDataImport 14:35:36 INFO: User did not provide data key list, importing ALL data!\n",
      "psDataImport 14:35:36 INFO: User selected example_diff_analysis_full/Pump Efficiency\n",
      "psDataImport 14:35:36 INFO: Done importing data in 0.4683051109313965 seconds!\n",
      "psDataImport 14:35:36 INFO: User did not provide data key list, importing ALL data!\n",
      "psDataImport 14:35:36 INFO: User selected example_diff_analysis_full/Pump Cost\n",
      "psDataImport 14:35:37 INFO: Done importing data in 0.5432360172271729 seconds!\n",
      "psDataImport 14:35:37 INFO: User did not provide data key list, importing ALL data!\n",
      "psDataImport 14:35:37 INFO: User selected example_diff_analysis_full/Pump Cost\n",
      "psDataImport 14:35:37 INFO: Done importing data in 0.5446419715881348 seconds!\n"
     ]
    }
   ],
   "source": [
    "data_manager = psDataManager(\n",
    "            results_file\n",
    "        )\n",
    "VOI = data_manager.get_voi(yaml_file)\n",
    "frames = [pd.DataFrame({'VOI': VOI[key]['VOI'], 'Sweep': key}) for key in VOI.keys()]\n",
    "df = pd.concat(frames, ignore_index=True)"
   ]
  },
  {
   "cell_type": "code",
   "execution_count": 16,
   "id": "40c55958",
   "metadata": {},
   "outputs": [
    {
     "name": "stderr",
     "output_type": "stream",
     "text": [
      "/var/folders/f6/ln_247ms54b5y1mdczhdrr59rtfn88/T/ipykernel_78276/4116949114.py:21: UserWarning: No artists with labels found to put in legend.  Note that artists whose label start with an underscore are ignored when legend() is called with no argument.\n",
      "  plt.legend(\n"
     ]
    },
    {
     "data": {
      "image/png": "[encoded data removed]",
      "text/plain": [
       "<Figure size 700x900 with 1 Axes>"
      ]
     },
     "metadata": {},
     "output_type": "display_data"
    }
   ],
   "source": [
    "plot_voi(df)"
   ]
  },
  {
   "cell_type": "markdown",
   "id": "2574caca",
   "metadata": {},
   "source": [
    "# Interpreting Results\n",
    "![Image](resources/voi_explain.png)"
   ]
  }
 ],
 "metadata": {
  "kernelspec": {
   "display_name": "watertap-dev",
   "language": "python",
   "name": "python3"
  },
  "language_info": {
   "codemirror_mode": {
    "name": "ipython",
    "version": 3
   },
   "file_extension": ".py",
   "mimetype": "text/x-python",
   "name": "python",
   "nbconvert_exporter": "python",
   "pygments_lexer": "ipython3",
   "version": "3.11.12"
  }
 },
 "nbformat": 4,
 "nbformat_minor": 5
}
