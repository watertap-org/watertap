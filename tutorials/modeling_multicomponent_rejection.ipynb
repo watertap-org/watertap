{
 "cells": [
  {
   "cell_type": "markdown",
   "metadata": {},
   "source": [
    "# Modeling multicomponent rejection with nanofiltration\n",
    "### This demonstration was originally presented in the context of an \"Interactive Code Demonstration Using WaterTAP\" for the NAWI Alliance Spring Meeting in 2023. \n",
    "### Authors: Adam Atia, Alex Dudchenko\n",
    "### Maintainer: Adam Atia \n",
    "\n",
    "### Today's demonstration will show \n",
    "- Part 1: how to build, initialize, simulate, and optimize a flowsheet using the coded interface. This will be demonstrated with a nanofiltration (NF) unit model based on the Donnan Steric Pore Model with Dielectric Exclusion (DSPM-DE).\n",
    "- Part 2: demonstrate simulation and optimization of an NF DSPM-DE flowsheet in WaterTAP's graphical user interface.\n",
    "- Useful Links:\n",
    "    - Public Github Repository: https://github.com/watertap-org/watertap\n",
    "    - Documentation: https://watertap.readthedocs.io/en/stable/\n",
    "    - Installer for User Interface: https://prommis.github.io/idaes-flowsheet-processor-ui/docs/Download/watertap\n",
    "    - Video Walkthrough of Tutorial: https://youtu.be/iRFYC0IWO90 (begins at 6:37 and ends at 37:29)"
   ]
  },
  {
   "cell_type": "markdown",
   "metadata": {},
   "source": [
    "# Part 1: Build, setup, simulate, and optimize the NF DSPM-DE unit model"
   ]
  },
  {
   "cell_type": "markdown",
   "metadata": {},
   "source": [
    "<img src=\"nf_ui.png\" width=\"500\" height=\"340\">"
   ]
  },
  {
   "cell_type": "markdown",
   "metadata": {},
   "source": [
    "<img src=\"nf_dspmde_transport_mechanisms.png\" width=\"500\" height=\"340\">\n",
    "Image source: <a href=\"https://doi.org/10.1016/j.desal.2017.07.020\">Roy et al., 2017</a>\n"
   ]
  },
  {
   "cell_type": "markdown",
   "metadata": {},
   "source": [
    "## Step 1: Import libraries from Pyomo, IDAES, and WaterTAP."
   ]
  },
  {
   "cell_type": "markdown",
   "metadata": {},
   "source": [
    "### Import some essentials from Pyomo and IDAES:"
   ]
  },
  {
   "cell_type": "code",
   "execution_count": 1,
   "metadata": {},
   "outputs": [],
   "source": [
    "# Imports from Pyomo\n",
    "from pyomo.environ import (ConcreteModel, \n",
    "                           Constraint, \n",
    "                           Objective, \n",
    "                           Var,\n",
    "                           value, \n",
    "                           units as pyunits, \n",
    "                           assert_optimal_termination,\n",
    "                           check_optimal_termination,\n",
    "                           TransformationFactory,\n",
    "                           NonNegativeReals)\n",
    "from pyomo.network import Arc\n",
    "\n",
    "# Imports from IDAES:\n",
    "# Import flowsheet block from IDAES core\n",
    "from idaes.core import FlowsheetBlock\n",
    "\n",
    "# Import propagate_state to initialize state variables between units\n",
    "from idaes.core.util.initialization import propagate_state\n",
    "\n",
    "# Import function to get default solver\n",
    "from watertap.core.solvers import get_solver\n",
    "\n",
    "# Import function to check degrees of freedom\n",
    "from idaes.core.util.model_statistics import degrees_of_freedom\n",
    "\n",
    "# Import utility function for calculating scaling factors\n",
    "from idaes.core.util.scaling import calculate_scaling_factors, set_scaling_factor, constraint_scaling_transform\n",
    "\n",
    "# Import IDAES units\n",
    "from idaes.models.unit_models import Feed, Product\n",
    "\n",
    "# Import functionality for embedded videos\n",
    "from IPython.display import YouTubeVideo\n",
    "\n",
    "import idaes.logger as idaeslog\n",
    "_log = idaeslog.getLogger(__name__)\n"
   ]
  },
  {
   "cell_type": "markdown",
   "metadata": {},
   "source": [
    "### WaterTAP Imports: \n",
    "* multicomponent property model\n",
    "* pump\n",
    "* NF DSPM-DE unit model\n",
    "* configuration options, which can be used to change underlying model assumptions"
   ]
  },
  {
   "cell_type": "code",
   "execution_count": 2,
   "metadata": {},
   "outputs": [],
   "source": [
    "# Imports from WaterTAP\n",
    "# Import MultiComponent Aqueous Solution property model\n",
    "from watertap.property_models.multicomp_aq_sol_prop_pack import (MCASParameterBlock, \n",
    "                                                                 ActivityCoefficientModel,\n",
    "                                                                 DensityCalculation,)\n",
    "# Import pump model\n",
    "from watertap.unit_models.pressure_changer import Pump\n",
    "\n",
    "# Import NF DSPM-DE model\n",
    "from watertap.unit_models.nanofiltration_DSPMDE_0D import (\n",
    "    NanofiltrationDSPMDE0D,\n",
    "    MassTransferCoefficient,\n",
    "    ConcentrationPolarizationType,\n",
    ")"
   ]
  },
  {
   "cell_type": "markdown",
   "metadata": {},
   "source": [
    "### Imports for costing:"
   ]
  },
  {
   "cell_type": "code",
   "execution_count": 3,
   "metadata": {},
   "outputs": [],
   "source": [
    "from idaes.core import UnitModelCostingBlock\n",
    "from watertap.costing import WaterTAPCosting"
   ]
  },
  {
   "cell_type": "markdown",
   "metadata": {},
   "source": [
    "## Step 2: Start building the components needed in the NF DSPM-DE flowsheet."
   ]
  },
  {
   "cell_type": "markdown",
   "metadata": {},
   "source": [
    "### Create a Pyomo concrete model and flowsheet "
   ]
  },
  {
   "cell_type": "code",
   "execution_count": 4,
   "metadata": {},
   "outputs": [],
   "source": [
    "m = ConcreteModel()\n",
    "m.fs = FlowsheetBlock(dynamic=False)"
   ]
  },
  {
   "cell_type": "markdown",
   "metadata": {},
   "source": [
    "### Set up solute/solution properties required by the DSPM-DE model.\n",
    "* Define a list of solutes\n",
    "* For each solute, provide data on\n",
    "    * Diffusivity\n",
    "    * Molecular weight\n",
    "    * Stokes' radius\n",
    "    * Charge\n",
    "* Choose ideal solution (activity coefficients=1) or Davies model"
   ]
  },
  {
   "cell_type": "code",
   "execution_count": 5,
   "metadata": {},
   "outputs": [],
   "source": [
    "property_kwds = {\n",
    "\"solute_list\": [\n",
    "    \"Ca_2+\",\n",
    "    \"SO4_2-\",\n",
    "    \"HCO3_-\",\n",
    "    \"Na_+\",\n",
    "    \"Cl_-\",\n",
    "],\n",
    "    \n",
    "\"diffusivity_data\": {\n",
    "    (\"Liq\", \"Ca_2+\"): 9.2e-10,\n",
    "    (\"Liq\", \"SO4_2-\"): 1.06e-9,\n",
    "    (\"Liq\", \"HCO3_-\"): 1.19e-9,\n",
    "    (\"Liq\", \"Na_+\"): 1.33e-9,\n",
    "    (\"Liq\", \"Cl_-\"): 2.03e-9,\n",
    "},\n",
    "    \n",
    "\"mw_data\": {\n",
    "    \"H2O\": 18e-3,\n",
    "    \"Ca_2+\": 40e-3,\n",
    "    \"HCO3_-\": 61.0168e-3,\n",
    "    \"SO4_2-\": 96e-3,\n",
    "    \"Na_+\": 23e-3,\n",
    "    \"Cl_-\": 35e-3,\n",
    "},\n",
    "    \n",
    "\"stokes_radius_data\": {\n",
    "    \"Ca_2+\": 0.309e-9,\n",
    "    \"HCO3_-\": 2.06e-10,\n",
    "    \"SO4_2-\": 0.230e-9,\n",
    "    \"Cl_-\": 0.121e-9,\n",
    "    \"Na_+\": 0.184e-9,\n",
    "},\n",
    "    \n",
    "\"charge\": {\n",
    "    \"Ca_2+\": 2,\n",
    "    \"HCO3_-\": -1,\n",
    "    \"SO4_2-\": -2,\n",
    "    \"Na_+\": 1,\n",
    "    \"Cl_-\": -1,\n",
    "},\n",
    "    \n",
    "\"activity_coefficient_model\": ActivityCoefficientModel.davies,\n",
    "}"
   ]
  },
  {
   "cell_type": "markdown",
   "metadata": {},
   "source": [
    "### Create an instance of WaterTAP's multicomponent aqueous solution (MCAS) property model"
   ]
  },
  {
   "cell_type": "code",
   "execution_count": 6,
   "metadata": {},
   "outputs": [],
   "source": [
    "m.fs.properties = MCASParameterBlock(**property_kwds)"
   ]
  },
  {
   "cell_type": "markdown",
   "metadata": {},
   "source": [
    "### Add a feed, product, and disposal blocks\n",
    "* Feed for inlet composition\n",
    "* Product for NF permeate\n",
    "* Disposal for NF concentrate"
   ]
  },
  {
   "cell_type": "code",
   "execution_count": 7,
   "metadata": {},
   "outputs": [],
   "source": [
    "m.fs.feed = Feed(property_package=m.fs.properties)\n",
    "m.fs.product = Product(property_package=m.fs.properties)\n",
    "m.fs.disposal = Product(property_package=m.fs.properties)"
   ]
  },
  {
   "cell_type": "markdown",
   "metadata": {},
   "source": [
    "### Add a pump and an NF DSPM-DE unit to the flowsheet."
   ]
  },
  {
   "cell_type": "code",
   "execution_count": 8,
   "metadata": {},
   "outputs": [],
   "source": [
    "m.fs.pump = Pump(property_package=m.fs.properties)\n",
    "m.fs.unit = NanofiltrationDSPMDE0D(property_package=m.fs.properties,\n",
    "                                  concentration_polarization_type=ConcentrationPolarizationType.calculated,\n",
    "                                  mass_transfer_coefficient=MassTransferCoefficient.spiral_wound,\n",
    "                                  has_pressure_change=True)"
   ]
  },
  {
   "cell_type": "markdown",
   "metadata": {},
   "source": [
    "### Now, let's connect all of our units within the flowsheet. "
   ]
  },
  {
   "cell_type": "code",
   "execution_count": 9,
   "metadata": {},
   "outputs": [],
   "source": [
    "m.fs.feed_to_pump = Arc(source=m.fs.feed.outlet, destination=m.fs.pump.inlet)\n",
    "\n",
    "m.fs.pump_to_nf = Arc(source=m.fs.pump.outlet, destination=m.fs.unit.inlet)\n",
    "\n",
    "m.fs.nf_to_product = Arc(source=m.fs.unit.permeate, destination=m.fs.product.inlet)\n",
    "\n",
    "m.fs.nf_to_disposal = Arc(source=m.fs.unit.retentate, destination=m.fs.disposal.inlet)\n",
    "\n",
    "TransformationFactory(\"network.expand_arcs\").apply_to(m)"
   ]
  },
  {
   "cell_type": "markdown",
   "metadata": {},
   "source": [
    "## Step 3: Specify values for system variables."
   ]
  },
  {
   "cell_type": "markdown",
   "metadata": {},
   "source": [
    "### Fix inlet state variables \n",
    "* mole flow rates of each component\n",
    "* temperature\n",
    "* pressure"
   ]
  },
  {
   "cell_type": "markdown",
   "metadata": {},
   "source": [
    "#### From mass fractions of each ion in solution, calculate molar flow rates--the state variables of our property model"
   ]
  },
  {
   "cell_type": "code",
   "execution_count": 10,
   "metadata": {},
   "outputs": [
    {
     "name": "stdout",
     "output_type": "stream",
     "text": [
      "Block fs.feed\n",
      "\n",
      "  Variables:\n",
      "    flow_mol_phase_comp : Size=6, Index=fs._time*fs.properties.phase_list*fs.properties.component_list, ReferenceTo=fs.feed.properties[:].component('flow_mol_phase_comp')[...]\n",
      "        Key                    : Lower : Value                 : Upper : Fixed : Stale : Domain\n",
      "         (0.0, 'Liq', 'Ca_2+') :     0 :  0.010008593613659253 :  None :  True : False : NonNegativeReals\n",
      "          (0.0, 'Liq', 'Cl_-') :     0 :   0.01302606866409543 :  None :  True : False : NonNegativeReals\n",
      "           (0.0, 'Liq', 'H2O') :     0 :    55.459914767357155 :  None :  True : False : NonNegativeReals\n",
      "        (0.0, 'Liq', 'HCO3_-') :     0 : 0.0037197678907812054 :  None :  True : False : NonNegativeReals\n",
      "          (0.0, 'Liq', 'Na_+') :     0 :  0.018840795821706176 :  None :  True : False : NonNegativeReals\n",
      "        (0.0, 'Liq', 'SO4_2-') :     0 :  0.002135118775460482 :  None :  True : False : NonNegativeReals\n",
      "    temperature : Size=1, Index=fs._time, ReferenceTo=fs.feed.properties[:].component('temperature')\n",
      "        Key : Lower  : Value  : Upper  : Fixed : Stale : Domain\n",
      "        0.0 : 273.15 : 298.15 : 373.15 :  True :  True : NonNegativeReals\n",
      "    pressure : Size=1, Index=fs._time, ReferenceTo=fs.feed.properties[:].component('pressure')\n",
      "        Key : Lower    : Value  : Upper : Fixed : Stale : Domain\n",
      "        0.0 : 100000.0 : 101325 :  None :  True :  True : NonNegativeReals\n",
      "    _flow_mol_phase_comp_outlet_ref : Size=6, Index=fs._time*fs.properties.phase_list*fs.properties.component_list, ReferenceTo=fs.feed.properties[...].component('flow_mol_phase_comp')[...]\n",
      "        Key                    : Lower : Value                 : Upper : Fixed : Stale : Domain\n",
      "         (0.0, 'Liq', 'Ca_2+') :     0 :  0.010008593613659253 :  None :  True : False : NonNegativeReals\n",
      "          (0.0, 'Liq', 'Cl_-') :     0 :   0.01302606866409543 :  None :  True : False : NonNegativeReals\n",
      "           (0.0, 'Liq', 'H2O') :     0 :    55.459914767357155 :  None :  True : False : NonNegativeReals\n",
      "        (0.0, 'Liq', 'HCO3_-') :     0 : 0.0037197678907812054 :  None :  True : False : NonNegativeReals\n",
      "          (0.0, 'Liq', 'Na_+') :     0 :  0.018840795821706176 :  None :  True : False : NonNegativeReals\n",
      "        (0.0, 'Liq', 'SO4_2-') :     0 :  0.002135118775460482 :  None :  True : False : NonNegativeReals\n",
      "    _temperature_outlet_ref : Size=1, Index=fs._time, ReferenceTo=fs.feed.properties[...].component('temperature')\n",
      "        Key : Lower  : Value  : Upper  : Fixed : Stale : Domain\n",
      "        0.0 : 273.15 : 298.15 : 373.15 :  True :  True : NonNegativeReals\n",
      "    _pressure_outlet_ref : Size=1, Index=fs._time, ReferenceTo=fs.feed.properties[...].component('pressure')\n",
      "        Key : Lower    : Value  : Upper : Fixed : Stale : Domain\n",
      "        0.0 : 100000.0 : 101325 :  None :  True :  True : NonNegativeReals\n",
      "\n",
      "  Objectives:\n",
      "    None\n",
      "\n",
      "  Constraints:\n",
      "    None\n",
      "\n",
      "  Blocks:\n",
      "    Block fs.feed.properties[0.0]\n",
      "    \n",
      "      Variables:\n",
      "        temperature : State temperature\n",
      "            Size=1, Index=None, Units=K\n",
      "            Key  : Lower  : Value  : Upper  : Fixed : Stale : Domain\n",
      "            None : 273.15 : 298.15 : 373.15 :  True :  True : NonNegativeReals\n",
      "        pressure : State pressure\n",
      "            Size=1, Index=None, Units=Pa\n",
      "            Key  : Lower    : Value  : Upper : Fixed : Stale : Domain\n",
      "            None : 100000.0 : 101325 :  None :  True :  True : NonNegativeReals\n",
      "        flow_mol_phase_comp : Component molar flow rate\n",
      "            Size=6, Index=fs.properties.phase_list*fs.properties.component_list, Units=mol/s\n",
      "            Key               : Lower : Value                 : Upper : Fixed : Stale : Domain\n",
      "             ('Liq', 'Ca_2+') :     0 :  0.010008593613659253 :  None :  True : False : NonNegativeReals\n",
      "              ('Liq', 'Cl_-') :     0 :   0.01302606866409543 :  None :  True : False : NonNegativeReals\n",
      "               ('Liq', 'H2O') :     0 :    55.459914767357155 :  None :  True : False : NonNegativeReals\n",
      "            ('Liq', 'HCO3_-') :     0 : 0.0037197678907812054 :  None :  True : False : NonNegativeReals\n",
      "              ('Liq', 'Na_+') :     0 :  0.018840795821706176 :  None :  True : False : NonNegativeReals\n",
      "            ('Liq', 'SO4_2-') :     0 :  0.002135118775460482 :  None :  True : False : NonNegativeReals\n",
      "        mass_frac_phase_comp : Mass fraction\n",
      "            Size=6, Index=fs.properties.phase_list*fs.properties.component_list, Units=dimensionless\n",
      "            Key               : Lower : Value                  : Upper : Fixed : Stale : Domain\n",
      "             ('Liq', 'Ca_2+') :     0 :  0.0004003437445463701 : 1.001 : False :  True :  Reals\n",
      "              ('Liq', 'Cl_-') :     0 :  0.0004559124032433401 : 1.001 : False :  True :  Reals\n",
      "               ('Liq', 'H2O') :     0 :     0.9982784658124285 : 1.001 : False : False :  Reals\n",
      "            ('Liq', 'HCO3_-') :     0 : 0.00022696833343821863 : 1.001 : False :  True :  Reals\n",
      "              ('Liq', 'Na_+') :     0 : 0.00043333830389924205 : 1.001 : False :  True :  Reals\n",
      "            ('Liq', 'SO4_2-') :     0 : 0.00020497140244420624 : 1.001 : False :  True :  Reals\n",
      "        flow_mass_phase_comp : Component Mass flowrate\n",
      "            Size=6, Index=fs.properties.phase_list*fs.properties.component_list, Units=kg/s\n",
      "            Key               : Lower : Value                  : Upper : Fixed : Stale : Domain\n",
      "             ('Liq', 'Ca_2+') :     0 : 0.00040034374454637014 :  None : False : False :  Reals\n",
      "              ('Liq', 'Cl_-') :     0 :  0.0004559124032433401 :  None : False : False :  Reals\n",
      "               ('Liq', 'H2O') :     0 :     0.9982784658124286 :  None : False : False :  Reals\n",
      "            ('Liq', 'HCO3_-') :     0 : 0.00022696833343821866 :  None : False : False :  Reals\n",
      "              ('Liq', 'Na_+') :     0 : 0.00043333830389924205 :  None : False : False :  Reals\n",
      "            ('Liq', 'SO4_2-') :     0 : 0.00020497140244420627 :  None : False : False :  Reals\n",
      "        conc_mol_phase_comp : Molar concentration\n",
      "            Size=6, Index=fs.properties.phase_list*fs.properties.component_list, Units=mol/m**3\n",
      "            Key               : Lower : Value              : Upper : Fixed : Stale : Domain\n",
      "             ('Liq', 'Ca_2+') :     0 : 10.008593613659253 :  None : False : False :  Reals\n",
      "              ('Liq', 'Cl_-') :     0 : 13.026068664095432 :  None : False : False :  Reals\n",
      "               ('Liq', 'H2O') :     0 :  55459.91476735715 :  None : False : False :  Reals\n",
      "            ('Liq', 'HCO3_-') :     0 : 3.7197678907812053 :  None : False : False :  Reals\n",
      "              ('Liq', 'Na_+') :     0 : 18.840795821706173 :  None : False : False :  Reals\n",
      "            ('Liq', 'SO4_2-') :     0 :  2.135118775460482 :  None : False : False :  Reals\n",
      "        conc_mass_phase_comp : Mass concentration\n",
      "            Size=6, Index=fs.properties.phase_list*fs.properties.component_list, Units=kg/m**3\n",
      "            Key               : Lower : Value               : Upper  : Fixed : Stale : Domain\n",
      "             ('Liq', 'Ca_2+') :     0 : 0.40034374454637006 : 2000.0 : False : False :  Reals\n",
      "              ('Liq', 'Cl_-') :     0 : 0.45591240324334015 : 2000.0 : False : False :  Reals\n",
      "               ('Liq', 'H2O') :     0 :   998.2784658124285 : 2000.0 : False : False :  Reals\n",
      "            ('Liq', 'HCO3_-') :     0 : 0.22696833343821865 : 2000.0 : False : False :  Reals\n",
      "              ('Liq', 'Na_+') :     0 :  0.4333383038992421 : 2000.0 : False : False :  Reals\n",
      "            ('Liq', 'SO4_2-') :     0 : 0.20497140244420625 : 2000.0 : False : False :  Reals\n",
      "        dens_mass_phase : Mass density\n",
      "            Size=1, Index={Liq}, Units=kg/m**3\n",
      "            Key : Lower : Value  : Upper  : Fixed : Stale : Domain\n",
      "            Liq : 500.0 : 1000.0 : 2000.0 : False : False :  Reals\n",
      "        flow_vol_phase : Volumetric flow rate\n",
      "            Size=1, Index=fs.properties.phase_list, Units=m**3/s\n",
      "            Key : Lower : Value : Upper : Fixed : Stale : Domain\n",
      "            Liq :     0 : 0.001 :  None : False :  True :  Reals\n",
      "    \n",
      "      Objectives:\n",
      "        None\n",
      "    \n",
      "      Constraints:\n",
      "        eq_mass_frac_phase_comp : Size=6\n",
      "            Key               : Lower : Body                    : Upper\n",
      "             ('Liq', 'Ca_2+') :   0.0 : -1.3417001884508117e-16 :   0.0\n",
      "              ('Liq', 'Cl_-') :   0.0 :                     0.0 :   0.0\n",
      "               ('Liq', 'H2O') :   0.0 : -1.1102230246251565e-16 :   0.0\n",
      "            ('Liq', 'HCO3_-') :   0.0 : -1.1885961654963007e-16 :   0.0\n",
      "              ('Liq', 'Na_+') :   0.0 :                     0.0 :   0.0\n",
      "            ('Liq', 'SO4_2-') :   0.0 : -1.3976043629695953e-16 :   0.0\n",
      "        eq_flow_mass_phase_comp : Size=6\n",
      "            Key               : Lower : Body                    : Upper\n",
      "             ('Liq', 'Ca_2+') :   0.0 :                     0.0 :   0.0\n",
      "              ('Liq', 'Cl_-') :   0.0 :                     0.0 :   0.0\n",
      "               ('Liq', 'H2O') :   0.0 : -1.1214373986112693e-16 :   0.0\n",
      "            ('Liq', 'HCO3_-') :   0.0 :                     0.0 :   0.0\n",
      "              ('Liq', 'Na_+') :   0.0 :                     0.0 :   0.0\n",
      "            ('Liq', 'SO4_2-') :   0.0 :                     0.0 :   0.0\n",
      "        eq_conc_mol_phase_comp : Size=6\n",
      "            Key               : Lower : Body                   : Upper\n",
      "             ('Liq', 'Ca_2+') :   0.0 :  5.495603971894525e-18 :   0.0\n",
      "              ('Liq', 'Cl_-') :   0.0 :                    0.0 :   0.0\n",
      "               ('Liq', 'H2O') :   0.0 : 2.0463630789890886e-18 :   0.0\n",
      "            ('Liq', 'HCO3_-') :   0.0 :                    0.0 :   0.0\n",
      "              ('Liq', 'Na_+') :   0.0 : -6.106226635438361e-18 :   0.0\n",
      "            ('Liq', 'SO4_2-') :   0.0 :  1.373900992973631e-17 :   0.0\n",
      "        eq_conc_mass_phase_comp : Size=6\n",
      "            Key               : Lower : Body                   : Upper\n",
      "             ('Liq', 'Ca_2+') :   0.0 :                    0.0 :   0.0\n",
      "              ('Liq', 'Cl_-') :   0.0 :  1.207825048768027e-16 :   0.0\n",
      "               ('Liq', 'H2O') :   0.0 :                    0.0 :   0.0\n",
      "            ('Liq', 'HCO3_-') :   0.0 :  1.217122473468212e-16 :   0.0\n",
      "              ('Liq', 'Na_+') :   0.0 : 1.3274405729213828e-16 :   0.0\n",
      "            ('Liq', 'SO4_2-') :   0.0 :                    0.0 :   0.0\n",
      "        eq_dens_mass_phase : Size=1\n",
      "            Key : Lower : Body : Upper\n",
      "            Liq :   1.0 :  1.0 :   1.0\n",
      "        eq_flow_vol_phase : Size=1\n",
      "            Key : Lower : Body                    : Upper\n",
      "            Liq :   0.0 : -2.1903074191626353e-16 :   0.0\n"
     ]
    }
   ],
   "source": [
    "m.fs.feed.properties[0].temperature.fix(298.15)\n",
    "m.fs.feed.properties[0].pressure.fix(101325)\n",
    "\n",
    "feed_mass_frac = {\n",
    "    \"Ca_2+\": 4.0034374454637006e-04,\n",
    "    \"HCO3_-\": 0.00022696833343821863,\n",
    "    \"SO4_2-\": 0.00020497140244420624,\n",
    "    \"Cl_-\": 0.0004559124032433401,\n",
    "    \"Na_+\": 0.00043333830389924205,\n",
    "}\n",
    "H2O_mass_frac = 1 - sum(x for x in feed_mass_frac.values())\n",
    "\n",
    "# scale molar flowrate variables\n",
    "m.fs.properties.set_default_scaling(\"flow_mol_phase_comp\", 1/0.01, index=(\"Liq\", \"Ca_2+\"))\n",
    "m.fs.properties.set_default_scaling(\"flow_mol_phase_comp\", 1/0.002, index=(\"Liq\", \"SO4_2-\"))\n",
    "m.fs.properties.set_default_scaling(\"flow_mol_phase_comp\", 1/0.0037, index=(\"Liq\", \"HCO3_-\"))\n",
    "m.fs.properties.set_default_scaling(\"flow_mol_phase_comp\", 1/0.013, index=(\"Liq\", \"Cl_-\"))\n",
    "m.fs.properties.set_default_scaling(\"flow_mol_phase_comp\", 1/0.018, index=(\"Liq\", \"Na_+\"))\n",
    "m.fs.properties.set_default_scaling(\"flow_mol_phase_comp\", 1/55, index=(\"Liq\", \"H2O\"))\n",
    "\n",
    "m.fs.feed.properties[0].mass_frac_phase_comp\n",
    "m.fs.feed.properties[0].conc_mol_phase_comp\n",
    "m.fs.feed.properties[0].conc_mass_phase_comp\n",
    "m.fs.feed.properties[0].flow_vol_phase\n",
    "calculate_scaling_factors(m.fs.feed.properties[0])\n",
    "m.fs.feed.properties.calculate_state(\n",
    "    var_args={\n",
    "        (\"mass_frac_phase_comp\", (\"Liq\", \"Ca_2+\")): 4.0034374454637006e-04,\n",
    "        (\"mass_frac_phase_comp\", (\"Liq\", \"HCO3_-\")): 0.00022696833343821863,\n",
    "        (\"mass_frac_phase_comp\", (\"Liq\", \"SO4_2-\")): 0.00020497140244420624,\n",
    "        (\"mass_frac_phase_comp\", (\"Liq\", \"Cl_-\")): 0.0004559124032433401,\n",
    "        (\"mass_frac_phase_comp\", (\"Liq\", \"Na_+\")): 0.00043333830389924205,\n",
    "        (\"flow_vol_phase\", \"Liq\"): 1e-3,  \n",
    "\n",
    "    },  \n",
    "    hold_state=True);\n",
    "m.fs.feed.display()"
   ]
  },
  {
   "cell_type": "markdown",
   "metadata": {},
   "source": [
    "### Display feed composition"
   ]
  },
  {
   "cell_type": "code",
   "execution_count": 11,
   "metadata": {},
   "outputs": [
    {
     "name": "stdout",
     "output_type": "stream",
     "text": [
      "Mole flow rates (mole/s)\n",
      "H2O = 55.459914767357155\n",
      "Ca_2+ = 0.010008593613659253\n",
      "SO4_2- = 0.002135118775460482\n",
      "HCO3_- = 0.0037197678907812054\n",
      "Na_+ = 0.018840795821706176\n",
      "Cl_- = 0.01302606866409543\n",
      "\n",
      "Molarities (mol/m3)\n",
      "H2O = 55459.91476735715\n",
      "Ca_2+ = 10.008593613659253\n",
      "SO4_2- = 2.135118775460482\n",
      "HCO3_- = 3.7197678907812053\n",
      "Na_+ = 18.840795821706173\n",
      "Cl_- = 13.026068664095432\n",
      "\n",
      "Mass fractions (ppm)\n",
      "H2O = 998278.4658124285\n",
      "Ca_2+ = 400.3437445463701\n",
      "SO4_2- = 204.97140244420623\n",
      "HCO3_- = 226.96833343821862\n",
      "Na_+ = 433.3383038992421\n",
      "Cl_- = 455.91240324334007\n"
     ]
    }
   ],
   "source": [
    "print(\"Mole flow rates (mole/s)\")\n",
    "[print(f\"{j} = {value(m.fs.feed.properties[0].flow_mol_phase_comp['Liq', j])}\") for j in m.fs.properties.component_list];\n",
    "print(\"\\nMolarities (mol/m3)\")\n",
    "[print(f\"{j} = {value(m.fs.feed.properties[0].conc_mol_phase_comp['Liq', j])}\") for j in m.fs.properties.component_list];\n",
    "print(\"\\nMass fractions (ppm)\")\n",
    "[print(f\"{j} = {value(m.fs.feed.properties[0].mass_frac_phase_comp['Liq', j])*1e6}\") for j in m.fs.properties.component_list];"
   ]
  },
  {
   "cell_type": "markdown",
   "metadata": {},
   "source": [
    "### Use assert_electroneutrality method from property model to ensure the ion concentrations provided obey electroneutrality condition"
   ]
  },
  {
   "cell_type": "code",
   "execution_count": 12,
   "metadata": {},
   "outputs": [
    {
     "name": "stdout",
     "output_type": "stream",
     "text": [
      "Cl_- adjusted: fs.feed.properties[0.0].flow_mol_phase_comp['Liq',Cl_-] was adjusted from 0.01302606866409543 and fixed to 0.03086797760732252. Electroneutrality satisfied for fs.feed.properties[0.0]. Balance Result = 3.552713678800501e-15\n"
     ]
    }
   ],
   "source": [
    "m.fs.feed.properties[0].assert_electroneutrality(\n",
    "    defined_state=True,\n",
    "    adjust_by_ion=\"Cl_-\",\n",
    ")"
   ]
  },
  {
   "cell_type": "markdown",
   "metadata": {},
   "source": [
    "### Display feed composition again, after adjustment to achieve electroneutrality"
   ]
  },
  {
   "cell_type": "code",
   "execution_count": 13,
   "metadata": {},
   "outputs": [
    {
     "name": "stdout",
     "output_type": "stream",
     "text": [
      "Mole flow rates (mole/s)\n",
      "H2O = 55.459914767357155\n",
      "Ca_2+ = 0.010008593613659253\n",
      "SO4_2- = 0.002135118775460482\n",
      "HCO3_- = 0.0037197678907812054\n",
      "Na_+ = 0.018840795821706176\n",
      "Cl_- = 0.03086797760732252\n",
      "\n",
      "Molarities (mol/m3)\n",
      "H2O = 55425.30350471728\n",
      "Ca_2+ = 10.002347479606014\n",
      "SO4_2- = 2.13378629673211\n",
      "HCO3_- = 3.717446468832267\n",
      "Na_+ = 18.829037712533726\n",
      "Cl_- = 30.848713609449263\n",
      "\n",
      "Mass fractions (ppm)\n",
      "H2O = 997655.463084911\n",
      "Ca_2+ = 400.0938991842405\n",
      "SO4_2- = 204.84348448628256\n",
      "HCO3_- = 226.82668769944465\n",
      "Na_+ = 433.0678673882757\n",
      "Cl_- = 1079.7049763307245\n"
     ]
    }
   ],
   "source": [
    "print(\"Mole flow rates (mole/s)\")\n",
    "[print(f\"{j} = {value(m.fs.feed.properties[0].flow_mol_phase_comp['Liq', j])}\") for j in m.fs.properties.component_list];\n",
    "print(\"\\nMolarities (mol/m3)\")\n",
    "[print(f\"{j} = {value(m.fs.feed.properties[0].conc_mol_phase_comp['Liq', j])}\") for j in m.fs.properties.component_list];\n",
    "print(\"\\nMass fractions (ppm)\")\n",
    "[print(f\"{j} = {value(m.fs.feed.properties[0].mass_frac_phase_comp['Liq', j])*1e6}\") for j in m.fs.properties.component_list];"
   ]
  },
  {
   "cell_type": "markdown",
   "metadata": {},
   "source": [
    "### Fix pump variables for initial simulation.\n",
    "* Pump efficiency\n",
    "* Pump discharge pressure"
   ]
  },
  {
   "cell_type": "code",
   "execution_count": 14,
   "metadata": {},
   "outputs": [],
   "source": [
    "m.fs.pump.efficiency_pump[0].fix(0.75)\n",
    "m.fs.pump.outlet.pressure[0].fix(3e5)\n",
    "\n",
    "# To check units of pressure:\n",
    "# print(str(m.fs.pump.outlet.pressure[0]._units))"
   ]
  },
  {
   "cell_type": "markdown",
   "metadata": {},
   "source": [
    "### Fix the membrane variables that are typically fixed for the DSPM-DE model.\n",
    "* membrane pore radius\n",
    "* effective membrane thickness\n",
    "* membrane charge density\n",
    "* pore dielectric constant\n"
   ]
  },
  {
   "cell_type": "code",
   "execution_count": 15,
   "metadata": {},
   "outputs": [],
   "source": [
    "m.fs.unit.radius_pore.fix(0.5e-9)\n",
    "m.fs.unit.membrane_thickness_effective.fix(8.6e-07)\n",
    "m.fs.unit.membrane_charge_density.fix(-680)\n",
    "m.fs.unit.dielectric_constant_pore.fix(41.3)\n",
    "\n",
    "# Fix final permeate pressure to be ~atmospheric\n",
    "m.fs.unit.mixed_permeate[0].pressure.fix(101325)\n",
    "m.fs.unit.deltaP.fix(0\n",
    "                     *pyunits.bar)\n",
    "\n",
    "m.fs.unit.spacer_porosity.fix(0.85)\n",
    "m.fs.unit.channel_height.fix(1e-3)\n",
    "m.fs.unit.velocity[0, 0].fix(0.25)\n",
    "m.fs.unit.area.fix(50)\n",
    "\n",
    "# Fix additional variables for calculating mass transfer coefficient with spiral wound correlation\n",
    "m.fs.unit.spacer_mixing_efficiency.fix()\n",
    "m.fs.unit.spacer_mixing_length.fix()\n",
    "\n",
    "# Create on-demand property, \"total hardness\" for the NF permeate by \"touching\" it\n",
    "m.fs.product.properties[0].total_hardness;"
   ]
  },
  {
   "cell_type": "markdown",
   "metadata": {},
   "source": [
    "## Step 4: Calculate scaling factors for variables.\n",
    "We can aim for scaling factors that are approximately the inverse of variable values. \n",
    "For example, if we know pressure is typically around 1e6 Pa, we could apply a scaling factor of 1e-6 to scale the variable value of pressure to 1.\n"
   ]
  },
  {
   "cell_type": "code",
   "execution_count": 16,
   "metadata": {},
   "outputs": [
    {
     "name": "stdout",
     "output_type": "stream",
     "text": [
      "2025-10-10 14:52:12 [WARNING] idaes.core.util.scaling: Missing scaling factor for fs.pump.control_volume.work\n"
     ]
    }
   ],
   "source": [
    "m.fs.properties.set_default_scaling(\"flow_mol_phase_comp\", 1/0.01, index=(\"Liq\", \"Ca_2+\"))\n",
    "m.fs.properties.set_default_scaling(\"flow_mol_phase_comp\", 1/0.002, index=(\"Liq\", \"SO4_2-\"))\n",
    "m.fs.properties.set_default_scaling(\"flow_mol_phase_comp\", 1/0.0037, index=(\"Liq\", \"HCO3_-\"))\n",
    "m.fs.properties.set_default_scaling(\"flow_mol_phase_comp\", 1/0.013, index=(\"Liq\", \"Cl_-\"))\n",
    "m.fs.properties.set_default_scaling(\"flow_mol_phase_comp\", 1/0.018, index=(\"Liq\", \"Na_+\"))\n",
    "m.fs.properties.set_default_scaling(\"flow_mol_phase_comp\", 1/55, index=(\"Liq\", \"H2O\"))\n",
    "\n",
    "set_scaling_factor(m.fs.unit.area, 0.1)\n",
    "\n",
    "calculate_scaling_factors(m);"
   ]
  },
  {
   "cell_type": "markdown",
   "metadata": {},
   "source": [
    "## Step 5: Initialize the model."
   ]
  },
  {
   "cell_type": "code",
   "execution_count": 17,
   "metadata": {},
   "outputs": [
    {
     "name": "stdout",
     "output_type": "stream",
     "text": [
      "2025-10-10 14:52:12 [INFO] idaes.init.fs.feed: Initialization Complete.\n",
      "2025-10-10 14:52:12 [INFO] idaes.init.fs.pump.control_volume: Initialization Complete\n",
      "2025-10-10 14:52:12 [INFO] idaes.init.fs.pump: Initialization Complete: optimal - Optimal Solution Found\n",
      "2025-10-10 14:52:14 [INFO] idaes.init.fs.unit: Initialization Complete: optimal - Optimal Solution Found\n",
      "2025-10-10 14:52:14 [INFO] idaes.init.fs.product: Initialization Complete.\n"
     ]
    }
   ],
   "source": [
    "m.fs.feed.initialize()\n",
    "\n",
    "propagate_state(m.fs.feed_to_pump)\n",
    "m.fs.pump.initialize()\n",
    "\n",
    "propagate_state(m.fs.pump_to_nf)\n",
    "m.fs.unit.initialize()\n",
    "\n",
    "propagate_state(m.fs.nf_to_product)\n",
    "propagate_state(m.fs.nf_to_disposal)\n",
    "m.fs.product.initialize()"
   ]
  },
  {
   "cell_type": "code",
   "execution_count": 18,
   "metadata": {},
   "outputs": [
    {
     "name": "stdout",
     "output_type": "stream",
     "text": [
      "\n",
      "====================================================================================\n",
      "Unit : fs.feed                                                             Time: 0.0\n",
      "------------------------------------------------------------------------------------\n",
      "    Stream Table\n",
      "                                              Units        Outlet  \n",
      "    flow_mol_phase_comp ('Liq', 'H2O')     mole / second     55.460\n",
      "    flow_mol_phase_comp ('Liq', 'Ca_2+')   mole / second   0.010009\n",
      "    flow_mol_phase_comp ('Liq', 'SO4_2-')  mole / second  0.0021351\n",
      "    flow_mol_phase_comp ('Liq', 'HCO3_-')  mole / second  0.0037198\n",
      "    flow_mol_phase_comp ('Liq', 'Na_+')    mole / second   0.018841\n",
      "    flow_mol_phase_comp ('Liq', 'Cl_-')    mole / second   0.030868\n",
      "    temperature                                   kelvin     298.15\n",
      "    pressure                                      pascal 1.0132e+05\n",
      "====================================================================================\n",
      "\n",
      "====================================================================================\n",
      "Unit : fs.pump                                                             Time: 0.0\n",
      "------------------------------------------------------------------------------------\n",
      "    Unit Performance\n",
      "\n",
      "    Variables: \n",
      "\n",
      "    Key             : Value      : Units         : Fixed : Bounds\n",
      "         Efficiency :    0.75000 : dimensionless :  True : (None, None)\n",
      "    Mechanical Work :     265.07 :          watt : False : (None, None)\n",
      "    Pressure Change : 1.9868e+05 :        pascal : False : (None, None)\n",
      "     Pressure Ratio :     2.9608 : dimensionless : False : (None, None)\n",
      "\n",
      "------------------------------------------------------------------------------------\n",
      "    Stream Table\n",
      "                                              Units         Inlet     Outlet  \n",
      "    flow_mol_phase_comp ('Liq', 'H2O')     mole / second     55.460     55.460\n",
      "    flow_mol_phase_comp ('Liq', 'Ca_2+')   mole / second   0.010009   0.010009\n",
      "    flow_mol_phase_comp ('Liq', 'SO4_2-')  mole / second  0.0021351  0.0021351\n",
      "    flow_mol_phase_comp ('Liq', 'HCO3_-')  mole / second  0.0037198  0.0037198\n",
      "    flow_mol_phase_comp ('Liq', 'Na_+')    mole / second   0.018841   0.018841\n",
      "    flow_mol_phase_comp ('Liq', 'Cl_-')    mole / second   0.030868   0.030868\n",
      "    temperature                                   kelvin     298.15     298.15\n",
      "    pressure                                      pascal 1.0132e+05 3.0000e+05\n",
      "====================================================================================\n",
      "\n",
      "====================================================================================\n",
      "Unit : fs.unit                                                             Time: 0.0\n",
      "------------------------------------------------------------------------------------\n",
      "    Unit Performance\n",
      "\n",
      "    Variables: \n",
      "\n",
      "    Key                                                           : Value      : Units                                        : Fixed : Bounds\n",
      "                             Electric Potential @ Permeate, Inlet :   0.029050 : kilogram * meter ** 2 / ampere / second ** 3 : False : (None, None)\n",
      "                            Electric Potential @ Permeate, Outlet :   0.027257 : kilogram * meter ** 2 / ampere / second ** 3 : False : (None, None)\n",
      "                        Electric Potential @ Pore Entrance, Inlet :   -0.11825 : kilogram * meter ** 2 / ampere / second ** 3 : False : (None, None)\n",
      "                       Electric Potential @ Pore Entrance, Outlet :   -0.11749 : kilogram * meter ** 2 / ampere / second ** 3 : False : (None, None)\n",
      "                            Electric Potential @ Pore Exit, Inlet :   -0.11800 : kilogram * meter ** 2 / ampere / second ** 3 : False : (None, None)\n",
      "                           Electric Potential @ Pore Exit, Outlet :   -0.11726 : kilogram * meter ** 2 / ampere / second ** 3 : False : (None, None)\n",
      "     Electric Potential Gradient @ Feed-Membrane Interface, Inlet :     3.0207 :      kilogram * meter / ampere / second ** 3 : False : (None, None)\n",
      "    Electric Potential Gradient @ Feed-Membrane Interface, Outlet :     2.7303 :      kilogram * meter / ampere / second ** 3 : False : (None, None)\n",
      "                                     Intrinsic Rejection of Ca_2+ :    0.88300 :                                dimensionless : False : (-1.001, 1.001)\n",
      "                                      Intrinsic Rejection of Cl_- :    0.73569 :                                dimensionless : False : (-1.001, 1.001)\n",
      "                                    Intrinsic Rejection of HCO3_- :    0.83251 :                                dimensionless : False : (-1.001, 1.001)\n",
      "                                      Intrinsic Rejection of Na_+ :    0.65742 :                                dimensionless : False : (-1.001, 1.001)\n",
      "                                    Intrinsic Rejection of SO4_2- :    0.99998 :                                dimensionless : False : (-1.001, 1.001)\n",
      "                                                    Membrane Area :     50.000 :                                   meter ** 2 :  True : (0, 1000.0)\n",
      "                        Molar Concentration of Ca_2+ @ Feed Inlet :     10.002 :                            mole / meter ** 3 : False : (0, None)\n",
      "                       Molar Concentration of Ca_2+ @ Feed Outlet :     10.735 :                            mole / meter ** 3 : False : (0, None)\n",
      "                    Molar Concentration of Ca_2+ @ Final Permeate :     1.5366 :                            mole / meter ** 3 : False : (0, None)\n",
      "         Molar Concentration of Ca_2+ @ Membrane Interface, Inlet :     13.133 :                            mole / meter ** 3 : False : (0, None)\n",
      "        Molar Concentration of Ca_2+ @ Membrane Interface, Outlet :     13.891 :                            mole / meter ** 3 : False : (0, None)\n",
      "                   Molar Concentration of Ca_2+ @ Permeate, Inlet :     1.3892 :                            mole / meter ** 3 : False : (0, None)\n",
      "                  Molar Concentration of Ca_2+ @ Permeate, Outlet :     1.6873 :                            mole / meter ** 3 : False : (0, None)\n",
      "              Molar Concentration of Ca_2+ @ Pore Entrance, Inlet :     267.20 :                            mole / meter ** 3 : False : (0, None)\n",
      "             Molar Concentration of Ca_2+ @ Pore Entrance, Outlet :     266.44 :                            mole / meter ** 3 : False : (0, None)\n",
      "                  Molar Concentration of Ca_2+ @ Pore Exit, Inlet :     267.58 :                            mole / meter ** 3 : False : (0, None)\n",
      "                 Molar Concentration of Ca_2+ @ Pore Exit, Outlet :     266.80 :                            mole / meter ** 3 : False : (0, None)\n",
      "                         Molar Concentration of Cl_- @ Feed Inlet :     30.849 :                            mole / meter ** 3 : False : (0, None)\n",
      "                        Molar Concentration of Cl_- @ Feed Outlet :     32.674 :                            mole / meter ** 3 : False : (0, None)\n",
      "                     Molar Concentration of Cl_- @ Final Permeate :     9.7679 :                            mole / meter ** 3 : False : (0, None)\n",
      "          Molar Concentration of Cl_- @ Membrane Interface, Inlet :     36.956 :                            mole / meter ** 3 : False : (0, None)\n",
      "         Molar Concentration of Cl_- @ Membrane Interface, Outlet :     38.682 :                            mole / meter ** 3 : False : (0, None)\n",
      "                    Molar Concentration of Cl_- @ Permeate, Inlet :     9.1176 :                            mole / meter ** 3 : False : (0, None)\n",
      "                   Molar Concentration of Cl_- @ Permeate, Outlet :     10.417 :                            mole / meter ** 3 : False : (0, None)\n",
      "               Molar Concentration of Cl_- @ Pore Entrance, Inlet :   0.013944 :                            mole / meter ** 3 : False : (0, None)\n",
      "              Molar Concentration of Cl_- @ Pore Entrance, Outlet :   0.015030 :                            mole / meter ** 3 : False : (0, None)\n",
      "                   Molar Concentration of Cl_- @ Pore Exit, Inlet :  0.0011228 :                            mole / meter ** 3 : False : (0, None)\n",
      "                  Molar Concentration of Cl_- @ Pore Exit, Outlet :  0.0014155 :                            mole / meter ** 3 : False : (0, None)\n",
      "                          Molar Concentration of H2O @ Feed Inlet :     55425. :                            mole / meter ** 3 : False : (0, None)\n",
      "                         Molar Concentration of H2O @ Feed Outlet :     55417. :                            mole / meter ** 3 : False : (0, None)\n",
      "                      Molar Concentration of H2O @ Final Permeate :     55521. :                            mole / meter ** 3 : False : (0, None)\n",
      "           Molar Concentration of H2O @ Membrane Interface, Inlet :     55393. :                            mole / meter ** 3 : False : (0, None)\n",
      "          Molar Concentration of H2O @ Membrane Interface, Outlet :     55385. :                            mole / meter ** 3 : False : (0, None)\n",
      "                     Molar Concentration of H2O @ Permeate, Inlet :     55523. :                            mole / meter ** 3 : False : (0, None)\n",
      "                    Molar Concentration of H2O @ Permeate, Outlet :     55518. :                            mole / meter ** 3 : False : (0, None)\n",
      "                Molar Concentration of H2O @ Pore Entrance, Inlet :     54776. :                            mole / meter ** 3 : False : (0, None)\n",
      "               Molar Concentration of H2O @ Pore Entrance, Outlet :     54775. :                            mole / meter ** 3 : False : (0, None)\n",
      "                    Molar Concentration of H2O @ Pore Exit, Inlet :     54776. :                            mole / meter ** 3 : False : (0, None)\n",
      "                   Molar Concentration of H2O @ Pore Exit, Outlet :     54776. :                            mole / meter ** 3 : False : (0, None)\n",
      "                       Molar Concentration of HCO3_- @ Feed Inlet :     3.7174 :                            mole / meter ** 3 : False : (0, None)\n",
      "                      Molar Concentration of HCO3_- @ Feed Outlet :     3.9680 :                            mole / meter ** 3 : False : (0, None)\n",
      "                   Molar Concentration of HCO3_- @ Final Permeate :    0.82384 :                            mole / meter ** 3 : False : (0, None)\n",
      "        Molar Concentration of HCO3_- @ Membrane Interface, Inlet :     4.9187 :                            mole / meter ** 3 : False : (0, None)\n",
      "       Molar Concentration of HCO3_- @ Membrane Interface, Outlet :     5.1671 :                            mole / meter ** 3 : False : (0, None)\n",
      "                  Molar Concentration of HCO3_- @ Permeate, Inlet :    0.76544 :                            mole / meter ** 3 : False : (0, None)\n",
      "                 Molar Concentration of HCO3_- @ Permeate, Outlet :    0.88245 :                            mole / meter ** 3 : False : (0, None)\n",
      "             Molar Concentration of HCO3_- @ Pore Entrance, Inlet :  0.0034408 :                            mole / meter ** 3 : False : (0, None)\n",
      "            Molar Concentration of HCO3_- @ Pore Entrance, Outlet :  0.0037222 :                            mole / meter ** 3 : False : (0, None)\n",
      "                 Molar Concentration of HCO3_- @ Pore Exit, Inlet : 0.00017476 :                            mole / meter ** 3 : False : (0, None)\n",
      "                Molar Concentration of HCO3_- @ Pore Exit, Outlet : 0.00022231 :                            mole / meter ** 3 : False : (0, None)\n",
      "                         Molar Concentration of Na_+ @ Feed Inlet :     18.829 :                            mole / meter ** 3 : False : (0, None)\n",
      "                        Molar Concentration of Na_+ @ Feed Outlet :     19.808 :                            mole / meter ** 3 : False : (0, None)\n",
      "                     Molar Concentration of Na_+ @ Final Permeate :     7.5187 :                            mole / meter ** 3 : False : (0, None)\n",
      "          Molar Concentration of Na_+ @ Membrane Interface, Inlet :     21.947 :                            mole / meter ** 3 : False : (0, None)\n",
      "         Molar Concentration of Na_+ @ Membrane Interface, Outlet :     22.839 :                            mole / meter ** 3 : False : (0, None)\n",
      "                    Molar Concentration of Na_+ @ Permeate, Inlet :     7.1047 :                            mole / meter ** 3 : False : (0, None)\n",
      "                   Molar Concentration of Na_+ @ Permeate, Outlet :     7.9255 :                            mole / meter ** 3 : False : (0, None)\n",
      "               Molar Concentration of Na_+ @ Pore Entrance, Inlet :     145.62 :                            mole / meter ** 3 : False : (0, None)\n",
      "              Molar Concentration of Na_+ @ Pore Entrance, Outlet :     147.14 :                            mole / meter ** 3 : False : (0, None)\n",
      "                   Molar Concentration of Na_+ @ Pore Exit, Inlet :     144.84 :                            mole / meter ** 3 : False : (0, None)\n",
      "                  Molar Concentration of Na_+ @ Pore Exit, Outlet :     146.40 :                            mole / meter ** 3 : False : (0, None)\n",
      "                       Molar Concentration of SO4_2- @ Feed Inlet :     2.1338 :                            mole / meter ** 3 : False : (0, None)\n",
      "                      Molar Concentration of SO4_2- @ Feed Outlet :     2.3185 :                            mole / meter ** 3 : False : (0, None)\n",
      "                   Molar Concentration of SO4_2- @ Final Permeate : 5.5907e-05 :                            mole / meter ** 3 : False : (0, None)\n",
      "        Molar Concentration of SO4_2- @ Membrane Interface, Inlet :     3.1693 :                            mole / meter ** 3 : False : (0, None)\n",
      "       Molar Concentration of SO4_2- @ Membrane Interface, Outlet :     3.3862 :                            mole / meter ** 3 : False : (0, None)\n",
      "                  Molar Concentration of SO4_2- @ Permeate, Inlet : 5.0554e-05 :                            mole / meter ** 3 : False : (0, None)\n",
      "                 Molar Concentration of SO4_2- @ Permeate, Outlet : 6.1915e-05 :                            mole / meter ** 3 : False : (0, None)\n",
      "             Molar Concentration of SO4_2- @ Pore Entrance, Inlet : 3.0051e-07 :                            mole / meter ** 3 : False : (0, None)\n",
      "            Molar Concentration of SO4_2- @ Pore Entrance, Outlet : 3.4044e-07 :                            mole / meter ** 3 : False : (0, None)\n",
      "                 Molar Concentration of SO4_2- @ Pore Exit, Inlet : 5.1206e-13 :                            mole / meter ** 3 : False : (0, None)\n",
      "                Molar Concentration of SO4_2- @ Pore Exit, Outlet : 7.6338e-13 :                            mole / meter ** 3 : False : (0, None)\n",
      "                            Molar flow rate of Ca_2+ @ feed inlet :   0.010009 :                                mole / second : False : (0, None)\n",
      "                           Molar flow rate of Ca_2+ @ feed outlet :  0.0098861 :                                mole / second : False : (0, None)\n",
      "                        Molar flow rate of Ca_2+ @ mixed permeate : 0.00012250 :                                mole / second : False : (0, None)\n",
      "                             Molar flow rate of Cl_- @ feed inlet :   0.030868 :                                mole / second : False : (0, None)\n",
      "                            Molar flow rate of Cl_- @ feed outlet :   0.030089 :                                mole / second : False : (0, None)\n",
      "                         Molar flow rate of Cl_- @ mixed permeate : 0.00077873 :                                mole / second : False : (0, None)\n",
      "                              Molar flow rate of H2O @ feed inlet :     55.460 :                                mole / second : False : (0, None)\n",
      "                             Molar flow rate of H2O @ feed outlet :     51.034 :                                mole / second : False : (0, None)\n",
      "                          Molar flow rate of H2O @ mixed permeate :     4.4263 :                                mole / second : False : (0, None)\n",
      "                           Molar flow rate of HCO3_- @ feed inlet :  0.0037198 :                                mole / second : False : (0, None)\n",
      "                          Molar flow rate of HCO3_- @ feed outlet :  0.0036541 :                                mole / second : False : (0, None)\n",
      "                       Molar flow rate of HCO3_- @ mixed permeate : 6.5679e-05 :                                mole / second : False : (0, None)\n",
      "                             Molar flow rate of Na_+ @ feed inlet :   0.018841 :                                mole / second : False : (0, None)\n",
      "                            Molar flow rate of Na_+ @ feed outlet :   0.018241 :                                mole / second : False : (0, None)\n",
      "                         Molar flow rate of Na_+ @ mixed permeate : 0.00059942 :                                mole / second : False : (0, None)\n",
      "                           Molar flow rate of SO4_2- @ feed inlet :  0.0021351 :                                mole / second : False : (0, None)\n",
      "                          Molar flow rate of SO4_2- @ feed outlet :  0.0021351 :                                mole / second : False : (0, None)\n",
      "                       Molar flow rate of SO4_2- @ mixed permeate : 4.4571e-09 :                                mole / second : False : (0, None)\n",
      "                     Osmotic Pressure @ Membrane Interface, Inlet : 1.9862e+05 :                                       pascal : False : (0, None)\n",
      "                    Osmotic Pressure @ Membrane Interface, Outlet : 2.0814e+05 :                                       pascal : False : (0, None)\n",
      "                               Osmotic Pressure @ Permeate, Inlet :     45556. :                                       pascal : False : (0, None)\n",
      "                              Osmotic Pressure @ Permeate, Outlet :     51842. :                                       pascal : False : (0, None)\n",
      "                                                  Pressure Change :     0.0000 :                                       pascal :  True : (None, None)\n",
      "                                                 Velocity @ Inlet :    0.25000 :                               meter / second :  True : (0, None)\n",
      "                                                Velocity @ Outlet :    0.23008 :                               meter / second : False : (0, None)\n",
      "                                         Volumetric Recovery Rate :   0.079674 :                                dimensionless : False : (0, 1)\n",
      "                                Volumetric flow rate @ feed inlet :  0.0010006 :                          meter ** 3 / second : False : (0, None)\n",
      "                               Volumetric flow rate @ feed outlet : 0.00092090 :                          meter ** 3 / second : False : (0, None)\n",
      "                            Volumetric flow rate @ final permeate : 7.9724e-05 :                          meter ** 3 / second : False : (0, None)\n",
      "\n",
      "    Expressions: \n",
      "\n",
      "    Key                                                         : Value      : Units\n",
      "                                    Average Mole FLux of Ca_2+  : 2.4500e-06 : mole / meter ** 2 / second\n",
      "                                     Average Mole FLux of Cl_-  : 1.5575e-05 : mole / meter ** 2 / second\n",
      "                                      Average Mole FLux of H2O  :   0.088526 : mole / meter ** 2 / second\n",
      "                                   Average Mole FLux of HCO3_-  : 1.3136e-06 : mole / meter ** 2 / second\n",
      "                                     Average Mole FLux of Na_+  : 1.1988e-05 : mole / meter ** 2 / second\n",
      "                                   Average Mole FLux of SO4_2-  : 8.9121e-11 : mole / meter ** 2 / second\n",
      "                                        Average Volumetric Flux : 1.5984e-06 : meter / second\n",
      "             Born Solvation Energy Partitioning Factor of Ca_2+ :   0.013960 : dimensionless\n",
      "              Born Solvation Energy Partitioning Factor of Cl_- :   0.065409 : dimensionless\n",
      "            Born Solvation Energy Partitioning Factor of HCO3_- :    0.20153 : dimensionless\n",
      "              Born Solvation Energy Partitioning Factor of Na_+ :    0.16640 : dimensionless\n",
      "            Born Solvation Energy Partitioning Factor of SO4_2- :  0.0032188 : dimensionless\n",
      "                           Convective Hindrance Factor of Ca_2+ :     1.3174 : dimensionless\n",
      "                            Convective Hindrance Factor of Cl_- :     1.2868 : dimensionless\n",
      "                          Convective Hindrance Factor of HCO3_- :     1.3455 : dimensionless\n",
      "                            Convective Hindrance Factor of Na_+ :     1.3381 : dimensionless\n",
      "                          Convective Hindrance Factor of SO4_2- :     1.3479 : dimensionless\n",
      "                            Diffusive Hindrance Factor of Ca_2+ :   0.098786 : dimensionless\n",
      "                             Diffusive Hindrance Factor of Cl_- :    0.49595 : dimensionless\n",
      "                           Diffusive Hindrance Factor of HCO3_- :    0.27832 : dimensionless\n",
      "                             Diffusive Hindrance Factor of Na_+ :    0.32889 : dimensionless\n",
      "                           Diffusive Hindrance Factor of SO4_2- :    0.22790 : dimensionless\n",
      "          Donnan Partitioning Factor of Ca_2+ @ Feed-side Inlet :     9943.2 : dimensionless\n",
      "         Donnan Partitioning Factor of Ca_2+ @ Feed-side Outlet :     9375.6 : dimensionless\n",
      "      Donnan Partitioning Factor of Ca_2+ @ Permeate-side Inlet :     93604. : dimensionless\n",
      "     Donnan Partitioning Factor of Ca_2+ @ Permeate-side Outlet :     76871. : dimensionless\n",
      "           Donnan Partitioning Factor of Cl_- @ Feed-side Inlet :   0.010029 : dimensionless\n",
      "          Donnan Partitioning Factor of Cl_- @ Feed-side Outlet :   0.010328 : dimensionless\n",
      "       Donnan Partitioning Factor of Cl_- @ Permeate-side Inlet :  0.0032685 : dimensionless\n",
      "      Donnan Partitioning Factor of Cl_- @ Permeate-side Outlet :  0.0036068 : dimensionless\n",
      "         Donnan Partitioning Factor of HCO3_- @ Feed-side Inlet :   0.010029 : dimensionless\n",
      "        Donnan Partitioning Factor of HCO3_- @ Feed-side Outlet :   0.010328 : dimensionless\n",
      "     Donnan Partitioning Factor of HCO3_- @ Permeate-side Inlet :  0.0032685 : dimensionless\n",
      "    Donnan Partitioning Factor of HCO3_- @ Permeate-side Outlet :  0.0036068 : dimensionless\n",
      "           Donnan Partitioning Factor of Na_+ @ Feed-side Inlet :     99.716 : dimensionless\n",
      "          Donnan Partitioning Factor of Na_+ @ Feed-side Outlet :     96.828 : dimensionless\n",
      "       Donnan Partitioning Factor of Na_+ @ Permeate-side Inlet :     305.95 : dimensionless\n",
      "      Donnan Partitioning Factor of Na_+ @ Permeate-side Outlet :     277.26 : dimensionless\n",
      "         Donnan Partitioning Factor of SO4_2- @ Feed-side Inlet : 0.00010057 : dimensionless\n",
      "        Donnan Partitioning Factor of SO4_2- @ Feed-side Outlet : 0.00010666 : dimensionless\n",
      "     Donnan Partitioning Factor of SO4_2- @ Permeate-side Inlet : 1.0683e-05 : dimensionless\n",
      "    Donnan Partitioning Factor of SO4_2- @ Permeate-side Outlet : 1.3009e-05 : dimensionless\n",
      "                        Gibbs Free Energy of Solvation of Ca_2+ : 1.7583e-20 : joule\n",
      "                         Gibbs Free Energy of Solvation of Cl_- : 1.1226e-20 : joule\n",
      "                       Gibbs Free Energy of Solvation of HCO3_- : 6.5938e-21 : joule\n",
      "                         Gibbs Free Energy of Solvation of Na_+ : 7.3822e-21 : joule\n",
      "                       Gibbs Free Energy of Solvation of SO4_2- : 2.3623e-20 : joule\n",
      "                                    Net Driving Pressure, Inlet :     45606. : pascal\n",
      "                                   Net Driving Pressure, Outlet :     42372. : pascal\n",
      "                                    Observed Rejection of Ca_2+ :    0.84638 : dimensionless\n",
      "                                     Observed Rejection of Cl_- :    0.68336 : dimensionless\n",
      "                                   Observed Rejection of HCO3_- :    0.77839 : dimensionless\n",
      "                                     Observed Rejection of Na_+ :    0.60069 : dimensionless\n",
      "                                   Observed Rejection of SO4_2- :    0.99997 : dimensionless\n",
      "                                      Pore Diffusivity of Ca_2+ : 9.0883e-11 : meter ** 2 / second\n",
      "                                       Pore Diffusivity of Cl_- : 1.0068e-09 : meter ** 2 / second\n",
      "                                     Pore Diffusivity of HCO3_- : 3.3120e-10 : meter ** 2 / second\n",
      "                                       Pore Diffusivity of Na_+ : 4.3742e-10 : meter ** 2 / second\n",
      "                                     Pore Diffusivity of SO4_2- : 2.4157e-10 : meter ** 2 / second\n",
      "                  Steric Hindrance Partitioning Factor of Ca_2+ :    0.14592 : dimensionless\n",
      "                   Steric Hindrance Partitioning Factor of Cl_- :    0.57456 : dimensionless\n",
      "                 Steric Hindrance Partitioning Factor of HCO3_- :    0.34574 : dimensionless\n",
      "                   Steric Hindrance Partitioning Factor of Na_+ :    0.39942 : dimensionless\n",
      "                 Steric Hindrance Partitioning Factor of SO4_2- :    0.29160 : dimensionless\n",
      "                                         Stokes radius of Ca_2+ : 3.0900e-10 : meter\n",
      "                                          Stokes radius of Cl_- : 1.2100e-10 : meter\n",
      "                                        Stokes radius of HCO3_- : 2.0600e-10 : meter\n",
      "                                          Stokes radius of Na_+ : 1.8400e-10 : meter\n",
      "                                        Stokes radius of SO4_2- : 2.3000e-10 : meter\n",
      "                              Stokes:Pore Radius Ratio of Ca_2+ :    0.61800 : dimensionless\n",
      "                               Stokes:Pore Radius Ratio of Cl_- :    0.24200 : dimensionless\n",
      "                             Stokes:Pore Radius Ratio of HCO3_- :    0.41200 : dimensionless\n",
      "                               Stokes:Pore Radius Ratio of Na_+ :    0.36800 : dimensionless\n",
      "                             Stokes:Pore Radius Ratio of SO4_2- :    0.46000 : dimensionless\n",
      "\n",
      "------------------------------------------------------------------------------------\n",
      "    Stream Table\n",
      "                                              Units       Feed Inlet  Feed Outlet  Permeate Outlet\n",
      "    flow_mol_phase_comp ('Liq', 'H2O')     mole / second      55.460      51.034         4.4263   \n",
      "    flow_mol_phase_comp ('Liq', 'Ca_2+')   mole / second    0.010009   0.0098861     0.00012250   \n",
      "    flow_mol_phase_comp ('Liq', 'SO4_2-')  mole / second   0.0021351   0.0021351     4.4571e-09   \n",
      "    flow_mol_phase_comp ('Liq', 'HCO3_-')  mole / second   0.0037198   0.0036541     6.5679e-05   \n",
      "    flow_mol_phase_comp ('Liq', 'Na_+')    mole / second    0.018841    0.018241     0.00059942   \n",
      "    flow_mol_phase_comp ('Liq', 'Cl_-')    mole / second    0.030868    0.030089     0.00077873   \n",
      "    temperature                                   kelvin      298.15      298.15         298.15   \n",
      "    pressure                                      pascal  3.0000e+05  3.0000e+05     1.0132e+05   \n",
      "====================================================================================\n"
     ]
    }
   ],
   "source": [
    "m.fs.feed.report()\n",
    "m.fs.pump.report()\n",
    "m.fs.unit.report()"
   ]
  },
  {
   "cell_type": "markdown",
   "metadata": {},
   "source": [
    "### Display feed pressure, membrane area, and rejection rates after initializing the flowsheet."
   ]
  },
  {
   "cell_type": "code",
   "execution_count": 19,
   "metadata": {},
   "outputs": [
    {
     "name": "stdout",
     "output_type": "stream",
     "text": [
      "pressure : State pressure\n",
      "    Size=1, Index=None, Units=Pa\n",
      "    Key  : Lower    : Value    : Upper : Fixed : Stale : Domain\n",
      "    None : 100000.0 : 300000.0 :  None : False :  True : NonNegativeReals\n",
      "area : Membrane area\n",
      "    Size=1, Index=None, Units=m**2\n",
      "    Key  : Lower : Value : Upper  : Fixed : Stale : Domain\n",
      "    None :     0 :    50 : 1000.0 :  True :  True : NonNegativeReals\n",
      "rejection_observed_phase_comp : Size=5\n",
      "    Key                    : Value\n",
      "     (0.0, 'Liq', 'Ca_2+') : 0.8463798507962678\n",
      "      (0.0, 'Liq', 'Cl_-') : 0.6833627595220635\n",
      "    (0.0, 'Liq', 'HCO3_-') : 0.7783867642651772\n",
      "      (0.0, 'Liq', 'Na_+') : 0.6006872406444372\n",
      "    (0.0, 'Liq', 'SO4_2-') :  0.999973799282085\n",
      "rejection_intrinsic_phase_comp : Intrinsic solute rejection\n",
      "    Size=5, Index=fs._time*fs.properties.phase_list*fs.unit.solute_set, Units=dimensionless\n",
      "    Key                    : Lower  : Value              : Upper : Fixed : Stale : Domain\n",
      "     (0.0, 'Liq', 'Ca_2+') : -1.001 : 0.8830001436691827 : 1.001 : False :  True :  Reals\n",
      "      (0.0, 'Liq', 'Cl_-') : -1.001 : 0.7356893860201251 : 1.001 : False :  True :  Reals\n",
      "    (0.0, 'Liq', 'HCO3_-') : -1.001 :   0.83250894483892 : 1.001 : False :  True :  Reals\n",
      "      (0.0, 'Liq', 'Na_+') : -1.001 :  0.657419657647834 : 1.001 : False :  True :  Reals\n",
      "    (0.0, 'Liq', 'SO4_2-') : -1.001 : 0.9999823599124693 : 1.001 : False :  True :  Reals\n"
     ]
    }
   ],
   "source": [
    "m.fs.unit.inlet.pressure[0].display()\n",
    "m.fs.unit.area.display()\n",
    "m.fs.unit.rejection_observed_phase_comp.display()\n",
    "m.fs.unit.rejection_intrinsic_phase_comp.display()"
   ]
  },
  {
   "cell_type": "markdown",
   "metadata": {},
   "source": [
    "## Step 6: Setup a solver and run a simulation."
   ]
  },
  {
   "cell_type": "markdown",
   "metadata": {},
   "source": [
    "### The degrees of freedom should be 0 for a simulation.\n",
    "Check that degrees of freedom = 0 before attempting simulation. This means that the performance of the flowsheet is completely determined by the system variables that were fixed above."
   ]
  },
  {
   "cell_type": "code",
   "execution_count": 20,
   "metadata": {},
   "outputs": [
    {
     "name": "stdout",
     "output_type": "stream",
     "text": [
      "Degrees of freedom = 0\n"
     ]
    }
   ],
   "source": [
    "print(f\"Degrees of freedom = {degrees_of_freedom(m)}\")\n",
    "assert degrees_of_freedom(m) == 0"
   ]
  },
  {
   "cell_type": "markdown",
   "metadata": {},
   "source": [
    "### Setup solver"
   ]
  },
  {
   "cell_type": "code",
   "execution_count": 21,
   "metadata": {},
   "outputs": [],
   "source": [
    "solver = get_solver()"
   ]
  },
  {
   "cell_type": "markdown",
   "metadata": {},
   "source": [
    "### Run simulation\n"
   ]
  },
  {
   "cell_type": "code",
   "execution_count": 22,
   "metadata": {},
   "outputs": [],
   "source": [
    "simulation_results = solver.solve(m)\n",
    "assert_optimal_termination(simulation_results)"
   ]
  },
  {
   "cell_type": "markdown",
   "metadata": {
    "collapsed": true,
    "jupyter": {
     "outputs_hidden": true
    }
   },
   "source": [
    "### Display feed pressure, membrane area, rejection rates, and water flux after simulation."
   ]
  },
  {
   "cell_type": "code",
   "execution_count": 23,
   "metadata": {},
   "outputs": [
    {
     "name": "stdout",
     "output_type": "stream",
     "text": [
      "pressure : State pressure\n",
      "    Size=1, Index=None, Units=Pa\n",
      "    Key  : Lower    : Value    : Upper : Fixed : Stale : Domain\n",
      "    None : 100000.0 : 300000.0 :  None :  True :  True : NonNegativeReals\n",
      "area : Membrane area\n",
      "    Size=1, Index=None, Units=m**2\n",
      "    Key  : Lower : Value : Upper  : Fixed : Stale : Domain\n",
      "    None :     0 :    50 : 1000.0 :  True :  True : NonNegativeReals\n",
      "rejection_observed_phase_comp : Size=5\n",
      "    Key                    : Value\n",
      "     (0.0, 'Liq', 'Ca_2+') : 0.8463798230812926\n",
      "      (0.0, 'Liq', 'Cl_-') : 0.6833627785933696\n",
      "    (0.0, 'Liq', 'HCO3_-') : 0.7783867806041103\n",
      "      (0.0, 'Liq', 'Na_+') : 0.6006871957667969\n",
      "    (0.0, 'Liq', 'SO4_2-') : 0.9999731960766272\n",
      "rejection_intrinsic_phase_comp : Intrinsic solute rejection\n",
      "    Size=5, Index=fs._time*fs.properties.phase_list*fs.unit.solute_set, Units=dimensionless\n",
      "    Key                    : Lower  : Value              : Upper : Fixed : Stale : Domain\n",
      "     (0.0, 'Liq', 'Ca_2+') : -1.001 : 0.8830001226444372 : 1.001 : False : False :  Reals\n",
      "      (0.0, 'Liq', 'Cl_-') : -1.001 : 0.7356894066372407 : 1.001 : False : False :  Reals\n",
      "    (0.0, 'Liq', 'HCO3_-') : -1.001 : 0.8325089613255242 : 1.001 : False : False :  Reals\n",
      "      (0.0, 'Liq', 'Na_+') : -1.001 : 0.6574196158407102 : 1.001 : False : False :  Reals\n",
      "    (0.0, 'Liq', 'SO4_2-') : -1.001 : 0.9999819537890896 : 1.001 : False : False :  Reals\n",
      "\n",
      "Average volumetric water flux=5.754384803560669 LMH\n"
     ]
    }
   ],
   "source": [
    "m.fs.pump.outlet.pressure[0].display()\n",
    "m.fs.unit.area.display()\n",
    "m.fs.unit.rejection_observed_phase_comp.display()\n",
    "m.fs.unit.rejection_intrinsic_phase_comp.display()\n",
    "print(f\"\\nAverage volumetric water flux={value(pyunits.convert(m.fs.unit.flux_vol_water_avg[0],to_units=pyunits.L/pyunits.m**2/pyunits.hour))} LMH\")"
   ]
  },
  {
   "cell_type": "markdown",
   "metadata": {},
   "source": [
    "### Sweep across pressure and plot rejection rates "
   ]
  },
  {
   "cell_type": "code",
   "execution_count": 24,
   "metadata": {},
   "outputs": [],
   "source": [
    "import numpy as np\n",
    "area = []\n",
    "pressure = []\n",
    "ca_rej = []\n",
    "hco3_rej = []\n",
    "na_rej = []\n",
    "cl_rej = []\n",
    "so4_rej = []\n",
    "recovery = []\n",
    "water_flux = []\n",
    "\n",
    "\n",
    "m.fs.unit.area.setub(None)\n",
    "# for r in np.arange(0.05,1,.10):\n",
    "for p in np.arange(2e5,11e5,1e5):\n",
    "    m.fs.pump.outlet.pressure.fix(p)    \n",
    "    assert degrees_of_freedom(m)==0\n",
    "    optimization_results = solver.solve(m, tee=False)\n",
    "    try:\n",
    "        assert_optimal_termination(optimization_results)\n",
    "    except RuntimeError:\n",
    "        optimization_results = solver.solve(m, tee=False)\n",
    "        if not check_optimal_termination(optimization_results):\n",
    "            continue\n",
    "        else:\n",
    "            pass\n",
    "    area.append(value(m.fs.unit.area))\n",
    "    pressure.append(value(m.fs.unit.inlet.pressure[0]))\n",
    "    ca_rej.append(value(m.fs.unit.rejection_intrinsic_phase_comp[0,\"Liq\", \"Ca_2+\"]))\n",
    "    hco3_rej.append(value(m.fs.unit.rejection_intrinsic_phase_comp[0,\"Liq\", \"HCO3_-\"]))\n",
    "    na_rej.append(value(m.fs.unit.rejection_intrinsic_phase_comp[0,\"Liq\", \"Na_+\"]))\n",
    "    cl_rej.append(value(m.fs.unit.rejection_intrinsic_phase_comp[0,\"Liq\", \"Cl_-\"]))\n",
    "    so4_rej.append(value(m.fs.unit.rejection_intrinsic_phase_comp[0,\"Liq\", \"SO4_2-\"]))\n",
    "    recovery.append(value(m.fs.unit.recovery_vol_phase[0, \"Liq\"]))\n",
    "    water_flux.append(value(m.fs.unit.flux_vol_water_avg[0]*3.6e6))"
   ]
  },
  {
   "cell_type": "code",
   "execution_count": 25,
   "metadata": {},
   "outputs": [
    {
     "data": {
      "text/plain": [
       "Text(0, 0.5, 'Intrinsic Rejection (-)')"
      ]
     },
     "execution_count": 25,
     "metadata": {},
     "output_type": "execute_result"
    },
    {
     "data": {
      "image/png": "[encoded data removed]",
      "text/plain": [
       "<Figure size 640x480 with 1 Axes>"
      ]
     },
     "metadata": {},
     "output_type": "display_data"
    }
   ],
   "source": [
    "import matplotlib.pyplot as plt\n",
    "plt.plot(recovery,ca_rej,'-o')\n",
    "plt.plot(recovery,so4_rej,'-o')\n",
    "plt.plot(recovery,hco3_rej,'-o')\n",
    "plt.plot(recovery,na_rej,'-o')\n",
    "plt.plot(recovery,cl_rej,'-o')\n",
    "plt.legend(['Ca', 'SO4', 'HCO3', 'Na', 'Cl'])\n",
    "plt.xlabel(\"Recovery (-)\")\n",
    "plt.ylabel(\"Intrinsic Rejection (-)\")"
   ]
  },
  {
   "cell_type": "code",
   "execution_count": 26,
   "metadata": {},
   "outputs": [
    {
     "data": {
      "text/plain": [
       "Text(0, 0.5, 'Intrinsic Rejection (-)')"
      ]
     },
     "execution_count": 26,
     "metadata": {},
     "output_type": "execute_result"
    },
    {
     "data": {
      "image/png": "[encoded data removed]",
      "text/plain": [
       "<Figure size 640x480 with 1 Axes>"
      ]
     },
     "metadata": {},
     "output_type": "display_data"
    }
   ],
   "source": [
    "plt.plot(pressure,ca_rej,'-o')\n",
    "plt.plot(pressure,so4_rej,'-o')\n",
    "plt.plot(pressure,hco3_rej,'-o')\n",
    "plt.plot(pressure,na_rej,'-o')\n",
    "plt.plot(pressure,cl_rej,'-o')\n",
    "plt.legend(['Ca', 'SO4', 'HCO3', 'Na', 'Cl'])\n",
    "plt.xlabel(\"Pressure (Pa)\")\n",
    "plt.ylabel(\"Intrinsic Rejection (-)\")"
   ]
  },
  {
   "cell_type": "code",
   "execution_count": 27,
   "metadata": {},
   "outputs": [
    {
     "data": {
      "text/plain": [
       "Text(0, 0.5, 'Intrinsic Rejection (-)')"
      ]
     },
     "execution_count": 27,
     "metadata": {},
     "output_type": "execute_result"
    },
    {
     "data": {
      "image/png": "[encoded data removed]",
      "text/plain": [
       "<Figure size 640x480 with 1 Axes>"
      ]
     },
     "metadata": {},
     "output_type": "display_data"
    }
   ],
   "source": [
    "plt.plot(water_flux,ca_rej,'-o')\n",
    "plt.plot(water_flux,so4_rej,'-o')\n",
    "plt.plot(water_flux,hco3_rej,'-o')\n",
    "plt.plot(water_flux,na_rej,'-o')\n",
    "plt.plot(water_flux,cl_rej,'-o')\n",
    "plt.legend(['Ca', 'SO4', 'HCO3', 'Na', 'Cl'])\n",
    "plt.xlabel(\"Average Water Flux (LMH)\")\n",
    "plt.ylabel(\"Intrinsic Rejection (-)\")"
   ]
  },
  {
   "cell_type": "markdown",
   "metadata": {},
   "source": [
    "## Add costing to the flowsheet."
   ]
  },
  {
   "cell_type": "code",
   "execution_count": 28,
   "metadata": {},
   "outputs": [],
   "source": [
    "m.fs.costing = WaterTAPCosting()\n",
    "m.fs.pump.costing = UnitModelCostingBlock(flowsheet_costing_block=m.fs.costing)\n",
    "m.fs.unit.costing = UnitModelCostingBlock(flowsheet_costing_block=m.fs.costing)\n",
    "\n",
    "m.fs.costing.disposal_cost = Var(\n",
    "        initialize=0.1,\n",
    "        bounds=(0, None),\n",
    "        doc=\"disposal cost\",\n",
    "        units=pyunits.USD_2018 / pyunits.m**3,\n",
    "    )\n",
    "m.fs.costing.disposal_cost.fix()\n",
    "m.fs.costing.register_flow_type(\"disposal\", m.fs.costing.disposal_cost)\n",
    "m.fs.costing.cost_flow(m.fs.disposal.properties[0].flow_vol_phase[\"Liq\"], \"disposal\")\n",
    "m.fs.costing.base_currency = pyunits.USD_2018\n",
    "m.fs.costing.cost_process()\n",
    "    \n",
    "m.fs.costing.add_annual_water_production(m.fs.product.properties[0].flow_vol)\n",
    "m.fs.costing.add_LCOW(m.fs.product.properties[0].flow_vol)\n",
    "m.fs.costing.add_specific_energy_consumption(m.fs.product.properties[0].flow_vol)"
   ]
  },
  {
   "cell_type": "markdown",
   "metadata": {},
   "source": [
    "### Initialize the costing block"
   ]
  },
  {
   "cell_type": "code",
   "execution_count": 29,
   "metadata": {},
   "outputs": [],
   "source": [
    "m.fs.costing.initialize()"
   ]
  },
  {
   "cell_type": "markdown",
   "metadata": {},
   "source": [
    "### Run simulation with costing included"
   ]
  },
  {
   "cell_type": "code",
   "execution_count": 30,
   "metadata": {},
   "outputs": [],
   "source": [
    "simulation_with_cost_results=solver.solve(m)\n",
    "assert_optimal_termination(simulation_with_cost_results)"
   ]
  },
  {
   "cell_type": "markdown",
   "metadata": {},
   "source": [
    "### Check SEC and LCOW results without any optimization."
   ]
  },
  {
   "cell_type": "code",
   "execution_count": 31,
   "metadata": {},
   "outputs": [
    {
     "name": "stdout",
     "output_type": "stream",
     "text": [
      "_pressure_outlet_ref : Size=1, Index=fs._time, ReferenceTo=fs.pump.control_volume.properties_out[...].component('pressure')\n",
      "    Key : Lower    : Value     : Upper : Fixed : Stale : Domain\n",
      "    0.0 : 100000.0 : 1000000.0 :  None :  True :  True : NonNegativeReals\n",
      "area : Membrane area\n",
      "    Size=1, Index=None, Units=m**2\n",
      "    Key  : Lower : Value : Upper : Fixed : Stale : Domain\n",
      "    None :     0 :    50 :  None :  True :  True : NonNegativeReals\n",
      "rejection_observed_phase_comp : Size=5\n",
      "    Key                    : Value\n",
      "     (0.0, 'Liq', 'Ca_2+') :  0.5735099712137088\n",
      "      (0.0, 'Liq', 'Cl_-') : 0.48669303422993315\n",
      "    (0.0, 'Liq', 'HCO3_-') :  0.3595532350006798\n",
      "      (0.0, 'Liq', 'Na_+') : 0.48523094420881496\n",
      "    (0.0, 'Liq', 'SO4_2-') :  0.9979560399351302\n",
      "rejection_intrinsic_phase_comp : Intrinsic solute rejection\n",
      "    Size=5, Index=fs._time*fs.properties.phase_list*fs.unit.solute_set, Units=dimensionless\n",
      "    Key                    : Lower  : Value              : Upper : Fixed : Stale : Domain\n",
      "     (0.0, 'Liq', 'Ca_2+') : -1.001 : 0.9614245408472558 : 1.001 : False : False :  Reals\n",
      "      (0.0, 'Liq', 'Cl_-') : -1.001 : 0.7421345945612784 : 1.001 : False : False :  Reals\n",
      "    (0.0, 'Liq', 'HCO3_-') : -1.001 :  0.845897089051741 : 1.001 : False : False :  Reals\n",
      "      (0.0, 'Liq', 'Na_+') : -1.001 : 0.7989076142280105 : 1.001 : False : False :  Reals\n",
      "    (0.0, 'Liq', 'SO4_2-') : -1.001 : 0.9999546904357441 : 1.001 : False : False :  Reals\n",
      "\n",
      "Average volumetric water flux=17.872031176424155 LMH\n",
      "specific_energy_consumption : Size=1\n",
      "    Key  : Value\n",
      "    None : 1.3444516489709624\n",
      "LCOW : Size=1\n",
      "    Key  : Value\n",
      "    None : 0.5316151544048872\n"
     ]
    }
   ],
   "source": [
    "m.fs.pump.outlet.pressure.display()\n",
    "m.fs.unit.area.display()\n",
    "m.fs.unit.rejection_observed_phase_comp.display()\n",
    "m.fs.unit.rejection_intrinsic_phase_comp.display()\n",
    "print(f\"\\nAverage volumetric water flux={value(pyunits.convert(m.fs.unit.flux_vol_water_avg[0],to_units=pyunits.L/pyunits.m**2/pyunits.hour))} LMH\")\n",
    "m.fs.costing.specific_energy_consumption.display()\n",
    "m.fs.costing.LCOW.display()"
   ]
  },
  {
   "cell_type": "markdown",
   "metadata": {},
   "source": [
    "## Step 7: Unfix variables, set variable bounds, and run optimization."
   ]
  },
  {
   "cell_type": "markdown",
   "metadata": {},
   "source": [
    "### Unfix membrane area, feed pressure, and inlet velocity.\n"
   ]
  },
  {
   "cell_type": "code",
   "execution_count": 32,
   "metadata": {},
   "outputs": [],
   "source": [
    "m.fs.unit.area.unfix()                   # membrane area (m^2)\n",
    "m.fs.pump.outlet.pressure[0].unfix()     # feed pressure (Pa)"
   ]
  },
  {
   "cell_type": "markdown",
   "metadata": {},
   "source": [
    "### Set lower and upper bounds for membrane area; set upper bound for NF inlet pressure.\n",
    "\n"
   ]
  },
  {
   "cell_type": "code",
   "execution_count": 33,
   "metadata": {},
   "outputs": [],
   "source": [
    "m.fs.unit.area.setlb(1)\n",
    "m.fs.unit.area.setub(None)\n",
    "m.fs.unit.inlet.pressure[0].setub(40e5)"
   ]
  },
  {
   "cell_type": "markdown",
   "metadata": {},
   "source": [
    "### Define objective function to minimize the specific energy consumption.\n"
   ]
  },
  {
   "cell_type": "code",
   "execution_count": 34,
   "metadata": {},
   "outputs": [],
   "source": [
    "m.fs.sec_objective = Objective(expr=m.fs.costing.specific_energy_consumption)"
   ]
  },
  {
   "cell_type": "markdown",
   "metadata": {},
   "source": [
    "### Add a constraint limiting the maximum hardness of the permeate."
   ]
  },
  {
   "cell_type": "code",
   "execution_count": 35,
   "metadata": {},
   "outputs": [],
   "source": [
    "m.fs.max_hardness = Var(\n",
    "        initialize=250,\n",
    "        domain=NonNegativeReals,\n",
    "        units=pyunits.mg / pyunits.L,\n",
    "        doc=\"Maximum total hardness as CaCO3\",\n",
    "    )\n",
    "m.fs.max_hardness.fix(0.5*value(m.fs.feed.properties[0].total_hardness))\n",
    "\n",
    "m.fs.max_hardness_constraint = Constraint(expr=m.fs.unit.mixed_permeate[0].total_hardness \n",
    "                               <= m.fs.max_hardness)\n",
    "# Scale the new constraint\n",
    "set_scaling_factor(m.fs.unit.mixed_permeate[0].total_hardness , 1/value(m.fs.unit.mixed_permeate[0].total_hardness) )\n",
    "set_scaling_factor(m.fs.max_hardness , 1/value(m.fs.max_hardness) )\n",
    "constraint_scaling_transform(m.fs.max_hardness_constraint,  1/value(m.fs.max_hardness))"
   ]
  },
  {
   "cell_type": "markdown",
   "metadata": {},
   "source": [
    "### The solver will optimize membrane area, inlet pressure, and recovery rate, while minimizing specific energy consumption. Let's check the degrees of freedom."
   ]
  },
  {
   "cell_type": "code",
   "execution_count": 36,
   "metadata": {},
   "outputs": [
    {
     "name": "stdout",
     "output_type": "stream",
     "text": [
      "2\n"
     ]
    }
   ],
   "source": [
    "print(degrees_of_freedom(m))"
   ]
  },
  {
   "cell_type": "markdown",
   "metadata": {},
   "source": [
    "### Solve the model, optimizing with 2 degrees of freedom"
   ]
  },
  {
   "cell_type": "code",
   "execution_count": 37,
   "metadata": {},
   "outputs": [
    {
     "name": "stdout",
     "output_type": "stream",
     "text": [
      "ipopt-watertap: ipopt with user variable scaling and IDAES jacobian constraint scaling\n",
      "Ipopt 3.13.2: tol=1e-08\n",
      "constr_viol_tol=1e-08\n",
      "acceptable_constr_viol_tol=1e-08\n",
      "bound_relax_factor=0.0\n",
      "honor_original_bounds=no\n",
      "nlp_scaling_method=user-scaling\n",
      "\n",
      "\n",
      "******************************************************************************\n",
      "This program contains Ipopt, a library for large-scale nonlinear optimization.\n",
      " Ipopt is released as open source code under the Eclipse Public License (EPL).\n",
      "         For more information visit http://projects.coin-or.org/Ipopt\n",
      "\n",
      "This version of Ipopt was compiled from source code available at\n",
      "    https://github.com/IDAES/Ipopt as part of the Institute for the Design of\n",
      "    Advanced Energy Systems Process Systems Engineering Framework (IDAES PSE\n",
      "    Framework) Copyright (c) 2018-2019. See https://github.com/IDAES/idaes-pse.\n",
      "\n",
      "This version of Ipopt was compiled using HSL, a collection of Fortran codes\n",
      "    for large-scale scientific computation.  All technical papers, sales and\n",
      "    publicity material resulting from use of the HSL codes within IPOPT must\n",
      "    contain the following acknowledgement:\n",
      "        HSL, a collection of Fortran codes for large-scale scientific\n",
      "        computation. See http://www.hsl.rl.ac.uk.\n",
      "******************************************************************************\n",
      "\n",
      "This is Ipopt version 3.13.2, running with linear solver ma27.\n",
      "\n",
      "Number of nonzeros in equality constraint Jacobian...:     2184\n",
      "Number of nonzeros in inequality constraint Jacobian.:        1\n",
      "Number of nonzeros in Lagrangian Hessian.............:     1001\n",
      "\n",
      "Total number of variables............................:      619\n",
      "                     variables with only lower bounds:      386\n",
      "                variables with lower and upper bounds:      205\n",
      "                     variables with only upper bounds:        0\n",
      "Total number of equality constraints.................:      617\n",
      "Total number of inequality constraints...............:        1\n",
      "        inequality constraints with only lower bounds:        0\n",
      "   inequality constraints with lower and upper bounds:        0\n",
      "        inequality constraints with only upper bounds:        1\n",
      "\n",
      "iter    objective    inf_pr   inf_du lg(mu)  ||d||  lg(rg) alpha_du alpha_pr  ls\n",
      "   0  1.3444516e+00 1.06e+05 6.37e+00  -1.0 0.00e+00    -  0.00e+00 0.00e+00   0\n",
      "   1  1.3164139e+00 1.57e+03 5.33e+01  -1.0 4.35e+01    -  9.21e-01 9.77e-01h  1\n",
      "   2  1.2600962e+00 2.26e+02 2.85e+02  -1.0 3.16e+02    -  7.66e-01 6.72e-01h  1\n",
      "   3  1.2190964e+00 1.97e+02 5.77e+04  -1.0 1.31e+03    -  6.99e-01 1.27e-01f  3\n",
      "   4  1.1996972e+00 1.92e+02 1.31e+05  -1.0 3.46e+03    -  6.82e-01 2.23e-02f  4\n",
      "   5  1.1708045e+00 1.88e+02 3.11e+05  -1.0 3.28e+03    -  8.75e-01 2.39e-02f  4\n",
      "   6  1.1001477e+00 1.71e+02 9.71e+05  -1.0 1.46e+03    -  1.00e+00 8.77e-02f  3\n",
      "   7  1.0238786e+00 1.40e+02 2.69e+06  -1.0 9.88e+02    -  1.00e+00 1.70e-01h  2\n",
      "   8  1.0131542e+00 8.73e+01 6.50e+06  -1.0 4.76e+02    -  1.00e+00 3.32e-01h  1\n",
      "   9  1.0712600e+00 8.06e+01 4.27e+07  -1.0 1.35e+03    -  1.00e+00 7.64e-02h  4\n",
      "iter    objective    inf_pr   inf_du lg(mu)  ||d||  lg(rg) alpha_du alpha_pr  ls\n",
      "  10  1.1381684e+00 7.43e+01 6.43e+07  -1.0 1.40e+03    -  1.00e+00 7.78e-02h  4\n",
      "  11  1.1729387e+00 7.14e+01 9.50e+07  -1.0 1.37e+03    -  1.00e+00 3.84e-02h  5\n",
      "  12  1.2087975e+00 6.86e+01 1.23e+08  -1.0 1.35e+03    -  1.00e+00 3.82e-02h  5\n",
      "  13  1.2178541e+00 6.80e+01 1.64e+08  -1.0 1.32e+03    -  1.00e+00 9.50e-03h  7\n",
      "  14  1.2269642e+00 6.73e+01 2.06e+08  -1.0 1.31e+03    -  1.00e+00 9.50e-03h  7\n",
      "  15  1.2361192e+00 6.67e+01 2.66e+08  -1.0 1.29e+03    -  1.00e+00 9.51e-03h  7\n",
      "  16  1.2453130e+00 6.61e+01 3.52e+08  -1.0 1.28e+03    -  1.00e+00 9.53e-03h  7\n",
      "  17  1.2545419e+00 6.54e+01 4.80e+08  -1.0 1.26e+03    -  1.00e+00 9.54e-03h  7\n",
      "  18  1.2638048e+00 6.48e+01 6.76e+08  -1.0 1.25e+03    -  1.00e+00 9.56e-03h  7\n",
      "  19  2.2110554e+00 2.15e+01 1.27e+09  -1.0 1.23e+03    -  1.00e+00 6.13e-01w  1\n",
      "iter    objective    inf_pr   inf_du lg(mu)  ||d||  lg(rg) alpha_du alpha_pr  ls\n",
      "  20  3.9624387e+00 8.96e+00 3.63e+09  -1.0 8.37e+02    -  1.00e+00 5.51e-01w  1\n",
      "  21  5.7375975e+00 4.12e+00 8.38e+09  -1.0 3.28e+02    -  1.00e+00 5.29e-01w  1\n",
      "  22  1.2731029e+00 6.42e+01 9.81e+08  -1.0 1.66e+02    -  1.00e+00 9.58e-03h  6\n",
      "  23  1.2824389e+00 6.36e+01 1.46e+09  -1.0 1.22e+03    -  1.00e+00 9.59e-03h  7\n",
      "  24  1.2918169e+00 6.30e+01 2.21e+09  -1.0 1.21e+03    -  1.00e+00 9.60e-03h  7\n",
      "  25  1.3107765e+00 6.18e+01 3.36e+09  -1.0 1.20e+03    -  1.00e+00 1.92e-02h  6\n",
      "  26  1.3299853e+00 6.06e+01 5.22e+09  -1.0 1.18e+03    -  1.00e+00 1.92e-02h  6\n",
      "  27  1.3494327e+00 5.94e+01 8.21e+09  -1.0 1.17e+03    -  1.00e+00 1.92e-02h  6\n",
      "  28  1.3691267e+00 5.83e+01 1.30e+10  -1.0 1.15e+03    -  1.00e+00 1.92e-02h  6\n",
      "  29  1.3890741e+00 5.71e+01 2.08e+10  -1.0 1.14e+03    -  1.00e+00 1.91e-02h  6\n",
      "iter    objective    inf_pr   inf_du lg(mu)  ||d||  lg(rg) alpha_du alpha_pr  ls\n",
      "  30  1.4092807e+00 5.60e+01 3.33e+10  -1.0 1.13e+03    -  1.00e+00 1.91e-02h  6\n",
      "  31  1.4297516e+00 5.50e+01 5.36e+10  -1.0 1.11e+03    -  1.00e+00 1.91e-02h  6\n",
      "  32  2.4842886e+00 1.87e+01 1.25e+11  -1.0 1.10e+03    -  1.00e+00 6.11e-01w  1\n",
      "  33  4.3736520e+00 7.68e+00 1.88e+11  -1.0 7.22e+02    -  9.20e-01 5.61e-01w  1\n",
      "  34  5.8604814e+00 4.17e+00 1.72e+11  -1.0 2.91e+02    -  1.00e+00 4.50e-01w  1\n",
      "  35  1.4504911e+00 5.39e+01 8.66e+10  -1.0 1.52e+02    -  1.00e+00 1.91e-02h  5\n",
      "  36  1.4715032e+00 5.29e+01 1.40e+11  -1.0 1.09e+03    -  1.00e+00 1.91e-02h  6\n",
      "  37  1.4927914e+00 5.19e+01 2.28e+11  -1.0 1.08e+03    -  1.00e+00 1.90e-02h  6\n",
      "  38  1.5143591e+00 5.09e+01 3.70e+11  -1.0 1.06e+03    -  1.00e+00 1.90e-02h  6\n",
      "  39  1.5362094e+00 4.99e+01 6.03e+11  -1.0 1.05e+03    -  1.00e+00 1.90e-02h  6\n",
      "iter    objective    inf_pr   inf_du lg(mu)  ||d||  lg(rg) alpha_du alpha_pr  ls\n",
      "  40  1.5583388e+00 4.90e+01 9.85e+11  -1.0 1.04e+03    -  1.00e+00 1.90e-02h  6\n",
      "  41  1.5807485e+00 4.80e+01 1.61e+12  -1.0 1.03e+03    -  1.00e+00 1.89e-02h  6\n",
      "  42  1.6034434e+00 4.71e+01 2.63e+12  -1.0 1.01e+03    -  1.00e+00 1.89e-02h  6\n",
      "  43  1.6264277e+00 4.62e+01 4.31e+12  -1.0 1.00e+03    -  1.00e+00 1.89e-02h  6\n",
      "  44  1.6497052e+00 4.54e+01 7.06e+12  -1.0 9.91e+02    -  1.00e+00 1.89e-02h  6\n",
      "  45  2.8597230e+00 1.60e+01 1.91e+13  -1.0 9.78e+02    -  1.00e+00 6.03e-01w  1\n",
      "  46  4.9275221e+00 6.43e+00 2.54e+13  -1.0 5.99e+02    -  9.04e-01 5.74e-01w  1\n",
      "  47  6.9736264e+00 2.62e+00 2.25e+13  -1.0 2.34e+02    -  1.00e+00 5.83e-01w  1\n",
      "  48  1.6732794e+00 4.45e+01 1.16e+13  -1.0 7.21e+01    -  1.00e+00 1.89e-02h  5\n",
      "  49  1.6971536e+00 4.37e+01 1.90e+13  -1.0 9.66e+02    -  1.00e+00 1.88e-02h  6\n",
      "iter    objective    inf_pr   inf_du lg(mu)  ||d||  lg(rg) alpha_du alpha_pr  ls\n",
      "  50  1.7213310e+00 4.28e+01 3.13e+13  -1.0 9.54e+02    -  1.00e+00 1.88e-02h  6\n",
      "  51  1.7458143e+00 4.20e+01 5.14e+13  -1.0 9.43e+02    -  1.00e+00 1.88e-02h  6\n",
      "  52  1.7706066e+00 4.12e+01 8.46e+13  -1.0 9.31e+02    -  1.00e+00 1.88e-02h  6\n",
      "  53  1.7957105e+00 4.05e+01 1.39e+14  -1.0 9.19e+02    -  1.00e+00 1.88e-02h  6\n",
      "  54  1.8211287e+00 3.97e+01 2.29e+14  -1.0 9.07e+02    -  1.00e+00 1.88e-02h  6\n",
      "  55  1.8468639e+00 3.90e+01 3.78e+14  -1.0 8.95e+02    -  1.00e+00 1.88e-02h  6\n",
      "  56  1.8729186e+00 3.82e+01 6.23e+14  -1.0 8.83e+02    -  1.00e+00 1.88e-02h  6\n",
      "  57  1.8992953e+00 3.75e+01 1.03e+15  -1.0 8.72e+02    -  1.00e+00 1.88e-02h  6\n",
      "  58  3.2771712e+00 1.36e+01 3.18e+15  -1.0 8.60e+02    -  1.00e+00 6.00e-01w  1\n",
      "  59  5.4989109e+00 5.28e+00 3.79e+15  -1.0 4.93e+02    -  8.99e-01 5.90e-01w  1\n",
      "iter    objective    inf_pr   inf_du lg(mu)  ||d||  lg(rg) alpha_du alpha_pr  ls\n",
      "  60  7.5201119e+00 1.95e+00 2.91e+15  -1.0 1.81e+02    -  1.00e+00 6.21e-01w  1\n",
      "  61  1.9259964e+00 3.68e+01 1.69e+15  -1.0 3.44e+01    -  1.00e+00 1.88e-02h  5\n",
      "  62  1.9530243e+00 3.61e+01 2.79e+15  -1.0 8.49e+02    -  1.00e+00 1.88e-02h  6\n",
      "  63  1.9803814e+00 3.54e+01 4.61e+15  -1.0 8.37e+02    -  1.00e+00 1.88e-02h  6\n",
      "  64  2.0080700e+00 3.48e+01 7.61e+15  -1.0 8.26e+02    -  1.00e+00 1.88e-02h  6\n",
      "  65  2.0360924e+00 3.41e+01 1.26e+16  -1.0 8.15e+02    -  1.00e+00 1.87e-02h  6\n",
      "  66  2.0644507e+00 3.35e+01 2.07e+16  -1.0 8.03e+02    -  1.00e+00 1.87e-02h  6\n",
      "  67  2.0931472e+00 3.28e+01 3.42e+16  -1.0 7.92e+02    -  1.00e+00 1.88e-02h  6\n",
      "  68  2.1221839e+00 3.22e+01 5.64e+16  -1.0 7.81e+02    -  1.00e+00 1.88e-02h  6\n",
      "  69  2.1516533e+00 3.16e+01 9.05e+16  -1.0 7.73e+02    -  1.00e+00 1.87e-02h  6\n",
      "iter    objective    inf_pr   inf_du lg(mu)  ||d||  lg(rg) alpha_du alpha_pr  ls\n",
      "  70  2.1822263e+00 3.10e+01 9.44e+16  -1.0 8.00e+02    -  1.00e+00 1.84e-02h  6\n",
      "  71  3.8155492e+00 1.18e+01 2.16e+17  -1.0 7.90e+02    -  1.00e+00 5.88e-01w  1\n",
      "  72  6.3190879e+00 4.54e+00 2.44e+17  -1.0 4.12e+02    -  8.96e-01 5.96e-01w  1\n",
      "  73  8.3000625e+00 1.52e+00 1.54e+17  -1.0 1.32e+02    -  1.00e+00 6.58e-01w  1\n",
      "  74  2.2131908e+00 3.05e+01 9.61e+16  -1.0 1.21e+01    -  1.00e+00 1.84e-02h  5\n",
      "  75  2.2445189e+00 2.99e+01 9.78e+16  -1.0 7.77e+02    -  1.00e+00 1.84e-02h  6\n",
      "  76  2.2762115e+00 2.94e+01 9.96e+16  -1.0 7.65e+02    -  1.00e+00 1.84e-02h  6\n",
      "  77  2.3082703e+00 2.88e+01 1.01e+17  -1.0 7.53e+02    -  1.00e+00 1.84e-02h  6\n",
      "  78  2.3406971e+00 2.83e+01 1.03e+17  -1.0 7.41e+02    -  1.00e+00 1.84e-02h  6\n",
      "  79  2.3734936e+00 2.78e+01 1.05e+17  -1.0 7.30e+02    -  1.00e+00 1.84e-02h  6\n",
      "iter    objective    inf_pr   inf_du lg(mu)  ||d||  lg(rg) alpha_du alpha_pr  ls\n",
      "  80  2.4406767e+00 2.67e+01 1.05e+17  -1.0 7.18e+02    -  1.00e+00 3.69e-02h  5\n",
      "  81  2.5093548e+00 2.57e+01 1.10e+17  -1.0 6.95e+02    -  1.00e+00 3.70e-02h  5\n",
      "  82  2.5795602e+00 2.48e+01 1.14e+17  -1.0 6.72e+02    -  1.00e+00 3.71e-02h  5\n",
      "  83  2.6513033e+00 2.39e+01 1.19e+17  -1.0 6.50e+02    -  1.00e+00 3.71e-02h  5\n",
      "  84  4.5380632e+00 9.01e+00 3.79e+17  -1.0 6.29e+02    -  1.00e+00 5.95e-01w  1\n",
      "  85  7.1688205e+00 3.25e+00 4.00e+17  -1.0 3.08e+02    -  9.14e-01 6.25e-01w  1\n",
      "  86  8.7655734e+00 8.51e-01 1.78e+17  -1.0 7.99e+01    -  1.00e+00 7.30e-01w  1\n",
      "  87  8.3002777e+00 5.55e-01 1.24e+17  -1.0 4.66e+01    -  5.21e-01 3.46e-01h  1\n",
      "  88  8.2844841e+00 5.52e-01 1.24e+17  -1.0 9.37e+01    -  5.03e-01 6.05e-03h  1\n",
      "  89  7.5748425e+00 4.64e-01 1.61e+17  -1.0 1.78e+02    -  6.34e-01 1.58e-01f  1\n",
      "iter    objective    inf_pr   inf_du lg(mu)  ||d||  lg(rg) alpha_du alpha_pr  ls\n",
      "  90  7.5678490e+00 4.64e-01 2.23e+17  -1.0 1.88e+02    -  6.57e-01 1.61e-03h  1\n",
      "  91  7.5188366e+00 4.28e-01 2.14e+17  -1.0 2.84e+01    -  1.77e-01 7.64e-02h  1\n",
      "  92  7.2547095e+00 2.84e-01 1.44e+17  -1.0 3.61e+01    -  2.45e-01 3.35e-01h  1\n",
      "In iteration 92, 2 Slacks too small, adjusting variable bounds\n",
      "  93  5.8663236e+00 1.17e-02 2.22e+17  -1.0 8.05e+01    -  5.61e-01 9.90e-01f  1\n",
      "  94  4.9641413e+00 2.23e-02 8.37e+17  -1.0 1.19e+05    -  1.59e-04 6.30e-04f  6\n",
      "  95  4.8646418e+00 2.25e-02 1.04e+18  -1.0 1.58e+04    -  8.49e-06 6.28e-04f  9\n",
      "  96  4.9691242e+00 2.27e-02 1.04e+18  -1.0 2.24e+04    -  4.67e-04 4.67e-04s 17\n",
      "  97  5.2066413e+00 2.36e-02 1.04e+18  -1.0 2.25e+04    -  9.88e-04 9.88e-04s 17\n",
      "  98  1.7393691e+01 4.43e-01 1.03e+18  -1.0 2.27e+04    -  1.47e-02 1.47e-02s 17\n",
      "  99  1.8989702e+01 4.43e-01 1.03e+18  -1.0 2.31e+04    -  5.18e-04 5.18e-04s 17\n",
      "iter    objective    inf_pr   inf_du lg(mu)  ||d||  lg(rg) alpha_du alpha_pr  ls\n",
      " 100r 1.8989702e+01 4.43e-01 1.00e+03  -0.4 0.00e+00    -  0.00e+00 0.00e+00R  1\n",
      " 101r 1.9053989e+01 9.44e+00 1.49e+04  -0.4 4.43e+02    -  1.30e-02 9.91e-04f  1\n",
      " 102r 1.9424176e+01 1.92e+01 2.21e+04  -0.4 5.36e+01    -  2.10e-01 1.42e-02f  1\n",
      " 103r 1.8762000e+01 4.58e+01 1.92e+04  -0.4 2.96e+01    -  1.74e-01 2.28e-01f  1\n",
      " 104  1.9190368e+01 1.07e+00 2.16e+04  -1.0 2.49e+02    -  9.72e-01 8.48e-01H  1\n",
      " 105  1.1856016e+01 2.28e-01 1.22e+06  -1.0 1.06e+02    -  6.06e-01 9.57e-01F  1\n",
      " 106  9.4422743e+00 1.76e+00 6.32e+07  -1.0 6.99e+02    -  5.07e-01 1.81e-01f  2\n",
      " 107  4.7145240e+00 4.60e+00 1.30e+07  -1.0 2.75e+02    -  9.92e-01 9.36e-01f  1\n",
      " 108  2.3862372e+00 2.12e+00 2.08e+08  -1.0 4.82e+02    -  6.98e-01 9.91e-01f  1\n",
      " 109  2.0846099e+00 2.04e+00 2.34e+08  -1.0 2.33e+03    -  6.81e-01 6.02e-02f  1\n",
      "iter    objective    inf_pr   inf_du lg(mu)  ||d||  lg(rg) alpha_du alpha_pr  ls\n",
      " 110  4.5033077e-01 3.96e+01 6.98e+09  -1.0 3.06e+03    -  4.27e-01 9.70e-01f  1\n",
      " 111  5.0156092e-01 1.02e+01 1.66e+10  -1.0 2.31e+02  -4.0 7.74e-01 8.92e-01h  1\n",
      " 112  4.9172147e-01 2.29e-01 3.17e+10  -1.0 1.12e+02    -  6.30e-01 9.85e-01h  1\n",
      " 113  5.2789028e-01 3.17e-01 4.18e+09  -1.0 2.26e+02    -  1.00e+00 1.00e+00h  1\n",
      " 114  5.4758125e-01 4.52e-02 3.85e+08  -1.0 1.23e+02    -  1.00e+00 1.00e+00h  1\n",
      " 115  5.4555688e-01 5.52e-04 3.35e+06  -1.0 1.32e+01    -  1.00e+00 1.00e+00h  1\n",
      " 116  5.4554122e-01 3.98e-08 2.20e+02  -1.0 1.08e-01    -  1.00e+00 1.00e+00h  1\n",
      " 117  5.2309865e-01 6.79e-02 1.10e+09  -5.7 1.39e+02    -  9.44e-01 1.00e+00f  1\n",
      " 118  3.8361784e-01 5.34e+00 6.39e+08  -5.7 1.08e+03    -  7.19e-01 1.00e+00h  1\n",
      " 119  2.5739953e-01 3.11e+01 6.58e+08  -5.7 1.96e+03    -  6.34e-01 8.48e-01h  1\n",
      "iter    objective    inf_pr   inf_du lg(mu)  ||d||  lg(rg) alpha_du alpha_pr  ls\n",
      " 120  2.0270298e-01 6.22e+01 6.30e+10  -5.7 4.62e+03    -  4.20e-01 2.98e-01h  1\n",
      " 121  1.3859498e-01 2.81e+02 1.52e+11  -5.7 4.83e+03    -  7.86e-02 5.88e-01h  1\n",
      " 122  1.3862317e-01 2.80e+02 1.51e+11  -5.7 1.96e+02  -4.5 2.42e-06 1.36e-03h  1\n",
      " 123  1.2561704e-01 2.91e+02 1.51e+11  -5.7 3.16e+05    -  9.77e-04 3.73e-03h  1\n",
      " 124r 1.2561704e-01 2.91e+02 1.00e+03   1.3 0.00e+00  -5.0 0.00e+00 1.15e-09R  7\n",
      " 125r 1.2561667e-01 2.91e+02 1.00e+03   1.3 1.91e+07    -  3.64e-10 5.20e-09f  1\n",
      " 126r 1.2565710e-01 3.76e+02 3.71e+05   0.6 1.23e+02   2.0 5.98e-05 1.20e-03f  1\n",
      " 127r 1.2614536e-01 3.64e+02 1.82e+06   0.6 3.00e+01   1.5 8.92e-03 2.30e-02f  1\n",
      " 128r 1.2617658e-01 3.57e+02 1.84e+06   0.6 8.96e+01   1.0 4.66e-02 1.28e-02f  1\n",
      " 129r 1.2615707e-01 3.56e+02 1.93e+06   0.6 1.75e+04    -  9.07e-03 1.15e-03f  1\n",
      "iter    objective    inf_pr   inf_du lg(mu)  ||d||  lg(rg) alpha_du alpha_pr  ls\n",
      " 130  1.2686528e-01 3.41e+02 5.17e+02  -5.7 3.44e+02    -  4.90e-02 4.32e-02h  1\n",
      " 131  1.2685428e-01 3.41e+02 5.17e+02  -5.7 8.34e+03    -  1.84e-02 8.01e-05h  1\n",
      " 132  1.1392798e-01 3.14e+02 5.28e+05  -5.7 8.91e+03    -  3.89e-02 8.57e-02h  1\n",
      " 133  1.1303288e-01 3.02e+02 5.29e+05  -5.7 3.74e+03    -  1.18e-06 3.61e-02h  1\n",
      " 134r 1.1303288e-01 3.02e+02 9.99e+02   0.8 0.00e+00    -  0.00e+00 1.05e-07R  2\n",
      " 135r 1.1303787e-01 3.03e+02 4.33e+05   0.8 1.13e+05    -  1.75e-06 1.45e-06f  1\n",
      " 136r 1.1338376e-01 3.10e+02 4.46e+05   0.8 5.94e+03    -  2.62e-04 9.97e-04f  1\n",
      " 137  1.1338353e-01 3.10e+02 2.55e+03  -5.7 2.05e+03    -  2.36e-01 9.24e-05h  1\n",
      " 138  1.1297961e-01 3.02e+02 5.49e+03  -5.7 4.01e+03    -  2.67e-01 2.54e-02h  1\n",
      " 139  1.1297718e-01 3.02e+02 4.35e+05  -5.7 7.21e+03    -  3.38e-01 7.29e-05h  1\n",
      "iter    objective    inf_pr   inf_du lg(mu)  ||d||  lg(rg) alpha_du alpha_pr  ls\n",
      " 140  1.0321077e-01 2.23e+02 3.54e+05  -5.7 7.21e+03    -  3.45e-01 2.64e-01h  1\n",
      " 141  1.0335898e-01 2.22e+02 2.17e+05  -5.7 2.68e+03    -  2.43e-06 5.79e-03H  1\n",
      " 142  1.0362468e-01 2.20e+02 2.15e+05  -5.7 2.84e+03    -  6.40e-02 6.16e-03H  1\n",
      " 143  1.1050805e-01 1.65e+02 4.70e+05  -5.7 2.84e+03    -  1.44e-07 2.28e-01h  2\n",
      " 144  1.2382253e-01 4.58e+01 3.22e+05  -5.7 2.28e+03    -  1.54e-02 5.23e-01h  1\n",
      " 145  1.3245062e-01 2.83e+01 1.86e+05  -5.7 5.37e+02    -  4.00e-01 5.59e-01h  1\n",
      " 146  1.3789426e-01 1.42e+01 3.29e+06  -5.7 4.38e+01    -  7.52e-01 9.32e-01h  1\n",
      " 147  1.3225271e-01 4.19e+01 3.84e+08  -5.7 9.03e+02    -  5.51e-02 3.74e-01h  1\n",
      " 148  1.3386849e-01 1.70e+01 4.77e+10  -5.7 1.57e+02    -  2.63e-05 9.25e-01h  1\n",
      " 149  1.3418671e-01 1.40e+00 2.69e+10  -5.7 8.22e+00    -  9.76e-01 9.46e-01h  1\n",
      "iter    objective    inf_pr   inf_du lg(mu)  ||d||  lg(rg) alpha_du alpha_pr  ls\n",
      " 150  1.3331413e-01 1.79e+00 2.57e+10  -5.7 3.08e+02    -  9.71e-01 1.00e+00h  1\n",
      " 151  1.3345364e-01 7.40e-03 7.30e+08  -5.7 1.91e+00  -5.4 9.98e-01 1.00e+00h  1\n",
      " 152  9.3324841e-02 2.75e+01 4.25e+09  -5.7 7.09e+03    -  5.41e-01 1.00e+00f  1\n",
      " 153  9.6805089e-02 2.48e+00 3.26e+08  -5.7 3.00e+01  -5.9 9.03e-01 1.00e+00h  1\n",
      " 154  8.2168916e-02 1.01e+01 2.70e+08  -5.7 8.40e+03    -  3.71e-01 6.12e-01h  1\n",
      " 155  7.6518994e-02 1.13e+01 2.90e+07  -5.7 1.16e+04    -  4.72e-01 2.31e-01h  1\n",
      " 156  7.7214119e-02 1.17e+01 8.18e+07  -5.7 9.19e+03    -  3.77e-05 4.34e-02h  2\n",
      " 157  7.4335540e-02 1.43e+01 7.46e+07  -5.7 2.17e+04    -  4.63e-01 8.00e-02h  1\n",
      " 158  7.1984615e-02 1.48e+01 1.11e+10  -5.7 2.10e+04    -  5.44e-06 7.75e-02h  1\n",
      " 159  7.1995243e-02 1.48e+01 1.11e+10  -5.7 1.23e+06    -  4.90e-03 5.65e-06f  4\n",
      "iter    objective    inf_pr   inf_du lg(mu)  ||d||  lg(rg) alpha_du alpha_pr  ls\n",
      " 160  6.6279282e-02 2.69e+01 5.97e+09  -5.7 9.53e+03    -  1.00e+00 4.63e-01h  1\n",
      " 161  6.5790053e-02 3.37e+01 2.27e+12  -5.7 4.57e+03    -  6.48e-05 6.02e-01h  1\n",
      " 162  6.5991971e-02 3.35e+01 2.25e+12  -5.7 1.41e+04    -  5.82e-04 7.81e-03h  8\n",
      " 163  9.6336927e-02 4.38e+00 2.50e+10  -5.7 1.14e+04    -  9.41e-03 1.00e+00h  1\n",
      " 164  8.7210140e-02 1.92e+00 7.84e+09  -5.7 2.65e+03    -  6.48e-01 1.00e+00h  1\n",
      " 165  7.9155354e-02 7.94e-01 1.21e+09  -5.7 2.43e+03    -  1.00e+00 1.00e+00h  1\n",
      " 166  7.3860070e-02 2.37e+00 2.16e+08  -5.7 1.79e+03    -  1.00e+00 1.00e+00h  1\n",
      " 167  7.2839729e-02 2.16e+00 6.02e+07  -5.7 3.18e+02    -  1.00e+00 1.00e+00h  1\n",
      " 168  7.3156297e-02 3.69e-01 7.59e+06  -5.7 4.61e+02    -  1.00e+00 1.00e+00h  1\n",
      " 169  7.3231980e-02 8.25e-03 1.65e+05  -5.7 7.14e+01    -  1.00e+00 1.00e+00h  1\n",
      "iter    objective    inf_pr   inf_du lg(mu)  ||d||  lg(rg) alpha_du alpha_pr  ls\n",
      " 170  7.3233949e-02 4.68e-06 9.07e+01  -5.7 1.74e+00    -  1.00e+00 1.00e+00h  1\n",
      " 171  7.3233950e-02 3.64e-12 2.95e-05  -5.7 9.77e-04    -  1.00e+00 1.00e+00h  1\n",
      " 172  7.3231359e-02 1.70e-03 3.94e+04  -9.0 1.66e+01    -  9.96e-01 1.00e+00h  1\n",
      " 173  7.3231735e-02 1.23e-08 5.84e-02  -9.0 2.20e-01    -  1.00e+00 1.00e+00h  1\n",
      " 174  7.3231735e-02 7.28e-12 5.34e-10  -9.0 1.24e-06    -  1.00e+00 1.00e+00h  1\n",
      "\n",
      "Number of Iterations....: 174\n",
      "\n",
      "                                   (scaled)                 (unscaled)\n",
      "Objective...............:   7.3231735279534846e-02    7.3231735279534846e-02\n",
      "Dual infeasibility......:   5.3353232942754403e-10    8.4088291885109356e-07\n",
      "Constraint violation....:   7.2759576141834259e-12    7.2759576141834259e-12\n",
      "Complementarity.........:   9.0909090909651025e-10    9.0909090909651025e-10\n",
      "Overall NLP error.......:   9.0909090909651025e-10    8.4088291885109356e-07\n",
      "\n",
      "\n",
      "Number of objective function evaluations             = 789\n",
      "Number of objective gradient evaluations             = 168\n",
      "Number of equality constraint evaluations            = 789\n",
      "Number of inequality constraint evaluations          = 789\n",
      "Number of equality constraint Jacobian evaluations   = 178\n",
      "Number of inequality constraint Jacobian evaluations = 178\n",
      "Number of Lagrangian Hessian evaluations             = 174\n",
      "Total CPU secs in IPOPT (w/o function evaluations)   =      0.445\n",
      "Total CPU secs in NLP function evaluations           =      0.039\n",
      "\n",
      "EXIT: Optimal Solution Found.\n"
     ]
    }
   ],
   "source": [
    "optimization_results = solver.solve(m,tee=True)\n",
    "assert_optimal_termination(optimization_results)"
   ]
  },
  {
   "cell_type": "markdown",
   "metadata": {},
   "source": [
    "### Check SEC-optimal results for\n",
    "* membrane area\n",
    "* pump pressure\n",
    "* recovery rate\n",
    "* SEC\n",
    "* LCOW\n",
    "* rejection rates"
   ]
  },
  {
   "cell_type": "code",
   "execution_count": 38,
   "metadata": {},
   "outputs": [
    {
     "name": "stdout",
     "output_type": "stream",
     "text": [
      "area : Membrane area\n",
      "    Size=1, Index=None, Units=m**2\n",
      "    Key  : Lower : Value              : Upper : Fixed : Stale : Domain\n",
      "    None :     1 : 1091.3290096309818 :  None : False : False : NonNegativeReals\n",
      "_pressure_outlet_ref : Size=1, Index=fs._time, ReferenceTo=fs.pump.control_volume.properties_out[...].component('pressure')\n",
      "    Key : Lower    : Value              : Upper : Fixed : Stale : Domain\n",
      "    0.0 : 100000.0 : 224532.34004665876 :  None : False : False : NonNegativeReals\n",
      "recovery_vol_phase : Volumetric-based recovery\n",
      "    Size=1, Index=fs._time*fs.properties.phase_list, Units=dimensionless\n",
      "    Key          : Lower : Value              : Upper : Fixed : Stale : Domain\n",
      "    (0.0, 'Liq') :     0 : 0.6231225846450952 :     1 : False : False :  Reals\n",
      "specific_energy_consumption : Size=1\n",
      "    Key  : Value\n",
      "    None : 0.07323173527953485\n",
      "LCOW : Size=1\n",
      "    Key  : Value\n",
      "    None : 0.4954330688712313\n",
      "rejection_observed_phase_comp : Size=5\n",
      "    Key                    : Value\n",
      "     (0.0, 'Liq', 'Ca_2+') :   0.500551371518502\n",
      "      (0.0, 'Liq', 'Cl_-') :  0.3095428710618945\n",
      "    (0.0, 'Liq', 'HCO3_-') : 0.44628051538864577\n",
      "      (0.0, 'Liq', 'Na_+') :  0.2900660331608985\n",
      "    (0.0, 'Liq', 'SO4_2-') :   0.999870155088671\n",
      "rejection_intrinsic_phase_comp : Intrinsic solute rejection\n",
      "    Size=5, Index=fs._time*fs.properties.phase_list*fs.unit.solute_set, Units=dimensionless\n",
      "    Key                    : Lower  : Value              : Upper : Fixed : Stale : Domain\n",
      "     (0.0, 'Liq', 'Ca_2+') : -1.001 :  0.544261277488519 : 1.001 : False : False :  Reals\n",
      "      (0.0, 'Liq', 'Cl_-') : -1.001 : 0.3468538815750751 : 1.001 : False : False :  Reals\n",
      "    (0.0, 'Liq', 'HCO3_-') : -1.001 : 0.4952581081931536 : 1.001 : False : False :  Reals\n",
      "      (0.0, 'Liq', 'Na_+') : -1.001 : 0.3220160393560354 : 1.001 : False : False :  Reals\n",
      "    (0.0, 'Liq', 'SO4_2-') : -1.001 :   0.99988806927424 : 1.001 : False : False :  Reals\n",
      "\n",
      "Average volumetric water flux=2.060364753021936 LMH\n"
     ]
    }
   ],
   "source": [
    "m.fs.unit.area.display()\n",
    "\n",
    "m.fs.pump.outlet.pressure.display()\n",
    "\n",
    "m.fs.unit.recovery_vol_phase.display()\n",
    "\n",
    "m.fs.costing.specific_energy_consumption.display()\n",
    "\n",
    "m.fs.costing.LCOW.display()\n",
    "\n",
    "m.fs.unit.rejection_observed_phase_comp.display()\n",
    "\n",
    "m.fs.unit.rejection_intrinsic_phase_comp.display()\n",
    "\n",
    "print(f\"\\nAverage volumetric water flux={value(pyunits.convert(m.fs.unit.flux_vol_water_avg[0],to_units=pyunits.L/pyunits.m**2/pyunits.hour))} LMH\")\n",
    "\n",
    "## Previous SEC and LCOW results from simulation:\n",
    "# specific_energy_consumption : Size=1\n",
    "#     Key  : Value\n",
    "#     None : 1.3444516491470768\n",
    "# LCOW : Levelized Cost of Water based on flow fs.product.properties[0.0].flow_vol\n",
    "#     Size=1, Index=None, Units=USD_2018/m**3\n",
    "#     Key  : Lower : Value              : Upper : Fixed : Stale : Domain\n",
    "#     None :  None : 0.5316151578977553 :  None : False : False :  Reals"
   ]
  },
  {
   "cell_type": "markdown",
   "metadata": {},
   "source": [
    "### Add an objective function to minimize the LCOW and optimize again."
   ]
  },
  {
   "cell_type": "markdown",
   "metadata": {},
   "source": [
    "#### Deactivate the SEC objective first."
   ]
  },
  {
   "cell_type": "code",
   "execution_count": 39,
   "metadata": {},
   "outputs": [],
   "source": [
    "m.fs.sec_objective.deactivate()\n",
    "m.fs.lcow_objective = Objective(expr=m.fs.costing.LCOW)"
   ]
  },
  {
   "cell_type": "code",
   "execution_count": 40,
   "metadata": {},
   "outputs": [
    {
     "name": "stdout",
     "output_type": "stream",
     "text": [
      "ipopt-watertap: ipopt with user variable scaling and IDAES jacobian constraint scaling\n",
      "Ipopt 3.13.2: tol=1e-08\n",
      "constr_viol_tol=1e-08\n",
      "acceptable_constr_viol_tol=1e-08\n",
      "bound_relax_factor=0.0\n",
      "honor_original_bounds=no\n",
      "nlp_scaling_method=user-scaling\n",
      "\n",
      "\n",
      "******************************************************************************\n",
      "This program contains Ipopt, a library for large-scale nonlinear optimization.\n",
      " Ipopt is released as open source code under the Eclipse Public License (EPL).\n",
      "         For more information visit http://projects.coin-or.org/Ipopt\n",
      "\n",
      "This version of Ipopt was compiled from source code available at\n",
      "    https://github.com/IDAES/Ipopt as part of the Institute for the Design of\n",
      "    Advanced Energy Systems Process Systems Engineering Framework (IDAES PSE\n",
      "    Framework) Copyright (c) 2018-2019. See https://github.com/IDAES/idaes-pse.\n",
      "\n",
      "This version of Ipopt was compiled using HSL, a collection of Fortran codes\n",
      "    for large-scale scientific computation.  All technical papers, sales and\n",
      "    publicity material resulting from use of the HSL codes within IPOPT must\n",
      "    contain the following acknowledgement:\n",
      "        HSL, a collection of Fortran codes for large-scale scientific\n",
      "        computation. See http://www.hsl.rl.ac.uk.\n",
      "******************************************************************************\n",
      "\n",
      "This is Ipopt version 3.13.2, running with linear solver ma27.\n",
      "\n",
      "Number of nonzeros in equality constraint Jacobian...:     2183\n",
      "Number of nonzeros in inequality constraint Jacobian.:        1\n",
      "Number of nonzeros in Lagrangian Hessian.............:     1007\n",
      "\n",
      "Total number of variables............................:      618\n",
      "                     variables with only lower bounds:      386\n",
      "                variables with lower and upper bounds:      204\n",
      "                     variables with only upper bounds:        0\n",
      "Total number of equality constraints.................:      617\n",
      "Total number of inequality constraints...............:        1\n",
      "        inequality constraints with only lower bounds:        0\n",
      "   inequality constraints with lower and upper bounds:        0\n",
      "        inequality constraints with only upper bounds:        1\n",
      "\n",
      "iter    objective    inf_pr   inf_du lg(mu)  ||d||  lg(rg) alpha_du alpha_pr  ls\n",
      "   0  4.9543307e-01 1.06e+05 1.88e+00  -1.0 0.00e+00    -  0.00e+00 0.00e+00   0\n",
      "   1  4.9549617e-01 8.56e+04 1.18e+01  -1.0 3.05e+01    -  9.69e-01 1.92e-01h  1\n",
      "   2  4.9538448e-01 9.14e+02 9.72e+01  -1.0 9.48e+00    -  9.90e-01 9.87e-01h  1\n",
      "   3  4.9260670e-01 9.25e+01 2.39e+03  -1.0 2.73e+02    -  1.00e+00 7.95e-01h  1\n",
      "   4  4.9151299e-01 3.95e+01 7.26e+04  -1.0 2.02e+02    -  1.00e+00 4.24e-01h  1\n",
      "   5  4.9150662e-01 3.79e+01 1.49e+07  -1.0 1.30e+01    -  1.00e+00 3.95e-02h  1\n",
      "   6  4.9167308e-01 3.79e+01 1.10e+09  -1.0 3.07e+04    -  1.89e-01 4.23e-04h  4\n",
      "   7  4.9180854e-01 3.79e+01 4.58e+10  -1.0 3.40e+04    -  4.06e-01 3.11e-04h  6\n",
      "   8  4.9193980e-01 3.79e+01 1.30e+12  -1.0 3.40e+04    -  2.70e-01 3.01e-04h  6\n",
      "   9  4.9206707e-01 3.79e+01 9.03e+13  -1.0 3.40e+04    -  6.51e-01 2.92e-04h  6\n",
      "iter    objective    inf_pr   inf_du lg(mu)  ||d||  lg(rg) alpha_du alpha_pr  ls\n",
      "  10  4.9219045e-01 3.79e+01 2.13e+15  -1.0 3.41e+04    -  2.09e-01 2.83e-04h  6\n",
      "  11  4.9231005e-01 3.79e+01 2.40e+17  -1.0 3.40e+04    -  1.00e+00 2.75e-04h  6\n",
      "  12  4.9232456e-01 3.79e+01 5.65e+18  -1.0 2.87e+04    -  2.32e-01 3.96e-05h  9\n",
      "  13  4.9278271e-01 3.76e+01 1.26e+19  -1.0 5.42e+03    -  1.00e+00 6.62e-03h  4\n",
      "  14  4.9288409e-01 3.76e+01 1.68e+19  -1.0 3.54e+04    -  1.81e-01 2.24e-04h  6\n",
      "  15  4.9298237e-01 3.76e+01 1.68e+19  -1.0 3.54e+04    -  1.00e+00 2.17e-04h  6\n",
      "  16  4.9603072e-01 3.73e+01 1.68e+19  -1.0 3.54e+04    -  1.83e-01 6.73e-03w  1\n",
      "  17  4.9601264e-01 3.73e+01 1.76e+21  -1.0 3.63e+03    -  7.93e-01 3.83e-04w  1\n",
      "WARNING: Problem in step computation; switching to emergency mode.\n",
      "  18  4.9307763e-01 3.76e+01 1.68e+19  -1.0 3.63e+03    -  1.83e-01 2.10e-04h  6\n",
      "  19  4.9316997e-01 3.76e+01 1.68e+19  -1.0 3.54e+04    -  1.00e+00 2.04e-04h  6\n",
      "iter    objective    inf_pr   inf_du lg(mu)  ||d||  lg(rg) alpha_du alpha_pr  ls\n",
      "  20  4.9334897e-01 3.76e+01 1.68e+19  -1.0 3.54e+04    -  1.84e-01 3.95e-04h  5\n",
      "  21  4.9351697e-01 3.75e+01 1.68e+19  -1.0 3.54e+04    -  1.00e+00 3.71e-04h  5\n",
      "  22  4.9367464e-01 3.75e+01 1.68e+19  -1.0 3.54e+04    -  1.85e-01 3.48e-04h  5\n",
      "  23  4.9382262e-01 3.75e+01 1.68e+19  -1.0 3.54e+04    -  1.00e+00 3.27e-04h  5\n",
      "  24  4.9396149e-01 3.75e+01 1.68e+19  -1.0 3.54e+04    -  1.86e-01 3.07e-04h  5\n",
      "  25  4.9409181e-01 3.75e+01 1.68e+19  -1.0 3.54e+04    -  1.00e+00 2.88e-04h  5\n",
      "  26  4.9421411e-01 3.75e+01 1.68e+19  -1.0 3.54e+04    -  1.87e-01 2.70e-04h  5\n",
      "  27  4.9432888e-01 3.75e+01 1.68e+19  -1.0 3.54e+04    -  1.00e+00 2.54e-04h  5\n",
      "  28  4.9605205e-01 3.73e+01 1.69e+19  -1.0 3.53e+04    -  1.88e-01 3.81e-03w  1\n",
      "  29  4.9605627e-01 3.73e+01 1.89e+21  -1.0 1.08e+03    -  1.00e+00 3.05e-04w  1\n",
      "WARNING: Problem in step computation; switching to emergency mode.\n",
      "iter    objective    inf_pr   inf_du lg(mu)  ||d||  lg(rg) alpha_du alpha_pr  ls\n",
      "  30  4.9443658e-01 3.75e+01 1.68e+19  -1.0 1.08e+03    -  1.88e-01 2.38e-04h  5\n",
      "  31  4.9616502e-01 3.73e+01 1.67e+19  -1.0 3.41e+04    -  3.96e-03 3.96e-03s 14\n",
      "  32r 4.9616502e-01 3.73e+01 1.00e+03  -1.0 0.00e+00    -  0.00e+00 0.00e+00R  1\n",
      "  33r 4.9419235e-01 1.36e+02 9.53e+02  -1.0 4.62e+00    -  5.07e-02 6.10e-02f  1\n",
      "  34r 4.9070210e-01 3.91e+02 4.57e+03  -1.0 4.15e+00    -  2.87e-01 1.42e-01f  1\n",
      "  35r 4.7242890e-01 1.09e+03 2.86e+04  -1.0 3.84e+00    -  2.57e-01 8.48e-01f  1\n",
      "  36r 4.6820618e-01 1.19e+03 3.50e+03  -1.0 6.42e-01    -  8.83e-01 9.20e-01f  1\n",
      "  37r 4.6564185e-01 7.45e+02 4.51e+03  -1.0 3.42e-01    -  2.88e-01 1.00e+00f  1\n",
      "  38r 4.6385773e-01 6.55e+02 8.15e+02  -1.0 1.39e-01    -  8.12e-01 1.00e+00f  1\n",
      "  39r 4.6258566e-01 2.60e+02 7.51e+01  -1.0 5.25e-01    -  1.00e+00 9.53e-01f  1\n",
      "iter    objective    inf_pr   inf_du lg(mu)  ||d||  lg(rg) alpha_du alpha_pr  ls\n",
      "  40r 4.6359580e-01 1.48e+02 3.83e+00  -1.0 2.29e-01    -  1.00e+00 1.00e+00f  1\n",
      "  41r 4.8428761e-01 3.39e+01 8.64e+01  -1.7 3.92e+00    -  1.00e+00 1.00e+00f  1\n",
      "  42r 4.8114206e-01 5.80e+01 5.87e+02  -1.7 6.81e-01    -  1.00e+00 1.00e+00h  1\n",
      "  43r 4.8120696e-01 5.94e+01 6.30e+00  -1.7 1.61e-01    -  1.00e+00 1.00e+00h  1\n",
      "  44  4.8126915e-01 5.92e+01 2.47e+05  -1.0 4.35e+00    -  9.44e-01 4.31e-03h  8\n",
      "  45  4.8133009e-01 5.89e+01 4.42e+05  -1.0 2.23e+01    -  9.90e-01 4.30e-03h  8\n",
      "  46  4.8134229e-01 5.87e+01 5.86e+05  -1.0 9.25e+02    -  1.00e+00 4.26e-03h  8\n",
      "  47  4.8135802e-01 5.84e+01 6.91e+05  -1.0 8.54e+02    -  1.00e+00 4.26e-03h  8\n",
      "  48  4.8138915e-01 5.82e+01 7.69e+05  -1.0 5.59e+02    -  1.00e+00 4.27e-03h  8\n",
      "  49  4.8143126e-01 5.79e+01 8.27e+05  -1.0 3.49e+02    -  1.00e+00 4.28e-03h  8\n",
      "iter    objective    inf_pr   inf_du lg(mu)  ||d||  lg(rg) alpha_du alpha_pr  ls\n",
      "  50  4.8148504e-01 5.77e+01 8.69e+05  -1.0 1.28e+02    -  1.00e+00 4.29e-03h  8\n",
      "  51  4.8155012e-01 5.74e+01 9.01e+05  -1.0 8.74e+01    -  1.00e+00 4.30e-03h  8\n",
      "  52  4.8162470e-01 5.72e+01 9.25e+05  -1.0 2.68e+02    -  1.00e+00 4.31e-03h  8\n",
      "  53  4.8170625e-01 5.69e+01 9.42e+05  -1.0 4.01e+02    -  1.00e+00 4.31e-03h  8\n",
      "  54  4.9290151e-01 1.59e+00 4.30e+05  -1.0 4.89e+02    -  1.00e+00 5.52e-01w  1\n",
      "  55  4.9334392e-01 2.13e-01 2.21e+05  -1.0 4.46e+02    -  8.02e-01 4.97e-01w  1\n",
      "  56  4.7361568e-01 8.87e-01 9.11e+06  -1.0 3.46e+03    -  1.56e-01 4.84e-01w  1\n",
      "  57  4.8179233e-01 5.67e+01 9.54e+05  -1.0 1.00e+01  -4.0 1.00e+00 4.31e-03h  7\n",
      "  58  4.8188104e-01 5.64e+01 1.34e+06  -1.0 5.42e+02    -  1.00e+00 4.31e-03h  8\n",
      "  59  4.8197108e-01 5.62e+01 2.40e+06  -1.0 5.71e+02    -  1.00e+00 4.31e-03h  8\n",
      "iter    objective    inf_pr   inf_du lg(mu)  ||d||  lg(rg) alpha_du alpha_pr  ls\n",
      "  60  4.8206163e-01 5.59e+01 4.30e+06  -1.0 5.85e+02    -  1.00e+00 4.31e-03h  8\n",
      "  61  4.8215220e-01 5.57e+01 7.72e+06  -1.0 5.90e+02    -  1.00e+00 4.31e-03h  8\n",
      "  62  4.8224249e-01 5.55e+01 1.39e+07  -1.0 5.90e+02    -  1.00e+00 4.31e-03h  8\n",
      "  63  4.8233233e-01 5.52e+01 2.49e+07  -1.0 5.87e+02    -  1.00e+00 4.31e-03h  8\n",
      "  64  4.8242164e-01 5.50e+01 4.47e+07  -1.0 5.82e+02    -  1.00e+00 4.31e-03h  8\n",
      "  65  4.8251036e-01 5.47e+01 8.02e+07  -1.0 5.76e+02    -  1.00e+00 4.31e-03h  8\n",
      "  66  4.8259846e-01 5.45e+01 1.44e+08  -1.0 5.69e+02    -  1.00e+00 4.30e-03h  8\n",
      "  67  4.9396604e-01 1.53e+00 2.33e+07  -1.0 5.62e+02    -  1.00e+00 5.51e-01w  1\n",
      "  68  4.9464660e-01 1.87e-01 6.64e+07  -1.0 3.90e+02    -  7.72e-01 4.98e-01w  1\n",
      "  69  4.9325693e-01 1.54e-01 3.40e+08  -1.0 4.63e+02    -  1.11e-01 5.11e-01w  1\n",
      "iter    objective    inf_pr   inf_du lg(mu)  ||d||  lg(rg) alpha_du alpha_pr  ls\n",
      "  70  4.8268592e-01 5.43e+01 2.59e+08  -1.0 3.07e+05    -  1.00e+00 4.30e-03h  7\n",
      "  71  4.8277275e-01 5.40e+01 4.66e+08  -1.0 5.55e+02    -  1.00e+00 4.30e-03h  8\n",
      "  72  4.8285894e-01 5.38e+01 8.39e+08  -1.0 5.48e+02    -  1.00e+00 4.30e-03h  8\n",
      "  73  4.8294449e-01 5.36e+01 1.51e+09  -1.0 5.41e+02    -  1.00e+00 4.30e-03h  8\n",
      "  74  4.8302941e-01 5.33e+01 2.72e+09  -1.0 5.34e+02    -  1.00e+00 4.29e-03h  8\n",
      "  75  4.8311371e-01 5.31e+01 4.90e+09  -1.0 5.27e+02    -  1.00e+00 4.29e-03h  8\n",
      "  76  4.8319737e-01 5.29e+01 8.84e+09  -1.0 5.20e+02    -  1.00e+00 4.29e-03h  8\n",
      "  77  4.8328041e-01 5.27e+01 1.59e+10  -1.0 5.13e+02    -  1.00e+00 4.29e-03h  8\n",
      "  78  4.8336284e-01 5.24e+01 2.88e+10  -1.0 5.06e+02    -  1.00e+00 4.29e-03h  8\n",
      "  79  4.8344466e-01 5.22e+01 5.19e+10  -1.0 4.99e+02    -  1.00e+00 4.29e-03h  8\n",
      "iter    objective    inf_pr   inf_du lg(mu)  ||d||  lg(rg) alpha_du alpha_pr  ls\n",
      "  80  4.9399204e-01 1.41e+00 8.28e+09  -1.0 4.93e+02    -  1.00e+00 5.48e-01w  1\n",
      "  81  4.9467240e-01 1.78e-01 2.38e+10  -1.0 3.71e+02    -  7.72e-01 4.98e-01w  1\n",
      "  82  4.9351642e-01 1.42e-01 1.14e+11  -1.0 4.17e+02    -  1.11e-01 5.13e-01w  1\n",
      "  83  4.8352587e-01 5.20e+01 9.37e+10  -1.0 1.04e+05    -  1.00e+00 4.28e-03h  7\n",
      "  84  4.8360648e-01 5.18e+01 1.69e+11  -1.0 4.86e+02    -  1.00e+00 4.28e-03h  8\n",
      "  85  4.8368649e-01 5.15e+01 3.06e+11  -1.0 4.80e+02    -  1.00e+00 4.28e-03h  8\n",
      "  86  4.8376592e-01 5.13e+01 5.53e+11  -1.0 4.73e+02    -  1.00e+00 4.28e-03h  8\n",
      "  87  4.8384475e-01 5.11e+01 1.00e+12  -1.0 4.67e+02    -  1.00e+00 4.28e-03h  8\n",
      "  88  4.8392300e-01 5.09e+01 1.81e+12  -1.0 4.60e+02    -  1.00e+00 4.28e-03h  8\n",
      "  89  4.8400067e-01 5.07e+01 3.27e+12  -1.0 4.54e+02    -  1.00e+00 4.27e-03h  8\n",
      "iter    objective    inf_pr   inf_du lg(mu)  ||d||  lg(rg) alpha_du alpha_pr  ls\n",
      "  90  4.8407777e-01 5.04e+01 5.93e+12  -1.0 4.48e+02    -  1.00e+00 4.27e-03h  8\n",
      "  91  4.8415430e-01 5.02e+01 1.07e+13  -1.0 4.42e+02    -  1.00e+00 4.27e-03h  8\n",
      "  92  4.8423027e-01 5.00e+01 1.27e+13  -1.0 4.35e+02    -  1.00e+00 4.27e-03h  8\n",
      "  93  4.9009631e-01 1.10e+00 2.01e+12  -1.0 1.33e+02    -  1.00e+00 5.43e-01w  1\n",
      "  94  4.9036226e-01 2.28e-01 5.84e+12  -1.0 4.18e+02    -  7.72e-01 4.97e-01w  1\n",
      "  95  4.7262432e-01 7.55e-01 3.60e+13  -1.0 3.05e+03    -  1.10e-01 4.94e-01w  1\n",
      "  96  4.8427547e-01 4.98e+01 1.27e+13  -1.0 1.18e+05  -1.8 1.00e+00 4.24e-03h  7\n",
      "  97  4.8430092e-01 4.96e+01 1.27e+13  -1.0 5.01e+02    -  1.00e+00 4.22e-03h  8\n",
      "  98  4.8432611e-01 4.94e+01 1.27e+13  -1.0 5.01e+02    -  1.00e+00 4.22e-03h  8\n",
      "  99  4.8435134e-01 4.92e+01 1.27e+13  -1.0 4.97e+02    -  1.00e+00 4.22e-03h  8\n",
      "iter    objective    inf_pr   inf_du lg(mu)  ||d||  lg(rg) alpha_du alpha_pr  ls\n",
      " 100  4.8437661e-01 4.90e+01 1.27e+13  -1.0 4.92e+02    -  1.00e+00 4.22e-03h  8\n",
      " 101  4.8440192e-01 4.87e+01 1.27e+13  -1.0 4.87e+02    -  1.00e+00 4.22e-03h  8\n",
      " 102  4.8442727e-01 4.85e+01 1.27e+13  -1.0 4.82e+02    -  1.00e+00 4.21e-03h  8\n",
      " 103  4.8445265e-01 4.83e+01 1.27e+13  -1.0 4.77e+02    -  1.00e+00 4.21e-03h  8\n",
      " 104  4.8447808e-01 4.81e+01 1.27e+13  -1.0 4.72e+02    -  1.00e+00 4.21e-03h  8\n",
      " 105  4.8450354e-01 4.79e+01 1.27e+13  -1.0 4.68e+02    -  1.00e+00 4.21e-03h  8\n",
      " 106  4.8781001e-01 9.17e-01 2.02e+12  -1.0 4.63e+02    -  1.00e+00 5.39e-01w  1\n",
      " 107  4.8775308e-01 2.57e-01 6.61e+12  -1.0 4.52e+02    -  7.60e-01 4.97e-01w  1\n",
      " 108  4.5812917e-01 1.66e+00 4.21e+13  -1.0 5.07e+03    -  1.01e-01 4.80e-01w  1\n",
      " 109  4.8452903e-01 4.77e+01 1.27e+13  -1.0 1.95e+04  -1.3 1.00e+00 4.21e-03h  7\n",
      "iter    objective    inf_pr   inf_du lg(mu)  ||d||  lg(rg) alpha_du alpha_pr  ls\n",
      " 110  4.8455456e-01 4.75e+01 1.27e+13  -1.0 4.58e+02    -  1.00e+00 4.21e-03h  8\n",
      " 111  4.8458012e-01 4.73e+01 1.27e+13  -1.0 4.54e+02    -  1.00e+00 4.21e-03h  8\n",
      " 112  4.8460571e-01 4.71e+01 1.27e+13  -1.0 4.49e+02    -  1.00e+00 4.21e-03h  8\n",
      " 113  4.8463133e-01 4.69e+01 1.28e+13  -1.0 4.45e+02    -  1.00e+00 4.21e-03h  8\n",
      " 114  4.8465698e-01 4.67e+01 1.28e+13  -1.0 4.40e+02    -  1.00e+00 4.20e-03h  8\n",
      " 115  4.8468265e-01 4.65e+01 1.28e+13  -1.0 4.36e+02    -  1.00e+00 4.20e-03h  8\n",
      " 116  4.8470836e-01 4.63e+01 1.28e+13  -1.0 4.31e+02    -  1.00e+00 4.20e-03h  8\n",
      " 117  4.8473408e-01 4.61e+01 1.28e+13  -1.0 4.27e+02    -  1.00e+00 4.20e-03h  8\n",
      " 118  4.8475983e-01 4.59e+01 1.28e+13  -1.0 4.23e+02    -  1.00e+00 4.20e-03h  8\n",
      " 119  4.8810070e-01 8.73e-01 2.01e+12  -1.0 4.18e+02    -  1.00e+00 5.37e-01w  1\n",
      "iter    objective    inf_pr   inf_du lg(mu)  ||d||  lg(rg) alpha_du alpha_pr  ls\n",
      " 120  4.8798163e-01 2.39e-01 7.45e+12  -1.0 4.45e+02    -  7.49e-01 4.96e-01w  1\n",
      " 121  4.5686525e-01 1.78e+00 4.60e+13  -1.0 5.31e+03    -  9.36e-02 4.78e-01w  1\n",
      " 122  4.8478561e-01 4.57e+01 1.28e+13  -1.0 5.74e+03  -0.9 1.00e+00 4.20e-03h  7\n",
      " 123  4.8483721e-01 4.54e+01 1.28e+13  -1.0 4.14e+02    -  1.00e+00 8.40e-03h  7\n",
      " 124  4.8488822e-01 4.50e+01 1.29e+13  -1.0 4.12e+02    -  1.00e+00 8.39e-03h  7\n",
      " 125  4.8493932e-01 4.46e+01 1.29e+13  -1.0 4.04e+02    -  1.00e+00 8.39e-03h  7\n",
      " 126  4.8499051e-01 4.42e+01 1.29e+13  -1.0 3.95e+02    -  1.00e+00 8.38e-03h  7\n",
      " 127  4.8504177e-01 4.38e+01 1.29e+13  -1.0 3.87e+02    -  1.00e+00 8.38e-03h  7\n",
      " 128  4.8509310e-01 4.35e+01 1.30e+13  -1.0 3.79e+02    -  1.00e+00 8.37e-03h  7\n",
      " 129  4.8514450e-01 4.31e+01 1.30e+13  -1.0 3.71e+02    -  1.00e+00 8.37e-03h  7\n",
      "iter    objective    inf_pr   inf_du lg(mu)  ||d||  lg(rg) alpha_du alpha_pr  ls\n",
      " 130  4.8519595e-01 4.27e+01 1.30e+13  -1.0 3.63e+02    -  1.00e+00 8.37e-03h  7\n",
      " 131  4.8524744e-01 4.24e+01 1.31e+13  -1.0 3.56e+02    -  1.00e+00 8.36e-03h  7\n",
      " 132  4.8858366e-01 7.95e-01 2.02e+12  -1.0 3.48e+02    -  1.00e+00 5.35e-01w  1\n",
      " 133  4.8835340e-01 2.09e-01 9.28e+12  -1.0 4.33e+02    -  7.27e-01 4.96e-01w  1\n",
      " 134  4.5431150e-01 2.02e+00 5.44e+13  -1.0 5.80e+03    -  8.21e-02 4.76e-01w  1\n",
      " 135  4.8529898e-01 4.20e+01 1.31e+13  -1.0 5.18e+04  -1.4 1.00e+00 8.36e-03h  6\n",
      " 136  4.8535054e-01 4.17e+01 1.32e+13  -1.0 3.41e+02    -  1.00e+00 8.35e-03h  7\n",
      " 137  4.8540213e-01 4.13e+01 1.32e+13  -1.0 3.34e+02    -  1.00e+00 8.35e-03h  7\n",
      " 138  4.8545373e-01 4.10e+01 1.32e+13  -1.0 3.27e+02    -  1.00e+00 8.34e-03h  7\n",
      " 139  4.8550535e-01 4.06e+01 1.33e+13  -1.0 3.20e+02    -  1.00e+00 8.34e-03h  7\n",
      "iter    objective    inf_pr   inf_du lg(mu)  ||d||  lg(rg) alpha_du alpha_pr  ls\n",
      " 140  4.8555697e-01 4.03e+01 1.33e+13  -1.0 3.13e+02    -  1.00e+00 8.34e-03h  7\n",
      " 141  4.8560859e-01 4.00e+01 1.34e+13  -1.0 3.06e+02    -  1.00e+00 8.33e-03h  7\n",
      " 142  4.8566020e-01 3.96e+01 1.34e+13  -1.0 2.99e+02    -  1.00e+00 8.33e-03h  7\n",
      " 143  4.8571179e-01 3.93e+01 1.35e+13  -1.0 2.93e+02    -  1.00e+00 8.32e-03h  7\n",
      " 144  4.8576336e-01 3.90e+01 1.36e+13  -1.0 2.86e+02    -  1.00e+00 8.32e-03h  7\n",
      " 145  4.8909717e-01 7.22e-01 2.06e+12  -1.0 2.80e+02    -  1.00e+00 5.32e-01w  1\n",
      " 146  4.8877425e-01 1.80e-01 1.16e+13  -1.0 4.18e+02    -  7.06e-01 4.96e-01w  1\n",
      " 147  4.5219728e-01 2.24e+00 6.45e+13  -1.0 6.22e+03    -  7.25e-02 4.75e-01w  1\n",
      " 148  4.8581491e-01 3.86e+01 1.36e+13  -1.0 8.06e+03  -1.0 1.00e+00 8.32e-03h  6\n",
      " 149  4.8586642e-01 3.83e+01 1.37e+13  -1.0 2.74e+02    -  1.00e+00 8.31e-03h  7\n",
      "iter    objective    inf_pr   inf_du lg(mu)  ||d||  lg(rg) alpha_du alpha_pr  ls\n",
      " 150  4.8591790e-01 3.80e+01 1.37e+13  -1.0 2.68e+02    -  1.00e+00 8.31e-03h  7\n",
      " 151  4.8596933e-01 3.77e+01 1.38e+13  -1.0 2.62e+02    -  1.00e+00 8.30e-03h  7\n",
      " 152  4.8602071e-01 3.74e+01 1.39e+13  -1.0 2.56e+02    -  1.00e+00 8.30e-03h  7\n",
      " 153  4.8607204e-01 3.70e+01 1.40e+13  -1.0 2.50e+02    -  1.00e+00 8.30e-03h  7\n",
      " 154  4.8612330e-01 3.67e+01 1.40e+13  -1.0 2.45e+02    -  1.00e+00 8.29e-03h  7\n",
      " 155  4.8617451e-01 3.64e+01 1.41e+13  -1.0 2.39e+02    -  1.00e+00 8.29e-03h  7\n",
      " 156  4.8622564e-01 3.61e+01 1.42e+13  -1.0 2.34e+02    -  1.00e+00 8.29e-03h  7\n",
      " 157  4.8627670e-01 3.58e+01 1.43e+13  -1.0 2.28e+02    -  1.00e+00 8.28e-03h  7\n",
      " 158  4.8957106e-01 6.62e-01 2.13e+12  -1.0 2.23e+02    -  1.00e+00 5.30e-01w  1\n",
      " 159  4.8917464e-01 1.56e-01 1.43e+13  -1.0 4.02e+02    -  6.87e-01 4.96e-01w  1\n",
      "iter    objective    inf_pr   inf_du lg(mu)  ||d||  lg(rg) alpha_du alpha_pr  ls\n",
      " 160  4.5052152e-01 2.43e+00 7.62e+13  -1.0 6.55e+03    -  6.50e-02 4.75e-01w  1\n",
      " 161  4.8632768e-01 3.55e+01 1.43e+13  -1.0 2.33e+03  -0.5 1.00e+00 8.28e-03h  6\n",
      " 162  4.8637858e-01 3.52e+01 1.44e+13  -1.0 2.18e+02    -  1.00e+00 8.27e-03h  7\n",
      " 163  4.8642938e-01 3.49e+01 1.45e+13  -1.0 2.13e+02    -  1.00e+00 8.27e-03h  7\n",
      " 164  4.8648010e-01 3.46e+01 1.46e+13  -1.0 2.08e+02    -  1.00e+00 8.27e-03h  7\n",
      " 165  4.8653072e-01 3.44e+01 1.47e+13  -1.0 2.03e+02    -  1.00e+00 8.26e-03h  7\n",
      " 166  4.8658125e-01 3.41e+01 1.48e+13  -1.0 1.98e+02    -  1.00e+00 8.26e-03h  7\n",
      " 167  4.8663167e-01 3.38e+01 1.49e+13  -1.0 1.94e+02    -  1.00e+00 8.26e-03h  7\n",
      " 168  4.8668198e-01 3.35e+01 1.50e+13  -1.0 1.89e+02    -  1.00e+00 8.25e-03h  7\n",
      " 169  4.8673218e-01 3.32e+01 1.51e+13  -1.0 1.84e+02    -  1.00e+00 8.25e-03h  7\n",
      "iter    objective    inf_pr   inf_du lg(mu)  ||d||  lg(rg) alpha_du alpha_pr  ls\n",
      " 170  4.8678226e-01 3.30e+01 1.52e+13  -1.0 1.80e+02    -  1.00e+00 8.24e-03h  7\n",
      " 171  4.9000864e-01 6.11e-01 2.25e+12  -1.0 1.76e+02    -  1.00e+00 5.27e-01w  1\n",
      " 172  4.8955712e-01 1.35e-01 1.76e+13  -1.0 3.86e+02    -  6.69e-01 4.96e-01w  1\n",
      " 173  4.4938664e-01 2.57e+00 8.95e+13  -1.0 6.78e+03    -  5.92e-02 4.75e-01w  1\n",
      " 174  4.8683223e-01 3.27e+01 1.53e+13  -1.0 1.20e+04  -1.0 1.00e+00 8.24e-03h  6\n",
      " 175  4.8688208e-01 3.24e+01 1.54e+13  -1.0 1.71e+02    -  1.00e+00 8.24e-03h  7\n",
      " 176  4.8693180e-01 3.21e+01 1.55e+13  -1.0 1.67e+02    -  1.00e+00 8.23e-03h  7\n",
      " 177  4.8698139e-01 3.19e+01 1.57e+13  -1.0 1.63e+02    -  1.00e+00 8.23e-03h  7\n",
      " 178  4.8703086e-01 3.16e+01 1.58e+13  -1.0 1.59e+02    -  1.00e+00 8.23e-03h  7\n",
      " 179  4.8708019e-01 3.13e+01 1.59e+13  -1.0 1.55e+02    -  1.00e+00 8.22e-03h  7\n",
      "iter    objective    inf_pr   inf_du lg(mu)  ||d||  lg(rg) alpha_du alpha_pr  ls\n",
      " 180  4.8712938e-01 3.11e+01 1.60e+13  -1.0 1.51e+02    -  1.00e+00 8.22e-03h  7\n",
      " 181  4.8717843e-01 3.08e+01 1.62e+13  -1.0 1.47e+02    -  1.00e+00 8.22e-03h  7\n",
      " 182  4.8722734e-01 3.06e+01 1.63e+13  -1.0 1.43e+02    -  1.00e+00 8.21e-03h  7\n",
      " 183  4.8727611e-01 3.03e+01 1.64e+13  -1.0 1.40e+02    -  1.00e+00 8.21e-03h  7\n",
      " 184  4.9041308e-01 5.65e-01 2.39e+12  -1.0 1.36e+02    -  1.00e+00 5.25e-01w  1\n",
      " 185  4.8992338e-01 1.16e-01 2.14e+13  -1.0 3.69e+02    -  6.54e-01 4.96e-01w  1\n",
      " 186  4.4883777e-01 2.63e+00 1.05e+14  -1.0 6.89e+03    -  5.47e-02 4.77e-01w  1\n",
      " 187  4.8732473e-01 3.01e+01 1.66e+13  -1.0 2.77e+03  -0.6 1.00e+00 8.21e-03h  6\n",
      " 188  4.8737320e-01 2.98e+01 1.67e+13  -1.0 1.32e+02    -  1.00e+00 8.20e-03h  7\n",
      " 189  4.8742151e-01 2.96e+01 1.68e+13  -1.0 1.29e+02    -  1.00e+00 8.20e-03h  7\n",
      "iter    objective    inf_pr   inf_du lg(mu)  ||d||  lg(rg) alpha_du alpha_pr  ls\n",
      " 190  4.8746967e-01 2.93e+01 1.70e+13  -1.0 1.25e+02    -  1.00e+00 8.20e-03h  7\n",
      " 191  4.8751768e-01 2.91e+01 1.71e+13  -1.0 1.22e+02    -  1.00e+00 8.19e-03h  7\n",
      " 192  4.8756552e-01 2.89e+01 1.73e+13  -1.0 1.19e+02    -  1.00e+00 8.19e-03h  7\n",
      " 193  4.8766090e-01 2.84e+01 1.76e+13  -1.0 1.15e+02    -  1.00e+00 1.64e-02h  6\n",
      " 194  4.8775494e-01 2.79e+01 1.80e+13  -1.0 1.12e+02    -  1.00e+00 1.64e-02h  6\n",
      " 195  4.8784835e-01 2.74e+01 1.83e+13  -1.0 1.06e+02    -  1.00e+00 1.63e-02h  6\n",
      " 196  4.8794112e-01 2.70e+01 1.87e+13  -1.0 9.98e+01    -  1.00e+00 1.63e-02h  6\n",
      " 197  4.9090981e-01 5.05e-01 2.67e+12  -1.0 9.39e+01    -  1.00e+00 5.22e-01w  1\n",
      " 198  4.9038671e-01 9.49e-02 2.79e+13  -1.0 3.44e+02    -  6.36e-01 4.96e-01w  1\n",
      " 199  4.4882319e-01 2.63e+00 1.30e+14  -1.0 6.90e+03    -  5.02e-02 4.81e-01w  1\n",
      "iter    objective    inf_pr   inf_du lg(mu)  ||d||  lg(rg) alpha_du alpha_pr  ls\n",
      " 200  4.8803323e-01 2.65e+01 1.91e+13  -1.0 1.97e+04  -1.1 1.00e+00 1.63e-02h  5\n",
      " 201  4.8812468e-01 2.61e+01 1.95e+13  -1.0 8.82e+01    -  1.00e+00 1.63e-02h  6\n",
      " 202  4.8821544e-01 2.57e+01 1.99e+13  -1.0 8.27e+01    -  1.00e+00 1.63e-02h  6\n",
      " 203  4.8830551e-01 2.52e+01 2.03e+13  -1.0 7.75e+01    -  1.00e+00 1.63e-02h  6\n",
      " 204  4.8839487e-01 2.48e+01 2.08e+13  -1.0 7.24e+01    -  1.00e+00 1.63e-02h  6\n",
      " 205  4.8848351e-01 2.44e+01 2.12e+13  -1.0 6.76e+01    -  1.00e+00 1.63e-02h  6\n",
      " 206  4.8857143e-01 2.40e+01 2.17e+13  -1.0 6.29e+01    -  1.00e+00 1.62e-02h  6\n",
      " 207  4.8865860e-01 2.36e+01 2.22e+13  -1.0 5.84e+01    -  1.00e+00 1.62e-02h  6\n",
      " 208  4.8874502e-01 2.32e+01 2.27e+13  -1.0 5.41e+01    -  1.00e+00 1.62e-02h  6\n",
      " 209  4.8883069e-01 2.28e+01 2.33e+13  -1.0 5.00e+01    -  1.00e+00 1.62e-02h  6\n",
      "iter    objective    inf_pr   inf_du lg(mu)  ||d||  lg(rg) alpha_du alpha_pr  ls\n",
      " 210  4.9156405e-01 4.30e-01 3.23e+12  -1.0 4.60e+01    -  1.00e+00 5.19e-01w  1\n",
      " 211  4.9104056e-01 7.04e-02 3.99e+13  -1.0 3.06e+02    -  6.17e-01 4.96e-01w  1\n",
      " 212  4.5091163e-01 2.39e+00 1.75e+14  -1.0 6.50e+03    -  4.65e-02 4.92e-01w  1\n",
      " 213  4.8891560e-01 2.25e+01 2.38e+13  -1.0 3.20e+03  -0.6 1.00e+00 1.62e-02h  5\n",
      " 214  4.8899974e-01 2.21e+01 2.44e+13  -1.0 4.22e+01    -  1.00e+00 1.62e-02h  6\n",
      " 215  4.8908310e-01 2.17e+01 2.50e+13  -1.0 3.86e+01    -  1.00e+00 1.62e-02h  6\n",
      " 216  4.8916569e-01 2.14e+01 2.56e+13  -1.0 3.51e+01    -  1.00e+00 1.62e-02h  6\n",
      " 217  4.8924749e-01 2.10e+01 2.63e+13  -1.0 3.17e+01    -  1.00e+00 1.62e-02h  6\n",
      " 218  4.8932851e-01 2.07e+01 2.69e+13  -1.0 2.85e+01    -  1.00e+00 1.62e-02h  6\n",
      " 219  4.8940873e-01 2.03e+01 2.76e+13  -1.0 2.54e+01    -  1.00e+00 1.61e-02h  6\n",
      "iter    objective    inf_pr   inf_du lg(mu)  ||d||  lg(rg) alpha_du alpha_pr  ls\n",
      " 220  4.8948816e-01 2.00e+01 2.83e+13  -1.0 2.25e+01    -  1.00e+00 1.61e-02h  6\n",
      " 221  4.8956680e-01 1.97e+01 2.91e+13  -1.0 1.97e+01    -  1.00e+00 1.61e-02h  6\n",
      " 222  4.8964463e-01 1.94e+01 2.99e+13  -1.0 1.70e+01    -  1.00e+00 1.61e-02h  6\n",
      " 223  4.9212245e-01 3.67e-01 4.03e+12  -1.0 1.44e+01    -  1.00e+00 5.15e-01w  1\n",
      " 224  4.9162741e-01 5.22e-02 5.61e+13  -1.0 2.70e+02    -  6.04e-01 4.96e-01w  1\n",
      " 225  4.5421292e-01 2.03e+00 2.34e+14  -1.0 5.87e+03    -  4.46e-02 5.07e-01w  1\n",
      " 226  4.8972167e-01 1.90e+01 3.06e+13  -1.0 3.60e+04  -1.1 1.00e+00 1.61e-02h  5\n",
      " 227  4.8987418e-01 1.84e+01 3.24e+13  -1.0 1.19e+01    -  1.00e+00 3.22e-02h  5\n",
      " 228  4.9002304e-01 1.78e+01 3.43e+13  -1.0 8.26e+00    -  1.00e+00 3.22e-02h  5\n",
      " 229  4.9016877e-01 1.72e+01 3.63e+13  -1.0 3.77e+00    -  1.00e+00 3.21e-02h  5\n",
      "iter    objective    inf_pr   inf_du lg(mu)  ||d||  lg(rg) alpha_du alpha_pr  ls\n",
      " 230  4.9031138e-01 1.66e+01 3.84e+13  -1.0 7.99e-01    -  1.00e+00 3.21e-02h  5\n",
      " 231  4.9045087e-01 1.61e+01 4.07e+13  -1.0 4.47e+00    -  1.00e+00 3.20e-02h  5\n",
      " 232  4.9058725e-01 1.56e+01 4.32e+13  -1.0 7.79e+00    -  1.00e+00 3.20e-02h  5\n",
      " 233  4.9072054e-01 1.51e+01 4.58e+13  -1.0 1.08e+01    -  1.00e+00 3.20e-02h  5\n",
      " 234  4.9085076e-01 1.46e+01 4.86e+13  -1.0 1.35e+01    -  1.00e+00 3.20e-02h  5\n",
      " 235  4.9097794e-01 1.41e+01 5.16e+13  -1.0 1.59e+01    -  1.00e+00 3.19e-02h  5\n",
      " 236  4.9297181e-01 2.69e-01 6.53e+12  -1.0 1.81e+01    -  1.00e+00 5.10e-01w  1\n",
      " 237  4.9256738e-01 2.94e-02 1.05e+14  -1.0 2.06e+02    -  5.92e-01 4.97e-01w  1\n",
      " 238  4.6170046e-01 1.33e+00 3.98e+14  -1.0 4.46e+03    -  4.41e-02 5.50e-01w  1\n",
      " 239  4.9110212e-01 1.36e+01 5.48e+13  -1.0 3.06e+03  -0.7 1.00e+00 3.19e-02h  4\n",
      "iter    objective    inf_pr   inf_du lg(mu)  ||d||  lg(rg) alpha_du alpha_pr  ls\n",
      " 240  4.9122331e-01 1.32e+01 5.82e+13  -1.0 2.01e+01    -  1.00e+00 3.19e-02h  5\n",
      " 241  4.9134157e-01 1.27e+01 6.18e+13  -1.0 2.18e+01    -  1.00e+00 3.18e-02h  5\n",
      " 242  4.9145692e-01 1.23e+01 6.56e+13  -1.0 2.33e+01    -  1.00e+00 3.18e-02h  5\n",
      " 243  4.9168196e-01 1.15e+01 7.51e+13  -1.0 2.46e+01    -  1.00e+00 6.36e-02h  4\n",
      " 244  4.9189651e-01 1.07e+01 8.58e+13  -1.0 2.79e+01    -  1.00e+00 6.35e-02h  4\n",
      " 245  4.9209990e-01 9.99e+00 9.80e+13  -1.0 2.94e+01    -  1.00e+00 6.34e-02h  4\n",
      " 246  4.9229259e-01 9.31e+00 1.12e+14  -1.0 3.03e+01    -  1.00e+00 6.33e-02h  4\n",
      " 247  4.9247500e-01 8.69e+00 1.28e+14  -1.0 3.09e+01    -  1.00e+00 6.32e-02h  4\n",
      " 248  4.9264759e-01 8.10e+00 1.46e+14  -1.0 3.12e+01    -  1.00e+00 6.31e-02h  4\n",
      " 249  4.9395570e-01 1.56e-01 1.69e+13  -1.0 3.12e+01    -  1.00e+00 5.04e-01w  1\n",
      "iter    objective    inf_pr   inf_du lg(mu)  ||d||  lg(rg) alpha_du alpha_pr  ls\n",
      " 250  4.9370587e-01 1.12e-02 2.93e+14  -1.0 1.25e+02    -  5.89e-01 4.99e-01w  1\n",
      " 251  4.7188394e-01 6.38e-01 8.26e+14  -1.0 2.55e+03    -  4.65e-02 6.82e-01w  1\n",
      " 252  4.9281078e-01 7.56e+00 1.66e+14  -1.0 3.34e+04  -1.2 1.00e+00 6.30e-02h  3\n",
      " 253  4.9311932e-01 6.48e+00 2.28e+14  -1.0 3.10e+01    -  1.00e+00 1.26e-01h  3\n",
      " 254  4.9339997e-01 5.55e+00 3.10e+14  -1.0 3.40e+01    -  1.00e+00 1.26e-01h  3\n",
      " 255  4.9447308e-01 2.53e-01 1.20e+15  -1.0 3.02e+01    -  1.00e+00 7.80e-01H  1\n",
      " 256  4.9430279e-01 1.04e-02 3.37e+14  -1.0 5.40e+01    -  6.62e-01 4.99e-01h  1\n",
      " 257  4.9417906e-01 1.03e-02 2.72e+14  -1.0 1.01e+03    -  7.72e-02 9.70e-03h  7\n",
      " 258  4.9298751e-01 1.03e-02 2.72e+14  -1.0 4.13e+04    -  2.26e-03 2.26e-03f  8\n",
      " 259  4.9289949e-01 1.03e-02 2.62e+14  -1.0 6.31e+04    -  2.93e-03 1.09e-04f 12\n",
      "iter    objective    inf_pr   inf_du lg(mu)  ||d||  lg(rg) alpha_du alpha_pr  ls\n",
      " 260  4.9285550e-01 1.03e-02 2.51e+14  -1.0 6.31e+04    -  3.05e-03 5.46e-05f 13\n",
      " 261  4.9281153e-01 1.03e-02 2.23e+14  -1.0 6.30e+04    -  7.61e-03 5.46e-05f 13\n",
      " 262  4.9278956e-01 1.03e-02 2.49e+15  -1.0 6.28e+04    -  4.72e-01 2.73e-05f 14\n",
      " 263  4.8175775e-01 1.43e-01 2.29e+15  -1.0 5.95e+04    -  3.38e-03 1.45e-02f  5\n",
      " 264  4.8160773e-01 1.43e-01 6.43e+15  -1.0 4.39e+04    -  3.63e-01 2.67e-04h 11\n",
      " 265  4.8146203e-01 1.43e-01 2.76e+16  -1.0 4.11e+04    -  1.00e+00 2.77e-04h 11\n",
      " 266  4.8120948e-01 1.43e-01 2.95e+16  -1.0 3.06e+04    -  3.44e-02 6.47e-04h 10\n",
      " 267  3.5401444e-01 3.31e+01 7.71e+15  -1.0 2.96e+04    -  1.00e+00 3.36e-01w  1\n",
      " 268  3.3057990e-01 7.71e+00 1.02e+19  -1.0 2.44e+03    -  1.32e-01 7.79e-01w  1\n",
      " 269  4.6375092e-01 4.97e+01 6.50e+18  -1.0 2.42e+04    -  5.22e-02 4.38e-01w  1\n",
      "iter    objective    inf_pr   inf_du lg(mu)  ||d||  lg(rg) alpha_du alpha_pr  ls\n",
      " 270  4.8096108e-01 1.42e-01 9.11e+16  -1.0 1.61e+04  -1.6 1.00e+00 6.56e-04h  9\n",
      " 271  4.8038968e-01 1.42e-01 1.00e+17  -1.0 1.23e+04    -  9.11e-02 3.63e-03h  8\n",
      " 272  4.7988465e-01 1.42e-01 2.06e+17  -1.0 1.04e+04    -  1.00e+00 3.79e-03h  8\n",
      " 273  4.9346183e-01 5.41e-02 3.97e+17  -1.0 3.65e+03    -  1.00e+00 7.30e-01H  1\n",
      " 274  4.8606422e-01 1.14e-01 4.18e+17  -1.0 6.07e+04    -  2.44e-03 9.52e-03f  4\n",
      " 275  4.8594843e-01 1.14e-01 1.83e+17  -1.0 5.44e+04    -  1.85e-01 1.66e-04h 10\n",
      " 276  4.8578442e-01 1.14e-01 3.83e+17  -1.0 3.45e+04    -  1.62e-01 3.72e-04h 11\n",
      " 277  4.8558804e-01 1.14e-01 4.17e+17  -1.0 3.31e+04    -  3.20e-02 4.63e-04h 11\n",
      " 278  4.8539220e-01 1.14e-01 5.88e+17  -1.0 3.30e+04    -  1.62e-01 4.65e-04h 11\n",
      " 279  4.8519815e-01 1.14e-01 6.10e+17  -1.0 3.23e+04    -  2.68e-02 4.69e-04h 11\n",
      "iter    objective    inf_pr   inf_du lg(mu)  ||d||  lg(rg) alpha_du alpha_pr  ls\n",
      " 280  4.8500441e-01 1.14e-01 7.49e+17  -1.0 3.22e+04    -  1.67e-01 4.70e-04h 11\n",
      " 281  4.8481181e-01 1.14e-01 7.67e+17  -1.0 3.19e+04    -  2.85e-02 4.73e-04h 11\n",
      " 282  4.8461945e-01 1.14e-01 1.42e+18  -1.0 3.18e+04    -  1.00e+00 4.73e-04h 11\n",
      " 283  4.8443015e-01 1.14e-01 1.42e+18  -1.0 3.07e+04    -  2.66e-02 4.82e-04h 11\n",
      " 284  2.9068911e-01 1.03e+02 5.67e+19  -1.0 3.07e+04    -  2.39e-01 4.93e-01w  1\n",
      " 285  4.3888848e-01 1.32e+02 4.09e+19  -1.0 2.86e+04    -  2.89e-01 4.11e-01w  1\n",
      " 286  4.7686688e-01 1.73e+01 3.05e+19  -1.0 2.93e+03  -1.2 3.11e-01 9.90e-01w  1\n",
      " 287  4.8424096e-01 1.14e-01 1.41e+18  -1.0 1.05e+03    -  2.39e-01 4.82e-04h 10\n",
      " 288  4.8405185e-01 1.14e-01 1.41e+18  -1.0 3.07e+04    -  3.21e-02 4.82e-04h 11\n",
      " 289  4.8386286e-01 1.14e-01 1.37e+18  -1.0 3.07e+04    -  1.00e+00 4.82e-04h 11\n",
      "iter    objective    inf_pr   inf_du lg(mu)  ||d||  lg(rg) alpha_du alpha_pr  ls\n",
      " 290  4.8367386e-01 1.14e-01 1.37e+18  -1.0 3.07e+04    -  2.85e-02 4.82e-04h 11\n",
      " 291  4.8348499e-01 1.14e-01 1.37e+18  -1.0 3.07e+04    -  2.17e-01 4.82e-04h 11\n",
      " 292  4.8329623e-01 1.14e-01 1.37e+18  -1.0 3.06e+04    -  3.51e-02 4.82e-04h 11\n",
      " 293  4.8310759e-01 1.14e-01 1.36e+18  -1.0 3.06e+04    -  1.00e+00 4.82e-04h 11\n",
      " 294  4.8291905e-01 1.14e-01 1.36e+18  -1.0 3.06e+04    -  3.04e-02 4.82e-04h 11\n",
      " 295  4.8273062e-01 1.14e-01 1.36e+18  -1.0 3.06e+04    -  2.24e-01 4.82e-04h 11\n",
      " 296  4.8254231e-01 1.14e-01 1.36e+18  -1.0 3.06e+04    -  3.74e-02 4.82e-04h 11\n",
      " 297  2.8982358e-01 1.03e+02 5.57e+19  -1.0 3.05e+04    -  1.00e+00 4.94e-01w  1\n",
      " 298  4.3916656e-01 1.32e+02 3.99e+19  -1.0 2.80e+04    -  2.84e-01 4.24e-01w  1\n",
      " 299  4.4190563e-01 1.31e+02 4.03e+19  -1.0 1.67e+04  -1.7 2.36e-01 1.26e-02w  1\n",
      "iter    objective    inf_pr   inf_du lg(mu)  ||d||  lg(rg) alpha_du alpha_pr  ls\n",
      " 300  4.8235412e-01 1.14e-01 1.35e+18  -1.0 3.03e+03  -1.3 1.00e+00 4.82e-04h 10\n",
      " 301  4.8216602e-01 1.14e-01 1.35e+18  -1.0 3.05e+04    -  3.24e-02 4.82e-04h 11\n",
      " 302  4.8197804e-01 1.14e-01 1.35e+18  -1.0 3.05e+04    -  2.30e-01 4.82e-04h 11\n",
      " 303  4.8179017e-01 1.14e-01 1.35e+18  -1.0 3.05e+04    -  3.98e-02 4.82e-04h 11\n",
      " 304  4.8160242e-01 1.14e-01 1.34e+18  -1.0 3.04e+04    -  1.00e+00 4.82e-04h 11\n",
      " 305  4.8141476e-01 1.14e-01 1.34e+18  -1.0 3.04e+04    -  3.44e-02 4.82e-04h 11\n",
      " 306  4.8122723e-01 1.14e-01 1.34e+18  -1.0 3.04e+04    -  2.36e-01 4.83e-04h 11\n",
      " 307  4.8103980e-01 1.14e-01 1.33e+18  -1.0 3.04e+04    -  4.21e-02 4.83e-04h 11\n",
      " 308  4.8085249e-01 1.14e-01 1.33e+18  -1.0 3.04e+04    -  1.00e+00 4.83e-04h 11\n",
      " 309  4.8066528e-01 1.14e-01 1.33e+18  -1.0 3.03e+04    -  3.63e-02 4.83e-04h 11\n",
      "iter    objective    inf_pr   inf_du lg(mu)  ||d||  lg(rg) alpha_du alpha_pr  ls\n",
      " 310  2.8907012e-01 1.04e+02 5.47e+19  -1.0 3.03e+04    -  2.42e-01 4.94e-01w  1\n",
      " 311  4.3935377e-01 1.33e+02 3.89e+19  -1.0 2.75e+04    -  2.86e-01 4.33e-01w  1\n",
      " 312  4.4193206e-01 1.32e+02 3.94e+19  -1.0 2.13e+04  -1.8 2.23e-01 9.33e-03w  1\n",
      " 313  4.8047819e-01 1.14e-01 1.32e+18  -1.0 3.60e+03  -1.3 2.42e-01 4.83e-04h 10\n",
      " 314  4.8029120e-01 1.14e-01 1.32e+18  -1.0 3.03e+04    -  4.45e-02 4.83e-04h 11\n",
      " 315  4.8010434e-01 1.14e-01 1.32e+18  -1.0 3.03e+04    -  1.00e+00 4.83e-04h 11\n",
      " 316  4.7991757e-01 1.14e-01 1.31e+18  -1.0 3.02e+04    -  3.83e-02 4.83e-04h 11\n",
      " 317  4.7973091e-01 1.14e-01 1.31e+18  -1.0 3.02e+04    -  2.48e-01 4.83e-04h 11\n",
      " 318  4.7954437e-01 1.14e-01 1.31e+18  -1.0 3.02e+04    -  4.68e-02 4.83e-04h 11\n",
      " 319  4.7935795e-01 1.14e-01 1.30e+18  -1.0 3.02e+04    -  1.00e+00 4.83e-04h 11\n",
      "iter    objective    inf_pr   inf_du lg(mu)  ||d||  lg(rg) alpha_du alpha_pr  ls\n",
      " 320  4.7917162e-01 1.14e-01 1.30e+18  -1.0 3.02e+04    -  4.02e-02 4.83e-04h 11\n",
      " 321  4.7898541e-01 1.14e-01 1.30e+18  -1.0 3.01e+04    -  2.54e-01 4.83e-04h 11\n",
      " 322  4.7879931e-01 1.14e-01 1.30e+18  -1.0 3.01e+04    -  4.92e-02 4.84e-04h 11\n",
      " 323  2.8834815e-01 1.05e+02 5.33e+19  -1.0 3.01e+04    -  1.00e+00 4.95e-01w  1\n",
      " 324  4.3958255e-01 1.34e+02 3.77e+19  -1.0 2.71e+04    -  2.90e-01 4.44e-01w  1\n",
      " 325  4.4204834e-01 1.33e+02 3.83e+19  -1.0 2.75e+04  -1.8 2.15e-01 6.95e-03w  1\n",
      " 326  4.7861333e-01 1.14e-01 1.29e+18  -1.0 4.13e+03  -1.4 1.00e+00 4.84e-04h 10\n",
      " 327  4.7842746e-01 1.14e-01 1.29e+18  -1.0 3.01e+04    -  4.22e-02 4.84e-04h 11\n",
      " 328  4.7824170e-01 1.14e-01 1.28e+18  -1.0 3.00e+04    -  2.61e-01 4.84e-04h 11\n",
      " 329  4.7805606e-01 1.14e-01 1.28e+18  -1.0 3.00e+04    -  5.15e-02 4.84e-04h 11\n",
      "iter    objective    inf_pr   inf_du lg(mu)  ||d||  lg(rg) alpha_du alpha_pr  ls\n",
      " 330  4.7787054e-01 1.14e-01 1.26e+18  -1.0 3.00e+04    -  1.00e+00 4.84e-04h 11\n",
      " 331  4.7768515e-01 1.14e-01 1.26e+18  -1.0 3.00e+04    -  4.42e-02 4.84e-04h 11\n",
      " 332  4.7749987e-01 1.14e-01 1.25e+18  -1.0 2.99e+04    -  2.68e-01 4.84e-04h 11\n",
      " 333  4.7731473e-01 1.14e-01 1.25e+18  -1.0 2.99e+04    -  5.39e-02 4.84e-04h 11\n",
      " 334  4.7712970e-01 1.14e-01 1.22e+18  -1.0 2.99e+04    -  1.00e+00 4.85e-04h 11\n",
      " 335  4.7694486e-01 1.14e-01 1.21e+18  -1.0 2.98e+04    -  4.63e-02 4.85e-04h 11\n",
      " 336  2.8779134e-01 1.05e+02 4.76e+19  -1.0 2.98e+04    -  2.75e-01 4.97e-01w  1\n",
      " 337  4.4091322e-01 1.33e+02 3.32e+19  -1.0 2.51e+04    -  3.07e-01 4.85e-01w  1\n",
      " 338  4.4365389e-01 1.32e+02 3.35e+19  -1.0 1.76e+04  -1.9 2.38e-01 1.20e-02w  1\n",
      " 339  4.7676015e-01 1.14e-01 1.19e+18  -1.0 2.28e+03  -1.4 2.75e-01 4.85e-04h 10\n",
      "iter    objective    inf_pr   inf_du lg(mu)  ||d||  lg(rg) alpha_du alpha_pr  ls\n",
      " 340  4.7657561e-01 1.14e-01 1.19e+18  -1.0 2.98e+04    -  5.63e-02 4.85e-04h 11\n",
      " 341  4.7639119e-01 1.14e-01 1.10e+18  -1.0 2.97e+04    -  1.00e+00 4.85e-04h 11\n",
      " 342  4.7620717e-01 1.14e-01 1.09e+18  -1.0 2.96e+04    -  4.85e-02 4.86e-04h 11\n",
      " 343  4.7602328e-01 1.14e-01 1.04e+18  -1.0 2.96e+04    -  2.82e-01 4.86e-04h 11\n",
      " 344  4.7583970e-01 1.14e-01 1.03e+18  -1.0 2.95e+04    -  5.91e-02 4.87e-04h 11\n",
      " 345  4.7565628e-01 1.14e-01 8.01e+17  -1.0 2.95e+04    -  1.00e+00 4.87e-04h 11\n",
      " 346  4.7547401e-01 1.14e-01 7.78e+17  -1.0 2.91e+04    -  5.12e-02 4.90e-04h 11\n",
      " 347  4.7529198e-01 1.14e-01 6.45e+17  -1.0 2.90e+04    -  2.89e-01 4.91e-04h 11\n",
      " 348  4.7511088e-01 1.14e-01 6.07e+17  -1.0 2.87e+04    -  6.31e-02 4.93e-04h 11\n",
      " 349  2.9003226e-01 1.00e+02 6.49e+17  -1.0 2.86e+04    -  1.00e+00 5.06e-01w  1\n",
      "iter    objective    inf_pr   inf_du lg(mu)  ||d||  lg(rg) alpha_du alpha_pr  ls\n",
      " 350  3.8052615e-01 4.99e+01 5.15e+17  -1.0 7.15e+03    -  2.80e-01 9.90e-01w  1\n",
      " 351  3.8220013e-01 7.42e-01 5.57e+16  -1.0 1.26e+02  -1.9 8.91e-01 9.90e-01w  1\n",
      " 352  3.8334105e-01 4.41e-03 1.13e+15  -1.0 9.06e+01  -2.4 9.89e-01 9.93e-01h  1\n",
      " 353  3.8410247e-01 1.75e-03 5.17e+14  -1.0 6.00e+01    -  9.88e-01 1.00e+00h  1\n",
      " 354  3.8489686e-01 1.91e-03 6.70e+12  -1.0 6.26e+01    -  9.86e-01 1.00e+00h  1\n",
      " 355  3.8549461e-01 2.97e-03 1.85e+12  -1.0 6.03e+03    -  7.37e-01 7.81e-03f  8\n",
      " 356  3.8586829e-01 3.38e-03 1.91e+12  -1.0 2.52e+04    -  8.11e-01 1.17e-03f  9\n",
      " 357  3.8624086e-01 3.79e-03 1.91e+12  -1.0 1.23e+04    -  1.00e+00 2.39e-03f  9\n",
      " 358  3.8664175e-01 4.23e-03 1.96e+12  -1.0 4.05e+03    -  1.00e+00 7.81e-03f  8\n",
      " 359  3.8696480e-01 4.53e-03 1.90e+12  -1.0 6.52e+03    -  1.00e+00 3.91e-03f  9\n",
      "iter    objective    inf_pr   inf_du lg(mu)  ||d||  lg(rg) alpha_du alpha_pr  ls\n",
      " 360  4.7183782e-01 1.42e+01 2.30e+11  -1.0 6.69e+03    -  1.00e+00 1.00e+00f  1\n",
      " 361  4.7838369e-01 6.71e-02 3.76e+09  -1.0 5.01e+02    -  1.00e+00 1.00e+00h  1\n",
      " 362  4.7856601e-01 3.43e-04 5.37e+05  -1.0 1.47e+01    -  1.00e+00 1.00e+00h  1\n",
      " 363  4.7583835e-01 9.29e-03 3.09e+10  -3.8 2.13e+02    -  8.59e-01 1.00e+00h  1\n",
      " 364  3.6493298e-01 2.46e+01 1.15e+10  -3.8 8.68e+03    -  7.72e-01 1.00e+00f  1\n",
      " 365  1.8129101e-01 4.79e+02 4.96e+09  -3.8 1.52e+04    -  4.03e-01 9.56e-01h  1\n",
      " 366  1.0662841e-01 2.94e+01 2.23e+11  -3.8 9.72e+03    -  5.91e-02 7.00e-01h  1\n",
      " 367  1.7222605e-01 4.51e+02 3.68e+11  -3.8 4.99e+03    -  5.40e-04 1.00e+00h  1\n",
      " 368  1.6802842e-01 1.06e+02 8.97e+10  -3.8 4.44e+02    -  3.96e-01 1.00e+00h  1\n",
      " 369  1.6848915e-01 3.47e-01 8.73e+09  -3.8 1.06e+02    -  9.76e-01 1.00e+00h  1\n",
      "iter    objective    inf_pr   inf_du lg(mu)  ||d||  lg(rg) alpha_du alpha_pr  ls\n",
      " 370  1.6746187e-01 3.88e+00 2.08e+09  -3.8 2.87e+02    -  8.22e-01 1.00e+00h  1\n",
      " 371  1.6757160e-01 2.01e+01 1.24e+09  -3.8 5.36e+02    -  8.29e-01 1.00e+00h  1\n",
      " 372  1.7461389e-01 2.58e+01 5.43e+08  -3.8 6.15e+02    -  5.68e-01 1.00e+00h  1\n",
      " 373  1.7865797e-01 1.60e+01 4.03e+08  -3.8 5.75e+02    -  5.82e-01 5.01e-01h  1\n",
      " 374  1.7716075e-01 6.58e-02 3.68e+07  -3.8 1.58e+02    -  4.61e-01 1.00e+00h  1\n",
      " 375  1.7612880e-01 1.39e-01 3.79e+06  -3.8 8.96e+01    -  1.00e+00 1.00e+00h  1\n",
      " 376  1.7646293e-01 2.04e-02 8.17e+04  -3.8 2.65e+01    -  1.00e+00 1.00e+00h  1\n",
      " 377  1.7647098e-01 9.11e-06 1.59e+02  -3.8 5.69e-01    -  1.00e+00 1.00e+00h  1\n",
      " 378  1.7647099e-01 1.09e-11 8.72e-05  -3.8 6.97e-04    -  1.00e+00 1.00e+00h  1\n",
      " 379  1.6787704e-01 2.24e+01 5.21e+07  -8.6 1.00e+03    -  2.30e-01 7.12e-01f  1\n",
      "iter    objective    inf_pr   inf_du lg(mu)  ||d||  lg(rg) alpha_du alpha_pr  ls\n",
      " 380  1.6439167e-01 5.80e+01 1.77e+10  -8.6 1.74e+03    -  5.18e-03 2.97e-01h  1\n",
      " 381  1.6528104e-01 5.59e+01 1.48e+10  -8.6 1.85e+03    -  4.51e-04 1.47e-01h  3\n",
      " 382  1.7147471e-01 1.62e+00 9.57e+09  -8.6 8.10e+02    -  1.87e-02 1.00e+00h  1\n",
      " 383  1.7011718e-01 8.45e+00 2.78e+09  -8.6 2.99e+02    -  4.68e-01 1.00e+00h  1\n",
      " 384  1.6821849e-01 5.73e+00 7.03e+08  -8.6 3.47e+02    -  7.10e-01 1.00e+00h  1\n",
      " 385  1.6766676e-01 4.25e+00 1.77e+08  -8.6 2.28e+02    -  7.52e-01 1.00e+00h  1\n",
      " 386  1.6784577e-01 1.10e+00 2.79e+07  -8.6 8.16e+01    -  8.95e-01 1.00e+00h  1\n",
      " 387  1.6791356e-01 3.90e-02 1.04e+06  -8.6 1.57e+01    -  1.00e+00 1.00e+00h  1\n",
      " 388  1.6791604e-01 3.97e-05 1.46e+03  -8.6 5.30e-01    -  1.00e+00 1.00e+00h  1\n",
      " 389  1.6791605e-01 5.83e-11 2.67e-03  -8.6 6.80e-04    -  1.00e+00 1.00e+00h  1\n",
      "iter    objective    inf_pr   inf_du lg(mu)  ||d||  lg(rg) alpha_du alpha_pr  ls\n",
      " 390  1.6791605e-01 9.09e-13 2.27e-12  -8.6 1.32e-09    -  1.00e+00 1.00e+00h  1\n",
      "\n",
      "Number of Iterations....: 390\n",
      "\n",
      "                                   (scaled)                 (unscaled)\n",
      "Objective...............:   1.6791604587268538e-01    1.6791604587268538e-01\n",
      "Dual infeasibility......:   2.2737367544323206e-12    3.5527136788005009e-09\n",
      "Constraint violation....:   4.5474735088646412e-13    9.0949470177292824e-13\n",
      "Complementarity.........:   2.5059035596801056e-09    2.5059035596801056e-09\n",
      "Overall NLP error.......:   2.5059035596801056e-09    3.5527136788005009e-09\n",
      "\n",
      "\n",
      "Number of objective function evaluations             = 2741\n",
      "Number of objective gradient evaluations             = 381\n",
      "Number of equality constraint evaluations            = 2743\n",
      "Number of inequality constraint evaluations          = 2743\n",
      "Number of equality constraint Jacobian evaluations   = 394\n",
      "Number of inequality constraint Jacobian evaluations = 394\n",
      "Number of Lagrangian Hessian evaluations             = 390\n",
      "Total CPU secs in IPOPT (w/o function evaluations)   =      1.063\n",
      "Total CPU secs in NLP function evaluations           =      0.099\n",
      "\n",
      "EXIT: Optimal Solution Found.\n"
     ]
    }
   ],
   "source": [
    "# Fix recovery rate to match the recovery rate of the SEC minimization result\n",
    "m.fs.unit.recovery_vol_phase.fix()\n",
    "\n",
    "optimization_results = solver.solve(m, tee=True)\n",
    "assert_optimal_termination(optimization_results)"
   ]
  },
  {
   "cell_type": "markdown",
   "metadata": {},
   "source": [
    "### Check results after cost optimization."
   ]
  },
  {
   "cell_type": "code",
   "execution_count": 41,
   "metadata": {},
   "outputs": [
    {
     "name": "stdout",
     "output_type": "stream",
     "text": [
      "area : Membrane area\n",
      "    Size=1, Index=None, Units=m**2\n",
      "    Key  : Lower : Value              : Upper : Fixed : Stale : Domain\n",
      "    None :     1 : 173.65023481604874 :  None : False : False : NonNegativeReals\n",
      "_pressure_outlet_ref : Size=1, Index=fs._time, ReferenceTo=fs.pump.control_volume.properties_out[...].component('pressure')\n",
      "    Key : Lower    : Value             : Upper : Fixed : Stale : Domain\n",
      "    0.0 : 100000.0 : 604914.4139268994 :  None : False : False : NonNegativeReals\n",
      "recovery_vol_phase : Volumetric-based recovery\n",
      "    Size=1, Index=fs._time*fs.properties.phase_list, Units=dimensionless\n",
      "    Key          : Lower : Value              : Upper : Fixed : Stale : Domain\n",
      "    (0.0, 'Liq') :     0 : 0.6231225846450952 :     1 :  True :  True :  Reals\n",
      "specific_energy_consumption : Size=1\n",
      "    Key  : Value\n",
      "    None : 0.299322480594945\n",
      "LCOW : Size=1\n",
      "    Key  : Value\n",
      "    None : 0.16791604587268538\n",
      "rejection_observed_phase_comp : Size=5\n",
      "    Key                    : Value\n",
      "     (0.0, 'Liq', 'Ca_2+') : 0.6535344980625756\n",
      "      (0.0, 'Liq', 'Cl_-') : 0.4800372578834504\n",
      "    (0.0, 'Liq', 'HCO3_-') : 0.4791636032142479\n",
      "      (0.0, 'Liq', 'Na_+') : 0.4133151717228377\n",
      "    (0.0, 'Liq', 'SO4_2-') : 0.9996990575052876\n",
      "rejection_intrinsic_phase_comp : Intrinsic solute rejection\n",
      "    Size=5, Index=fs._time*fs.properties.phase_list*fs.unit.solute_set, Units=dimensionless\n",
      "    Key                    : Lower  : Value              : Upper : Fixed : Stale : Domain\n",
      "     (0.0, 'Liq', 'Ca_2+') : -1.001 :  0.912283491545853 : 1.001 : False : False :  Reals\n",
      "      (0.0, 'Liq', 'Cl_-') : -1.001 : 0.7380646092303886 : 1.001 : False : False :  Reals\n",
      "    (0.0, 'Liq', 'HCO3_-') : -1.001 : 0.8528707337701137 : 1.001 : False : False :  Reals\n",
      "      (0.0, 'Liq', 'Na_+') : -1.001 : 0.7023316752675822 : 1.001 : False : False :  Reals\n",
      "    (0.0, 'Liq', 'SO4_2-') : -1.001 : 0.9999692230586132 : 1.001 : False : False :  Reals\n",
      "\n",
      "Average volumetric water flux=12.95261726867496 LMH\n"
     ]
    }
   ],
   "source": [
    "m.fs.unit.area.display()\n",
    "\n",
    "m.fs.pump.outlet.pressure.display()\n",
    "\n",
    "m.fs.unit.recovery_vol_phase.display()\n",
    "\n",
    "m.fs.costing.specific_energy_consumption.display()\n",
    "\n",
    "m.fs.costing.LCOW.display()\n",
    "\n",
    "m.fs.unit.rejection_observed_phase_comp.display()\n",
    "\n",
    "m.fs.unit.rejection_intrinsic_phase_comp.display()\n",
    "\n",
    "print(f\"\\nAverage volumetric water flux={value(pyunits.convert(m.fs.unit.flux_vol_water_avg[0],to_units=pyunits.L/pyunits.m**2/pyunits.hour))} LMH\")\n",
    "\n",
    "## Previous results from SEC optimization:\n",
    "# specific_energy_consumption : Size=1\n",
    "#     Key  : Value\n",
    "#     None : 0.1707081027046537\n",
    "# LCOW : Levelized Cost of Water based on flow fs.product.properties[0.0].flow_vol\n",
    "#     Size=1, Index=None, Units=USD_2018/m**3\n",
    "#     Key  : Lower : Value              : Upper : Fixed : Stale : Domain\n",
    "#     None :  None : 0.2921494718570934 :  None : False : False :  Reals\n",
    "\n",
    "## Previous results from simulation:\n",
    "# specific_energy_consumption : Size=1\n",
    "#     Key  : Value\n",
    "#     None : 1.3444516491470768\n",
    "# LCOW : Levelized Cost of Water based on flow fs.product.properties[0.0].flow_vol\n",
    "#     Size=1, Index=None, Units=USD_2018/m**3\n",
    "#     Key  : Lower : Value              : Upper : Fixed : Stale : Domain\n",
    "#     None :  None : 0.5316151578977553 :  None : False : False :  Reals"
   ]
  },
  {
   "cell_type": "markdown",
   "metadata": {},
   "source": [
    "#### Quick TDS calcs\n"
   ]
  },
  {
   "cell_type": "code",
   "execution_count": 42,
   "metadata": {},
   "outputs": [
    {
     "name": "stdout",
     "output_type": "stream",
     "text": [
      "TDS rejection = -1065.3086530693986\n"
     ]
    }
   ],
   "source": [
    "feed_tds=[value(sum(m.fs.feed.properties[0].mass_frac_phase_comp['Liq', j] for j in m.fs.properties.solute_set))]\n",
    "perm_tds= [value(sum(m.fs.product.properties[0].mass_frac_phase_comp['Liq', j] for j in m.fs.properties.solute_set))]\n",
    "print(f\"TDS rejection = {1-perm_tds[0]/feed_tds[0]}\")"
   ]
  },
  {
   "cell_type": "markdown",
   "metadata": {},
   "source": [
    "#### Print total hardness in feed, permeate, and brine."
   ]
  },
  {
   "cell_type": "code",
   "execution_count": 43,
   "metadata": {},
   "outputs": [
    {
     "name": "stdout",
     "output_type": "stream",
     "text": [
      "TH rejection 0.6535344980625757\n",
      "Total hardness (mg/L as CaCO3):\n",
      "\n",
      "Feed: 1001.1039519565796\n",
      "Brine: 1000\n",
      "Permeate: 346.8479832061754\n"
     ]
    }
   ],
   "source": [
    "feed_TH=value(m.fs.feed.properties[0].total_hardness)\n",
    "brine_TH=value(m.fs.disposal.properties[0].total_hardness)\n",
    "perm_TH=value(m.fs.product.properties[0].total_hardness)\n",
    "\n",
    "print(\"TH rejection\",1-perm_TH/feed_TH)\n",
    "print(\"Total hardness (mg/L as CaCO3):\\n\")\n",
    "print(\"Feed:\",feed_TH)\n",
    "print(\"Brine:\",brine_TH)\n",
    "print(\"Permeate:\",perm_TH)"
   ]
  },
  {
   "cell_type": "markdown",
   "metadata": {},
   "source": [
    "## Summary: \n",
    "### We covered how to build, scale, initialize, simulate and optimize a flowsheet, using the NF DSPM-DE as an example."
   ]
  },
  {
   "cell_type": "markdown",
   "metadata": {},
   "source": [
    "# Part 2: Demonstrate simulation and optimization of an NF DSPM-DE flowsheet in WaterTAP's graphical user interface (GUI). \n",
    "\n",
    "<div class=\"alert alert-block alert-info\">\n",
    "<b>Note:</b>\n",
    "The GUI installer can be downloaded from our homepage at: https://prommis.github.io/idaes-flowsheet-processor-ui/docs/Download/watertap/. MacOS is not fully supported or tested in WaterTAP at this time, so we recommend macOS users access the GUI through a Windows virtual machine to avoid potential flowsheet stability issues.\n",
    "</div>\n",
    "\n",
    "## The following video excerpt will cover Part 2 of this tutorial:"
   ]
  },
  {
   "cell_type": "code",
   "execution_count": 45,
   "metadata": {},
   "outputs": [
    {
     "data": {
      "image/jpeg": "[encoded data removed]",
      "text/html": [
       "\n",
       "        <iframe\n",
       "            width=\"400\"\n",
       "            height=\"300\"\n",
       "            src=\"https://www.youtube.com/embed/iRFYC0IWO90?start=1695&end=2249\"\n",
       "            frameborder=\"0\"\n",
       "            allowfullscreen\n",
       "            \n",
       "        ></iframe>\n",
       "        "
      ],
      "text/plain": [
       "<IPython.lib.display.YouTubeVideo at 0x1cc14bf3d50>"
      ]
     },
     "execution_count": 45,
     "metadata": {},
     "output_type": "execute_result"
    }
   ],
   "source": [
    "# This video was recorded at the NAWI Alliance Spring Meeting in 2023 \n",
    "YouTubeVideo('iRFYC0IWO90', start=1695, end=2249)"
   ]
  },
  {
   "cell_type": "code",
   "execution_count": null,
   "metadata": {},
   "outputs": [],
   "source": []
  }
 ],
 "metadata": {
  "kernelspec": {
   "display_name": "watertap-dev",
   "language": "python",
   "name": "watertap-dev"
  },
  "language_info": {
   "codemirror_mode": {
    "name": "ipython",
    "version": 3
   },
   "file_extension": ".py",
   "mimetype": "text/x-python",
   "name": "python",
   "nbconvert_exporter": "python",
   "pygments_lexer": "ipython3",
   "version": "3.11.5"
  }
 },
 "nbformat": 4,
 "nbformat_minor": 4
}
