{
 "cells": [
  {
   "cell_type": "markdown",
   "metadata": {},
   "source": [
    "# Modeling multicomponent rejection with nanofiltration\n",
    "### This demonstration was originally presented in the context of an \"Interactive Code Demonstration Using WaterTAP\" for the NAWI Alliance Spring Meeting in 2023. \n",
    "### Authors: Adam Atia, Alex Dudchenko\n",
    "### Maintainer: Adam Atia \n",
    "\n",
    "### Today's demonstration will show \n",
    "- Part 1: how to build, initialize, simulate, and optimize a flowsheet using the coded interface. This will be demonstrated with a nanofiltration (NF) unit model based on the Donnan Steric Pore Model with Dielectric Exclusion (DSPM-DE).\n",
    "- Part 2: demonstrate simulation and optimization of an NF DSPM-DE flowsheet in WaterTAP's graphical user interface.\n",
    "- Useful Links:\n",
    "    - Public Github Repository: https://github.com/watertap-org/watertap\n",
    "    - Documentation: https://watertap.readthedocs.io/en/stable/\n",
    "    - Installer for User Interface: https://watertap-org.github.io/"
   ]
  },
  {
   "cell_type": "markdown",
   "metadata": {},
   "source": [
    "# Part 1: Build, setup, simulate, and optimize the NF DSPM-DE unit model"
   ]
  },
  {
   "cell_type": "markdown",
   "metadata": {},
   "source": [
    "<img src=\"nf_ui.png\" width=\"500\" height=\"340\">"
   ]
  },
  {
   "cell_type": "markdown",
   "metadata": {},
   "source": [
    "<img src=\"nf_dspmde_transport_mechanisms.png\" width=\"500\" height=\"340\">\n",
    "Image source: <a href=\"https://doi.org/10.1016/j.desal.2017.07.020\">Roy et al., 2017</a>\n"
   ]
  },
  {
   "cell_type": "markdown",
   "metadata": {},
   "source": [
    "## Step 1: Import libraries from Pyomo, IDAES, and WaterTAP."
   ]
  },
  {
   "cell_type": "markdown",
   "metadata": {},
   "source": [
    "### Import some essentials from Pyomo and IDAES:"
   ]
  },
  {
   "cell_type": "code",
   "execution_count": null,
   "metadata": {},
   "outputs": [],
   "source": [
    "# Imports from Pyomo\n",
    "from pyomo.environ import (\n",
    "    ConcreteModel,\n",
    "    Constraint,\n",
    "    Objective,\n",
    "    Var,\n",
    "    value,\n",
    "    units as pyunits,\n",
    "    assert_optimal_termination,\n",
    "    check_optimal_termination,\n",
    "    TransformationFactory,\n",
    "    NonNegativeReals,\n",
    ")\n",
    "from pyomo.network import Arc\n",
    "\n",
    "# Imports from IDAES:\n",
    "# Import flowsheet block from IDAES core\n",
    "from idaes.core import FlowsheetBlock\n",
    "\n",
    "# Import propagate_state to initialize state variables between units\n",
    "from idaes.core.util.initialization import propagate_state\n",
    "\n",
    "# Import function to get default solver\n",
    "from watertap.core.solvers import get_solver\n",
    "\n",
    "# Import function to check degrees of freedom\n",
    "from idaes.core.util.model_statistics import degrees_of_freedom\n",
    "\n",
    "# Import utility function for calculating scaling factors\n",
    "from idaes.core.util.scaling import (\n",
    "    calculate_scaling_factors,\n",
    "    set_scaling_factor,\n",
    "    constraint_scaling_transform,\n",
    ")\n",
    "\n",
    "# Import IDAES units\n",
    "from idaes.models.unit_models import Feed, Product\n",
    "\n",
    "import idaes.logger as idaeslog\n",
    "\n",
    "_log = idaeslog.getLogger(__name__)"
   ]
  },
  {
   "cell_type": "markdown",
   "metadata": {},
   "source": [
    "### WaterTAP Imports: \n",
    "* multicomponent property model\n",
    "* pump\n",
    "* NF DSPM-DE unit model\n",
    "* configuration options, which can be used to change underlying model assumptions"
   ]
  },
  {
   "cell_type": "code",
   "execution_count": null,
   "metadata": {},
   "outputs": [],
   "source": [
    "# Imports from WaterTAP\n",
    "# Import MultiComponent Aqueous Solution property model\n",
    "from watertap.property_models.multicomp_aq_sol_prop_pack import (\n",
    "    MCASParameterBlock,\n",
    "    ActivityCoefficientModel,\n",
    "    DensityCalculation,\n",
    ")\n",
    "\n",
    "# Import pump model\n",
    "from watertap.unit_models.pressure_changer import Pump\n",
    "\n",
    "# Import NF DSPM-DE model\n",
    "from watertap.unit_models.nanofiltration_DSPMDE_0D import (\n",
    "    NanofiltrationDSPMDE0D,\n",
    "    MassTransferCoefficient,\n",
    "    ConcentrationPolarizationType,\n",
    ")"
   ]
  },
  {
   "cell_type": "markdown",
   "metadata": {},
   "source": [
    "### Imports for costing:"
   ]
  },
  {
   "cell_type": "code",
   "execution_count": null,
   "metadata": {},
   "outputs": [],
   "source": [
    "from idaes.core import UnitModelCostingBlock\n",
    "from watertap.costing import WaterTAPCosting"
   ]
  },
  {
   "cell_type": "markdown",
   "metadata": {},
   "source": [
    "## Step 2: Start building the components needed in the NF DSPM-DE flowsheet."
   ]
  },
  {
   "cell_type": "markdown",
   "metadata": {},
   "source": [
    "### Create a Pyomo concrete model and flowsheet "
   ]
  },
  {
   "cell_type": "code",
   "execution_count": null,
   "metadata": {},
   "outputs": [],
   "source": [
    "m = ConcreteModel()\n",
    "m.fs = FlowsheetBlock(dynamic=False)"
   ]
  },
  {
   "cell_type": "markdown",
   "metadata": {},
   "source": [
    "### Set up solute/solution properties required by the DSPM-DE model.\n",
    "* Define a list of solutes\n",
    "* For each solute, provide data on\n",
    "    * Diffusivity\n",
    "    * Molecular weight\n",
    "    * Stokes' radius\n",
    "    * Charge\n",
    "* Choose ideal solution (activity coefficients=1) or Davies model"
   ]
  },
  {
   "cell_type": "code",
   "execution_count": null,
   "metadata": {},
   "outputs": [],
   "source": [
    "property_kwds = {\n",
    "    \"solute_list\": [\n",
    "        \"Ca_2+\",\n",
    "        \"SO4_2-\",\n",
    "        \"HCO3_-\",\n",
    "        \"Na_+\",\n",
    "        \"Cl_-\",\n",
    "    ],\n",
    "    \"diffusivity_data\": {\n",
    "        (\"Liq\", \"Ca_2+\"): 9.2e-10,\n",
    "        (\"Liq\", \"SO4_2-\"): 1.06e-9,\n",
    "        (\"Liq\", \"HCO3_-\"): 1.19e-9,\n",
    "        (\"Liq\", \"Na_+\"): 1.33e-9,\n",
    "        (\"Liq\", \"Cl_-\"): 2.03e-9,\n",
    "    },\n",
    "    \"mw_data\": {\n",
    "        \"H2O\": 18e-3,\n",
    "        \"Ca_2+\": 40e-3,\n",
    "        \"HCO3_-\": 61.0168e-3,\n",
    "        \"SO4_2-\": 96e-3,\n",
    "        \"Na_+\": 23e-3,\n",
    "        \"Cl_-\": 35e-3,\n",
    "    },\n",
    "    \"stokes_radius_data\": {\n",
    "        \"Ca_2+\": 0.309e-9,\n",
    "        \"HCO3_-\": 2.06e-10,\n",
    "        \"SO4_2-\": 0.230e-9,\n",
    "        \"Cl_-\": 0.121e-9,\n",
    "        \"Na_+\": 0.184e-9,\n",
    "    },\n",
    "    \"charge\": {\n",
    "        \"Ca_2+\": 2,\n",
    "        \"HCO3_-\": -1,\n",
    "        \"SO4_2-\": -2,\n",
    "        \"Na_+\": 1,\n",
    "        \"Cl_-\": -1,\n",
    "    },\n",
    "    \"activity_coefficient_model\": ActivityCoefficientModel.davies,\n",
    "}"
   ]
  },
  {
   "cell_type": "markdown",
   "metadata": {},
   "source": [
    "### Create an instance of WaterTAP's multicomponent aqueous solution (MCAS) property model"
   ]
  },
  {
   "cell_type": "code",
   "execution_count": null,
   "metadata": {},
   "outputs": [],
   "source": [
    "m.fs.properties = MCASParameterBlock(**property_kwds)"
   ]
  },
  {
   "cell_type": "markdown",
   "metadata": {},
   "source": [
    "### Add a feed, product, and disposal blocks\n",
    "* Feed for inlet composition\n",
    "* Product for NF permeate\n",
    "* Disposal for NF concentrate"
   ]
  },
  {
   "cell_type": "code",
   "execution_count": null,
   "metadata": {},
   "outputs": [],
   "source": [
    "m.fs.feed = Feed(property_package=m.fs.properties)\n",
    "m.fs.product = Product(property_package=m.fs.properties)\n",
    "m.fs.disposal = Product(property_package=m.fs.properties)"
   ]
  },
  {
   "cell_type": "markdown",
   "metadata": {},
   "source": [
    "### Add a pump and an NF DSPM-DE unit to the flowsheet."
   ]
  },
  {
   "cell_type": "code",
   "execution_count": null,
   "metadata": {},
   "outputs": [],
   "source": [
    "m.fs.pump = Pump(property_package=m.fs.properties)\n",
    "m.fs.unit = NanofiltrationDSPMDE0D(\n",
    "    property_package=m.fs.properties,\n",
    "    concentration_polarization_type=ConcentrationPolarizationType.calculated,\n",
    "    mass_transfer_coefficient=MassTransferCoefficient.spiral_wound,\n",
    "    has_pressure_change=True,\n",
    ")"
   ]
  },
  {
   "cell_type": "markdown",
   "metadata": {},
   "source": [
    "### Now, let's connect all of our units within the flowsheet. "
   ]
  },
  {
   "cell_type": "code",
   "execution_count": null,
   "metadata": {},
   "outputs": [],
   "source": [
    "m.fs.feed_to_pump = Arc(source=m.fs.feed.outlet, destination=m.fs.pump.inlet)\n",
    "\n",
    "m.fs.pump_to_nf = Arc(source=m.fs.pump.outlet, destination=m.fs.unit.inlet)\n",
    "\n",
    "m.fs.nf_to_product = Arc(source=m.fs.unit.permeate, destination=m.fs.product.inlet)\n",
    "\n",
    "m.fs.nf_to_disposal = Arc(source=m.fs.unit.retentate, destination=m.fs.disposal.inlet)\n",
    "\n",
    "TransformationFactory(\"network.expand_arcs\").apply_to(m)"
   ]
  },
  {
   "cell_type": "markdown",
   "metadata": {},
   "source": [
    "## Step 3: Specify values for system variables."
   ]
  },
  {
   "cell_type": "markdown",
   "metadata": {},
   "source": [
    "### Fix inlet state variables \n",
    "* mole flow rates of each component\n",
    "* temperature\n",
    "* pressure"
   ]
  },
  {
   "cell_type": "markdown",
   "metadata": {},
   "source": [
    "#### From mass fractions of each ion in solution, calculate molar flow rates--the state variables of our property model"
   ]
  },
  {
   "cell_type": "code",
   "execution_count": null,
   "metadata": {},
   "outputs": [],
   "source": [
    "m.fs.feed.properties[0].temperature.fix(298.15)\n",
    "m.fs.feed.properties[0].pressure.fix(101325)\n",
    "\n",
    "feed_mass_frac = {\n",
    "    \"Ca_2+\": 4.0034374454637006e-04,\n",
    "    \"HCO3_-\": 0.00022696833343821863,\n",
    "    \"SO4_2-\": 0.00020497140244420624,\n",
    "    \"Cl_-\": 0.0004559124032433401,\n",
    "    \"Na_+\": 0.00043333830389924205,\n",
    "}\n",
    "H2O_mass_frac = 1 - sum(x for x in feed_mass_frac.values())\n",
    "\n",
    "# scale molar flowrate variables\n",
    "m.fs.properties.set_default_scaling(\n",
    "    \"flow_mol_phase_comp\", 1 / 0.01, index=(\"Liq\", \"Ca_2+\")\n",
    ")\n",
    "m.fs.properties.set_default_scaling(\n",
    "    \"flow_mol_phase_comp\", 1 / 0.002, index=(\"Liq\", \"SO4_2-\")\n",
    ")\n",
    "m.fs.properties.set_default_scaling(\n",
    "    \"flow_mol_phase_comp\", 1 / 0.0037, index=(\"Liq\", \"HCO3_-\")\n",
    ")\n",
    "m.fs.properties.set_default_scaling(\n",
    "    \"flow_mol_phase_comp\", 1 / 0.013, index=(\"Liq\", \"Cl_-\")\n",
    ")\n",
    "m.fs.properties.set_default_scaling(\n",
    "    \"flow_mol_phase_comp\", 1 / 0.018, index=(\"Liq\", \"Na_+\")\n",
    ")\n",
    "m.fs.properties.set_default_scaling(\"flow_mol_phase_comp\", 1 / 55, index=(\"Liq\", \"H2O\"))\n",
    "\n",
    "m.fs.feed.properties[0].mass_frac_phase_comp\n",
    "m.fs.feed.properties[0].conc_mol_phase_comp\n",
    "m.fs.feed.properties[0].conc_mass_phase_comp\n",
    "m.fs.feed.properties[0].flow_vol_phase\n",
    "calculate_scaling_factors(m.fs.feed.properties[0])\n",
    "m.fs.feed.properties.calculate_state(\n",
    "    var_args={\n",
    "        (\"mass_frac_phase_comp\", (\"Liq\", \"Ca_2+\")): 4.0034374454637006e-04,\n",
    "        (\"mass_frac_phase_comp\", (\"Liq\", \"HCO3_-\")): 0.00022696833343821863,\n",
    "        (\"mass_frac_phase_comp\", (\"Liq\", \"SO4_2-\")): 0.00020497140244420624,\n",
    "        (\"mass_frac_phase_comp\", (\"Liq\", \"Cl_-\")): 0.0004559124032433401,\n",
    "        (\"mass_frac_phase_comp\", (\"Liq\", \"Na_+\")): 0.00043333830389924205,\n",
    "        (\"flow_vol_phase\", \"Liq\"): 1e-3,\n",
    "    },\n",
    "    hold_state=True,\n",
    ")\n",
    "m.fs.feed.display()"
   ]
  },
  {
   "cell_type": "markdown",
   "metadata": {},
   "source": [
    "### Display feed composition"
   ]
  },
  {
   "cell_type": "code",
   "execution_count": null,
   "metadata": {},
   "outputs": [],
   "source": [
    "print(\"Mole flow rates (mole/s)\")\n",
    "[\n",
    "    print(f\"{j} = {value(m.fs.feed.properties[0].flow_mol_phase_comp['Liq', j])}\")\n",
    "    for j in m.fs.properties.component_list\n",
    "]\n",
    "print(\"\\nMolarities (mol/m3)\")\n",
    "[\n",
    "    print(f\"{j} = {value(m.fs.feed.properties[0].conc_mol_phase_comp['Liq', j])}\")\n",
    "    for j in m.fs.properties.component_list\n",
    "]\n",
    "print(\"\\nMass fractions (ppm)\")\n",
    "[\n",
    "    print(f\"{j} = {value(m.fs.feed.properties[0].mass_frac_phase_comp['Liq', j])*1e6}\")\n",
    "    for j in m.fs.properties.component_list\n",
    "];"
   ]
  },
  {
   "cell_type": "markdown",
   "metadata": {},
   "source": [
    "### Use assert_electroneutrality method from property model to ensure the ion concentrations provided obey electroneutrality condition"
   ]
  },
  {
   "cell_type": "code",
   "execution_count": null,
   "metadata": {},
   "outputs": [],
   "source": [
    "m.fs.feed.properties[0].assert_electroneutrality(\n",
    "    defined_state=True,\n",
    "    adjust_by_ion=\"Cl_-\",\n",
    ")"
   ]
  },
  {
   "cell_type": "markdown",
   "metadata": {},
   "source": [
    "### Display feed composition again, after adjustment to achieve electroneutrality"
   ]
  },
  {
   "cell_type": "code",
   "execution_count": null,
   "metadata": {},
   "outputs": [],
   "source": [
    "print(\"Mole flow rates (mole/s)\")\n",
    "[\n",
    "    print(f\"{j} = {value(m.fs.feed.properties[0].flow_mol_phase_comp['Liq', j])}\")\n",
    "    for j in m.fs.properties.component_list\n",
    "]\n",
    "print(\"\\nMolarities (mol/m3)\")\n",
    "[\n",
    "    print(f\"{j} = {value(m.fs.feed.properties[0].conc_mol_phase_comp['Liq', j])}\")\n",
    "    for j in m.fs.properties.component_list\n",
    "]\n",
    "print(\"\\nMass fractions (ppm)\")\n",
    "[\n",
    "    print(f\"{j} = {value(m.fs.feed.properties[0].mass_frac_phase_comp['Liq', j])*1e6}\")\n",
    "    for j in m.fs.properties.component_list\n",
    "];"
   ]
  },
  {
   "cell_type": "markdown",
   "metadata": {},
   "source": [
    "### Fix pump variables for initial simulation.\n",
    "* Pump efficiency\n",
    "* Pump discharge pressure"
   ]
  },
  {
   "cell_type": "code",
   "execution_count": null,
   "metadata": {},
   "outputs": [],
   "source": [
    "m.fs.pump.efficiency_pump[0].fix(0.75)\n",
    "m.fs.pump.outlet.pressure[0].fix(3e5)\n",
    "\n",
    "# To check units of pressure:\n",
    "# print(str(m.fs.pump.outlet.pressure[0]._units))"
   ]
  },
  {
   "cell_type": "markdown",
   "metadata": {},
   "source": [
    "### Fix the membrane variables that are typically fixed for the DSPM-DE model.\n",
    "* membrane pore radius\n",
    "* effective membrane thickness\n",
    "* membrane charge density\n",
    "* pore dielectric constant\n"
   ]
  },
  {
   "cell_type": "code",
   "execution_count": null,
   "metadata": {},
   "outputs": [],
   "source": [
    "m.fs.unit.radius_pore.fix(0.5e-9)\n",
    "m.fs.unit.membrane_thickness_effective.fix(8.6e-07)\n",
    "m.fs.unit.membrane_charge_density.fix(-680)\n",
    "m.fs.unit.dielectric_constant_pore.fix(41.3)\n",
    "\n",
    "# Fix final permeate pressure to be ~atmospheric\n",
    "m.fs.unit.mixed_permeate[0].pressure.fix(101325)\n",
    "m.fs.unit.deltaP.fix(0 * pyunits.bar)\n",
    "\n",
    "m.fs.unit.spacer_porosity.fix(0.85)\n",
    "m.fs.unit.channel_height.fix(1e-3)\n",
    "m.fs.unit.velocity[0, 0].fix(0.25)\n",
    "m.fs.unit.area.fix(50)\n",
    "\n",
    "# Fix additional variables for calculating mass transfer coefficient with spiral wound correlation\n",
    "m.fs.unit.spacer_mixing_efficiency.fix()\n",
    "m.fs.unit.spacer_mixing_length.fix()\n",
    "\n",
    "# Create on-demand property, \"total hardness\" for the NF permeate by \"touching\" it\n",
    "m.fs.product.properties[0].total_hardness;"
   ]
  },
  {
   "cell_type": "markdown",
   "metadata": {},
   "source": [
    "## Step 4: Calculate scaling factors for variables.\n",
    "We can aim for scaling factors that are approximately the inverse of variable values. \n",
    "For example, if we know pressure is typically around 1e6 Pa, we could apply a scaling factor of 1e-6 to scale the variable value of pressure to 1.\n"
   ]
  },
  {
   "cell_type": "code",
   "execution_count": null,
   "metadata": {},
   "outputs": [],
   "source": [
    "m.fs.properties.set_default_scaling(\n",
    "    \"flow_mol_phase_comp\", 1 / 0.01, index=(\"Liq\", \"Ca_2+\")\n",
    ")\n",
    "m.fs.properties.set_default_scaling(\n",
    "    \"flow_mol_phase_comp\", 1 / 0.002, index=(\"Liq\", \"SO4_2-\")\n",
    ")\n",
    "m.fs.properties.set_default_scaling(\n",
    "    \"flow_mol_phase_comp\", 1 / 0.0037, index=(\"Liq\", \"HCO3_-\")\n",
    ")\n",
    "m.fs.properties.set_default_scaling(\n",
    "    \"flow_mol_phase_comp\", 1 / 0.013, index=(\"Liq\", \"Cl_-\")\n",
    ")\n",
    "m.fs.properties.set_default_scaling(\n",
    "    \"flow_mol_phase_comp\", 1 / 0.018, index=(\"Liq\", \"Na_+\")\n",
    ")\n",
    "m.fs.properties.set_default_scaling(\"flow_mol_phase_comp\", 1 / 55, index=(\"Liq\", \"H2O\"))\n",
    "\n",
    "set_scaling_factor(m.fs.unit.area, 0.1)\n",
    "\n",
    "calculate_scaling_factors(m);"
   ]
  },
  {
   "cell_type": "markdown",
   "metadata": {},
   "source": [
    "## Step 5: Initialize the model."
   ]
  },
  {
   "cell_type": "code",
   "execution_count": null,
   "metadata": {},
   "outputs": [],
   "source": [
    "m.fs.feed.initialize()\n",
    "\n",
    "propagate_state(m.fs.feed_to_pump)\n",
    "m.fs.pump.initialize()\n",
    "\n",
    "propagate_state(m.fs.pump_to_nf)\n",
    "m.fs.unit.initialize()\n",
    "\n",
    "propagate_state(m.fs.nf_to_product)\n",
    "propagate_state(m.fs.nf_to_disposal)\n",
    "m.fs.product.initialize()"
   ]
  },
  {
   "cell_type": "code",
   "execution_count": null,
   "metadata": {},
   "outputs": [],
   "source": [
    "m.fs.feed.report()\n",
    "m.fs.pump.report()\n",
    "m.fs.unit.report()"
   ]
  },
  {
   "cell_type": "markdown",
   "metadata": {},
   "source": [
    "### Display feed pressure, membrane area, and rejection rates after initializing the flowsheet."
   ]
  },
  {
   "cell_type": "code",
   "execution_count": null,
   "metadata": {},
   "outputs": [],
   "source": [
    "m.fs.unit.inlet.pressure[0].display()\n",
    "m.fs.unit.area.display()\n",
    "m.fs.unit.rejection_observed_phase_comp.display()\n",
    "m.fs.unit.rejection_intrinsic_phase_comp.display()"
   ]
  },
  {
   "cell_type": "markdown",
   "metadata": {},
   "source": [
    "## Step 6: Setup a solver and run a simulation."
   ]
  },
  {
   "cell_type": "markdown",
   "metadata": {},
   "source": [
    "### The degrees of freedom should be 0 for a simulation.\n",
    "Check that degrees of freedom = 0 before attempting simulation. This means that the performance of the flowsheet is completely determined by the system variables that were fixed above."
   ]
  },
  {
   "cell_type": "code",
   "execution_count": null,
   "metadata": {},
   "outputs": [],
   "source": [
    "print(f\"Degrees of freedom = {degrees_of_freedom(m)}\")\n",
    "assert degrees_of_freedom(m) == 0"
   ]
  },
  {
   "cell_type": "markdown",
   "metadata": {},
   "source": [
    "### Setup solver"
   ]
  },
  {
   "cell_type": "code",
   "execution_count": null,
   "metadata": {},
   "outputs": [],
   "source": [
    "solver = get_solver()"
   ]
  },
  {
   "cell_type": "markdown",
   "metadata": {},
   "source": [
    "### Run simulation\n"
   ]
  },
  {
   "cell_type": "code",
   "execution_count": null,
   "metadata": {},
   "outputs": [],
   "source": [
    "simulation_results = solver.solve(m)\n",
    "assert_optimal_termination(simulation_results)"
   ]
  },
  {
   "cell_type": "markdown",
   "metadata": {
    "collapsed": true,
    "jupyter": {
     "outputs_hidden": true
    }
   },
   "source": [
    "### Display feed pressure, membrane area, rejection rates, and water flux after simulation."
   ]
  },
  {
   "cell_type": "code",
   "execution_count": null,
   "metadata": {},
   "outputs": [],
   "source": [
    "m.fs.pump.outlet.pressure[0].display()\n",
    "m.fs.unit.area.display()\n",
    "m.fs.unit.rejection_observed_phase_comp.display()\n",
    "m.fs.unit.rejection_intrinsic_phase_comp.display()\n",
    "print(\n",
    "    f\"\\nAverage volumetric water flux={value(pyunits.convert(m.fs.unit.flux_vol_water_avg[0],to_units=pyunits.L/pyunits.m**2/pyunits.hour))} LMH\"\n",
    ")"
   ]
  },
  {
   "cell_type": "markdown",
   "metadata": {},
   "source": [
    "### Sweep across pressure and plot rejection rates "
   ]
  },
  {
   "cell_type": "code",
   "execution_count": null,
   "metadata": {},
   "outputs": [],
   "source": [
    "import numpy as np\n",
    "\n",
    "area = []\n",
    "pressure = []\n",
    "ca_rej = []\n",
    "hco3_rej = []\n",
    "na_rej = []\n",
    "cl_rej = []\n",
    "so4_rej = []\n",
    "recovery = []\n",
    "water_flux = []\n",
    "\n",
    "\n",
    "m.fs.unit.area.setub(None)\n",
    "# for r in np.arange(0.05,1,.10):\n",
    "for p in np.arange(2e5, 11e5, 1e5):\n",
    "    m.fs.pump.outlet.pressure.fix(p)\n",
    "    assert degrees_of_freedom(m) == 0\n",
    "    optimization_results = solver.solve(m, tee=False)\n",
    "    try:\n",
    "        assert_optimal_termination(optimization_results)\n",
    "    except RuntimeError:\n",
    "        optimization_results = solver.solve(m, tee=False)\n",
    "        if not check_optimal_termination(optimization_results):\n",
    "            continue\n",
    "        else:\n",
    "            pass\n",
    "    area.append(value(m.fs.unit.area))\n",
    "    pressure.append(value(m.fs.unit.inlet.pressure[0]))\n",
    "    ca_rej.append(value(m.fs.unit.rejection_intrinsic_phase_comp[0, \"Liq\", \"Ca_2+\"]))\n",
    "    hco3_rej.append(value(m.fs.unit.rejection_intrinsic_phase_comp[0, \"Liq\", \"HCO3_-\"]))\n",
    "    na_rej.append(value(m.fs.unit.rejection_intrinsic_phase_comp[0, \"Liq\", \"Na_+\"]))\n",
    "    cl_rej.append(value(m.fs.unit.rejection_intrinsic_phase_comp[0, \"Liq\", \"Cl_-\"]))\n",
    "    so4_rej.append(value(m.fs.unit.rejection_intrinsic_phase_comp[0, \"Liq\", \"SO4_2-\"]))\n",
    "    recovery.append(value(m.fs.unit.recovery_vol_phase[0, \"Liq\"]))\n",
    "    water_flux.append(value(m.fs.unit.flux_vol_water_avg[0] * 3.6e6))"
   ]
  },
  {
   "cell_type": "code",
   "execution_count": null,
   "metadata": {},
   "outputs": [],
   "source": [
    "import matplotlib.pyplot as plt\n",
    "\n",
    "plt.plot(recovery, ca_rej, \"-o\")\n",
    "plt.plot(recovery, so4_rej, \"-o\")\n",
    "plt.plot(recovery, hco3_rej, \"-o\")\n",
    "plt.plot(recovery, na_rej, \"-o\")\n",
    "plt.plot(recovery, cl_rej, \"-o\")\n",
    "plt.legend([\"Ca\", \"SO4\", \"HCO3\", \"Na\", \"Cl\"])\n",
    "plt.xlabel(\"Recovery (-)\")\n",
    "plt.ylabel(\"Intrinsic Rejection (-)\")"
   ]
  },
  {
   "cell_type": "code",
   "execution_count": null,
   "metadata": {},
   "outputs": [],
   "source": [
    "plt.plot(pressure, ca_rej, \"-o\")\n",
    "plt.plot(pressure, so4_rej, \"-o\")\n",
    "plt.plot(pressure, hco3_rej, \"-o\")\n",
    "plt.plot(pressure, na_rej, \"-o\")\n",
    "plt.plot(pressure, cl_rej, \"-o\")\n",
    "plt.legend([\"Ca\", \"SO4\", \"HCO3\", \"Na\", \"Cl\"])\n",
    "plt.xlabel(\"Pressure (Pa)\")\n",
    "plt.ylabel(\"Intrinsic Rejection (-)\")"
   ]
  },
  {
   "cell_type": "code",
   "execution_count": null,
   "metadata": {},
   "outputs": [],
   "source": [
    "plt.plot(water_flux, ca_rej, \"-o\")\n",
    "plt.plot(water_flux, so4_rej, \"-o\")\n",
    "plt.plot(water_flux, hco3_rej, \"-o\")\n",
    "plt.plot(water_flux, na_rej, \"-o\")\n",
    "plt.plot(water_flux, cl_rej, \"-o\")\n",
    "plt.legend([\"Ca\", \"SO4\", \"HCO3\", \"Na\", \"Cl\"])\n",
    "plt.xlabel(\"Average Water Flux (LMH)\")\n",
    "plt.ylabel(\"Intrinsic Rejection (-)\")"
   ]
  },
  {
   "cell_type": "markdown",
   "metadata": {},
   "source": [
    "## Add costing to the flowsheet."
   ]
  },
  {
   "cell_type": "code",
   "execution_count": null,
   "metadata": {},
   "outputs": [],
   "source": [
    "m.fs.costing = WaterTAPCosting()\n",
    "m.fs.pump.costing = UnitModelCostingBlock(flowsheet_costing_block=m.fs.costing)\n",
    "m.fs.unit.costing = UnitModelCostingBlock(flowsheet_costing_block=m.fs.costing)\n",
    "\n",
    "m.fs.costing.disposal_cost = Var(\n",
    "    initialize=0.1,\n",
    "    bounds=(0, None),\n",
    "    doc=\"disposal cost\",\n",
    "    units=pyunits.USD_2018 / pyunits.m**3,\n",
    ")\n",
    "m.fs.costing.disposal_cost.fix()\n",
    "m.fs.costing.register_flow_type(\"disposal\", m.fs.costing.disposal_cost)\n",
    "m.fs.costing.cost_flow(m.fs.disposal.properties[0].flow_vol_phase[\"Liq\"], \"disposal\")\n",
    "m.fs.costing.base_currency = pyunits.USD_2018\n",
    "m.fs.costing.cost_process()\n",
    "\n",
    "m.fs.costing.add_annual_water_production(m.fs.product.properties[0].flow_vol)\n",
    "m.fs.costing.add_LCOW(m.fs.product.properties[0].flow_vol)\n",
    "m.fs.costing.add_specific_energy_consumption(m.fs.product.properties[0].flow_vol)"
   ]
  },
  {
   "cell_type": "markdown",
   "metadata": {},
   "source": [
    "### Initialize the costing block"
   ]
  },
  {
   "cell_type": "code",
   "execution_count": null,
   "metadata": {},
   "outputs": [],
   "source": [
    "m.fs.costing.initialize()"
   ]
  },
  {
   "cell_type": "markdown",
   "metadata": {},
   "source": [
    "### Run simulation with costing included"
   ]
  },
  {
   "cell_type": "code",
   "execution_count": null,
   "metadata": {},
   "outputs": [],
   "source": [
    "simulation_with_cost_results = solver.solve(m)\n",
    "assert_optimal_termination(simulation_with_cost_results)"
   ]
  },
  {
   "cell_type": "markdown",
   "metadata": {},
   "source": [
    "### Check SEC and LCOW results without any optimization."
   ]
  },
  {
   "cell_type": "code",
   "execution_count": null,
   "metadata": {},
   "outputs": [],
   "source": [
    "m.fs.pump.outlet.pressure.display()\n",
    "m.fs.unit.area.display()\n",
    "m.fs.unit.rejection_observed_phase_comp.display()\n",
    "m.fs.unit.rejection_intrinsic_phase_comp.display()\n",
    "print(\n",
    "    f\"\\nAverage volumetric water flux={value(pyunits.convert(m.fs.unit.flux_vol_water_avg[0],to_units=pyunits.L/pyunits.m**2/pyunits.hour))} LMH\"\n",
    ")\n",
    "m.fs.costing.specific_energy_consumption.display()\n",
    "m.fs.costing.LCOW.display()"
   ]
  },
  {
   "cell_type": "markdown",
   "metadata": {},
   "source": [
    "## Step 7: Unfix variables, set variable bounds, and run optimization."
   ]
  },
  {
   "cell_type": "markdown",
   "metadata": {},
   "source": [
    "### Unfix membrane area, feed pressure, and inlet velocity.\n"
   ]
  },
  {
   "cell_type": "code",
   "execution_count": null,
   "metadata": {},
   "outputs": [],
   "source": [
    "m.fs.unit.area.unfix()  # membrane area (m^2)\n",
    "m.fs.pump.outlet.pressure[0].unfix()  # feed pressure (Pa)"
   ]
  },
  {
   "cell_type": "markdown",
   "metadata": {},
   "source": [
    "### Set lower and upper bounds for membrane area; set upper bound for NF inlet pressure.\n",
    "\n"
   ]
  },
  {
   "cell_type": "code",
   "execution_count": null,
   "metadata": {},
   "outputs": [],
   "source": [
    "m.fs.unit.area.setlb(1)\n",
    "m.fs.unit.area.setub(None)\n",
    "m.fs.unit.inlet.pressure[0].setub(40e5)"
   ]
  },
  {
   "cell_type": "markdown",
   "metadata": {},
   "source": [
    "### Define objective function to minimize the specific energy consumption.\n"
   ]
  },
  {
   "cell_type": "code",
   "execution_count": null,
   "metadata": {},
   "outputs": [],
   "source": [
    "m.fs.sec_objective = Objective(expr=m.fs.costing.specific_energy_consumption)"
   ]
  },
  {
   "cell_type": "markdown",
   "metadata": {},
   "source": [
    "### Add a constraint limiting the maximum hardness of the permeate."
   ]
  },
  {
   "cell_type": "code",
   "execution_count": null,
   "metadata": {},
   "outputs": [],
   "source": [
    "m.fs.max_hardness = Var(\n",
    "    initialize=250,\n",
    "    domain=NonNegativeReals,\n",
    "    units=pyunits.mg / pyunits.L,\n",
    "    doc=\"Maximum total hardness as CaCO3\",\n",
    ")\n",
    "m.fs.max_hardness.fix(0.5 * value(m.fs.feed.properties[0].total_hardness))\n",
    "\n",
    "m.fs.max_hardness_constraint = Constraint(\n",
    "    expr=m.fs.unit.mixed_permeate[0].total_hardness <= m.fs.max_hardness\n",
    ")\n",
    "# Scale the new constraint\n",
    "set_scaling_factor(\n",
    "    m.fs.unit.mixed_permeate[0].total_hardness,\n",
    "    1 / value(m.fs.unit.mixed_permeate[0].total_hardness),\n",
    ")\n",
    "set_scaling_factor(m.fs.max_hardness, 1 / value(m.fs.max_hardness))\n",
    "constraint_scaling_transform(m.fs.max_hardness_constraint, 1 / value(m.fs.max_hardness))"
   ]
  },
  {
   "cell_type": "markdown",
   "metadata": {},
   "source": [
    "### The solver will optimize membrane area, inlet pressure, and recovery rate, while minimizing specific energy consumption. Let's check the degrees of freedom."
   ]
  },
  {
   "cell_type": "code",
   "execution_count": null,
   "metadata": {},
   "outputs": [],
   "source": [
    "print(degrees_of_freedom(m))"
   ]
  },
  {
   "cell_type": "markdown",
   "metadata": {},
   "source": [
    "### Solve the model, optimizing with 2 degrees of freedom"
   ]
  },
  {
   "cell_type": "code",
   "execution_count": null,
   "metadata": {},
   "outputs": [],
   "source": [
    "optimization_results = solver.solve(m, tee=True)\n",
    "assert_optimal_termination(optimization_results)"
   ]
  },
  {
   "cell_type": "markdown",
   "metadata": {},
   "source": [
    "### Check SEC-optimal results for\n",
    "* membrane area\n",
    "* pump pressure\n",
    "* recovery rate\n",
    "* SEC\n",
    "* LCOW\n",
    "* rejection rates"
   ]
  },
  {
   "cell_type": "code",
   "execution_count": null,
   "metadata": {},
   "outputs": [],
   "source": [
    "m.fs.unit.area.display()\n",
    "\n",
    "m.fs.pump.outlet.pressure.display()\n",
    "\n",
    "m.fs.unit.recovery_vol_phase.display()\n",
    "\n",
    "m.fs.costing.specific_energy_consumption.display()\n",
    "\n",
    "m.fs.costing.LCOW.display()\n",
    "\n",
    "m.fs.unit.rejection_observed_phase_comp.display()\n",
    "\n",
    "m.fs.unit.rejection_intrinsic_phase_comp.display()\n",
    "\n",
    "print(\n",
    "    f\"\\nAverage volumetric water flux={value(pyunits.convert(m.fs.unit.flux_vol_water_avg[0],to_units=pyunits.L/pyunits.m**2/pyunits.hour))} LMH\"\n",
    ")\n",
    "\n",
    "## Previous SEC and LCOW results from simulation:\n",
    "# specific_energy_consumption : Size=1\n",
    "#     Key  : Value\n",
    "#     None : 1.3444516491470768\n",
    "# LCOW : Levelized Cost of Water based on flow fs.product.properties[0.0].flow_vol\n",
    "#     Size=1, Index=None, Units=USD_2018/m**3\n",
    "#     Key  : Lower : Value              : Upper : Fixed : Stale : Domain\n",
    "#     None :  None : 0.5316151578977553 :  None : False : False :  Reals"
   ]
  },
  {
   "cell_type": "markdown",
   "metadata": {},
   "source": [
    "### Add an objective function to minimize the LCOW and optimize again."
   ]
  },
  {
   "cell_type": "markdown",
   "metadata": {},
   "source": [
    "#### Deactivate the SEC objective first."
   ]
  },
  {
   "cell_type": "code",
   "execution_count": null,
   "metadata": {},
   "outputs": [],
   "source": [
    "m.fs.sec_objective.deactivate()\n",
    "m.fs.lcow_objective = Objective(expr=m.fs.costing.LCOW)"
   ]
  },
  {
   "cell_type": "code",
   "execution_count": null,
   "metadata": {},
   "outputs": [],
   "source": [
    "# Fix recovery rate to match the recovery rate of the SEC minimization result\n",
    "m.fs.unit.recovery_vol_phase.fix()\n",
    "\n",
    "optimization_results = solver.solve(m, tee=True)\n",
    "assert_optimal_termination(optimization_results)"
   ]
  },
  {
   "cell_type": "markdown",
   "metadata": {},
   "source": [
    "### Check results after cost optimization."
   ]
  },
  {
   "cell_type": "code",
   "execution_count": null,
   "metadata": {},
   "outputs": [],
   "source": [
    "m.fs.unit.area.display()\n",
    "\n",
    "m.fs.pump.outlet.pressure.display()\n",
    "\n",
    "m.fs.unit.recovery_vol_phase.display()\n",
    "\n",
    "m.fs.costing.specific_energy_consumption.display()\n",
    "\n",
    "m.fs.costing.LCOW.display()\n",
    "\n",
    "m.fs.unit.rejection_observed_phase_comp.display()\n",
    "\n",
    "m.fs.unit.rejection_intrinsic_phase_comp.display()\n",
    "\n",
    "print(\n",
    "    f\"\\nAverage volumetric water flux={value(pyunits.convert(m.fs.unit.flux_vol_water_avg[0],to_units=pyunits.L/pyunits.m**2/pyunits.hour))} LMH\"\n",
    ")\n",
    "\n",
    "## Previous results from SEC optimization:\n",
    "# specific_energy_consumption : Size=1\n",
    "#     Key  : Value\n",
    "#     None : 0.1707081027046537\n",
    "# LCOW : Levelized Cost of Water based on flow fs.product.properties[0.0].flow_vol\n",
    "#     Size=1, Index=None, Units=USD_2018/m**3\n",
    "#     Key  : Lower : Value              : Upper : Fixed : Stale : Domain\n",
    "#     None :  None : 0.2921494718570934 :  None : False : False :  Reals\n",
    "\n",
    "## Previous results from simulation:\n",
    "# specific_energy_consumption : Size=1\n",
    "#     Key  : Value\n",
    "#     None : 1.3444516491470768\n",
    "# LCOW : Levelized Cost of Water based on flow fs.product.properties[0.0].flow_vol\n",
    "#     Size=1, Index=None, Units=USD_2018/m**3\n",
    "#     Key  : Lower : Value              : Upper : Fixed : Stale : Domain\n",
    "#     None :  None : 0.5316151578977553 :  None : False : False :  Reals"
   ]
  },
  {
   "cell_type": "markdown",
   "metadata": {},
   "source": [
    "#### Quick TDS calcs\n"
   ]
  },
  {
   "cell_type": "code",
   "execution_count": null,
   "metadata": {},
   "outputs": [],
   "source": [
    "feed_tds = [\n",
    "    value(\n",
    "        sum(\n",
    "            m.fs.feed.properties[0].mass_frac_phase_comp[\"Liq\", j]\n",
    "            for j in m.fs.properties.solute_set\n",
    "        )\n",
    "    )\n",
    "]\n",
    "perm_tds = [\n",
    "    value(\n",
    "        sum(\n",
    "            m.fs.product.properties[0].mass_frac_phase_comp[\"Liq\", j]\n",
    "            for j in m.fs.properties.solute_set\n",
    "        )\n",
    "    )\n",
    "]\n",
    "print(f\"TDS rejection = {1-perm_tds[0]/feed_tds[0]}\")"
   ]
  },
  {
   "cell_type": "markdown",
   "metadata": {},
   "source": [
    "#### Print total hardness in feed, permeate, and brine."
   ]
  },
  {
   "cell_type": "code",
   "execution_count": null,
   "metadata": {},
   "outputs": [],
   "source": [
    "feed_TH = value(m.fs.feed.properties[0].total_hardness)\n",
    "brine_TH = value(m.fs.disposal.properties[0].total_hardness)\n",
    "perm_TH = value(m.fs.product.properties[0].total_hardness)\n",
    "\n",
    "print(\"TH rejection\", 1 - perm_TH / feed_TH)\n",
    "print(\"Total hardness (mg/L as CaCO3):\\n\")\n",
    "print(\"Feed:\", feed_TH)\n",
    "print(\"Brine:\", brine_TH)\n",
    "print(\"Permeate:\", perm_TH)"
   ]
  },
  {
   "cell_type": "markdown",
   "metadata": {},
   "source": [
    "## Summary: \n",
    "### We covered how to build, scale, initialize, simulate and optimize a flowsheet, using the NF DSPM-DE as an example."
   ]
  },
  {
   "cell_type": "markdown",
   "metadata": {},
   "source": [
    "### Moving on to Part 2: demonstrate simulation and optimization of an NF DSPM-DE flowsheet in WaterTAP's graphical user interface (GUI). \n",
    "\n",
    "### The GUI installer can be downloaded from our homepage at: https://watertap-org.github.io/"
   ]
  }
 ],
 "metadata": {
  "kernelspec": {
   "display_name": "watertap-dev",
   "language": "python",
   "name": "watertap-dev"
  },
  "language_info": {
   "codemirror_mode": {
    "name": "ipython",
    "version": 3
   },
   "file_extension": ".py",
   "mimetype": "text/x-python",
   "name": "python",
   "nbconvert_exporter": "python",
   "pygments_lexer": "ipython3",
   "version": "3.8.17"
  }
 },
 "nbformat": 4,
 "nbformat_minor": 4
}
