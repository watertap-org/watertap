{
 "cells": [
  {
   "cell_type": "markdown",
   "id": "81ab54a4",
   "metadata": {
    "slideshow": {
     "slide_type": "slide"
    }
   },
   "source": [
    "\n",
    "# Using a Simple Custom Unit Model\n",
    "\n",
    "This demo will show how a user can utilize a custom unit model using the WaterTAP framework. For a guide on how to create this simple unit model, see [Creating a Simple Unit Model](./creating_a_simple_unit_model.ipynb). For documentation on unit models that already exist in WaterTAP, see [Unit Model Documentation](https://watertap.readthedocs.io/en/latest/technical_reference/unit_models/index.html)."
   ]
  },
  {
   "cell_type": "markdown",
   "id": "1c4a98cf-2fc5-4618-bfc8-58c992db935b",
   "metadata": {},
   "source": [
    "## Step 1: Import the necessary functions"
   ]
  },
  {
   "cell_type": "code",
   "execution_count": null,
   "id": "1c8abf31-e56f-4fea-ac9b-1136dbb8b251",
   "metadata": {},
   "outputs": [],
   "source": [
    "from pyomo.environ import ConcreteModel, assert_optimal_termination\n",
    "from pyomo.util.check_units import assert_units_consistent\n",
    "from idaes.core import FlowsheetBlock\n",
    "from idaes.core.util.model_statistics import degrees_of_freedom\n",
    "\n",
    "import idaes.core.util.scaling as iscale\n",
    "from watertap.core.solvers import get_solver\n",
    "\n",
    "# Imports the property model created in the \"Creating a Simple Property Model\" Jupyter Notebook\n",
    "%run creating_a_simple_property_model.ipynb\n",
    "\n",
    "# To import a custom property model, custom_prop_pack, add it to the following directory and run the line below\n",
    "# from watertap.property_models.custom_prop_pack import ProcessBlockClassName\n",
    "\n",
    "# Imports the unit model created in the \"Creating a Simple Unit Model\" Jupyter Notebook\n",
    "%run creating_a_simple_unit_model.ipynb\n",
    "\n",
    "# To import a custom unit model, custom_unit_model, add it to the following directory and run the line below\n",
    "# from watertap.unit_models.custom_unit_model import ProcessBlockClassName"
   ]
  },
  {
   "cell_type": "markdown",
   "id": "ede0e324-44f8-4925-8586-71589edd4a58",
   "metadata": {},
   "source": [
    "## Step 2: Create the ConcreteModel and FlowsheetBlock\n",
    "Create the flowsheet by attaching the property package and building the custom unit model."
   ]
  },
  {
   "cell_type": "code",
   "execution_count": null,
   "id": "5d4ad934-1148-4235-ba67-68bbf23099a0",
   "metadata": {},
   "outputs": [],
   "source": [
    "m = ConcreteModel()\n",
    "m.fs = FlowsheetBlock(dynamic=False)\n",
    "# Attach property package\n",
    "m.fs.properties = PropParameterBlock()\n",
    "# Build the unit model\n",
    "m.fs.filter = Filtration(property_package=m.fs.properties)\n",
    "\n",
    "# Display model\n",
    "# Note that there are the recovery and removal fraction variables are on m.fs.filter\n",
    "# any variable that starts with a _ can be ignored, they are references\n",
    "# note that are three separate state blocks on the model (properties_in, properties_out, properties_waste)\n",
    "print(\"first display\")\n",
    "m.fs.filter.display()"
   ]
  },
  {
   "cell_type": "markdown",
   "id": "7699ce01-1d58-43cf-8fcf-4cad7b8e36f3",
   "metadata": {},
   "source": [
    "## Step 3: Set the operating conditions of the unit model\n",
    "Specify the feed conditions and unit model variables such that the degrees of freedom are zero. Default scaling should also be set for the flow rate to ensure the model is well-scaled."
   ]
  },
  {
   "cell_type": "code",
   "execution_count": null,
   "id": "659a502f-8589-4c6c-b96a-7fe162bd700c",
   "metadata": {},
   "outputs": [],
   "source": [
    "# Note there are 8 degrees of freedom\n",
    "print(\"DOF before specifying:\", degrees_of_freedom(m.fs))\n",
    "\n",
    "# Specify the feed\n",
    "m.fs.filter.properties_in[0].pressure.fix(2e5)\n",
    "m.fs.filter.properties_in[0].temperature.fix(273.15 + 25)\n",
    "m.fs.filter.properties_in[0].flow_mass_phase_comp[\"Liq\", \"H2O\"].fix(1)\n",
    "m.fs.filter.properties_in[0].flow_mass_phase_comp[\"Liq\", \"NaCl\"].fix(0.035)\n",
    "m.fs.filter.properties_in[0].flow_mass_phase_comp[\"Liq\", \"TSS\"].fix(120e-6)\n",
    "\n",
    "# An alternative to setting the state variables at the state block is to use the port like below\n",
    "# Note that the time domain 0, is now accessed with the other indices, this is the case for ports\n",
    "# m.fs.filter.inlet.pressure[0].fix(2e5)\n",
    "# m.fs.filter.inlet.temperature[0].fix(273.15 + 25)\n",
    "# m.fs.filter.inlet.flow_mass_phase_comp[0, 'Liq', 'H2O'].fix(1)\n",
    "# m.fs.filter.inlet.flow_mass_phase_comp[0, 'Liq', 'NaCl'].fix(0.035)\n",
    "# m.fs.filter.inlet.flow_mass_phase_comp[0, 'Liq', 'TSS'].fix(120e-6)\n",
    "\n",
    "# specify the recovery or removal\n",
    "m.fs.filter.removal_fraction_mass_phase_comp[\"Liq\", \"TSS\"].fix(0.9)\n",
    "m.fs.filter.recovery_mass_phase_comp[\"Liq\", \"H2O\"].fix(0.97)\n",
    "m.fs.filter.recovery_mass_phase_comp[\"Liq\", \"NaCl\"].fix(0.97)\n",
    "\n",
    "# Currently the outlet pressure of the waste is unused (i.e. not used in any constraint) so it isn't counted in the\n",
    "# degrees of freedom, but if we connected the waste to another unit model then the pressure would be used.\n",
    "# So in reality, the unit model has 9 DOF and the last one is fixed here.\n",
    "m.fs.filter.properties_waste[0].pressure.fix(101325)\n",
    "print(\"DOF after specifying:\", degrees_of_freedom(m.fs))\n",
    "\n",
    "# The user should provide the scale for the flow rate, so that our tools can ensure the model is well scaled\n",
    "# Generally, scaling factors should be such that if it is multiplied by the variable it will range between 0.01 and 100\n",
    "m.fs.properties.set_default_scaling(\"flow_mass_phase_comp\", 1, index=(\"Liq\", \"H2O\"))\n",
    "m.fs.properties.set_default_scaling(\"flow_mass_phase_comp\", 1e2, index=(\"Liq\", \"NaCl\"))\n",
    "m.fs.properties.set_default_scaling(\"flow_mass_phase_comp\", 1e4, index=(\"Liq\", \"TSS\"))\n",
    "iscale.calculate_scaling_factors(m.fs)  # this utility scales the model"
   ]
  },
  {
   "cell_type": "markdown",
   "id": "c7643603-8fa5-4b7a-a9ba-0c4695974338",
   "metadata": {},
   "source": [
    "## Step 4: Solve the flowsheet and display results"
   ]
  },
  {
   "cell_type": "code",
   "execution_count": null,
   "id": "63dd9e98-af8e-4b46-bf1b-a1e774503be1",
   "metadata": {},
   "outputs": [],
   "source": [
    "# Check that units are consistent\n",
    "assert_units_consistent(m)\n",
    "\n",
    "# Check that the degrees of freedom are what we expect\n",
    "assert degrees_of_freedom(m) == 0\n",
    "\n",
    "solver = get_solver()\n",
    "results = solver.solve(m, tee=False)\n",
    "\n",
    "# Check that the solver finds an optimal solution\n",
    "assert_optimal_termination(results)\n",
    "\n",
    "# Display results\n",
    "print(\"second display\")\n",
    "m.fs.filter.display()"
   ]
  }
 ],
 "metadata": {
  "celltoolbar": "Slideshow",
  "kernelspec": {
   "display_name": "watertap-dev",
   "language": "python",
   "name": "watertap-dev"
  },
  "language_info": {
   "codemirror_mode": {
    "name": "ipython",
    "version": 3
   },
   "file_extension": ".py",
   "mimetype": "text/x-python",
   "name": "python",
   "nbconvert_exporter": "python",
   "pygments_lexer": "ipython3",
   "version": "3.11.5"
  },
  "rise": {
   "enable_chalkboard": true,
   "height": "100%",
   "scroll": true,
   "slidenumber": true,
   "theme": "simple"
  }
 },
 "nbformat": 4,
 "nbformat_minor": 5
}
