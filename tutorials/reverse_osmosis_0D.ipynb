{
 "cells": [
  {
   "cell_type": "markdown",
   "metadata": {},
   "source": [
    "# Introduction to the Reverse Osmosis Unit Model\n",
    "This tutorial shows how to build, initialize, simulate, and optimize a reverse osmosis (RO) unit model using WaterTAP. In this example, we will minimize the specific energy consumption of the RO unit."
   ]
  },
  {
   "cell_type": "markdown",
   "metadata": {},
   "source": [
    "## Step 1: Import libraries from Pyomo, IDAES and WaterTAP."
   ]
  },
  {
   "cell_type": "code",
   "execution_count": null,
   "metadata": {},
   "outputs": [],
   "source": [
    "# Imports from Pyomo \n",
    "from pyomo.environ import (ConcreteModel, \n",
    "                           Objective, \n",
    "                           Expression, \n",
    "                           value) #including \"value\" for getting the value of Pyomo objects\n",
    "\n",
    "# Imports from IDAES\n",
    "from idaes.core import FlowsheetBlock     # Import flowsheet block from IDAES core\n",
    "from watertap.core.solvers import get_solver    # Import function to get default solver\n",
    "from idaes.core.util.model_statistics import degrees_of_freedom  # Import function to check degrees of freedom\n",
    "from idaes.core.util.scaling import calculate_scaling_factors, set_scaling_factor  # Import utility function for calculating scaling factors\n",
    "\n",
    "\n",
    "# Imports from WaterTAP\n",
    "from watertap.property_models.NaCl_prop_pack import NaClParameterBlock   # Import NaCl property model\n",
    "from watertap.unit_models.reverse_osmosis_0D import ReverseOsmosis0D     # Import RO model\n",
    "from watertap.core import (ConcentrationPolarizationType, MassTransferCoefficient)\n"
   ]
  },
  {
   "cell_type": "markdown",
   "metadata": {},
   "source": [
    "## Step 2: Start building the RO model. \n",
    "Create a Pyomo concrete model, flowsheet, and NaCl property parameter block. Add an RO unit to the flowsheet.\n",
    "\n"
   ]
  },
  {
   "cell_type": "code",
   "execution_count": null,
   "metadata": {},
   "outputs": [],
   "source": [
    "m = ConcreteModel()\n",
    "m.fs = FlowsheetBlock(dynamic=False)\n",
    "m.fs.properties = NaClParameterBlock()\n",
    "\n",
    "m.fs.unit = ReverseOsmosis0D(\n",
    "    property_package=m.fs.properties,\n",
    "    concentration_polarization_type=ConcentrationPolarizationType.none,\n",
    "    mass_transfer_coefficient=MassTransferCoefficient.none,\n",
    "    has_pressure_change=False,\n",
    "    )"
   ]
  },
  {
   "cell_type": "markdown",
   "metadata": {},
   "source": [
    "## Step 3: Specify values for system variables."
   ]
  },
  {
   "cell_type": "code",
   "execution_count": null,
   "metadata": {},
   "outputs": [],
   "source": [
    "m.fs.unit.inlet.flow_mass_phase_comp[0, 'Liq', 'NaCl'].fix(0.035)  # mass flow rate of NaCl (kg/s)\n",
    "m.fs.unit.inlet.flow_mass_phase_comp[0, 'Liq', 'H2O'].fix(0.965)   # mass flow rate of water (kg/s)\n",
    "m.fs.unit.inlet.pressure[0].fix(50e5)                              # feed pressure (Pa)\n",
    "m.fs.unit.inlet.temperature[0].fix(298.15)                         # feed temperature (K)\n",
    "m.fs.unit.area.fix(50)                                             # membrane area (m^2)\n",
    "m.fs.unit.A_comp.fix(4.2e-12)                                      # membrane water permeability (m/Pa/s)\n",
    "m.fs.unit.B_comp.fix(3.5e-8)                                       # membrane salt permeability (m/s)\n",
    "m.fs.unit.permeate.pressure[0].fix(101325)                         # permeate pressure (Pa)"
   ]
  },
  {
   "cell_type": "markdown",
   "metadata": {},
   "source": [
    "## Step 4: Scale all variables.\n",
    "Set scaling factors for component mass flowrates, membrane area and all other variables.\n"
   ]
  },
  {
   "cell_type": "code",
   "execution_count": null,
   "metadata": {},
   "outputs": [],
   "source": [
    "m.fs.properties.set_default_scaling('flow_mass_phase_comp', 1, index=('Liq', 'H2O'))\n",
    "m.fs.properties.set_default_scaling('flow_mass_phase_comp', 1e2, index=('Liq', 'NaCl'))\n",
    "set_scaling_factor(m.fs.unit.area, 1e-2)\n",
    "calculate_scaling_factors(m)"
   ]
  },
  {
   "cell_type": "markdown",
   "metadata": {},
   "source": [
    "## Step 5: Initialize the model."
   ]
  },
  {
   "cell_type": "code",
   "execution_count": null,
   "metadata": {},
   "outputs": [],
   "source": [
    "m.fs.unit.initialize()"
   ]
  },
  {
   "cell_type": "markdown",
   "metadata": {},
   "source": [
    "## Step 6: Setup a solver and run a simulation.\n",
    "Check that degrees of freedom = 0 before attempting simulation. This means that the performance of the flowsheet is completely determined by the system variables that were fixed above. Then run the simulation and report the results."
   ]
  },
  {
   "cell_type": "code",
   "execution_count": null,
   "metadata": {},
   "outputs": [],
   "source": [
    "assert degrees_of_freedom(m) == 0      # Check DOF\n",
    "solver = get_solver()                  # Setup solver\n",
    "simulation_results = solver.solve(m)   # Run simulation\n",
    "m.fs.unit.report()                     # Display report, reports include a small subset of the most important variables"
   ]
  },
  {
   "cell_type": "code",
   "execution_count": null,
   "metadata": {},
   "outputs": [],
   "source": [
    "# Display all results, this shows all variables and constraints\n",
    "m.fs.unit.display()"
   ]
  },
  {
   "cell_type": "markdown",
   "metadata": {},
   "source": [
    "## Step 7: Unfix variables (membrane area, feed pressure) and set variable bounds"
   ]
  },
  {
   "cell_type": "code",
   "execution_count": null,
   "metadata": {},
   "outputs": [],
   "source": [
    "m.fs.unit.area.unfix()                  # unfix membrane area (m^2)\n",
    "m.fs.unit.inlet.pressure[0].unfix()     # unfix feed pressure (Pa)\n",
    "\n",
    "# Set lower and upper bounds for membrane area (m^2)\n",
    "m.fs.unit.area.setlb(1)\n",
    "m.fs.unit.area.setub(500)\n",
    "\n",
    "# Set lower and upper bounds for feed pressure (Pa)\n",
    "m.fs.unit.inlet.pressure[0].setlb(10e5)\n",
    "m.fs.unit.inlet.pressure[0].setub(80e5)"
   ]
  },
  {
   "cell_type": "markdown",
   "metadata": {},
   "source": [
    "## Step 8: Run optimization to minimize specific energy consumption\n",
    "\n",
    "The optimization problem will find the membrane area and inlet pressure that achieve 50% recovery while minimizing specific energy consumption. "
   ]
  },
  {
   "cell_type": "code",
   "execution_count": null,
   "metadata": {},
   "outputs": [],
   "source": [
    "# Assume 100% efficiency of pumps and ERD and no pressure losses\n",
    "#--> Pump power consumption ~ Qp*Pf/3.6e6\n",
    "m.fs.specific_energy_consumption = Expression(\n",
    "    expr=m.fs.unit.inlet.pressure[0]/(3.6e6))\n",
    "\n",
    "# Define objective function to minimize the specific energy consumption.\n",
    "m.fs.objective = Objective(expr=m.fs.specific_energy_consumption)\n",
    "\n",
    "# Set the water recovery to 50%\n",
    "m.fs.unit.recovery_vol_phase[0,'Liq'].fix(0.50)\n",
    "\n",
    "# Check DOF \n",
    "print(degrees_of_freedom(m))\n",
    "\n",
    "# Solve the model\n",
    "optimization_results = solver.solve(m)\n",
    "print(optimization_results)\n",
    "\n",
    "# Display results of the optimized system\n",
    "print(f\"Optimized membrane area: {value(m.fs.unit.area)}\")\n",
    "print(f\"Optimized membrane pressure: {value(m.fs.unit.inlet.pressure[0])}\")\n",
    "print(f\"Specific energy consumption: {value(m.fs.specific_energy_consumption)}\")\n",
    "m.fs.unit.report()"
   ]
  }
 ],
 "metadata": {
  "kernelspec": {
   "display_name": "watertap",
   "language": "python",
   "name": "python3"
  },
  "language_info": {
   "codemirror_mode": {
    "name": "ipython",
    "version": 3
   },
   "file_extension": ".py",
   "mimetype": "text/x-python",
   "name": "python",
   "nbconvert_exporter": "python",
   "pygments_lexer": "ipython3",
   "version": "3.10.14"
  }
 },
 "nbformat": 4,
 "nbformat_minor": 4
}
