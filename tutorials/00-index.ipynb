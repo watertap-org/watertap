{
 "cells": [
  {
   "cell_type": "markdown",
   "id": "92ce17d2-5634-4d15-8f06-e21c4cf08f0e",
   "metadata": {},
   "source": [
    "# WaterTAP Tutorials\n",
    "\n",
    "## Basic\n",
    "\n",
    "- [WaterTAP Introduction Tutorial](./introduction.ipynb)\n",
    "  > A quick introduction to Pyomo, followed by examples that illustrate the application of WaterTAP property models, unit models, flowsheet models, and cost optimization.\n",
    "\n",
    "- [Using a Simple Property Model](./using_a_simple_property_model.ipynb)\n",
    "  > A quick introduction to using a simple property model in WaterTAP. Properties are modeled separately from process unit models, lending to the modularity and flexibility of modeling in WaterTAP.\n",
    "\n",
    "- [Using a Simple Unit Model](./using_a_simple_unit_model.ipynb)\n",
    "  > A quick introduction to using a simple unit model in WaterTAP. Unit models are modeled separately from property models, lending to the modularity and flexibility of modeling in WaterTAP.\n",
    "\n",
    "- [Introduction to the Reverse Osmosis Unit Model](./reverse_osmosis_0D.ipynb)\n",
    "  > An introduction to using WaterTAP's reverse osmosis model with its simplest configuration settings. Usage of the isothermal NaCl property model is also demonstrated.\n",
    "\n",
    "## Intermediate\n",
    "\n",
    "- [Creating a Simple Property Model](./creating_a_simple_property_model.ipynb)\n",
    "  > A quick introduction to creating a simple property model in WaterTAP.\n",
    "\n",
    "- [Creating a Simple Unit Model](./creating_a_simple_unit_model.ipynb)\n",
    "  > A quick introduction to creating a simple unit model in WaterTAP.\n",
    "\n",
    "- [Fitting Membrane Parameters for Reverse Osmosis](./RO_Param_Fitting/RO_param_fitting.ipynb)\n",
    "  > A tutorial on how to use WaterTAP to determine membrane properties from experimental data and spec sheets.\n",
    "\n",
    "## Advanced\n",
    "\n",
    "- [Benchmark Simulation Model No. 2 (BSM2)](./BSM2.ipynb)\n",
    "  > A demonstration on how to build, initialize, and simulate the flowsheet for Benchmark Simulation Model No. 2 (BSM2), a process model for representing a full wastewater treatment plant.\n",
    "\n",
    "- [Conducting a Parameter Estimation](./parmest_demo/parmest_example.ipynb)\n",
    "  > Using Pyomo's `parmest` tool, this tutorial shows how to conduct parameter estimation to obtain an empirical equation for the vapor pressure of an NaCl solution over ranges of temperature and salt mass fraction values.\n",
    "\n",
    "- [Modeling Multicomponent Rejection with Nanofiltration](./modeling_multicomponent_rejection.ipynb)\n",
    "  > A tutorial on how to build, initialize, and simulate a flowsheet that utilizes the Donnan Steric Pore Model w/Dielectric Exclusion (DSPM-DE) for predicting multicomponent rejection with nanofiltration. Usage of the multicomponent aqueous solution (MCAS) property model is also demonstrated.\n",
    "  \n",
    "- [OLI Calculations in WaterTAP](./oli_calculations.ipynb)\n",
    "  > A tutorial that shows how to login and make calls to the OLI Cloud API for advanced aqueous chemistry calculations. **Note:** an OLI license is required to fully run this tutorial and  any OLI API functionality within WaterTAP.\n",
    "\n",
    "- [Parameter Sweep Tool: Getting Started](./parameter_sweep_demo.ipynb)\n",
    "  > A tutorial on using WaterTAP's \"parameter sweep,\" an analysis tool for performing optimization, sensitivity analyses, and uncertainty quantification.\n",
    "\n",
    "- [Unit Model Customization](./unit_model_customization_example.ipynb)\n",
    "  > A tutorial on customizing unit models at the flowsheet level."
   ]
  },
  {
   "cell_type": "markdown",
   "id": "c29fb18e",
   "metadata": {},
   "source": []
  }
 ],
 "metadata": {
  "kernelspec": {
   "display_name": "watertap-dev",
   "language": "python",
   "name": "watertap-dev"
  },
  "language_info": {
   "codemirror_mode": {
    "name": "ipython",
    "version": 3
   },
   "file_extension": ".py",
   "mimetype": "text/x-python",
   "name": "python",
   "nbconvert_exporter": "python",
   "pygments_lexer": "ipython3",
   "version": "3.8.17"
  }
 },
 "nbformat": 4,
 "nbformat_minor": 5
}
