{
 "cells": [
  {
   "cell_type": "markdown",
   "id": "c4b459c7-9ba2-41f4-a158-140e7ffc8a5d",
   "metadata": {},
   "source": [
    "# BSM2 Flowsheet tutorial: \n",
    "\n",
    "### This demonstration will show \n",
    "- Part 1: how to build, initialize, and simulate the flowsheet for Benchmark Simulation Model 2 (BSM2). \n",
    "- Part 2: Demonstrate optimization and sensitivity analysis over specific parameters of the flowsheet (pending).\n",
    "- Useful Links:\n",
    "    - Public Github Repository: https://github.com/watertap-org/watertap\n",
    "    - Documentation: https://watertap.readthedocs.io/en/stable/\n",
    "    - Activated Sludge Model No. 1 (ASM1) documentation: https://watertap.readthedocs.io/en/stable/technical_reference/property_models/ASM1.html\n",
    "    - Anaerobic Digestion Model No. 1 (ADM1) documentation: https://watertap.readthedocs.io/en/stable/technical_reference/property_models/ADM1.html\n",
    "    - ASM1-ADM1 Translator documentation: https://watertap.readthedocs.io/en/stable/technical_reference/unit_models/translators/translator_asm1_adm1.html\n",
    "    - ADM1-ASM1 Translator documentation: https://watertap.readthedocs.io/en/stable/technical_reference/unit_models/translators/translator_adm1_asm1.html    \n",
    "    - Unit Model documentation: https://watertap.readthedocs.io/en/stable/technical_reference/unit_models/index.html\n",
    "    - BSM2 flowsheet code: https://github.com/watertap-org/watertap/blob/main/watertap/examples/flowsheets/case_studies/full_water_resource_recovery_facility/BSM2.py\n"
   ]
  },
  {
   "cell_type": "markdown",
   "id": "e9c90c9f-b75d-4243-8d35-16cd6fe7fc89",
   "metadata": {},
   "source": [
    "# Part 1: Build, setup, and simulate the Benchmark Simulation Model"
   ]
  },
  {
   "cell_type": "markdown",
   "id": "dc4d3d1c-edff-4fb7-8fda-75afac2ee04d",
   "metadata": {},
   "source": [
    "<img src=\"BSM2.png\" width=\"1000\" height=\"680\">"
   ]
  },
  {
   "cell_type": "markdown",
   "id": "bed058a8-5cf9-4c4b-bfdc-eb8f0f38ce2c",
   "metadata": {},
   "source": [
    "## Step 1: Import libraries from Pyomo, IDAES, and WaterTAP."
   ]
  },
  {
   "cell_type": "markdown",
   "id": "7c454819-d3e5-4f07-be42-b421e579104a",
   "metadata": {},
   "source": [
    "### Step 1.1: Import some essentials from Pyomo and IDAES:"
   ]
  },
  {
   "cell_type": "code",
   "execution_count": null,
   "id": "845b8ea4",
   "metadata": {},
   "outputs": [],
   "source": [
    "import pyomo.environ as pyo\n",
    "from pyomo.network import Arc, SequentialDecomposition\n",
    "from idaes.core import FlowsheetBlock\n",
    "import idaes.logger as idaeslog\n",
    "from watertap.core.solvers import get_solver\n",
    "import idaes.core.util.scaling as iscale"
   ]
  },
  {
   "cell_type": "markdown",
   "id": "cfb99ef8-ceef-4a7b-8d49-363dfe0ed07d",
   "metadata": {},
   "source": [
    "### Step 1.2: Import unit models from WaterTAP and IDAES:"
   ]
  },
  {
   "cell_type": "code",
   "execution_count": null,
   "id": "9c5f42f2",
   "metadata": {},
   "outputs": [],
   "source": [
    "# Import anaerobic digester model\n",
    "from watertap.unit_models.anaerobic_digester import AD\n",
    "\n",
    "# Import CSTR with oxygen injection model\n",
    "from watertap.unit_models.cstr_injection import CSTR_Injection\n",
    "\n",
    "# Import BSM2 separator models \n",
    "from watertap.unit_models.thickener import Thickener\n",
    "from watertap.unit_models.dewatering import DewateringUnit\n",
    "\n",
    "# Import idaes unit models for separators and mixers and ASM models\n",
    "from idaes.models.unit_models import (\n",
    "    CSTR,\n",
    "    Feed,\n",
    "    Mixer,\n",
    "    Separator,\n",
    "    PressureChanger,\n",
    "    Product,\n",
    ")\n",
    "from idaes.models.unit_models.separator import SplittingType\n",
    "\n",
    "# import translator models from WaterTAP\n",
    "from watertap.unit_models.translators.translator_asm1_adm1 import Translator_ASM1_ADM1\n",
    "from watertap.unit_models.translators.translator_adm1_asm1 import Translator_ADM1_ASM1"
   ]
  },
  {
   "cell_type": "markdown",
   "id": "4ed5d869-cb84-45ee-a5d1-040314321292",
   "metadata": {},
   "source": [
    "### Step 1.3: Import all BSM2 required property models\n",
    "\n",
    "Property blocks are an important building block in WaterTap as they are a Python class which contain information on units, physical properties, etc."
   ]
  },
  {
   "cell_type": "code",
   "execution_count": null,
   "id": "af7d8037-fa50-47a0-99f6-3b1ef3b45a36",
   "metadata": {},
   "outputs": [],
   "source": [
    "# Import Anaerobic Digester Model properties \n",
    "from watertap.property_models.unit_specific.anaerobic_digestion.adm1_properties import (\n",
    "    ADM1ParameterBlock,\n",
    ")\n",
    "from watertap.property_models.unit_specific.anaerobic_digestion.adm1_reactions import (\n",
    "    ADM1ReactionParameterBlock,\n",
    ")\n",
    "from watertap.property_models.unit_specific.anaerobic_digestion.adm1_properties_vapor import (\n",
    "    ADM1_vaporParameterBlock,\n",
    ")\n",
    "\n",
    "# Import Activated Sludge Model properties \n",
    "from watertap.property_models.unit_specific.activated_sludge.asm1_properties import (\n",
    "    ASM1ParameterBlock,\n",
    ")\n",
    "from watertap.property_models.unit_specific.activated_sludge.asm1_reactions import (\n",
    "    ASM1ReactionParameterBlock,\n",
    ")"
   ]
  },
  {
   "cell_type": "markdown",
   "id": "f60862df-5964-4585-8da3-ac5ffbc46ee4",
   "metadata": {},
   "source": [
    "## Step 2 Flowsheet building"
   ]
  },
  {
   "cell_type": "markdown",
   "id": "e7decb4b-7f3f-4325-a73a-8ede48be9786",
   "metadata": {},
   "source": [
    "## Step 2.1: Create Flowsheet\n",
    "We will start by creating a pyomo model and a flowsheet"
   ]
  },
  {
   "cell_type": "code",
   "execution_count": null,
   "id": "faba836b-eb59-4b4b-8726-6a921ca25073",
   "metadata": {},
   "outputs": [],
   "source": [
    "m = pyo.ConcreteModel()\n",
    "\n",
    "m.fs = FlowsheetBlock(dynamic=False)"
   ]
  },
  {
   "cell_type": "markdown",
   "id": "ac6e041d-ee0a-41e7-a194-6db689b2e92c",
   "metadata": {},
   "source": [
    "We then include all the necessary property blocks we imported into the flowsheet. Namely, we include the ASM1 and ADM1 models, which are separated into their respective property and reaction models. Additionally, the vapor phase of ADM1 was separated into its own property model."
   ]
  },
  {
   "cell_type": "code",
   "execution_count": null,
   "id": "b428d1a3-1a04-49ab-be91-a632d531dda9",
   "metadata": {},
   "outputs": [],
   "source": [
    "m.fs.props_ASM1 = ASM1ParameterBlock()\n",
    "m.fs.props_ADM1 = ADM1ParameterBlock()\n",
    "m.fs.props_vap = ADM1_vaporParameterBlock()\n",
    "m.fs.ADM1_rxn_props = ADM1ReactionParameterBlock(property_package=m.fs.props_ADM1)\n",
    "m.fs.ASM1_rxn_props = ASM1ReactionParameterBlock(property_package=m.fs.props_ASM1)"
   ]
  },
  {
   "cell_type": "markdown",
   "id": "6d63f8d7-3acc-4605-823e-e682a03fd724",
   "metadata": {},
   "source": [
    "### Step 2.2: Setup Activated Sludge process\n",
    "\n",
    "We will start by setting up the activated sludge process unit models and connectivity.\n",
    "\n",
    "First, we set up a Feed model for our feed stream and will name it `Feedwater`. "
   ]
  },
  {
   "cell_type": "code",
   "execution_count": null,
   "id": "56611aeb-4c31-4dda-81cc-7dc2b45d0c6c",
   "metadata": {},
   "outputs": [],
   "source": [
    "# Feed water stream\n",
    "m.fs.FeedWater = Feed(property_package=m.fs.props_ASM1)\n",
    "# Mixer for feed water and recycled sludge\n",
    "m.fs.MX1 = Mixer(\n",
    "    property_package=m.fs.props_ASM1, inlet_list=[\"feed_water\", \"recycle\"]\n",
    ")\n",
    "# First reactor (anoxic) - standard CSTR\n",
    "m.fs.R1 = CSTR(\n",
    "    property_package=m.fs.props_ASM1, reaction_package=m.fs.ASM1_rxn_props\n",
    ")\n",
    "# Second reactor (anoxic) - standard CSTR\n",
    "m.fs.R2 = CSTR(\n",
    "    property_package=m.fs.props_ASM1, reaction_package=m.fs.ASM1_rxn_props\n",
    ")\n",
    "# Third reactor (aerobic) - CSTR with injection\n",
    "m.fs.R3 = CSTR_Injection(\n",
    "    property_package=m.fs.props_ASM1, reaction_package=m.fs.ASM1_rxn_props\n",
    ")\n",
    "# Fourth reactor (aerobic) - CSTR with injection\n",
    "m.fs.R4 = CSTR_Injection(\n",
    "    property_package=m.fs.props_ASM1, reaction_package=m.fs.ASM1_rxn_props\n",
    ")\n",
    "# Fifth reactor (aerobic) - CSTR with injection\n",
    "m.fs.R5 = CSTR_Injection(\n",
    "    property_package=m.fs.props_ASM1, reaction_package=m.fs.ASM1_rxn_props\n",
    ")\n",
    "m.fs.SP5 = Separator(\n",
    "    property_package=m.fs.props_ASM1, outlet_list=[\"underflow\", \"overflow\"]\n",
    ")\n",
    "# Clarifier\n",
    "m.fs.CL1 = Separator(\n",
    "    property_package=m.fs.props_ASM1,\n",
    "    outlet_list=[\"underflow\", \"effluent\"],\n",
    "    split_basis=SplittingType.componentFlow,\n",
    ")\n",
    "# Sludge purge splitter\n",
    "m.fs.SP6 = Separator(\n",
    "    property_package=m.fs.props_ASM1,\n",
    "    outlet_list=[\"recycle\", \"waste\"],\n",
    "    split_basis=SplittingType.totalFlow,\n",
    ")\n",
    "# Mixing sludge recycle and R5 underflow\n",
    "m.fs.MX6 = Mixer(\n",
    "    property_package=m.fs.props_ASM1, inlet_list=[\"clarifier\", \"reactor\"]\n",
    ")\n",
    "# Product Blocks\n",
    "m.fs.Treated = Product(property_package=m.fs.props_ASM1)\n",
    "# Recycle pressure changer - use a simple isothermal unit for now\n",
    "m.fs.P1 = PressureChanger(property_package=m.fs.props_ASM1)"
   ]
  },
  {
   "cell_type": "markdown",
   "id": "d020588b-bfd8-4e65-9c0d-618fb6b9de0c",
   "metadata": {},
   "source": [
    "Secondly we will use pyomo arcs as streams connecting unit to unit"
   ]
  },
  {
   "cell_type": "code",
   "execution_count": null,
   "id": "0435dc0d-c79e-42f4-a402-473e63e7f854",
   "metadata": {},
   "outputs": [],
   "source": [
    "# Link units\n",
    "m.fs.stream2 = Arc(source=m.fs.MX1.outlet, destination=m.fs.R1.inlet)\n",
    "m.fs.stream3 = Arc(source=m.fs.R1.outlet, destination=m.fs.R2.inlet)\n",
    "m.fs.stream4 = Arc(source=m.fs.R2.outlet, destination=m.fs.R3.inlet)\n",
    "m.fs.stream5 = Arc(source=m.fs.R3.outlet, destination=m.fs.R4.inlet)\n",
    "m.fs.stream6 = Arc(source=m.fs.R4.outlet, destination=m.fs.R5.inlet)\n",
    "m.fs.stream7 = Arc(source=m.fs.R5.outlet, destination=m.fs.SP5.inlet)\n",
    "m.fs.stream8 = Arc(source=m.fs.SP5.overflow, destination=m.fs.CL1.inlet)\n",
    "m.fs.stream9 = Arc(source=m.fs.SP5.underflow, destination=m.fs.MX6.reactor)\n",
    "m.fs.stream10 = Arc(source=m.fs.CL1.effluent, destination=m.fs.Treated.inlet)\n",
    "m.fs.stream11 = Arc(source=m.fs.CL1.underflow, destination=m.fs.SP6.inlet)\n",
    "m.fs.stream13 = Arc(source=m.fs.SP6.recycle, destination=m.fs.MX6.clarifier)\n",
    "m.fs.stream14 = Arc(source=m.fs.MX6.outlet, destination=m.fs.P1.inlet)\n",
    "m.fs.stream15 = Arc(source=m.fs.P1.outlet, destination=m.fs.MX1.recycle)\n",
    "pyo.TransformationFactory(\"network.expand_arcs\").apply_to(m)"
   ]
  },
  {
   "cell_type": "markdown",
   "id": "438794e4-503d-42a3-b231-0a2b2a76c110",
   "metadata": {},
   "source": [
    "Next we will set the conditions for the inlet water"
   ]
  },
  {
   "cell_type": "code",
   "execution_count": null,
   "id": "a4971fbe-6030-42da-87c8-afb98afab9d8",
   "metadata": {},
   "outputs": [],
   "source": [
    "# Feed Water Conditions\n",
    "m.fs.FeedWater.flow_vol.fix(20648 * pyo.units.m**3 / pyo.units.day)\n",
    "m.fs.FeedWater.temperature.fix(308.15 * pyo.units.K)\n",
    "m.fs.FeedWater.pressure.fix(1 * pyo.units.atm)\n",
    "m.fs.FeedWater.conc_mass_comp[0, \"S_I\"].fix(\n",
    "    27.2262 * pyo.units.g / pyo.units.m**3\n",
    ")\n",
    "m.fs.FeedWater.conc_mass_comp[0, \"S_S\"].fix(\n",
    "    58.1762 * pyo.units.g / pyo.units.m**3\n",
    ")\n",
    "m.fs.FeedWater.conc_mass_comp[0, \"X_I\"].fix(92.499 * pyo.units.g / pyo.units.m**3)\n",
    "m.fs.FeedWater.conc_mass_comp[0, \"X_S\"].fix(\n",
    "    363.9435 * pyo.units.g / pyo.units.m**3\n",
    ")\n",
    "m.fs.FeedWater.conc_mass_comp[0, \"X_BH\"].fix(\n",
    "    50.6833 * pyo.units.g / pyo.units.m**3\n",
    ")\n",
    "m.fs.FeedWater.conc_mass_comp[0, \"X_BA\"].fix(0 * pyo.units.g / pyo.units.m**3)\n",
    "m.fs.FeedWater.conc_mass_comp[0, \"X_P\"].fix(0 * pyo.units.g / pyo.units.m**3)\n",
    "m.fs.FeedWater.conc_mass_comp[0, \"S_O\"].fix(0 * pyo.units.g / pyo.units.m**3)\n",
    "m.fs.FeedWater.conc_mass_comp[0, \"S_NO\"].fix(0 * pyo.units.g / pyo.units.m**3)\n",
    "m.fs.FeedWater.conc_mass_comp[0, \"S_NH\"].fix(\n",
    "    23.8595 * pyo.units.g / pyo.units.m**3\n",
    ")\n",
    "m.fs.FeedWater.conc_mass_comp[0, \"S_ND\"].fix(\n",
    "    5.6516 * pyo.units.g / pyo.units.m**3\n",
    ")\n",
    "m.fs.FeedWater.conc_mass_comp[0, \"X_ND\"].fix(\n",
    "    16.1298 * pyo.units.g / pyo.units.m**3\n",
    ")\n",
    "m.fs.FeedWater.alkalinity.fix(7 * pyo.units.mol / pyo.units.m**3)"
   ]
  },
  {
   "cell_type": "markdown",
   "id": "7f5db67b-0ab8-48a9-9408-e90073214fb2",
   "metadata": {},
   "source": [
    "Finally for the activated sludge models we will set the conditions for the unit models. We will start with the reactors volume"
   ]
  },
  {
   "cell_type": "code",
   "execution_count": null,
   "id": "de03c3db-0cd1-4404-8010-aac6663c9611",
   "metadata": {},
   "outputs": [],
   "source": [
    "# Reactor sizing\n",
    "m.fs.R1.volume.fix(1500 * pyo.units.m**3)\n",
    "m.fs.R2.volume.fix(1500 * pyo.units.m**3)\n",
    "m.fs.R3.volume.fix(3000 * pyo.units.m**3)\n",
    "m.fs.R4.volume.fix(3000 * pyo.units.m**3)\n",
    "m.fs.R5.volume.fix(3000 * pyo.units.m**3)"
   ]
  },
  {
   "cell_type": "markdown",
   "id": "2901a298-e741-4865-909a-79c90ab74de1",
   "metadata": {},
   "source": [
    "The oxygen concentration in reactors 3-5 is injected through the CSTR injection reactors"
   ]
  },
  {
   "cell_type": "code",
   "execution_count": null,
   "id": "ad067482-32a8-487d-b248-8049fd55d877",
   "metadata": {},
   "outputs": [],
   "source": [
    "# Injection rates to Reactions 3, 4 and 5\n",
    "for j in m.fs.props_ASM1.component_list:\n",
    "    if j != \"S_O\":\n",
    "        # All components except S_O have no injection\n",
    "        m.fs.R3.injection[:, :, j].fix(0)\n",
    "        m.fs.R4.injection[:, :, j].fix(0)\n",
    "        m.fs.R5.injection[:, :, j].fix(0)\n",
    "# Then set injections rates for O2\n",
    "m.fs.R3.outlet.conc_mass_comp[:, \"S_O\"].fix(0.46635e-3)\n",
    "m.fs.R4.outlet.conc_mass_comp[:, \"S_O\"].fix(1.4284e-3)\n",
    "m.fs.R5.outlet.conc_mass_comp[:, \"S_O\"].fix(1.3748e-3)"
   ]
  },
  {
   "cell_type": "markdown",
   "id": "6a1e89db-e2c7-40a6-a3a8-9074a4b37ee3",
   "metadata": {},
   "source": [
    "Then we set up the separation, going through the splitters and the clarifier"
   ]
  },
  {
   "cell_type": "code",
   "execution_count": null,
   "id": "deae8720-3c7a-4bf1-ae4f-bbf6f4757eeb",
   "metadata": {},
   "outputs": [],
   "source": [
    "# Set fraction of outflow from reactor 5 that goes to recycle\n",
    "m.fs.SP5.split_fraction[:, \"underflow\"].fix(0.6)\n",
    "\n",
    "# Clarifier\n",
    "m.fs.CL1.split_fraction[0, \"effluent\", \"H2O\"].fix(20640.7791 / (20640.7791 + 20648))\n",
    "m.fs.CL1.split_fraction[0, \"effluent\", \"S_I\"].fix(20640.7791 / (20640.7791 + 20648))\n",
    "m.fs.CL1.split_fraction[0, \"effluent\", \"S_S\"].fix(20640.7791 / (20640.7791 + 20648))\n",
    "m.fs.CL1.split_fraction[0, \"effluent\", \"X_I\"].fix(\n",
    "    5.9191 * 20640.7791 / (5.9191 * 20640.7791 + 3036.2175 * 20648)\n",
    ")\n",
    "m.fs.CL1.split_fraction[0, \"effluent\", \"X_S\"].fix(\n",
    "    0.12329 * 20640.7791 / (0.12329 * 20640.7791 + 63.2392 * 20648)\n",
    ")\n",
    "m.fs.CL1.split_fraction[0, \"effluent\", \"X_BH\"].fix(0.00193)\n",
    "m.fs.CL1.split_fraction[0, \"effluent\", \"X_BA\"].fix(0.00193)\n",
    "m.fs.CL1.split_fraction[0, \"effluent\", \"X_P\"].fix(0.00193)\n",
    "m.fs.CL1.split_fraction[0, \"effluent\", \"S_O\"].fix(20640.7791 / (20640.7791 + 20648))\n",
    "m.fs.CL1.split_fraction[0, \"effluent\", \"S_NO\"].fix(\n",
    "    20640.7791 / (20640.7791 + 20648)\n",
    ")\n",
    "m.fs.CL1.split_fraction[0, \"effluent\", \"S_NH\"].fix(\n",
    "    20640.7791 / (20640.7791 + 20648)\n",
    ")\n",
    "m.fs.CL1.split_fraction[0, \"effluent\", \"S_ND\"].fix(\n",
    "    20640.7791 / (20640.7791 + 20648)\n",
    ")\n",
    "m.fs.CL1.split_fraction[0, \"effluent\", \"X_ND\"].fix(0.00193)\n",
    "m.fs.CL1.split_fraction[0, \"effluent\", \"S_ALK\"].fix(\n",
    "    20640.7791 / (20640.7791 + 20648)\n",
    ")\n",
    "\n",
    "# Sludge purge separator\n",
    "m.fs.SP6.split_fraction[:, \"recycle\"].fix(20648 / 20948)"
   ]
  },
  {
   "cell_type": "markdown",
   "id": "16a5100d-4216-4f30-b8c9-e0ea7f8456d4",
   "metadata": {},
   "source": [
    "The last thing required is the pressure for the recycle pump"
   ]
  },
  {
   "cell_type": "code",
   "execution_count": null,
   "id": "7330b47f-7a11-4465-92da-a4961eac90a5",
   "metadata": {},
   "outputs": [],
   "source": [
    "# Outlet pressure from recycle pump\n",
    "m.fs.P1.outlet.pressure.fix(101325)"
   ]
  },
  {
   "cell_type": "markdown",
   "id": "2919f12d-ad8e-44a7-9cbc-7083c49ab4ec",
   "metadata": {},
   "source": [
    "### Step 2.2: Setup Anaerobic digester process\n",
    "\n",
    "We will start by setting up the anaerobic digester process unit models and connectivity.\n",
    "\n",
    "First, like above, we set up unit models. specifically the reactor. Which will have two different property blocks as it has two separate phases liquid and gas"
   ]
  },
  {
   "cell_type": "code",
   "execution_count": null,
   "id": "b01a4461-c122-4ef9-9534-b3aa92be2672",
   "metadata": {},
   "outputs": [],
   "source": [
    "m.fs.RADM = AD(\n",
    "    liquid_property_package=m.fs.props_ADM1,\n",
    "    vapor_property_package=m.fs.props_vap,\n",
    "    reaction_package=m.fs.ADM1_rxn_props,\n",
    "    has_heat_transfer=True,\n",
    "    has_pressure_change=False,\n",
    ")"
   ]
  },
  {
   "cell_type": "markdown",
   "id": "e2c10a1e-4b77-49c1-b63b-36f03f5ec27e",
   "metadata": {},
   "source": [
    "In order to connect the ADM and ASM models translator blocks are required as they track different species"
   ]
  },
  {
   "cell_type": "code",
   "execution_count": null,
   "id": "9a24bacb-1010-4a67-bb11-a258e6336348",
   "metadata": {},
   "outputs": [],
   "source": [
    "m.fs.asm_adm = Translator_ASM1_ADM1(\n",
    "    inlet_property_package=m.fs.props_ASM1,\n",
    "    outlet_property_package=m.fs.props_ADM1,\n",
    "    reaction_package=m.fs.ADM1_rxn_props,\n",
    "    has_phase_equilibrium=False,\n",
    "    outlet_state_defined=True,\n",
    ")\n",
    "\n",
    "m.fs.adm_asm = Translator_ADM1_ASM1(\n",
    "    inlet_property_package=m.fs.props_ADM1,\n",
    "    outlet_property_package=m.fs.props_ASM1,\n",
    "    reaction_package=m.fs.ADM1_rxn_props,\n",
    "    has_phase_equilibrium=False,\n",
    "    outlet_state_defined=True,\n",
    ")"
   ]
  },
  {
   "cell_type": "markdown",
   "id": "64fbe429-cd88-4310-a6a6-d14f23cd18da",
   "metadata": {},
   "source": [
    "We the set up the separators and mixers "
   ]
  },
  {
   "cell_type": "code",
   "execution_count": null,
   "id": "d2836b17-bcb4-4d76-877a-5f8894870113",
   "metadata": {},
   "outputs": [],
   "source": [
    "m.fs.CL = Separator(\n",
    "    property_package=m.fs.props_ASM1,\n",
    "    outlet_list=[\"underflow\", \"effluent\"],\n",
    "    split_basis=SplittingType.componentFlow,\n",
    ")\n",
    "\n",
    "m.fs.TU = Thickener(property_package=m.fs.props_ASM1)\n",
    "m.fs.DU = DewateringUnit(property_package=m.fs.props_ASM1)\n",
    "\n",
    "m.fs.MX2 = Mixer(\n",
    "    property_package=m.fs.props_ASM1, inlet_list=[\"feed_water1\", \"recycle1\"]\n",
    ")\n",
    "m.fs.MX3 = Mixer(\n",
    "    property_package=m.fs.props_ASM1, inlet_list=[\"feed_water2\", \"recycle2\"]\n",
    ")\n",
    "m.fs.MX4 = Mixer(\n",
    "    property_package=m.fs.props_ASM1, inlet_list=[\"thickener\", \"clarifier\"]\n",
    ")"
   ]
  },
  {
   "cell_type": "markdown",
   "id": "e3f5fefd-a3d8-4123-b61f-8614bd340109",
   "metadata": {},
   "source": [
    "We add operating conditions to the unit models. We start with the primary clarifier"
   ]
  },
  {
   "cell_type": "code",
   "execution_count": null,
   "id": "33894140-176d-4620-a474-e6865f0ac2ba",
   "metadata": {},
   "outputs": [],
   "source": [
    "# Clarifier\n",
    "m.fs.CL.split_fraction[0, \"effluent\", \"H2O\"].fix(0.993)\n",
    "m.fs.CL.split_fraction[0, \"effluent\", \"S_I\"].fix(0.993)\n",
    "m.fs.CL.split_fraction[0, \"effluent\", \"S_S\"].fix(0.993)\n",
    "m.fs.CL.split_fraction[0, \"effluent\", \"X_I\"].fix(0.5192)\n",
    "m.fs.CL.split_fraction[0, \"effluent\", \"X_S\"].fix(0.5192)\n",
    "m.fs.CL.split_fraction[0, \"effluent\", \"X_BH\"].fix(0.5192)\n",
    "m.fs.CL.split_fraction[0, \"effluent\", \"X_BA\"].fix(0.5192)\n",
    "m.fs.CL.split_fraction[0, \"effluent\", \"X_P\"].fix(0.5192)\n",
    "m.fs.CL.split_fraction[0, \"effluent\", \"S_O\"].fix(0.993)\n",
    "m.fs.CL.split_fraction[0, \"effluent\", \"S_NO\"].fix(0.993)\n",
    "m.fs.CL.split_fraction[0, \"effluent\", \"S_NH\"].fix(0.993)\n",
    "m.fs.CL.split_fraction[0, \"effluent\", \"S_ND\"].fix(0.993)\n",
    "m.fs.CL.split_fraction[0, \"effluent\", \"X_ND\"].fix(0.5192)\n",
    "m.fs.CL.split_fraction[0, \"effluent\", \"S_ALK\"].fix(0.993)"
   ]
  },
  {
   "cell_type": "markdown",
   "id": "a03216ce-fd46-4727-b8a9-94c970dbbfe4",
   "metadata": {},
   "source": [
    "We then set up the anaerobic digester operating conditions"
   ]
  },
  {
   "cell_type": "code",
   "execution_count": null,
   "id": "6344ee3c-18d9-4c86-b248-82dd810dc2f5",
   "metadata": {},
   "outputs": [],
   "source": [
    "# Anaerobic digester\n",
    "m.fs.RADM.volume_liquid.fix(3400)\n",
    "m.fs.RADM.volume_vapor.fix(300)\n",
    "m.fs.RADM.liquid_outlet.temperature.fix(308.15)"
   ]
  },
  {
   "cell_type": "markdown",
   "id": "58558077",
   "metadata": {},
   "source": [
    "Additionally, the dewatering unit includes an equation relating its hydraulic retention time to its volume and influent flowrate. We can choose to specify hydraulic retention time or the unit's volume to satisfy 0 degrees of freedom."
   ]
  },
  {
   "cell_type": "code",
   "execution_count": null,
   "id": "982691fd",
   "metadata": {},
   "outputs": [],
   "source": [
    "# Dewatering unit\n",
    "m.fs.DU.hydraulic_retention_time.fix(1800 * pyo.units.s)"
   ]
  },
  {
   "cell_type": "markdown",
   "id": "f9d6d962",
   "metadata": {},
   "source": [
    "Similarly, the thickener unit includes the same equation, as well as an equation relating the thickener's dimensions. Here, we fix hydraulic retention time and thickener diameter to satisfy 0 degrees of freedom."
   ]
  },
  {
   "cell_type": "code",
   "execution_count": null,
   "id": "dfb8d9a3",
   "metadata": {},
   "outputs": [],
   "source": [
    "# Thickener unit\n",
    "m.fs.TU.hydraulic_retention_time.fix(86400 * pyo.units.s)\n",
    "m.fs.TU.diameter.fix(10 * pyo.units.m)"
   ]
  },
  {
   "cell_type": "markdown",
   "id": "663b9e78-c1b3-41b5-b9d1-fe1fc5acd274",
   "metadata": {},
   "source": [
    "We then again add arcs as streams linking the unit models"
   ]
  },
  {
   "cell_type": "code",
   "execution_count": null,
   "id": "7a2d57fb-e9e9-4475-a299-bc0b9a9405ea",
   "metadata": {},
   "outputs": [],
   "source": [
    "m.fs.stream2adm = Arc(\n",
    "    source=m.fs.RADM.liquid_outlet, destination=m.fs.adm_asm.inlet\n",
    ")\n",
    "m.fs.stream6adm = Arc(source=m.fs.SP6.waste, destination=m.fs.TU.inlet)\n",
    "m.fs.stream3adm = Arc(source=m.fs.TU.underflow, destination=m.fs.MX4.thickener)\n",
    "m.fs.stream7adm = Arc(source=m.fs.TU.overflow, destination=m.fs.MX3.recycle2)\n",
    "m.fs.stream9adm = Arc(source=m.fs.CL.underflow, destination=m.fs.MX4.clarifier)\n",
    "m.fs.stream4adm = Arc(source=m.fs.adm_asm.outlet, destination=m.fs.DU.inlet)\n",
    "m.fs.stream5adm = Arc(source=m.fs.DU.overflow, destination=m.fs.MX2.recycle1)\n",
    "m.fs.stream01 = Arc(source=m.fs.FeedWater.outlet, destination=m.fs.MX2.feed_water1)\n",
    "m.fs.stream02 = Arc(source=m.fs.MX2.outlet, destination=m.fs.MX3.feed_water2)\n",
    "m.fs.stream03 = Arc(source=m.fs.MX3.outlet, destination=m.fs.CL.inlet)\n",
    "m.fs.stream04 = Arc(source=m.fs.CL.effluent, destination=m.fs.MX1.feed_water)\n",
    "m.fs.stream10adm = Arc(source=m.fs.MX4.outlet, destination=m.fs.asm_adm.inlet)\n",
    "m.fs.stream1adm = Arc(source=m.fs.asm_adm.outlet, destination=m.fs.RADM.inlet)\n",
    "pyo.TransformationFactory(\"network.expand_arcs\").apply_to(m)"
   ]
  },
  {
   "cell_type": "code",
   "execution_count": null,
   "id": "a115aa26-1f30-4187-823e-bf8cbb8d4c5d",
   "metadata": {},
   "outputs": [],
   "source": [
    "# Apply scaling\n",
    "iscale.calculate_scaling_factors(m.fs)"
   ]
  },
  {
   "cell_type": "markdown",
   "id": "4b844480-33fe-448c-98b4-8ce6d8f0b211",
   "metadata": {},
   "source": [
    "# Step 3: Solve the square problem\n",
    "## Step 3.1: Initialize the model"
   ]
  },
  {
   "cell_type": "code",
   "execution_count": null,
   "id": "9bab4f00-afe2-4374-a39b-72f8f7307f1f",
   "metadata": {},
   "outputs": [],
   "source": [
    "# Initialize flowsheet\n",
    "# Apply sequential decomposition - 1 iteration should suffice\n",
    "seq = SequentialDecomposition()\n",
    "# seq.options.select_tear_method = \"heuristic\"\n",
    "seq.options.tear_method = \"Direct\"\n",
    "seq.options.iterLim = 1\n",
    "seq.options.tear_set = [m.fs.stream2, m.fs.stream10adm]\n",
    "\n",
    "G = seq.create_graph(m)\n",
    "# Uncomment this code to see tear set and initialization order\n",
    "order = seq.calculation_order(G)\n",
    "print(\"Initialization Order\")\n",
    "for o in order:\n",
    "    print(o[0].name)\n",
    "\n",
    "# Initial guesses for flow into first reactor\n",
    "tear_guesses1 = {\n",
    "    \"flow_vol\": {0: 103531 / 24 / 3600},\n",
    "    \"conc_mass_comp\": {\n",
    "        (0, \"S_I\"): 0.028,\n",
    "        (0, \"S_S\"): 0.012,\n",
    "        (0, \"X_I\"): 1.532,\n",
    "        (0, \"X_S\"): 0.069,\n",
    "        (0, \"X_BH\"): 2.233,\n",
    "        (0, \"X_BA\"): 0.167,\n",
    "        (0, \"X_P\"): 0.964,\n",
    "        (0, \"S_O\"): 0.0011,\n",
    "        (0, \"S_NO\"): 0.0073,\n",
    "        (0, \"S_NH\"): 0.0072,\n",
    "        (0, \"S_ND\"): 0.0016,\n",
    "        (0, \"X_ND\"): 0.0040,\n",
    "    },\n",
    "    \"alkalinity\": {0: 0.0052},\n",
    "    \"temperature\": {0: 308.15},\n",
    "    \"pressure\": {0: 101325},\n",
    "}\n",
    "\n",
    "tear_guesses2 = {\n",
    "    \"flow_vol\": {0: 170 / 24 / 3600},\n",
    "    \"conc_mass_comp\": {\n",
    "        (0, \"S_I\"): 0.028,\n",
    "        (0, \"S_S\"): 0.048,\n",
    "        (0, \"X_I\"): 10.362,\n",
    "        (0, \"X_S\"): 20.375,\n",
    "        (0, \"X_BH\"): 10.210,\n",
    "        (0, \"X_BA\"): 0.553,\n",
    "        (0, \"X_P\"): 3.204,\n",
    "        (0, \"S_O\"): 0.00025,\n",
    "        (0, \"S_NO\"): 0.00169,\n",
    "        (0, \"S_NH\"): 0.0289,\n",
    "        (0, \"S_ND\"): 0.00468,\n",
    "        (0, \"X_ND\"): 0.906,\n",
    "    },\n",
    "    \"alkalinity\": {0: 0.00715},\n",
    "    \"temperature\": {0: 308.15},\n",
    "    \"pressure\": {0: 101325},\n",
    "}\n",
    "\n",
    "# Pass the tear_guess to the SD tool\n",
    "seq.set_guesses_for(m.fs.R1.inlet, tear_guesses1)\n",
    "seq.set_guesses_for(m.fs.asm_adm.inlet, tear_guesses2)"
   ]
  },
  {
   "cell_type": "markdown",
   "id": "c739d459-5473-4426-a345-de62d9da7c5c",
   "metadata": {},
   "source": [
    "We then run the initialization by creating a function to initialize each unit model and running it"
   ]
  },
  {
   "cell_type": "code",
   "execution_count": null,
   "id": "a4cbb465-b499-41bf-9322-2b45464abf72",
   "metadata": {},
   "outputs": [],
   "source": [
    "def function(unit):\n",
    "    unit.initialize(outlvl=idaeslog.INFO_HIGH)\n",
    "\n",
    "seq.run(m, function)"
   ]
  },
  {
   "cell_type": "markdown",
   "id": "80dc5d7e-3574-4ab2-83ba-927e509ffb54",
   "metadata": {},
   "source": [
    "## Step 3.2: Run solver\n",
    "Solve the model by running the flowsheet using the ipopt solver."
   ]
  },
  {
   "cell_type": "code",
   "execution_count": null,
   "id": "e0d29703-d4b6-4749-84d8-b3e7739ed22f",
   "metadata": {},
   "outputs": [],
   "source": [
    "solver = get_solver()\n",
    "results = solver.solve(m, tee=True)"
   ]
  },
  {
   "cell_type": "markdown",
   "id": "a0eae594-2399-4107-a081-4bc2f0bc2cd6",
   "metadata": {},
   "source": [
    "We run an assertion to make sure the solver found the optimal solution"
   ]
  },
  {
   "cell_type": "code",
   "execution_count": null,
   "id": "c0bae126-fce0-4c01-8386-f33854787d9a",
   "metadata": {},
   "outputs": [],
   "source": [
    "pyo.assert_optimal_termination(results)"
   ]
  },
  {
   "cell_type": "markdown",
   "id": "f5b0f59d-635c-4965-9045-08b4f3c54189",
   "metadata": {},
   "source": [
    "## Step 3.3: report solution\n",
    "we then report the treated water block"
   ]
  },
  {
   "cell_type": "code",
   "execution_count": null,
   "id": "183c650b-5a5e-4672-a63c-ce4ae1f8383b",
   "metadata": {},
   "outputs": [],
   "source": [
    "m.fs.Treated.report()"
   ]
  },
  {
   "cell_type": "markdown",
   "id": "0087b399",
   "metadata": {},
   "source": [
    "# Part 2: Demonstrate optimization and sensitivity analysis over specific parameters of the flowsheet (pending)\n",
    "The addition of unit capital costs and O&M costs is underway. Subsequently, an example of cost optimization of the steady-state BSM2 flowsheet will be presented."
   ]
  }
 ],
 "metadata": {
  "kernelspec": {
   "display_name": "watertap-dev",
   "language": "python",
   "name": "watertap-dev"
  },
  "language_info": {
   "codemirror_mode": {
    "name": "ipython",
    "version": 3
   },
   "file_extension": ".py",
   "mimetype": "text/x-python",
   "name": "python",
   "nbconvert_exporter": "python",
   "pygments_lexer": "ipython3",
   "version": "3.8.17"
  }
 },
 "nbformat": 4,
 "nbformat_minor": 5
}
