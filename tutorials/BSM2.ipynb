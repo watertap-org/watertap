{
 "cells": [
  {
   "cell_type": "markdown",
   "id": "c4b459c7-9ba2-41f4-a158-140e7ffc8a5d",
   "metadata": {},
   "source": [
    "# BSM2 Flowsheet Tutorial\n",
    "\n",
    "### This demonstration will show: \n",
    "- Part 1: How to build, initialize, and simulate the flowsheet for Benchmark Simulation Model 2 (BSM2). \n",
    "- Part 2: Demonstrate optimization and sensitivity analysis over specific parameters of the flowsheet.\n",
    "- Useful Links:\n",
    "    - Public Github Repository: https://github.com/watertap-org/watertap\n",
    "    - Documentation: https://watertap.readthedocs.io/en/stable/\n",
    "    - Activated Sludge Model No. 1 (ASM1) documentation: https://watertap.readthedocs.io/en/stable/technical_reference/property_models/ASM1.html\n",
    "    - Anaerobic Digestion Model No. 1 (ADM1) documentation: https://watertap.readthedocs.io/en/stable/technical_reference/property_models/ADM1.html\n",
    "    - ASM1-ADM1 Translator documentation: https://watertap.readthedocs.io/en/stable/technical_reference/unit_models/translators/translator_asm1_adm1.html\n",
    "    - ADM1-ASM1 Translator documentation: https://watertap.readthedocs.io/en/stable/technical_reference/unit_models/translators/translator_adm1_asm1.html    \n",
    "    - Unit Model documentation: https://watertap.readthedocs.io/en/stable/technical_reference/unit_models/index.html\n",
    "    - BSM2 flowsheet code: https://github.com/watertap-org/watertap/blob/main/watertap/examples/flowsheets/case_studies/full_water_resource_recovery_facility/BSM2.py\n"
   ]
  },
  {
   "cell_type": "markdown",
   "id": "e9c90c9f-b75d-4243-8d35-16cd6fe7fc89",
   "metadata": {},
   "source": [
    "# Part 1: Build, setup, and simulate the Benchmark Simulation Model No.2"
   ]
  },
  {
   "cell_type": "markdown",
   "id": "dc4d3d1c-edff-4fb7-8fda-75afac2ee04d",
   "metadata": {},
   "source": [
    "<img src=\"BSM2.png\" width=\"1000\" height=\"680\">"
   ]
  },
  {
   "cell_type": "markdown",
   "id": "bed058a8-5cf9-4c4b-bfdc-eb8f0f38ce2c",
   "metadata": {},
   "source": [
    "## Step 1: Import libraries from Pyomo, IDAES, and WaterTAP.\n",
    "We'll use some basic functionalities from Pyomo, generic unit models from IDAES, and process-specific models from WaterTAP."
   ]
  },
  {
   "cell_type": "code",
   "execution_count": 1,
   "id": "845b8ea4",
   "metadata": {},
   "outputs": [],
   "source": [
    "# Immport essentials from Pyomo and IDAES\n",
    "import pyomo.environ as pyo\n",
    "from pyomo.network import Arc, SequentialDecomposition\n",
    "from idaes.core import FlowsheetBlock, UnitModelCostingBlock, UnitModelBlockData\n",
    "import idaes.logger as idaeslog\n",
    "from watertap.core.solvers import get_solver\n",
    "import idaes.core.util.scaling as iscale\n",
    "\n",
    "# Import generic unit models from IDAES\n",
    "from idaes.models.unit_models.mixer import MomentumMixingType\n",
    "from idaes.models.unit_models import (\n",
    "    Feed,\n",
    "    Mixer,\n",
    "    Separator,\n",
    "    PressureChanger,\n",
    "    Product,\n",
    ")\n",
    "from idaes.models.unit_models.separator import SplittingType\n",
    "\n",
    "# Import unit models from WaterTAP\n",
    "from watertap.unit_models.anaerobic_digester import AD\n",
    "from watertap.unit_models.aeration_tank import AerationTank, ElectricityConsumption\n",
    "from watertap.unit_models.cstr import CSTR\n",
    "from watertap.unit_models.clarifier import Clarifier\n",
    "from watertap.unit_models.thickener import Thickener\n",
    "from watertap.unit_models.dewatering import DewateringUnit\n",
    "from watertap.unit_models.translators.translator_asm1_adm1 import Translator_ASM1_ADM1\n",
    "from watertap.unit_models.translators.translator_adm1_asm1 import Translator_ADM1_ASM1\n",
    "\n",
    "# Import anaerobic digestion property and reaction models \n",
    "from watertap.property_models.unit_specific.anaerobic_digestion.adm1_properties import (\n",
    "    ADM1ParameterBlock,\n",
    ")\n",
    "from watertap.property_models.unit_specific.anaerobic_digestion.adm1_reactions import (\n",
    "    ADM1ReactionParameterBlock,\n",
    ")\n",
    "from watertap.property_models.unit_specific.anaerobic_digestion.adm1_properties_vapor import (\n",
    "    ADM1_vaporParameterBlock,\n",
    ")\n",
    "\n",
    "# Import activated sludge property and reaction models\n",
    "from watertap.property_models.unit_specific.activated_sludge.asm1_properties import (\n",
    "    ASM1ParameterBlock,\n",
    ")\n",
    "from watertap.property_models.unit_specific.activated_sludge.asm1_reactions import (\n",
    "    ASM1ReactionParameterBlock,\n",
    ")\n",
    "\n",
    "# Import the WaterTAP costing tools\n",
    "from watertap.costing import WaterTAPCosting\n",
    "from watertap.costing.unit_models.clarifier import (\n",
    "    cost_circular_clarifier,\n",
    "    cost_primary_clarifier,\n",
    ")\n",
    "import logging\n",
    "logging.getLogger(\"idaes.core.util.scaling\").setLevel(logging.ERROR)"
   ]
  },
  {
   "cell_type": "markdown",
   "id": "f60862df-5964-4585-8da3-ac5ffbc46ee4",
   "metadata": {},
   "source": [
    "## Step 2: Flowsheet building"
   ]
  },
  {
   "cell_type": "markdown",
   "id": "13d0c542-1807-4ab9-b846-b676a4cf2732",
   "metadata": {},
   "source": [
    "## Step 2.1: Create Flowsheet\n",
    "\n",
    "We will start by creating a pyomo model and a flowsheet.\n",
    "\n",
    "We then add all the necessary property and reaction blocks for the ASM and ADM models."
   ]
  },
  {
   "cell_type": "code",
   "execution_count": 2,
   "id": "faba836b-eb59-4b4b-8726-6a921ca25073",
   "metadata": {},
   "outputs": [],
   "source": [
    "def create_flowsheet():\n",
    "    # create flowsheet\n",
    "    m = pyo.ConcreteModel()\n",
    "    m.fs = FlowsheetBlock(dynamic=False)\n",
    "\n",
    "    # property blocks\n",
    "    m.fs.props_ASM1 = ASM1ParameterBlock()\n",
    "    m.fs.props_ADM1 = ADM1ParameterBlock()\n",
    "    m.fs.props_vap = ADM1_vaporParameterBlock()\n",
    "    m.fs.ADM1_rxn_props = ADM1ReactionParameterBlock(property_package=m.fs.props_ADM1)\n",
    "    m.fs.ASM1_rxn_props = ASM1ReactionParameterBlock(property_package=m.fs.props_ASM1)\n",
    "    return m"
   ]
  },
  {
   "cell_type": "markdown",
   "id": "6d63f8d7-3acc-4605-823e-e682a03fd724",
   "metadata": {},
   "source": [
    "## Step 2.2: Setup Activated Sludge process\n",
    "We will start by creating the activated sludge process unit models with the following syntax: `m.fs.Name = UnitModel(arguments)`\n",
    "\n",
    "<img src=\"BSM2_ASM.png\" width=\"1000\" height=\"680\">"
   ]
  },
  {
   "cell_type": "code",
   "execution_count": 3,
   "id": "56611aeb-4c31-4dda-81cc-7dc2b45d0c6c",
   "metadata": {},
   "outputs": [],
   "source": [
    "def build_asm(m):\n",
    "    # Feed water stream\n",
    "    m.fs.FeedWater = Feed(property_package=m.fs.props_ASM1)\n",
    "    # Mixer for feed water and recycled sludge\n",
    "    m.fs.MX1 = Mixer(\n",
    "        property_package=m.fs.props_ASM1, inlet_list=[\"feed_water\", \"recycle\"], momentum_mixing_type=MomentumMixingType.none,\n",
    "    )\n",
    "    # First reactor (anoxic) - standard CSTR\n",
    "    m.fs.R1 = CSTR(\n",
    "        property_package=m.fs.props_ASM1, reaction_package=m.fs.ASM1_rxn_props\n",
    "    )\n",
    "    # Second reactor (anoxic) - standard CSTR\n",
    "    m.fs.R2 = CSTR(\n",
    "        property_package=m.fs.props_ASM1, reaction_package=m.fs.ASM1_rxn_props\n",
    "    )\n",
    "    # Third reactor (aerobic) - CSTR with injection\n",
    "    m.fs.R3 = AerationTank(\n",
    "            property_package=m.fs.props_ASM1,\n",
    "            reaction_package=m.fs.ASM1_rxn_props,\n",
    "            electricity_consumption=ElectricityConsumption.calculated,\n",
    "    )\n",
    "    # Fourth reactor (aerobic) - CSTR with injection\n",
    "    m.fs.R4 = AerationTank(\n",
    "            property_package=m.fs.props_ASM1,\n",
    "            reaction_package=m.fs.ASM1_rxn_props,\n",
    "            electricity_consumption=ElectricityConsumption.calculated,\n",
    "    )\n",
    "    # Fifth reactor (aerobic) - CSTR with injection\n",
    "    m.fs.R5 = AerationTank(\n",
    "            property_package=m.fs.props_ASM1,\n",
    "            reaction_package=m.fs.ASM1_rxn_props,\n",
    "            electricity_consumption=ElectricityConsumption.calculated,\n",
    "    )\n",
    "    m.fs.SP5 = Separator(\n",
    "        property_package=m.fs.props_ASM1, outlet_list=[\"underflow\", \"overflow\"]\n",
    "    )\n",
    "    # Clarifier\n",
    "    m.fs.CL1 = Clarifier(\n",
    "        property_package=m.fs.props_ASM1,\n",
    "        outlet_list=[\"underflow\", \"effluent\"],\n",
    "        split_basis=SplittingType.componentFlow,\n",
    "    )\n",
    "    # Sludge purge splitter\n",
    "    m.fs.SP6 = Separator(\n",
    "        property_package=m.fs.props_ASM1,\n",
    "        outlet_list=[\"recycle\", \"waste\"],\n",
    "        split_basis=SplittingType.totalFlow,\n",
    "    )\n",
    "    # Mixing sludge recycle and R5 underflow\n",
    "    m.fs.MX6 = Mixer(\n",
    "        property_package=m.fs.props_ASM1, inlet_list=[\"clarifier\", \"reactor\"], momentum_mixing_type=MomentumMixingType.none\n",
    "    )\n",
    "    # Product Blocks\n",
    "    m.fs.Treated = Product(property_package=m.fs.props_ASM1)\n",
    "    # Recycle pressure changer - use a simple isothermal unit for now\n",
    "    m.fs.P1 = PressureChanger(property_package=m.fs.props_ASM1)"
   ]
  },
  {
   "cell_type": "markdown",
   "id": "d020588b-bfd8-4e65-9c0d-618fb6b9de0c",
   "metadata": {},
   "source": [
    "## Step 2.3: Connect the Activated Sludge unit models\n",
    "Secondly we will use pyomo arcs as streams connecting the unit models."
   ]
  },
  {
   "cell_type": "code",
   "execution_count": 4,
   "id": "0435dc0d-c79e-42f4-a402-473e63e7f854",
   "metadata": {},
   "outputs": [],
   "source": [
    "def arc_asm(m):\n",
    "    # Link units\n",
    "    m.fs.stream2 = Arc(source=m.fs.MX1.outlet, destination=m.fs.R1.inlet)\n",
    "    m.fs.stream3 = Arc(source=m.fs.R1.outlet, destination=m.fs.R2.inlet)\n",
    "    m.fs.stream4 = Arc(source=m.fs.R2.outlet, destination=m.fs.R3.inlet)\n",
    "    m.fs.stream5 = Arc(source=m.fs.R3.outlet, destination=m.fs.R4.inlet)\n",
    "    m.fs.stream6 = Arc(source=m.fs.R4.outlet, destination=m.fs.R5.inlet)\n",
    "    m.fs.stream7 = Arc(source=m.fs.R5.outlet, destination=m.fs.SP5.inlet)\n",
    "    m.fs.stream8 = Arc(source=m.fs.SP5.overflow, destination=m.fs.CL1.inlet)\n",
    "    m.fs.stream9 = Arc(source=m.fs.SP5.underflow, destination=m.fs.MX6.reactor)\n",
    "    m.fs.stream10 = Arc(source=m.fs.CL1.effluent, destination=m.fs.Treated.inlet)\n",
    "    m.fs.stream11 = Arc(source=m.fs.CL1.underflow, destination=m.fs.SP6.inlet)\n",
    "    m.fs.stream13 = Arc(source=m.fs.SP6.recycle, destination=m.fs.MX6.clarifier)\n",
    "    m.fs.stream14 = Arc(source=m.fs.MX6.outlet, destination=m.fs.P1.inlet)\n",
    "    m.fs.stream15 = Arc(source=m.fs.P1.outlet, destination=m.fs.MX1.recycle)\n",
    "    \n",
    "    # Creates constraints for each arc and applies it to the model, m\n",
    "    pyo.TransformationFactory(\"network.expand_arcs\").apply_to(m)"
   ]
  },
  {
   "cell_type": "markdown",
   "id": "2919f12d-ad8e-44a7-9cbc-7083c49ab4ec",
   "metadata": {},
   "source": [
    "## Step 2.4: Setup Anaerobic Digester process\n",
    "Then create unit models for the anaerobic digester process with the following syntax: `m.fs.Name = UnitModel(arguments)`\n",
    "\n",
    "<img src=\"BSM2_ADM.png\" width=\"1000\" height=\"680\">"
   ]
  },
  {
   "cell_type": "code",
   "execution_count": 5,
   "id": "b01a4461-c122-4ef9-9534-b3aa92be2672",
   "metadata": {},
   "outputs": [],
   "source": [
    "def build_adm(m):\n",
    "    m.fs.RADM = AD(\n",
    "        liquid_property_package=m.fs.props_ADM1,\n",
    "        vapor_property_package=m.fs.props_vap,\n",
    "        reaction_package=m.fs.ADM1_rxn_props,\n",
    "        has_heat_transfer=True,\n",
    "        has_pressure_change=False,\n",
    "    )\n",
    "    m.fs.asm_adm = Translator_ASM1_ADM1(\n",
    "        inlet_property_package=m.fs.props_ASM1,\n",
    "        outlet_property_package=m.fs.props_ADM1,\n",
    "        reaction_package=m.fs.ADM1_rxn_props,\n",
    "        has_phase_equilibrium=False,\n",
    "        outlet_state_defined=True,\n",
    "    )\n",
    "    \n",
    "    m.fs.adm_asm = Translator_ADM1_ASM1(\n",
    "        inlet_property_package=m.fs.props_ADM1,\n",
    "        outlet_property_package=m.fs.props_ASM1,\n",
    "        reaction_package=m.fs.ADM1_rxn_props,\n",
    "        has_phase_equilibrium=False,\n",
    "        outlet_state_defined=True,\n",
    "    )\n",
    "    m.fs.CL = Clarifier(\n",
    "        property_package=m.fs.props_ASM1,\n",
    "        outlet_list=[\"underflow\", \"effluent\"],\n",
    "        split_basis=SplittingType.componentFlow,\n",
    "    )\n",
    "    \n",
    "    m.fs.TU = Thickener(property_package=m.fs.props_ASM1)\n",
    "    m.fs.DU = DewateringUnit(property_package=m.fs.props_ASM1)\n",
    "    \n",
    "    m.fs.MX2 = Mixer(\n",
    "        property_package=m.fs.props_ASM1, inlet_list=[\"feed_water1\", \"recycle1\"], momentum_mixing_type=MomentumMixingType.none\n",
    "    )\n",
    "    m.fs.MX3 = Mixer(\n",
    "        property_package=m.fs.props_ASM1, inlet_list=[\"feed_water2\", \"recycle2\"], momentum_mixing_type=MomentumMixingType.none\n",
    "    )\n",
    "    m.fs.MX4 = Mixer(\n",
    "        property_package=m.fs.props_ASM1, inlet_list=[\"thickener\", \"clarifier\"], momentum_mixing_type=MomentumMixingType.none\n",
    "    )\n"
   ]
  },
  {
   "cell_type": "markdown",
   "id": "663b9e78-c1b3-41b5-b9d1-fe1fc5acd274",
   "metadata": {},
   "source": [
    "## Step 2.5: Connect the Activated Sludge unit models\n",
    "Then we add arcs as streams linking the unit models."
   ]
  },
  {
   "cell_type": "code",
   "execution_count": 6,
   "id": "cf74ab7d-addd-4518-86f1-4d17dedb7823",
   "metadata": {},
   "outputs": [],
   "source": [
    "def arc_adm(m):\n",
    "    m.fs.stream2adm = Arc(\n",
    "        source=m.fs.RADM.liquid_outlet, destination=m.fs.adm_asm.inlet\n",
    "    )\n",
    "    m.fs.stream6adm = Arc(source=m.fs.SP6.waste, destination=m.fs.TU.inlet)\n",
    "    m.fs.stream3adm = Arc(source=m.fs.TU.underflow, destination=m.fs.MX4.thickener)\n",
    "    m.fs.stream7adm = Arc(source=m.fs.TU.overflow, destination=m.fs.MX3.recycle2)\n",
    "    m.fs.stream9adm = Arc(source=m.fs.CL.underflow, destination=m.fs.MX4.clarifier)\n",
    "    m.fs.stream4adm = Arc(source=m.fs.adm_asm.outlet, destination=m.fs.DU.inlet)\n",
    "    m.fs.stream5adm = Arc(source=m.fs.DU.overflow, destination=m.fs.MX2.recycle1)\n",
    "    m.fs.stream01 = Arc(source=m.fs.FeedWater.outlet, destination=m.fs.MX2.feed_water1)\n",
    "    m.fs.stream02 = Arc(source=m.fs.MX2.outlet, destination=m.fs.MX3.feed_water2)\n",
    "    m.fs.stream03 = Arc(source=m.fs.MX3.outlet, destination=m.fs.CL.inlet)\n",
    "    m.fs.stream04 = Arc(source=m.fs.CL.effluent, destination=m.fs.MX1.feed_water)\n",
    "    m.fs.stream10adm = Arc(source=m.fs.MX4.outlet, destination=m.fs.asm_adm.inlet)\n",
    "    m.fs.stream1adm = Arc(source=m.fs.asm_adm.outlet, destination=m.fs.RADM.inlet)\n",
    "    pyo.TransformationFactory(\"network.expand_arcs\").apply_to(m)"
   ]
  },
  {
   "cell_type": "markdown",
   "id": "d14aaf85-4e76-4fbf-a362-526a3b556a38",
   "metadata": {},
   "source": [
    "## Step 2.6: Set operating conditions such that the DOF are 0 (feed flow rates, feed concentrations, separator split fractions, etc.)"
   ]
  },
  {
   "cell_type": "code",
   "execution_count": 7,
   "id": "04c3cca2-64a0-484b-ab92-095779214e2b",
   "metadata": {},
   "outputs": [],
   "source": [
    "def set_operating_conditions(m):\n",
    "    # Feed Water Conditions\n",
    "    m.fs.FeedWater.flow_vol.fix(20648 * pyo.units.m**3 / pyo.units.day)\n",
    "    m.fs.FeedWater.temperature.fix(308.15 * pyo.units.K)\n",
    "    m.fs.FeedWater.pressure.fix(1 * pyo.units.atm)\n",
    "    m.fs.FeedWater.conc_mass_comp[0, \"S_I\"].fix(\n",
    "        27 * pyo.units.g / pyo.units.m**3\n",
    "    )\n",
    "    m.fs.FeedWater.conc_mass_comp[0, \"S_S\"].fix(\n",
    "        58 * pyo.units.g / pyo.units.m**3\n",
    "    )\n",
    "    m.fs.FeedWater.conc_mass_comp[0, \"X_I\"].fix(92 * pyo.units.g / pyo.units.m**3)\n",
    "    m.fs.FeedWater.conc_mass_comp[0, \"X_S\"].fix(\n",
    "        363 * pyo.units.g / pyo.units.m**3\n",
    "    )\n",
    "    m.fs.FeedWater.conc_mass_comp[0, \"X_BH\"].fix(\n",
    "        50 * pyo.units.g / pyo.units.m**3\n",
    "    )\n",
    "    m.fs.FeedWater.conc_mass_comp[0, \"X_BA\"].fix(0 * pyo.units.g / pyo.units.m**3)\n",
    "    m.fs.FeedWater.conc_mass_comp[0, \"X_P\"].fix(0 * pyo.units.g / pyo.units.m**3)\n",
    "    m.fs.FeedWater.conc_mass_comp[0, \"S_O\"].fix(0 * pyo.units.g / pyo.units.m**3)\n",
    "    m.fs.FeedWater.conc_mass_comp[0, \"S_NO\"].fix(0 * pyo.units.g / pyo.units.m**3)\n",
    "    m.fs.FeedWater.conc_mass_comp[0, \"S_NH\"].fix(\n",
    "        23 * pyo.units.g / pyo.units.m**3\n",
    "    )\n",
    "    m.fs.FeedWater.conc_mass_comp[0, \"S_ND\"].fix(\n",
    "        5 * pyo.units.g / pyo.units.m**3\n",
    "    )\n",
    "    m.fs.FeedWater.conc_mass_comp[0, \"X_ND\"].fix(\n",
    "        16 * pyo.units.g / pyo.units.m**3\n",
    "    )\n",
    "    m.fs.FeedWater.alkalinity.fix(7 * pyo.units.mol / pyo.units.m**3)\n",
    "\n",
    "    # Reactor sizing\n",
    "    m.fs.R1.volume.fix(1000 * pyo.units.m**3)\n",
    "    m.fs.R2.volume.fix(1000 * pyo.units.m**3)\n",
    "    m.fs.R3.volume.fix(1333 * pyo.units.m**3)\n",
    "    m.fs.R4.volume.fix(1333 * pyo.units.m**3)\n",
    "    m.fs.R5.volume.fix(1333 * pyo.units.m**3)\n",
    "\n",
    "    # Injection rates to Reactions 3, 4 and 5\n",
    "    for j in m.fs.props_ASM1.component_list:\n",
    "        if j != \"S_O\":\n",
    "            # All components except S_O have no injection\n",
    "            m.fs.R3.injection[:, :, j].fix(0)\n",
    "            m.fs.R4.injection[:, :, j].fix(0)\n",
    "            m.fs.R5.injection[:, :, j].fix(0)\n",
    "    # Then set injections rates for O2\n",
    "    m.fs.R3.outlet.conc_mass_comp[:, \"S_O\"].fix(1.72e-3)\n",
    "    m.fs.R4.outlet.conc_mass_comp[:, \"S_O\"].fix(2.43e-3)\n",
    "    m.fs.R5.outlet.conc_mass_comp[:, \"S_O\"].fix(4.49e-4)\n",
    "    # Oxygen concentration in reactors 3 and 4 is governed by mass transfer\n",
    "    m.fs.R3.KLa = 7.6\n",
    "    m.fs.R4.KLa = 5.7\n",
    "\n",
    "    # Set fraction of outflow from reactor 5 that goes to recycle\n",
    "    m.fs.SP5.split_fraction[:, \"underflow\"].fix(0.6)\n",
    "    \n",
    "    # Clarifier\n",
    "    m.fs.CL1.split_fraction[0, \"effluent\", \"H2O\"].fix(0.48956)\n",
    "    m.fs.CL1.split_fraction[0, \"effluent\", \"S_I\"].fix(0.48956)\n",
    "    m.fs.CL1.split_fraction[0, \"effluent\", \"S_S\"].fix(0.48956)\n",
    "    m.fs.CL1.split_fraction[0, \"effluent\", \"X_I\"].fix(0.00187)\n",
    "    m.fs.CL1.split_fraction[0, \"effluent\", \"X_S\"].fix(0.00187)\n",
    "    m.fs.CL1.split_fraction[0, \"effluent\", \"X_BH\"].fix(0.00187)\n",
    "    m.fs.CL1.split_fraction[0, \"effluent\", \"X_BA\"].fix(0.00187)\n",
    "    m.fs.CL1.split_fraction[0, \"effluent\", \"X_P\"].fix(0.00187)\n",
    "    m.fs.CL1.split_fraction[0, \"effluent\", \"S_O\"].fix(0.48956)\n",
    "    m.fs.CL1.split_fraction[0, \"effluent\", \"S_NO\"].fix(0.48956)\n",
    "    m.fs.CL1.split_fraction[0, \"effluent\", \"S_NH\"].fix(0.48956)\n",
    "    m.fs.CL1.split_fraction[0, \"effluent\", \"S_ND\"].fix(0.48956)\n",
    "    m.fs.CL1.split_fraction[0, \"effluent\", \"X_ND\"].fix(0.00187)\n",
    "    m.fs.CL1.split_fraction[0, \"effluent\", \"S_ALK\"].fix(0.48956)\n",
    "    \n",
    "    m.fs.CL1.surface_area.fix(1500 * pyo.units.m**2)\n",
    "    \n",
    "    # Sludge purge separator\n",
    "    m.fs.SP6.split_fraction[:, \"recycle\"].fix(0.985)\n",
    "\n",
    "    # Outlet pressure from recycle pump\n",
    "    m.fs.P1.outlet.pressure.fix(101325)\n",
    "\n",
    "    # Clarifier\n",
    "    m.fs.CL.split_fraction[0, \"effluent\", \"H2O\"].fix(0.993)\n",
    "    m.fs.CL.split_fraction[0, \"effluent\", \"S_I\"].fix(0.993)\n",
    "    m.fs.CL.split_fraction[0, \"effluent\", \"S_S\"].fix(0.993)\n",
    "    m.fs.CL.split_fraction[0, \"effluent\", \"X_I\"].fix(0.5192)\n",
    "    m.fs.CL.split_fraction[0, \"effluent\", \"X_S\"].fix(0.5192)\n",
    "    m.fs.CL.split_fraction[0, \"effluent\", \"X_BH\"].fix(0.5192)\n",
    "    m.fs.CL.split_fraction[0, \"effluent\", \"X_BA\"].fix(0.5192)\n",
    "    m.fs.CL.split_fraction[0, \"effluent\", \"X_P\"].fix(0.5192)\n",
    "    m.fs.CL.split_fraction[0, \"effluent\", \"S_O\"].fix(0.993)\n",
    "    m.fs.CL.split_fraction[0, \"effluent\", \"S_NO\"].fix(0.993)\n",
    "    m.fs.CL.split_fraction[0, \"effluent\", \"S_NH\"].fix(0.993)\n",
    "    m.fs.CL.split_fraction[0, \"effluent\", \"S_ND\"].fix(0.993)\n",
    "    m.fs.CL.split_fraction[0, \"effluent\", \"X_ND\"].fix(0.5192)\n",
    "    m.fs.CL.split_fraction[0, \"effluent\", \"S_ALK\"].fix(0.993)\n",
    "\n",
    "    # Anaerobic digester\n",
    "    m.fs.RADM.volume_liquid.fix(3400)\n",
    "    m.fs.RADM.volume_vapor.fix(300)\n",
    "    m.fs.RADM.liquid_outlet.temperature.fix(308.15)\n",
    "\n",
    "    # Dewatering unit\n",
    "    m.fs.DU.hydraulic_retention_time.fix(1800 * pyo.units.s)\n",
    "    m.fs.DU.energy_electric_flow_vol_inlet[0] = 0.069 * pyo.units.kWh / pyo.units.m**3\n",
    "\n",
    "    # Thickener unit\n",
    "    m.fs.TU.hydraulic_retention_time.fix(86400 * pyo.units.s)\n",
    "    m.fs.TU.diameter.fix(10 * pyo.units.m)\n",
    "\n",
    "    m.mixers = (m.fs.MX1, m.fs.MX2, m.fs.MX3, m.fs.MX4, m.fs.MX6)\n",
    "    for mx in m.mixers:\n",
    "        mx.outlet.pressure.fix()"
   ]
  },
  {
   "cell_type": "markdown",
   "id": "e3f5fefd-a3d8-4123-b61f-8614bd340109",
   "metadata": {},
   "source": [
    "## Step 2.7: Build flowsheet\n",
    "Next, we call the previous steps in sequential order to build the flowsheet."
   ]
  },
  {
   "cell_type": "code",
   "execution_count": 8,
   "id": "de535b18-850f-4842-b67c-6edbb4a44cc9",
   "metadata": {},
   "outputs": [],
   "source": [
    "def build():\n",
    "    m = create_flowsheet()\n",
    "    # Build ASM section\n",
    "    build_asm(m)\n",
    "    arc_asm(m)\n",
    "\n",
    "    # Build ADM section\n",
    "    build_adm(m)\n",
    "    arc_adm(m)\n",
    "\n",
    "    set_operating_conditions(m)\n",
    "    return m\n",
    "\n",
    "# Run build function\n",
    "m = build()"
   ]
  },
  {
   "cell_type": "markdown",
   "id": "68c276d1-192f-4207-801a-2973760b683d",
   "metadata": {},
   "source": [
    "## Step 2.8: Set scaling"
   ]
  },
  {
   "cell_type": "markdown",
   "id": "f55cfcd1-a36f-4b37-992e-3fc9696c556a",
   "metadata": {},
   "source": [
    "To improve solver performance, we want all the variables to share a similar magnitude."
   ]
  },
  {
   "cell_type": "code",
   "execution_count": 9,
   "id": "9363b08e-02f4-408c-aeea-1d6bff9e2d9f",
   "metadata": {},
   "outputs": [],
   "source": [
    "def scale_system(m):\n",
    "    # calculate and propagate scaling factors\n",
    "    for var in m.fs.component_data_objects(pyo.Var, descend_into=True):\n",
    "        if \"flow_vol\" in var.name:\n",
    "            iscale.set_scaling_factor(var, 1e1)\n",
    "        if \"temperature\" in var.name:\n",
    "            iscale.set_scaling_factor(var, 1e-1)\n",
    "        if \"pressure\" in var.name:\n",
    "            iscale.set_scaling_factor(var, 1e-6)\n",
    "        if \"conc_mass_comp\" in var.name:\n",
    "            iscale.set_scaling_factor(var, 1e1)\n",
    "\n",
    "    iscale.calculate_scaling_factors(m);\n",
    "\n",
    "# Run scale_system\n",
    "scale_system(m);"
   ]
  },
  {
   "cell_type": "markdown",
   "id": "4b844480-33fe-448c-98b4-8ce6d8f0b211",
   "metadata": {},
   "source": [
    "## Step 3: Solve the square problem\n",
    "## Step 3.1: Initialize the model\n",
    "\n",
    "Use sequential decomposition to initialize each unit model and supply initial values that are close to the solution for the recycle streams."
   ]
  },
  {
   "cell_type": "code",
   "execution_count": 10,
   "id": "9bab4f00-afe2-4374-a39b-72f8f7307f1f",
   "metadata": {},
   "outputs": [],
   "source": [
    "def initialize_system(m):\n",
    "    logging.getLogger(\"pyomo.network\").setLevel(logging.ERROR)\n",
    "    # Initialize flowsheet\n",
    "    # Apply sequential decomposition - 1 iteration should suffice\n",
    "    seq = SequentialDecomposition()\n",
    "    # Other tear methods include \"Wegstein\", \"Newton\", and \"heuristic\"\n",
    "    seq.options.tear_method = \"Direct\" \n",
    "    # Set limits on the number of sequential loops\n",
    "    seq.options.iterLim = 1\n",
    "    # Identify Arc names for recycle streams\n",
    "    seq.options.tear_set = [m.fs.stream2, m.fs.stream10adm]\n",
    "\n",
    "    # Supply tear guesses with initial values that are close to the solution\n",
    "    # Initial guesses for flow into first reactor\n",
    "    tear_guesses1 = {\n",
    "        \"flow_vol\": {0: 103531 / 24 / 3600},\n",
    "        \"conc_mass_comp\": {\n",
    "            (0, \"S_I\"): 0.028,\n",
    "            (0, \"S_S\"): 0.012,\n",
    "            (0, \"X_I\"): 1.532,\n",
    "            (0, \"X_S\"): 0.069,\n",
    "            (0, \"X_BH\"): 2.233,\n",
    "            (0, \"X_BA\"): 0.167,\n",
    "            (0, \"X_P\"): 0.964,\n",
    "            (0, \"S_O\"): 0.0011,\n",
    "            (0, \"S_NO\"): 0.0073,\n",
    "            (0, \"S_NH\"): 0.0072,\n",
    "            (0, \"S_ND\"): 0.0016,\n",
    "            (0, \"X_ND\"): 0.0040,\n",
    "        },\n",
    "        \"alkalinity\": {0: 0.0052},\n",
    "        \"temperature\": {0: 308.15},\n",
    "        \"pressure\": {0: 101325},\n",
    "    }\n",
    "    \n",
    "    # Initial guesses for ASM to ADM translator\n",
    "    tear_guesses2 = {\n",
    "        \"flow_vol\": {0: 170 / 24 / 3600},\n",
    "        \"conc_mass_comp\": {\n",
    "            (0, \"S_I\"): 0.028,\n",
    "            (0, \"S_S\"): 0.048,\n",
    "            (0, \"X_I\"): 10.362,\n",
    "            (0, \"X_S\"): 20.375,\n",
    "            (0, \"X_BH\"): 10.210,\n",
    "            (0, \"X_BA\"): 0.553,\n",
    "            (0, \"X_P\"): 3.204,\n",
    "            (0, \"S_O\"): 0.00025,\n",
    "            (0, \"S_NO\"): 0.00169,\n",
    "            (0, \"S_NH\"): 0.0289,\n",
    "            (0, \"S_ND\"): 0.00468,\n",
    "            (0, \"X_ND\"): 0.906,\n",
    "        },\n",
    "        \"alkalinity\": {0: 0.00715},\n",
    "        \"temperature\": {0: 308.15},\n",
    "        \"pressure\": {0: 101325},\n",
    "    }\n",
    "    \n",
    "    # Pass the tear_guess to the SD tool\n",
    "    seq.set_guesses_for(m.fs.R1.inlet, tear_guesses1)\n",
    "    seq.set_guesses_for(m.fs.asm_adm.inlet, tear_guesses2)\n",
    "\n",
    "    # We then run the initialization by creating a function to initialize each unit model\n",
    "    def function(unit):\n",
    "        unit.initialize(outlvl=idaeslog.ERROR);\n",
    "\n",
    "    seq.run(m, function);\n",
    "\n",
    "# Run initialization\n",
    "initialize_system(m)"
   ]
  },
  {
   "cell_type": "markdown",
   "id": "add0231e-ad70-4860-bf0f-0396dcec16dc",
   "metadata": {},
   "source": [
    "## Step 3.2: Add costing models\n",
    "\n",
    "For each of the major unit operations in the BSM2 flowsheet, we'll create a UnitModelCostingBlock, which contains all the variables and constraints related to that unit's costing."
   ]
  },
  {
   "cell_type": "code",
   "execution_count": 11,
   "id": "a6c1fadc-243d-4307-9707-4a8ede50e4cb",
   "metadata": {},
   "outputs": [],
   "source": [
    "def add_costing(m):\n",
    "    # Base class for creating WaterTAP costing packages\n",
    "    m.fs.costing = WaterTAPCosting()\n",
    "    m.fs.costing.base_currency = pyo.units.USD_2020\n",
    "    \n",
    "    # Unit model costing blocks\n",
    "    m.fs.R1.costing = UnitModelCostingBlock(flowsheet_costing_block=m.fs.costing)\n",
    "    m.fs.R2.costing = UnitModelCostingBlock(flowsheet_costing_block=m.fs.costing)\n",
    "    m.fs.R3.costing = UnitModelCostingBlock(flowsheet_costing_block=m.fs.costing)\n",
    "    m.fs.R4.costing = UnitModelCostingBlock(flowsheet_costing_block=m.fs.costing)\n",
    "    m.fs.R5.costing = UnitModelCostingBlock(flowsheet_costing_block=m.fs.costing)\n",
    "    m.fs.CL.costing = UnitModelCostingBlock(\n",
    "        flowsheet_costing_block=m.fs.costing,\n",
    "        costing_method=cost_primary_clarifier,\n",
    "    )\n",
    "    \n",
    "    m.fs.CL1.costing = UnitModelCostingBlock(\n",
    "        flowsheet_costing_block=m.fs.costing,\n",
    "        costing_method=cost_circular_clarifier,\n",
    "    )\n",
    "    m.fs.RADM.costing = UnitModelCostingBlock(flowsheet_costing_block=m.fs.costing)\n",
    "    m.fs.DU.costing = UnitModelCostingBlock(flowsheet_costing_block=m.fs.costing)\n",
    "    m.fs.TU.costing = UnitModelCostingBlock(flowsheet_costing_block=m.fs.costing)\n",
    "\n",
    "add_costing(m)"
   ]
  },
  {
   "cell_type": "markdown",
   "id": "d5456727-a487-4c21-b549-86032d843fab",
   "metadata": {},
   "source": [
    "Then we need to define the system level costs, namely annual water production, specific energy consumption, and levelized cost of water (LCOW)."
   ]
  },
  {
   "cell_type": "code",
   "execution_count": 12,
   "id": "50369b3f-384b-4151-acef-8810d6010b1e",
   "metadata": {},
   "outputs": [],
   "source": [
    "def add_extra(m):\n",
    "    # Process costing and system level metrics\n",
    "    m.fs.costing.cost_process()\n",
    "    m.fs.costing.add_annual_water_production(m.fs.Treated.properties[0].flow_vol)\n",
    "    m.fs.costing.add_LCOW(m.fs.FeedWater.properties[0].flow_vol)\n",
    "    m.fs.costing.add_specific_energy_consumption(m.fs.FeedWater.properties[0].flow_vol)\n",
    "    \n",
    "    # Apply scaling\n",
    "    iscale.set_scaling_factor(m.fs.costing.LCOW, 1e3)\n",
    "    iscale.set_scaling_factor(m.fs.costing.total_capital_cost, 1e-5)\n",
    "    \n",
    "    for block in m.fs.component_objects(pyo.Block, descend_into=True):\n",
    "        if isinstance(block, UnitModelBlockData) and hasattr(block, \"costing\"):\n",
    "            iscale.set_scaling_factor(block.costing.capital_cost, 1e-6)\n",
    "    \n",
    "    iscale.constraint_scaling_transform(m.fs.DU.costing.capital_cost_constraint, 1e-6)\n",
    "    iscale.constraint_scaling_transform(m.fs.RADM.costing.capital_cost_constraint, 1e-6)\n",
    "    \n",
    "    \n",
    "    # Initialize costing\n",
    "    m.fs.costing.initialize()\n",
    "\n",
    "add_extra(m)"
   ]
  },
  {
   "cell_type": "markdown",
   "id": "80dc5d7e-3574-4ab2-83ba-927e509ffb54",
   "metadata": {},
   "source": [
    "## Step 3.3: Run solver\n",
    "Solve the model by running the flowsheet using the ipopt solver."
   ]
  },
  {
   "cell_type": "code",
   "execution_count": 13,
   "id": "e0d29703-d4b6-4749-84d8-b3e7739ed22f",
   "metadata": {},
   "outputs": [],
   "source": [
    "solver = get_solver()\n",
    "results = solver.solve(m, tee=False)"
   ]
  },
  {
   "cell_type": "markdown",
   "id": "f5b0f59d-635c-4965-9045-08b4f3c54189",
   "metadata": {},
   "source": [
    "## Step 3.4: Report solution\n",
    "We then report the levelized cost of water and a stream table for the treated water stream."
   ]
  },
  {
   "cell_type": "code",
   "execution_count": 14,
   "id": "183c650b-5a5e-4672-a63c-ce4ae1f8383b",
   "metadata": {},
   "outputs": [
    {
     "name": "stdout",
     "output_type": "stream",
     "text": [
      "Levelized cost of water: 0.351 $/m3\n",
      "\n",
      "====================================================================================\n",
      "Unit : fs.Treated                                                          Time: 0.0\n",
      "------------------------------------------------------------------------------------\n",
      "    Stream Table\n",
      "                                    Units             Inlet  \n",
      "    Volumetric Flowrate        meter ** 3 / second    0.23889\n",
      "    Molar Alkalinity             mole / meter ** 3     3.8096\n",
      "    Mass Concentration S_I   kilogram / meter ** 3   0.061909\n",
      "    Mass Concentration S_S   kilogram / meter ** 3 0.00087127\n",
      "    Mass Concentration X_I   kilogram / meter ** 3  0.0054462\n",
      "    Mass Concentration X_S   kilogram / meter ** 3 0.00020555\n",
      "    Mass Concentration X_BH  kilogram / meter ** 3   0.010903\n",
      "    Mass Concentration X_BA  kilogram / meter ** 3 0.00078876\n",
      "    Mass Concentration X_P   kilogram / meter ** 3  0.0022565\n",
      "    Mass Concentration S_O   kilogram / meter ** 3 0.00044900\n",
      "    Mass Concentration S_NO  kilogram / meter ** 3   0.015456\n",
      "    Mass Concentration S_NH  kilogram / meter ** 3 0.00091693\n",
      "    Mass Concentration S_ND  kilogram / meter ** 3 0.00064661\n",
      "    Mass Concentration X_ND  kilogram / meter ** 3 1.4159e-05\n",
      "    Temperature                             kelvin     308.15\n",
      "    Pressure                                pascal 1.0132e+05\n",
      "====================================================================================\n"
     ]
    }
   ],
   "source": [
    "print(\"Levelized cost of water: %.3f $/m3\" % pyo.value(m.fs.costing.LCOW))\n",
    "m.fs.Treated.report()"
   ]
  },
  {
   "cell_type": "markdown",
   "id": "c0868dd3-e4b8-4ddb-ab7f-2fa3bd0749d3",
   "metadata": {},
   "source": [
    "# Part 2: Implement cost optimization to seek optimal operating conditions\n",
    "\n",
    "In this section, we'll run an optimization problem to minimize the levelized cost of water and identify the optimal operating conditions of the system."
   ]
  },
  {
   "cell_type": "markdown",
   "id": "ad1bfc8b-a344-4008-a4f8-036d65d68d82",
   "metadata": {},
   "source": [
    "## Step 1: Setup optimization\n",
    "\n",
    "The objective function is defined as LCOW, and we unfix reactor volume, oxygen injection rates, and split fractions for recycle streams as decision variables."
   ]
  },
  {
   "cell_type": "code",
   "execution_count": 15,
   "id": "e7d99cd3-e431-4e8d-bb50-969fe629d18a",
   "metadata": {},
   "outputs": [],
   "source": [
    "def setup_optimization(m):\n",
    "    # Define LCOW as the objective function\n",
    "    m.fs.objective = pyo.Objective(expr=m.fs.costing.LCOW)\n",
    "    \n",
    "    # Unfix the volume of the Activated Sludge reactors\n",
    "    for i in [\"R1\", \"R2\", \"R3\", \"R4\", \"R5\"]:\n",
    "        reactor = getattr(m.fs, i)\n",
    "        reactor.volume.unfix()\n",
    "        reactor.volume.setlb(1)\n",
    "    \n",
    "    # Unfix the oxygen injections rates for the aerobic CSTRs\n",
    "    m.fs.R3.outlet.conc_mass_comp[:, \"S_O\"].unfix()\n",
    "    m.fs.R3.outlet.conc_mass_comp[:, \"S_O\"].setub(8e-3)\n",
    "    \n",
    "    m.fs.R4.outlet.conc_mass_comp[:, \"S_O\"].unfix()\n",
    "    m.fs.R4.outlet.conc_mass_comp[:, \"S_O\"].setub(8e-3)\n",
    "    \n",
    "    m.fs.R5.outlet.conc_mass_comp[:, \"S_O\"].unfix()\n",
    "    m.fs.R5.outlet.conc_mass_comp[:, \"S_O\"].setub(8e-3)\n",
    "    \n",
    "    # Unfix fraction of outflow from reactor 5 that goes to recycle\n",
    "    m.fs.SP5.split_fraction[:, \"underflow\"].unfix()\n",
    "    m.fs.SP6.split_fraction[:, \"recycle\"].unfix()\n",
    "\n",
    "    # Add extra inequality constraints that relate the reactor volumes ot each other\n",
    "    @m.fs.Constraint(m.fs.time)\n",
    "    def Vol_1(self, t):\n",
    "        return m.fs.R1.volume[0] == m.fs.R2.volume[0]\n",
    "    \n",
    "    @m.fs.Constraint(m.fs.time)\n",
    "    def Vol_2(self, t):\n",
    "        return m.fs.R3.volume[0] == m.fs.R4.volume[0]\n",
    "    \n",
    "    @m.fs.Constraint(m.fs.time)\n",
    "    def Vol_3(self, t):\n",
    "        return m.fs.R5.volume[0] >= m.fs.R4.volume[0] * 0.5"
   ]
  },
  {
   "cell_type": "markdown",
   "id": "52941e7c-0ef2-494d-b243-579a344c06e9",
   "metadata": {},
   "source": [
    "## Step 2: Add inequality constraints for effluent concentration limits"
   ]
  },
  {
   "cell_type": "markdown",
   "id": "26980de5-c710-4b24-a6de-7eee088af432",
   "metadata": {},
   "source": [
    "We add extra inequality constraints for effluent quality to guarantee that wastewater is well treated. So we add limitations for the following effluent metrics: total suspended solids (TSS), chemical oxygen demand (COD), total nitrogen, and 5-day biological oxygen demand (BOD5)."
   ]
  },
  {
   "cell_type": "code",
   "execution_count": 16,
   "id": "820abc0e-9633-432a-b710-22d90e0dd3d7",
   "metadata": {},
   "outputs": [],
   "source": [
    "def add_effluent_violations(m):\n",
    "    # Define the upper limit for TSS\n",
    "    m.fs.TSS_max = pyo.Var(initialize=0.03, units=pyo.units.kg / pyo.units.m**3)\n",
    "    m.fs.TSS_max.fix()\n",
    "    \n",
    "    # Add constraint ensuring effluent TSS is below the limit\n",
    "    @m.fs.Constraint(m.fs.time)\n",
    "    def eq_TSS_max(self, t):\n",
    "        return m.fs.CL1.effluent_state[0].TSS <= m.fs.TSS_max\n",
    "    \n",
    "    # Define the upper limit for COD\n",
    "    m.fs.COD_max = pyo.Var(initialize=0.1, units=pyo.units.kg / pyo.units.m**3)\n",
    "    m.fs.COD_max.fix()\n",
    "    \n",
    "    # Add constraint ensuring effluent COD is below the limit\n",
    "    @m.fs.Constraint(m.fs.time)\n",
    "    def eq_COD_max(self, t):\n",
    "        return m.fs.CL1.effluent_state[0].COD <= m.fs.COD_max\n",
    "    \n",
    "    # Define the upper limit for total nitrogen\n",
    "    m.fs.totalN_max = pyo.Var(initialize=0.018, units=pyo.units.kg / pyo.units.m**3)\n",
    "    m.fs.totalN_max.fix()\n",
    "    \n",
    "    # Add constraint ensuring total effluent nitrogen is below the limit\n",
    "    @m.fs.Constraint(m.fs.time)\n",
    "    def eq_totalN_max(self, t):\n",
    "        return m.fs.CL1.effluent_state[0].Total_N <= m.fs.totalN_max\n",
    "    \n",
    "    # Define the upper limit for BOD5\n",
    "    m.fs.BOD5_max = pyo.Var(initialize=0.01, units=pyo.units.kg / pyo.units.m**3)\n",
    "    m.fs.BOD5_max.fix()\n",
    "    \n",
    "    # Add constraint ensuring effluent BOD5 is below the limit\n",
    "    @m.fs.Constraint(m.fs.time)\n",
    "    def eq_BOD5_max(self, t):\n",
    "        return m.fs.CL1.effluent_state[0].BOD5[\"effluent\"] <= m.fs.BOD5_max"
   ]
  },
  {
   "cell_type": "markdown",
   "id": "6fb061c8-ee51-4d2c-9908-d0e8dea27acd",
   "metadata": {},
   "source": [
    "## Step 3: Solve optimization problem"
   ]
  },
  {
   "cell_type": "markdown",
   "id": "411f79ba-dfab-4dc5-9721-8f6361a75944",
   "metadata": {},
   "source": [
    "We solve this optimization problem and report results."
   ]
  },
  {
   "cell_type": "code",
   "execution_count": 17,
   "id": "edbae858-96a9-4652-af7a-534d3b28d2c2",
   "metadata": {},
   "outputs": [
    {
     "name": "stdout",
     "output_type": "stream",
     "text": [
      "Levelized cost of water: 0.304 $/m3\n"
     ]
    }
   ],
   "source": [
    "setup_optimization(m)\n",
    "add_effluent_violations(m)\n",
    "\n",
    "solver = get_solver()\n",
    "results = solver.solve(m, tee=False)\n",
    "print(\"Levelized cost of water: %.3f $/m3\" % pyo.value(m.fs.costing.LCOW))"
   ]
  },
  {
   "cell_type": "markdown",
   "id": "36832036-4511-4bed-a02a-080f62a817f8",
   "metadata": {},
   "source": [
    "# Part 3: Conduct sensitvity analyses\n",
    "\n",
    "We conduct sensitivity analyses to visualize the impacts of key variables on the system."
   ]
  },
  {
   "cell_type": "markdown",
   "id": "ea904968-5c7d-4eb0-aa2b-e3e84f9d14c1",
   "metadata": {},
   "source": [
    "First, we will show the the impacts of aeration tank volume on the effluent metrics. As total areation tank volume increases, the efflunet metrics concentrations will decrease."
   ]
  },
  {
   "cell_type": "code",
   "execution_count": 18,
   "id": "630c9995-8c95-4617-bf0a-3bac9c845e67",
   "metadata": {},
   "outputs": [
    {
     "data": {
      "image/png": "[encoded data removed]",
      "text/plain": [
       "<Figure size 640x480 with 1 Axes>"
      ]
     },
     "metadata": {},
     "output_type": "display_data"
    }
   ],
   "source": [
    "# Import package for sensitvity analysis\n",
    "import numpy as np\n",
    "import matplotlib.pyplot as plt\n",
    "# Insert code for conducting sensitivity analysis\n",
    "def sensitivity_analysis_case1(num):\n",
    "    areation_tank_volume_list = np.linspace(1000, 2000, num)\n",
    "    TSS_out_list = np.zeros(num)\n",
    "    COD_out_list = np.zeros(num)\n",
    "    BOD_out_list = np.zeros(num)\n",
    "    TKN_out_list = np.zeros(num)\n",
    "    for i in range(0, num):\n",
    "        m = build()\n",
    "        m.fs.R3.volume.unfix()\n",
    "        m.fs.R3.volume.fix(areation_tank_volume_list[i])\n",
    "        m.fs.R4.volume.unfix()\n",
    "        m.fs.R4.volume.fix(areation_tank_volume_list[i])\n",
    "        m.fs.R5.volume.unfix()\n",
    "        m.fs.R5.volume.fix(areation_tank_volume_list[i])\n",
    "        scale_system(m)\n",
    "        initialize_system(m)\n",
    "        add_costing(m)\n",
    "        add_extra(m)\n",
    "        results = solver.solve(m, tee=False)\n",
    "        pyo.assert_optimal_termination(results)\n",
    "        TSS_out_list[i]=pyo.value(m.fs.Treated.properties[0].TSS * 1e3)\n",
    "        COD_out_list[i]=pyo.value(m.fs.Treated.properties[0].COD * 1e3)\n",
    "        BOD_out_list[i]=pyo.value(m.fs.Treated.properties[0].BOD5[\"effluent\"] * 1e3)\n",
    "        TKN_out_list[i]=pyo.value(m.fs.Treated.properties[0].TKN * 1e3)\n",
    "\n",
    "    fig1, ax1 = plt.subplots()\n",
    "    # ax1.plot(3*areation_tank_volume_list, TSS_out_list, color=\"tab:blue\", label=\"TSS\")\n",
    "    # ax1.plot(3*areation_tank_volume_list, COD_out_list, color=\"tab:red\", label=\"COD\")\n",
    "    ax1.plot(3*areation_tank_volume_list, BOD_out_list, color=\"tab:green\", label=\"BOD5\")\n",
    "    ax1.plot(3*areation_tank_volume_list, TKN_out_list, color=\"tab:purple\", label=\"TKN\")\n",
    "    ax1.set_xlabel(\"Total Aeration Tank Volume (m3)\", fontsize=11)\n",
    "    ax1.set_ylabel(\"Effluent Concentration (mg/L)\", fontsize=11)\n",
    "    ax1.legend()\n",
    "    \n",
    "    # plt.show()\n",
    "   \n",
    "sensitivity_analysis_case1(num=10)"
   ]
  },
  {
   "cell_type": "markdown",
   "id": "651072a2-da9c-45c4-a00a-02c082f6733c",
   "metadata": {},
   "source": [
    "We also show the impacts of recycle fraction on effluent metrics. As recycle fraction increases, the effluent concentration will also increase."
   ]
  },
  {
   "cell_type": "code",
   "execution_count": 19,
   "id": "d40addfe-94f2-4e13-af69-acac09fdfea8",
   "metadata": {},
   "outputs": [
    {
     "data": {
      "image/png": "[encoded data removed]",
      "text/plain": [
       "<Figure size 640x480 with 1 Axes>"
      ]
     },
     "metadata": {},
     "output_type": "display_data"
    }
   ],
   "source": [
    "def sensitivity_analysis_case2(num):\n",
    "    split_fraction_list = np.linspace(0.6, 0.8, num)\n",
    "    TSS_out_list = np.zeros(num)\n",
    "    COD_out_list = np.zeros(num)\n",
    "    BOD_out_list = np.zeros(num)\n",
    "    TKN_out_list = np.zeros(num)\n",
    "    LCOW_list = np.zeros(num)\n",
    "    SEC_list = np.zeros(num)\n",
    "    for i in range(0, num):\n",
    "        m = build()\n",
    "        m.fs.SP5.split_fraction[:, \"underflow\"].unfix()\n",
    "        m.fs.SP5.split_fraction[:, \"underflow\"].fix(split_fraction_list[i])\n",
    "        scale_system(m)\n",
    "        initialize_system(m)\n",
    "        add_costing(m)\n",
    "        add_extra(m)\n",
    "        results = solver.solve(m, tee=False)\n",
    "        pyo.assert_optimal_termination(results)\n",
    "        TSS_out_list[i]=pyo.value(m.fs.Treated.properties[0].TSS * 1e3)\n",
    "        COD_out_list[i]=pyo.value(m.fs.Treated.properties[0].COD * 1e3)\n",
    "        BOD_out_list[i]=pyo.value(m.fs.Treated.properties[0].BOD5[\"effluent\"] * 1e3)\n",
    "        TKN_out_list[i]=pyo.value(m.fs.Treated.properties[0].TKN * 1e3)\n",
    "        LCOW_list[i]=pyo.value(m.fs.costing.LCOW)\n",
    "        SEC_list[i]=pyo.value(m.fs.costing.specific_energy_consumption)\n",
    "\n",
    "    fig1, ax1 = plt.subplots()\n",
    "    # ax1.plot(R3_volume_list, TSS_out_list, color=\"tab:blue\", label=\"TSS\")\n",
    "    # ax1.plot(R3_volume_list, COD_out_list, color=\"tab:red\", label=\"COD\")\n",
    "    ax1.plot(split_fraction_list, BOD_out_list, color=\"tab:green\", label=\"BOD5\")\n",
    "    ax1.plot(split_fraction_list, TKN_out_list, color=\"tab:purple\", label=\"TKN\")\n",
    "    ax1.set_xlabel(\"Recycle Fraction\", fontsize=11)\n",
    "    ax1.set_ylabel(\"Effluent Concentration (mg/L)\", fontsize=11)\n",
    "    ax1.legend()\n",
    "\n",
    "sensitivity_analysis_case2(num=5)"
   ]
  },
  {
   "cell_type": "markdown",
   "id": "dd518f17-e36b-4dfb-bfe4-eb973ae322e1",
   "metadata": {},
   "source": [
    "We made contour plot to visualize the impacts of combination of variables on effluent metrics and LCOW. Higher anoxic and aeration tank volume will result in a lower COD concentration in the secondary effluent. And higher volumes also result in a higher LCOW."
   ]
  },
  {
   "cell_type": "code",
   "execution_count": 20,
   "id": "47533e9d-d8ce-41f3-a363-80fd662d4768",
   "metadata": {},
   "outputs": [
    {
     "data": {
      "image/png": "[encoded data removed]",
      "text/plain": [
       "<Figure size 640x480 with 2 Axes>"
      ]
     },
     "metadata": {},
     "output_type": "display_data"
    },
    {
     "data": {
      "image/png": "[encoded data removed]",
      "text/plain": [
       "<Figure size 640x480 with 2 Axes>"
      ]
     },
     "metadata": {},
     "output_type": "display_data"
    }
   ],
   "source": [
    "def sensitivity_analysis_case3(num):\n",
    "    anoxic_tank_volume_list = np.linspace(800, 1200, num)\n",
    "    areation_tank_volume_list = np.linspace(1200, 1500, num)\n",
    "    TSS_out_matrix = np.zeros((num, num))\n",
    "    COD_out_matrix = np.zeros((num, num))\n",
    "    BOD_out_matrix = np.zeros((num, num))\n",
    "    TKN_out_matrix = np.zeros((num, num))\n",
    "    LCOW_matrix = np.zeros((num, num))\n",
    "    SEC_matrix = np.zeros((num, num))\n",
    "    for i in range(0, num):\n",
    "        for j in range(0, num):\n",
    "            m = build()\n",
    "            m.fs.R1.volume.unfix()\n",
    "            m.fs.R1.volume.fix(anoxic_tank_volume_list[i])\n",
    "            m.fs.R2.volume.unfix()\n",
    "            m.fs.R2.volume.fix(anoxic_tank_volume_list[i])\n",
    "            m.fs.R3.volume.unfix()\n",
    "            m.fs.R3.volume.fix(areation_tank_volume_list[j])\n",
    "            m.fs.R4.volume.unfix()\n",
    "            m.fs.R4.volume.fix(areation_tank_volume_list[j])\n",
    "            m.fs.R5.volume.unfix()\n",
    "            m.fs.R5.volume.fix(areation_tank_volume_list[j])\n",
    "            scale_system(m)\n",
    "            initialize_system(m)\n",
    "            add_costing(m)\n",
    "            add_extra(m)\n",
    "            results = solver.solve(m, tee=False)\n",
    "            pyo.assert_optimal_termination(results)\n",
    "            TSS_out_matrix[j, i]=pyo.value(m.fs.Treated.properties[0].TSS * 1e3)\n",
    "            COD_out_matrix[j, i]=pyo.value(m.fs.Treated.properties[0].COD * 1e3)\n",
    "            BOD_out_matrix[j, i]=pyo.value(m.fs.Treated.properties[0].BOD5[\"effluent\"] * 1e3)\n",
    "            TKN_out_matrix[j, i]=pyo.value(m.fs.Treated.properties[0].TKN * 1e3)\n",
    "            LCOW_matrix[j, i]=pyo.value(m.fs.costing.LCOW)\n",
    "            SEC_matrix[j,i]=pyo.value(m.fs.costing.specific_energy_consumption)\n",
    "\n",
    "    fig1, ax1 = plt.subplots()\n",
    "    CF = ax1.contourf(2*anoxic_tank_volume_list, 3*areation_tank_volume_list, COD_out_matrix, cmap=\"GnBu\")\n",
    "    ax1.set_xlabel(\"Total Anoxic Tank Volume (m3)\", fontsize=11)\n",
    "    ax1.set_ylabel(\"Total Aeration Tank Volume (m3)\", fontsize=11)\n",
    "    cbar = fig1.colorbar(CF)\n",
    "    cbar.ax.set_ylabel(\"Effluent COD Concentration (mg/L)\", fontsize=11)\n",
    "\n",
    "    fig2, ax2 = plt.subplots()\n",
    "    CF = ax2.contourf(2*anoxic_tank_volume_list, 3*areation_tank_volume_list, LCOW_matrix, cmap=\"GnBu\")\n",
    "    ax2.set_xlabel(\"Total Anoxic Tank Volume (m3)\", fontsize=11)\n",
    "    ax2.set_ylabel(\"Total Aeration Tank Volume (m3)\", fontsize=11)\n",
    "    cbar = fig2.colorbar(CF)\n",
    "    cbar.ax.set_ylabel(\"Levelized Cost of Water (/$/m$^3$)\", fontsize=11)\n",
    "   \n",
    "sensitivity_analysis_case3(num=5)"
   ]
  },
  {
   "cell_type": "code",
   "execution_count": null,
   "id": "65eac10e-adf7-47e9-96ad-3a909411a755",
   "metadata": {},
   "outputs": [],
   "source": []
  }
 ],
 "metadata": {
  "kernelspec": {
   "display_name": "Python 3 (ipykernel)",
   "language": "python",
   "name": "python3"
  },
  "language_info": {
   "codemirror_mode": {
    "name": "ipython",
    "version": 3
   },
   "file_extension": ".py",
   "mimetype": "text/x-python",
   "name": "python",
   "nbconvert_exporter": "python",
   "pygments_lexer": "ipython3",
   "version": "3.11.11"
  }
 },
 "nbformat": 4,
 "nbformat_minor": 5
}
