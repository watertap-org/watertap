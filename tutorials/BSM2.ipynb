{
 "cells": [
  {
   "cell_type": "markdown",
   "id": "c4b459c7-9ba2-41f4-a158-140e7ffc8a5d",
   "metadata": {},
   "source": [
    "# BSM2 Flowsheet Tutorial\n",
    "\n",
    "### This demonstration will show: \n",
    "- Part 1: How to build, initialize, and simulate the flowsheet for Benchmark Simulation Model 2 (BSM2). \n",
    "- Part 2: Demonstrate optimization and sensitivity analysis over specific parameters of the flowsheet (pending).\n",
    "- Useful Links:\n",
    "    - Public Github Repository: https://github.com/watertap-org/watertap\n",
    "    - Documentation: https://watertap.readthedocs.io/en/stable/\n",
    "    - Activated Sludge Model No. 1 (ASM1) documentation: https://watertap.readthedocs.io/en/stable/technical_reference/property_models/ASM1.html\n",
    "    - Anaerobic Digestion Model No. 1 (ADM1) documentation: https://watertap.readthedocs.io/en/stable/technical_reference/property_models/ADM1.html\n",
    "    - ASM1-ADM1 Translator documentation: https://watertap.readthedocs.io/en/stable/technical_reference/unit_models/translators/translator_asm1_adm1.html\n",
    "    - ADM1-ASM1 Translator documentation: https://watertap.readthedocs.io/en/stable/technical_reference/unit_models/translators/translator_adm1_asm1.html    \n",
    "    - Unit Model documentation: https://watertap.readthedocs.io/en/stable/technical_reference/unit_models/index.html\n",
    "    - BSM2 flowsheet code: https://github.com/watertap-org/watertap/blob/main/watertap/examples/flowsheets/case_studies/full_water_resource_recovery_facility/BSM2.py\n"
   ]
  },
  {
   "cell_type": "markdown",
   "id": "e9c90c9f-b75d-4243-8d35-16cd6fe7fc89",
   "metadata": {},
   "source": [
    "# Part 1: Build, setup, and simulate the Benchmark Simulation Model"
   ]
  },
  {
   "cell_type": "markdown",
   "id": "dc4d3d1c-edff-4fb7-8fda-75afac2ee04d",
   "metadata": {},
   "source": [
    "<img src=\"BSM2.png\" width=\"1000\" height=\"680\">"
   ]
  },
  {
   "cell_type": "markdown",
   "id": "bed058a8-5cf9-4c4b-bfdc-eb8f0f38ce2c",
   "metadata": {},
   "source": [
    "## Step 1: Import libraries from Pyomo, IDAES, and WaterTAP."
   ]
  },
  {
   "cell_type": "code",
   "execution_count": 1,
   "id": "845b8ea4",
   "metadata": {},
   "outputs": [],
   "source": [
    "# Immport essentials from Pyomo and IDAES\n",
    "import pyomo.environ as pyo\n",
    "from pyomo.network import Arc, SequentialDecomposition\n",
    "from idaes.core import FlowsheetBlock, UnitModelCostingBlock, UnitModelBlockData\n",
    "import idaes.logger as idaeslog\n",
    "from watertap.core.solvers import get_solver\n",
    "import idaes.core.util.scaling as iscale\n",
    "\n",
    "# Import generic unit models from IDAES\n",
    "from idaes.models.unit_models.mixer import MomentumMixingType\n",
    "from idaes.models.unit_models import (\n",
    "    Feed,\n",
    "    Mixer,\n",
    "    Separator,\n",
    "    PressureChanger,\n",
    "    Product,\n",
    ")\n",
    "from idaes.models.unit_models.separator import SplittingType\n",
    "\n",
    "# Import unit models from WaterTAP\n",
    "from watertap.unit_models.anaerobic_digester import AD\n",
    "from watertap.unit_models.aeration_tank import AerationTank, ElectricityConsumption\n",
    "from watertap.unit_models.cstr import CSTR\n",
    "from watertap.unit_models.clarifier import Clarifier\n",
    "from watertap.unit_models.thickener import Thickener\n",
    "from watertap.unit_models.dewatering import DewateringUnit\n",
    "from watertap.unit_models.translators.translator_asm1_adm1 import Translator_ASM1_ADM1\n",
    "from watertap.unit_models.translators.translator_adm1_asm1 import Translator_ADM1_ASM1\n",
    "\n",
    "# Import anaerobic digestion property and reaction models \n",
    "from watertap.property_models.unit_specific.anaerobic_digestion.adm1_properties import (\n",
    "    ADM1ParameterBlock,\n",
    ")\n",
    "from watertap.property_models.unit_specific.anaerobic_digestion.adm1_reactions import (\n",
    "    ADM1ReactionParameterBlock,\n",
    ")\n",
    "from watertap.property_models.unit_specific.anaerobic_digestion.adm1_properties_vapor import (\n",
    "    ADM1_vaporParameterBlock,\n",
    ")\n",
    "\n",
    "# Import activated sludge property and reaction models\n",
    "from watertap.property_models.unit_specific.activated_sludge.asm1_properties import (\n",
    "    ASM1ParameterBlock,\n",
    ")\n",
    "from watertap.property_models.unit_specific.activated_sludge.asm1_reactions import (\n",
    "    ASM1ReactionParameterBlock,\n",
    ")\n",
    "\n",
    "# Import the WaterTAP costing tools\n",
    "from watertap.costing import WaterTAPCosting\n",
    "from watertap.costing.unit_models.clarifier import (\n",
    "    cost_circular_clarifier,\n",
    "    cost_primary_clarifier,\n",
    ")\n",
    "# import warnings\n",
    "# warnings.filterwarnings('ignore')\n",
    "import logging\n",
    "logging.getLogger(\"idaes.core.util.scaling\").setLevel(logging.ERROR)"
   ]
  },
  {
   "cell_type": "markdown",
   "id": "f60862df-5964-4585-8da3-ac5ffbc46ee4",
   "metadata": {},
   "source": [
    "## Step 2: Flowsheet building"
   ]
  },
  {
   "cell_type": "markdown",
   "id": "13d0c542-1807-4ab9-b846-b676a4cf2732",
   "metadata": {},
   "source": [
    "### Step 2.1: Create Flowsheet\n",
    "\n",
    "We will start by creating a pyomo model and a flowsheet.\n",
    "\n",
    "We then include all the necessary property blocks we imported into the flowsheet. Namely, we include the ASM1 and ADM1 models, which are separated into their respective property and reaction models. Additionally, the vapor phase of ADM1 was separated into its own property model."
   ]
  },
  {
   "cell_type": "code",
   "execution_count": 2,
   "id": "faba836b-eb59-4b4b-8726-6a921ca25073",
   "metadata": {},
   "outputs": [],
   "source": [
    "def create_flowsheet():\n",
    "    # create flowsheet\n",
    "    m = pyo.ConcreteModel()\n",
    "    m.fs = FlowsheetBlock(dynamic=False)\n",
    "\n",
    "    # property blocks\n",
    "    m.fs.props_ASM1 = ASM1ParameterBlock()\n",
    "    m.fs.props_ADM1 = ADM1ParameterBlock()\n",
    "    m.fs.props_vap = ADM1_vaporParameterBlock()\n",
    "    m.fs.ADM1_rxn_props = ADM1ReactionParameterBlock(property_package=m.fs.props_ADM1)\n",
    "    m.fs.ASM1_rxn_props = ASM1ReactionParameterBlock(property_package=m.fs.props_ASM1)\n",
    "    return m"
   ]
  },
  {
   "cell_type": "markdown",
   "id": "6d63f8d7-3acc-4605-823e-e682a03fd724",
   "metadata": {},
   "source": [
    "### Step 2.2: Setup Activated Sludge process\n",
    "\n",
    "We will start by setting up the activated sludge process unit models and connectivity. Note that each unit model must be linked to at least one property package, and some require additional specifications, such as reaction packages or configuration arguments, which will tailor the unit model to this specific application.\n",
    "\n",
    "First, we set up a Feed model for our feed stream and will name it `Feedwater`. "
   ]
  },
  {
   "cell_type": "code",
   "execution_count": 3,
   "id": "56611aeb-4c31-4dda-81cc-7dc2b45d0c6c",
   "metadata": {},
   "outputs": [],
   "source": [
    "def build_asm(m):\n",
    "    # Feed water stream\n",
    "    m.fs.FeedWater = Feed(property_package=m.fs.props_ASM1)\n",
    "    # Mixer for feed water and recycled sludge\n",
    "    m.fs.MX1 = Mixer(\n",
    "        property_package=m.fs.props_ASM1, inlet_list=[\"feed_water\", \"recycle\"], momentum_mixing_type=MomentumMixingType.none,\n",
    "    )\n",
    "    # First reactor (anoxic) - standard CSTR\n",
    "    m.fs.R1 = CSTR(\n",
    "        property_package=m.fs.props_ASM1, reaction_package=m.fs.ASM1_rxn_props\n",
    "    )\n",
    "    # Second reactor (anoxic) - standard CSTR\n",
    "    m.fs.R2 = CSTR(\n",
    "        property_package=m.fs.props_ASM1, reaction_package=m.fs.ASM1_rxn_props\n",
    "    )\n",
    "    # Third reactor (aerobic) - CSTR with injection\n",
    "    m.fs.R3 = AerationTank(\n",
    "            property_package=m.fs.props_ASM1,\n",
    "            reaction_package=m.fs.ASM1_rxn_props,\n",
    "            electricity_consumption=ElectricityConsumption.calculated,\n",
    "    )\n",
    "    # Fourth reactor (aerobic) - CSTR with injection\n",
    "    m.fs.R4 = AerationTank(\n",
    "            property_package=m.fs.props_ASM1,\n",
    "            reaction_package=m.fs.ASM1_rxn_props,\n",
    "            electricity_consumption=ElectricityConsumption.calculated,\n",
    "    )\n",
    "    # Fifth reactor (aerobic) - CSTR with injection\n",
    "    m.fs.R5 = AerationTank(\n",
    "            property_package=m.fs.props_ASM1,\n",
    "            reaction_package=m.fs.ASM1_rxn_props,\n",
    "            electricity_consumption=ElectricityConsumption.calculated,\n",
    "    )\n",
    "    m.fs.SP5 = Separator(\n",
    "        property_package=m.fs.props_ASM1, outlet_list=[\"underflow\", \"overflow\"]\n",
    "    )\n",
    "    # Clarifier\n",
    "    m.fs.CL1 = Clarifier(\n",
    "        property_package=m.fs.props_ASM1,\n",
    "        outlet_list=[\"underflow\", \"effluent\"],\n",
    "        split_basis=SplittingType.componentFlow,\n",
    "    )\n",
    "    # Sludge purge splitter\n",
    "    m.fs.SP6 = Separator(\n",
    "        property_package=m.fs.props_ASM1,\n",
    "        outlet_list=[\"recycle\", \"waste\"],\n",
    "        split_basis=SplittingType.totalFlow,\n",
    "    )\n",
    "    # Mixing sludge recycle and R5 underflow\n",
    "    m.fs.MX6 = Mixer(\n",
    "        property_package=m.fs.props_ASM1, inlet_list=[\"clarifier\", \"reactor\"], momentum_mixing_type=MomentumMixingType.none\n",
    "    )\n",
    "    # Product Blocks\n",
    "    m.fs.Treated = Product(property_package=m.fs.props_ASM1)\n",
    "    # Recycle pressure changer - use a simple isothermal unit for now\n",
    "    m.fs.P1 = PressureChanger(property_package=m.fs.props_ASM1)"
   ]
  },
  {
   "cell_type": "markdown",
   "id": "d020588b-bfd8-4e65-9c0d-618fb6b9de0c",
   "metadata": {},
   "source": [
    "Secondly we will use pyomo arcs as streams connecting unit to unit"
   ]
  },
  {
   "cell_type": "code",
   "execution_count": 4,
   "id": "0435dc0d-c79e-42f4-a402-473e63e7f854",
   "metadata": {},
   "outputs": [],
   "source": [
    "def arc_asm(m):\n",
    "    # Link units\n",
    "    m.fs.stream2 = Arc(source=m.fs.MX1.outlet, destination=m.fs.R1.inlet)\n",
    "    m.fs.stream3 = Arc(source=m.fs.R1.outlet, destination=m.fs.R2.inlet)\n",
    "    m.fs.stream4 = Arc(source=m.fs.R2.outlet, destination=m.fs.R3.inlet)\n",
    "    m.fs.stream5 = Arc(source=m.fs.R3.outlet, destination=m.fs.R4.inlet)\n",
    "    m.fs.stream6 = Arc(source=m.fs.R4.outlet, destination=m.fs.R5.inlet)\n",
    "    m.fs.stream7 = Arc(source=m.fs.R5.outlet, destination=m.fs.SP5.inlet)\n",
    "    m.fs.stream8 = Arc(source=m.fs.SP5.overflow, destination=m.fs.CL1.inlet)\n",
    "    m.fs.stream9 = Arc(source=m.fs.SP5.underflow, destination=m.fs.MX6.reactor)\n",
    "    m.fs.stream10 = Arc(source=m.fs.CL1.effluent, destination=m.fs.Treated.inlet)\n",
    "    m.fs.stream11 = Arc(source=m.fs.CL1.underflow, destination=m.fs.SP6.inlet)\n",
    "    m.fs.stream13 = Arc(source=m.fs.SP6.recycle, destination=m.fs.MX6.clarifier)\n",
    "    m.fs.stream14 = Arc(source=m.fs.MX6.outlet, destination=m.fs.P1.inlet)\n",
    "    m.fs.stream15 = Arc(source=m.fs.P1.outlet, destination=m.fs.MX1.recycle)\n",
    "    \n",
    "    # Creates constraints for each arc and applies it to the model, m\n",
    "    pyo.TransformationFactory(\"network.expand_arcs\").apply_to(m)"
   ]
  },
  {
   "cell_type": "markdown",
   "id": "438794e4-503d-42a3-b231-0a2b2a76c110",
   "metadata": {},
   "source": [
    "Next we will set the conditions for the inlet water"
   ]
  },
  {
   "cell_type": "code",
   "execution_count": 5,
   "id": "a4971fbe-6030-42da-87c8-afb98afab9d8",
   "metadata": {},
   "outputs": [],
   "source": [
    "def set_influent_conditions(m):\n",
    "    # Feed Water Conditions\n",
    "    m.fs.FeedWater.flow_vol.fix(20648 * pyo.units.m**3 / pyo.units.day)\n",
    "    m.fs.FeedWater.temperature.fix(308.15 * pyo.units.K)\n",
    "    m.fs.FeedWater.pressure.fix(1 * pyo.units.atm)\n",
    "    m.fs.FeedWater.conc_mass_comp[0, \"S_I\"].fix(\n",
    "        27 * pyo.units.g / pyo.units.m**3\n",
    "    )\n",
    "    m.fs.FeedWater.conc_mass_comp[0, \"S_S\"].fix(\n",
    "        58 * pyo.units.g / pyo.units.m**3\n",
    "    )\n",
    "    m.fs.FeedWater.conc_mass_comp[0, \"X_I\"].fix(92 * pyo.units.g / pyo.units.m**3)\n",
    "    m.fs.FeedWater.conc_mass_comp[0, \"X_S\"].fix(\n",
    "        363 * pyo.units.g / pyo.units.m**3\n",
    "    )\n",
    "    m.fs.FeedWater.conc_mass_comp[0, \"X_BH\"].fix(\n",
    "        50 * pyo.units.g / pyo.units.m**3\n",
    "    )\n",
    "    m.fs.FeedWater.conc_mass_comp[0, \"X_BA\"].fix(0 * pyo.units.g / pyo.units.m**3)\n",
    "    m.fs.FeedWater.conc_mass_comp[0, \"X_P\"].fix(0 * pyo.units.g / pyo.units.m**3)\n",
    "    m.fs.FeedWater.conc_mass_comp[0, \"S_O\"].fix(0 * pyo.units.g / pyo.units.m**3)\n",
    "    m.fs.FeedWater.conc_mass_comp[0, \"S_NO\"].fix(0 * pyo.units.g / pyo.units.m**3)\n",
    "    m.fs.FeedWater.conc_mass_comp[0, \"S_NH\"].fix(\n",
    "        23 * pyo.units.g / pyo.units.m**3\n",
    "    )\n",
    "    m.fs.FeedWater.conc_mass_comp[0, \"S_ND\"].fix(\n",
    "        5 * pyo.units.g / pyo.units.m**3\n",
    "    )\n",
    "    m.fs.FeedWater.conc_mass_comp[0, \"X_ND\"].fix(\n",
    "        16 * pyo.units.g / pyo.units.m**3\n",
    "    )\n",
    "    m.fs.FeedWater.alkalinity.fix(7 * pyo.units.mol / pyo.units.m**3)"
   ]
  },
  {
   "cell_type": "markdown",
   "id": "7f5db67b-0ab8-48a9-9408-e90073214fb2",
   "metadata": {},
   "source": [
    "Finally for the activated sludge models we will set the operating conditions for the unit models. We will start with the reactors volume"
   ]
  },
  {
   "cell_type": "code",
   "execution_count": 6,
   "id": "de03c3db-0cd1-4404-8010-aac6663c9611",
   "metadata": {},
   "outputs": [],
   "source": [
    "def set_reactor_volume(m):\n",
    "    # Reactor sizing\n",
    "    m.fs.R1.volume.fix(1000 * pyo.units.m**3)\n",
    "    m.fs.R2.volume.fix(1000 * pyo.units.m**3)\n",
    "    m.fs.R3.volume.fix(1333 * pyo.units.m**3)\n",
    "    m.fs.R4.volume.fix(1333 * pyo.units.m**3)\n",
    "    m.fs.R5.volume.fix(1333 * pyo.units.m**3)"
   ]
  },
  {
   "cell_type": "markdown",
   "id": "2901a298-e741-4865-909a-79c90ab74de1",
   "metadata": {},
   "source": [
    "The oxygen concentration in reactors 3-5 is injected through the CSTR injection reactors"
   ]
  },
  {
   "cell_type": "code",
   "execution_count": 7,
   "id": "ad067482-32a8-487d-b248-8049fd55d877",
   "metadata": {},
   "outputs": [],
   "source": [
    "def set_CSTR_injection(m):\n",
    "    # Injection rates to Reactions 3, 4 and 5\n",
    "    for j in m.fs.props_ASM1.component_list:\n",
    "        if j != \"S_O\":\n",
    "            # All components except S_O have no injection\n",
    "            m.fs.R3.injection[:, :, j].fix(0)\n",
    "            m.fs.R4.injection[:, :, j].fix(0)\n",
    "            m.fs.R5.injection[:, :, j].fix(0)\n",
    "    # Then set injections rates for O2\n",
    "    m.fs.R3.outlet.conc_mass_comp[:, \"S_O\"].fix(1.72e-3)\n",
    "    m.fs.R4.outlet.conc_mass_comp[:, \"S_O\"].fix(2.43e-3)\n",
    "    m.fs.R5.outlet.conc_mass_comp[:, \"S_O\"].fix(4.49e-4)\n",
    "    # Oxygen concentration in reactors 3 and 4 is governed by mass transfer\n",
    "    m.fs.R3.KLa = 7.6\n",
    "    m.fs.R4.KLa = 5.7"
   ]
  },
  {
   "cell_type": "markdown",
   "id": "6a1e89db-e2c7-40a6-a3a8-9074a4b37ee3",
   "metadata": {},
   "source": [
    "Then we set up the separation, going through the splitters and the clarifier"
   ]
  },
  {
   "cell_type": "code",
   "execution_count": 8,
   "id": "deae8720-3c7a-4bf1-ae4f-bbf6f4757eeb",
   "metadata": {},
   "outputs": [],
   "source": [
    "def set_separation_conditions(m):\n",
    "    # Set fraction of outflow from reactor 5 that goes to recycle\n",
    "    m.fs.SP5.split_fraction[:, \"underflow\"].fix(0.6)\n",
    "    \n",
    "    # Clarifier\n",
    "    m.fs.CL1.split_fraction[0, \"effluent\", \"H2O\"].fix(0.48956)\n",
    "    m.fs.CL1.split_fraction[0, \"effluent\", \"S_I\"].fix(0.48956)\n",
    "    m.fs.CL1.split_fraction[0, \"effluent\", \"S_S\"].fix(0.48956)\n",
    "    m.fs.CL1.split_fraction[0, \"effluent\", \"X_I\"].fix(0.00187)\n",
    "    m.fs.CL1.split_fraction[0, \"effluent\", \"X_S\"].fix(0.00187)\n",
    "    m.fs.CL1.split_fraction[0, \"effluent\", \"X_BH\"].fix(0.00187)\n",
    "    m.fs.CL1.split_fraction[0, \"effluent\", \"X_BA\"].fix(0.00187)\n",
    "    m.fs.CL1.split_fraction[0, \"effluent\", \"X_P\"].fix(0.00187)\n",
    "    m.fs.CL1.split_fraction[0, \"effluent\", \"S_O\"].fix(0.48956)\n",
    "    m.fs.CL1.split_fraction[0, \"effluent\", \"S_NO\"].fix(0.48956)\n",
    "    m.fs.CL1.split_fraction[0, \"effluent\", \"S_NH\"].fix(0.48956)\n",
    "    m.fs.CL1.split_fraction[0, \"effluent\", \"S_ND\"].fix(0.48956)\n",
    "    m.fs.CL1.split_fraction[0, \"effluent\", \"X_ND\"].fix(0.00187)\n",
    "    m.fs.CL1.split_fraction[0, \"effluent\", \"S_ALK\"].fix(0.48956)\n",
    "    \n",
    "    m.fs.CL1.surface_area.fix(1500 * pyo.units.m**2)\n",
    "    \n",
    "    # Sludge purge separator\n",
    "    m.fs.SP6.split_fraction[:, \"recycle\"].fix(0.985)"
   ]
  },
  {
   "cell_type": "markdown",
   "id": "16a5100d-4216-4f30-b8c9-e0ea7f8456d4",
   "metadata": {},
   "source": [
    "The last thing required is the pressure for the recycle pump"
   ]
  },
  {
   "cell_type": "code",
   "execution_count": 9,
   "id": "7330b47f-7a11-4465-92da-a4961eac90a5",
   "metadata": {},
   "outputs": [],
   "source": [
    "def set_pump_conditions(m):\n",
    "    # Outlet pressure from recycle pump\n",
    "    m.fs.P1.outlet.pressure.fix(101325)"
   ]
  },
  {
   "cell_type": "markdown",
   "id": "2919f12d-ad8e-44a7-9cbc-7083c49ab4ec",
   "metadata": {},
   "source": [
    "### Step 2.3: Setup Anaerobic Digester process\n",
    "\n",
    "We will start by setting up the anaerobic digester process unit models and connectivity.\n",
    "\n",
    "First, like above, we set up the unit models. Then we'll establish the connections and set the operating conditions."
   ]
  },
  {
   "cell_type": "code",
   "execution_count": 10,
   "id": "b01a4461-c122-4ef9-9534-b3aa92be2672",
   "metadata": {},
   "outputs": [],
   "source": [
    "def build_adm(m):\n",
    "    m.fs.RADM = AD(\n",
    "        liquid_property_package=m.fs.props_ADM1,\n",
    "        vapor_property_package=m.fs.props_vap,\n",
    "        reaction_package=m.fs.ADM1_rxn_props,\n",
    "        has_heat_transfer=True,\n",
    "        has_pressure_change=False,\n",
    "    )"
   ]
  },
  {
   "cell_type": "markdown",
   "id": "e2c10a1e-4b77-49c1-b63b-36f03f5ec27e",
   "metadata": {},
   "source": [
    "In order to connect the ADM and ASM models translator blocks are required as they track different species"
   ]
  },
  {
   "cell_type": "code",
   "execution_count": 11,
   "id": "9a24bacb-1010-4a67-bb11-a258e6336348",
   "metadata": {},
   "outputs": [],
   "source": [
    "def build_translators(m):\n",
    "    m.fs.asm_adm = Translator_ASM1_ADM1(\n",
    "        inlet_property_package=m.fs.props_ASM1,\n",
    "        outlet_property_package=m.fs.props_ADM1,\n",
    "        reaction_package=m.fs.ADM1_rxn_props,\n",
    "        has_phase_equilibrium=False,\n",
    "        outlet_state_defined=True,\n",
    "    )\n",
    "    \n",
    "    m.fs.adm_asm = Translator_ADM1_ASM1(\n",
    "        inlet_property_package=m.fs.props_ADM1,\n",
    "        outlet_property_package=m.fs.props_ASM1,\n",
    "        reaction_package=m.fs.ADM1_rxn_props,\n",
    "        has_phase_equilibrium=False,\n",
    "        outlet_state_defined=True,\n",
    "    )"
   ]
  },
  {
   "cell_type": "markdown",
   "id": "64fbe429-cd88-4310-a6a6-d14f23cd18da",
   "metadata": {},
   "source": [
    "We the set up the separators and mixers "
   ]
  },
  {
   "cell_type": "code",
   "execution_count": 12,
   "id": "d2836b17-bcb4-4d76-877a-5f8894870113",
   "metadata": {},
   "outputs": [],
   "source": [
    "def build_separators_mixers(m):\n",
    "    m.fs.CL = Clarifier(\n",
    "        property_package=m.fs.props_ASM1,\n",
    "        outlet_list=[\"underflow\", \"effluent\"],\n",
    "        split_basis=SplittingType.componentFlow,\n",
    "    )\n",
    "    \n",
    "    m.fs.TU = Thickener(property_package=m.fs.props_ASM1)\n",
    "    m.fs.DU = DewateringUnit(property_package=m.fs.props_ASM1)\n",
    "    \n",
    "    m.fs.MX2 = Mixer(\n",
    "        property_package=m.fs.props_ASM1, inlet_list=[\"feed_water1\", \"recycle1\"], momentum_mixing_type=MomentumMixingType.none\n",
    "    )\n",
    "    m.fs.MX3 = Mixer(\n",
    "        property_package=m.fs.props_ASM1, inlet_list=[\"feed_water2\", \"recycle2\"], momentum_mixing_type=MomentumMixingType.none\n",
    "    )\n",
    "    m.fs.MX4 = Mixer(\n",
    "        property_package=m.fs.props_ASM1, inlet_list=[\"thickener\", \"clarifier\"], momentum_mixing_type=MomentumMixingType.none\n",
    "    )"
   ]
  },
  {
   "cell_type": "markdown",
   "id": "663b9e78-c1b3-41b5-b9d1-fe1fc5acd274",
   "metadata": {},
   "source": [
    "Then we add arcs as streams linking the unit models"
   ]
  },
  {
   "cell_type": "code",
   "execution_count": 13,
   "id": "7a2d57fb-e9e9-4475-a299-bc0b9a9405ea",
   "metadata": {},
   "outputs": [],
   "source": [
    "def arc_adm(m):\n",
    "    m.fs.stream2adm = Arc(\n",
    "        source=m.fs.RADM.liquid_outlet, destination=m.fs.adm_asm.inlet\n",
    "    )\n",
    "    m.fs.stream6adm = Arc(source=m.fs.SP6.waste, destination=m.fs.TU.inlet)\n",
    "    m.fs.stream3adm = Arc(source=m.fs.TU.underflow, destination=m.fs.MX4.thickener)\n",
    "    m.fs.stream7adm = Arc(source=m.fs.TU.overflow, destination=m.fs.MX3.recycle2)\n",
    "    m.fs.stream9adm = Arc(source=m.fs.CL.underflow, destination=m.fs.MX4.clarifier)\n",
    "    m.fs.stream4adm = Arc(source=m.fs.adm_asm.outlet, destination=m.fs.DU.inlet)\n",
    "    m.fs.stream5adm = Arc(source=m.fs.DU.overflow, destination=m.fs.MX2.recycle1)\n",
    "    m.fs.stream01 = Arc(source=m.fs.FeedWater.outlet, destination=m.fs.MX2.feed_water1)\n",
    "    m.fs.stream02 = Arc(source=m.fs.MX2.outlet, destination=m.fs.MX3.feed_water2)\n",
    "    m.fs.stream03 = Arc(source=m.fs.MX3.outlet, destination=m.fs.CL.inlet)\n",
    "    m.fs.stream04 = Arc(source=m.fs.CL.effluent, destination=m.fs.MX1.feed_water)\n",
    "    m.fs.stream10adm = Arc(source=m.fs.MX4.outlet, destination=m.fs.asm_adm.inlet)\n",
    "    m.fs.stream1adm = Arc(source=m.fs.asm_adm.outlet, destination=m.fs.RADM.inlet)\n",
    "    pyo.TransformationFactory(\"network.expand_arcs\").apply_to(m)"
   ]
  },
  {
   "cell_type": "markdown",
   "id": "e3f5fefd-a3d8-4123-b61f-8614bd340109",
   "metadata": {},
   "source": [
    "We add operating conditions to the unit models, starting with the primary clarifier"
   ]
  },
  {
   "cell_type": "code",
   "execution_count": 14,
   "id": "33894140-176d-4620-a474-e6865f0ac2ba",
   "metadata": {},
   "outputs": [],
   "source": [
    "def set_clarifier_conditions(m):\n",
    "    # Clarifier\n",
    "    m.fs.CL.split_fraction[0, \"effluent\", \"H2O\"].fix(0.993)\n",
    "    m.fs.CL.split_fraction[0, \"effluent\", \"S_I\"].fix(0.993)\n",
    "    m.fs.CL.split_fraction[0, \"effluent\", \"S_S\"].fix(0.993)\n",
    "    m.fs.CL.split_fraction[0, \"effluent\", \"X_I\"].fix(0.5192)\n",
    "    m.fs.CL.split_fraction[0, \"effluent\", \"X_S\"].fix(0.5192)\n",
    "    m.fs.CL.split_fraction[0, \"effluent\", \"X_BH\"].fix(0.5192)\n",
    "    m.fs.CL.split_fraction[0, \"effluent\", \"X_BA\"].fix(0.5192)\n",
    "    m.fs.CL.split_fraction[0, \"effluent\", \"X_P\"].fix(0.5192)\n",
    "    m.fs.CL.split_fraction[0, \"effluent\", \"S_O\"].fix(0.993)\n",
    "    m.fs.CL.split_fraction[0, \"effluent\", \"S_NO\"].fix(0.993)\n",
    "    m.fs.CL.split_fraction[0, \"effluent\", \"S_NH\"].fix(0.993)\n",
    "    m.fs.CL.split_fraction[0, \"effluent\", \"S_ND\"].fix(0.993)\n",
    "    m.fs.CL.split_fraction[0, \"effluent\", \"X_ND\"].fix(0.5192)\n",
    "    m.fs.CL.split_fraction[0, \"effluent\", \"S_ALK\"].fix(0.993)"
   ]
  },
  {
   "cell_type": "markdown",
   "id": "a03216ce-fd46-4727-b8a9-94c970dbbfe4",
   "metadata": {},
   "source": [
    "We then set up the anaerobic digester operating conditions"
   ]
  },
  {
   "cell_type": "code",
   "execution_count": 15,
   "id": "6344ee3c-18d9-4c86-b248-82dd810dc2f5",
   "metadata": {},
   "outputs": [],
   "source": [
    "def set_AD_conditions(m):\n",
    "    # Anaerobic digester\n",
    "    m.fs.RADM.volume_liquid.fix(3400)\n",
    "    m.fs.RADM.volume_vapor.fix(300)\n",
    "    m.fs.RADM.liquid_outlet.temperature.fix(308.15)"
   ]
  },
  {
   "cell_type": "markdown",
   "id": "58558077",
   "metadata": {},
   "source": [
    "Additionally, the dewatering unit includes an equation for electricity consumption and an equation relating its hydraulic retention time (HRT) to its volume and influent flowrate. We can choose to specify hydraulic retention time or the unit's volume to ensure there are 0 degrees of freedom."
   ]
  },
  {
   "cell_type": "code",
   "execution_count": 16,
   "id": "982691fd",
   "metadata": {},
   "outputs": [],
   "source": [
    "def set_dewater_conditions(m):\n",
    "    # Dewatering unit\n",
    "    m.fs.DU.hydraulic_retention_time.fix(1800 * pyo.units.s)\n",
    "    m.fs.DU.energy_electric_flow_vol_inlet[0] = 0.069 * pyo.units.kWh / pyo.units.m**3"
   ]
  },
  {
   "cell_type": "markdown",
   "id": "f9d6d962",
   "metadata": {},
   "source": [
    "Similarly, the thickener unit includes the same HRT equation, as well as an equation relating the thickener's dimensions. Here, we fix hydraulic retention time and thickener diameter to satisfy 0 degrees of freedom."
   ]
  },
  {
   "cell_type": "code",
   "execution_count": 17,
   "id": "2bbde06e-4b2d-4802-81a1-faf4461d0ef1",
   "metadata": {},
   "outputs": [],
   "source": [
    "def set_thickener_conditions(m):\n",
    "    # Thickener unit\n",
    "    m.fs.TU.hydraulic_retention_time.fix(86400 * pyo.units.s)\n",
    "    m.fs.TU.diameter.fix(10 * pyo.units.m)"
   ]
  },
  {
   "cell_type": "markdown",
   "id": "f4646a1d-7f5a-49fc-abbe-b81c7d5409df",
   "metadata": {},
   "source": [
    "Since the mixer have had their MomentumMixingType set to none, we can assume the mixers are isobaric."
   ]
  },
  {
   "cell_type": "code",
   "execution_count": 18,
   "id": "f1dd0bcf-35aa-40b4-8ceb-e4a51ae7f555",
   "metadata": {},
   "outputs": [],
   "source": [
    "def set_mixers_conditions(m):\n",
    "    m.mixers = (m.fs.MX1, m.fs.MX2, m.fs.MX3, m.fs.MX4, m.fs.MX6)\n",
    "    for mx in m.mixers:\n",
    "        mx.outlet.pressure.fix()"
   ]
  },
  {
   "cell_type": "markdown",
   "id": "b323a4e6-9b71-495e-8916-faf46b1c714f",
   "metadata": {},
   "source": [
    "Define a function to include all procedures to build the models and set operating conditions."
   ]
  },
  {
   "cell_type": "code",
   "execution_count": 19,
   "id": "de535b18-850f-4842-b67c-6edbb4a44cc9",
   "metadata": {},
   "outputs": [],
   "source": [
    "def build():\n",
    "    m = create_flowsheet()\n",
    "    build_asm(m)\n",
    "    arc_asm(m)\n",
    "    set_influent_conditions(m)\n",
    "    set_reactor_volume(m)\n",
    "    set_CSTR_injection(m)\n",
    "    set_separation_conditions(m)\n",
    "    set_pump_conditions(m)\n",
    "    build_adm(m)\n",
    "    build_translators(m)\n",
    "    build_separators_mixers(m)\n",
    "    arc_adm(m)\n",
    "    set_clarifier_conditions(m)\n",
    "    set_AD_conditions(m)\n",
    "    set_dewater_conditions(m)\n",
    "    set_thickener_conditions(m)\n",
    "    set_mixers_conditions(m)\n",
    "    return m\n",
    "\n",
    "# Run build function\n",
    "m = build()"
   ]
  },
  {
   "cell_type": "markdown",
   "id": "68c276d1-192f-4207-801a-2973760b683d",
   "metadata": {},
   "source": [
    "## Step 2.4: Set scaling"
   ]
  },
  {
   "cell_type": "markdown",
   "id": "f55cfcd1-a36f-4b37-992e-3fc9696c556a",
   "metadata": {},
   "source": [
    "In order for the flowsheet to solve, variables will need to be scaled appropriately because relatively large or small magnitudes (especially zeros)\n",
    "can make it harder to converge to a feasible solution."
   ]
  },
  {
   "cell_type": "code",
   "execution_count": 20,
   "id": "9363b08e-02f4-408c-aeea-1d6bff9e2d9f",
   "metadata": {},
   "outputs": [],
   "source": [
    "def scale_system(m):\n",
    "    # logging.getLogger(\"idaes.core.util.scaling\").setLevel(logging.ERROR)\n",
    "    # calculate and propagate scaling factors\n",
    "    for var in m.fs.component_data_objects(pyo.Var, descend_into=True):\n",
    "        if \"flow_vol\" in var.name:\n",
    "            iscale.set_scaling_factor(var, 1e1)\n",
    "        if \"temperature\" in var.name:\n",
    "            iscale.set_scaling_factor(var, 1e-1)\n",
    "        if \"pressure\" in var.name:\n",
    "            iscale.set_scaling_factor(var, 1e-6)\n",
    "        if \"conc_mass_comp\" in var.name:\n",
    "            iscale.set_scaling_factor(var, 1e1)\n",
    "\n",
    "    iscale.calculate_scaling_factors(m);\n",
    "\n",
    "# Run scale_system\n",
    "scale_system(m);"
   ]
  },
  {
   "cell_type": "markdown",
   "id": "4b844480-33fe-448c-98b4-8ce6d8f0b211",
   "metadata": {},
   "source": [
    "# Step 3: Solve the square problem\n",
    "## Step 3.1: Initialize the model"
   ]
  },
  {
   "cell_type": "code",
   "execution_count": 21,
   "id": "9bab4f00-afe2-4374-a39b-72f8f7307f1f",
   "metadata": {},
   "outputs": [],
   "source": [
    "def initialize_system(m):\n",
    "    logging.getLogger(\"pyomo.network\").setLevel(logging.ERROR)\n",
    "    # Initialize flowsheet\n",
    "    # Apply sequential decomposition - 1 iteration should suffice\n",
    "    seq = SequentialDecomposition()\n",
    "    # seq.options.select_tear_method = \"heuristic\"\n",
    "    seq.options.tear_method = \"Direct\"\n",
    "    seq.options.iterLim = 1\n",
    "    seq.options.tear_set = [m.fs.stream2, m.fs.stream10adm]\n",
    "    \n",
    "    G = seq.create_graph(m)\n",
    "    # Uncomment this code to see tear set and initialization order\n",
    "    order = seq.calculation_order(G)\n",
    "    # print(\"Initialization Order\")\n",
    "    # for o in order:\n",
    "    #     print(o[0].name)\n",
    "    \n",
    "    # Initial guesses for flow into first reactor\n",
    "    tear_guesses1 = {\n",
    "        \"flow_vol\": {0: 103531 / 24 / 3600},\n",
    "        \"conc_mass_comp\": {\n",
    "            (0, \"S_I\"): 0.028,\n",
    "            (0, \"S_S\"): 0.012,\n",
    "            (0, \"X_I\"): 1.532,\n",
    "            (0, \"X_S\"): 0.069,\n",
    "            (0, \"X_BH\"): 2.233,\n",
    "            (0, \"X_BA\"): 0.167,\n",
    "            (0, \"X_P\"): 0.964,\n",
    "            (0, \"S_O\"): 0.0011,\n",
    "            (0, \"S_NO\"): 0.0073,\n",
    "            (0, \"S_NH\"): 0.0072,\n",
    "            (0, \"S_ND\"): 0.0016,\n",
    "            (0, \"X_ND\"): 0.0040,\n",
    "        },\n",
    "        \"alkalinity\": {0: 0.0052},\n",
    "        \"temperature\": {0: 308.15},\n",
    "        \"pressure\": {0: 101325},\n",
    "    }\n",
    "    \n",
    "    # Initial guesses for ASM to ADM translator\n",
    "    tear_guesses2 = {\n",
    "        \"flow_vol\": {0: 170 / 24 / 3600},\n",
    "        \"conc_mass_comp\": {\n",
    "            (0, \"S_I\"): 0.028,\n",
    "            (0, \"S_S\"): 0.048,\n",
    "            (0, \"X_I\"): 10.362,\n",
    "            (0, \"X_S\"): 20.375,\n",
    "            (0, \"X_BH\"): 10.210,\n",
    "            (0, \"X_BA\"): 0.553,\n",
    "            (0, \"X_P\"): 3.204,\n",
    "            (0, \"S_O\"): 0.00025,\n",
    "            (0, \"S_NO\"): 0.00169,\n",
    "            (0, \"S_NH\"): 0.0289,\n",
    "            (0, \"S_ND\"): 0.00468,\n",
    "            (0, \"X_ND\"): 0.906,\n",
    "        },\n",
    "        \"alkalinity\": {0: 0.00715},\n",
    "        \"temperature\": {0: 308.15},\n",
    "        \"pressure\": {0: 101325},\n",
    "    }\n",
    "    \n",
    "    # Pass the tear_guess to the SD tool\n",
    "    seq.set_guesses_for(m.fs.R1.inlet, tear_guesses1)\n",
    "    seq.set_guesses_for(m.fs.asm_adm.inlet, tear_guesses2)\n",
    "\n",
    "    # We then run the initialization by creating a function to initialize each unit model and running it\n",
    "    def function(unit):\n",
    "        unit.initialize(outlvl=idaeslog.ERROR);\n",
    "\n",
    "    seq.run(m, function);\n",
    "\n",
    "# Run initialization\n",
    "initialize_system(m)"
   ]
  },
  {
   "cell_type": "markdown",
   "id": "c739d459-5473-4426-a345-de62d9da7c5c",
   "metadata": {},
   "source": [
    "We then run the initialization by creating a function to initialize each unit model and running it"
   ]
  },
  {
   "cell_type": "markdown",
   "id": "80dc5d7e-3574-4ab2-83ba-927e509ffb54",
   "metadata": {},
   "source": [
    "## Step 3.2: Run solver\n",
    "Solve the model by running the flowsheet using the ipopt solver."
   ]
  },
  {
   "cell_type": "code",
   "execution_count": 22,
   "id": "e0d29703-d4b6-4749-84d8-b3e7739ed22f",
   "metadata": {},
   "outputs": [],
   "source": [
    "solver = get_solver()\n",
    "results = solver.solve(m, tee=False)"
   ]
  },
  {
   "cell_type": "markdown",
   "id": "a0eae594-2399-4107-a081-4bc2f0bc2cd6",
   "metadata": {},
   "source": [
    "We run an assertion to make sure the solver found the optimal solution"
   ]
  },
  {
   "cell_type": "code",
   "execution_count": 23,
   "id": "c0bae126-fce0-4c01-8386-f33854787d9a",
   "metadata": {},
   "outputs": [],
   "source": [
    "pyo.assert_optimal_termination(results)"
   ]
  },
  {
   "cell_type": "markdown",
   "id": "f5b0f59d-635c-4965-9045-08b4f3c54189",
   "metadata": {},
   "source": [
    "## Step 3.3: Report solution\n",
    "We then report the treated water block"
   ]
  },
  {
   "cell_type": "code",
   "execution_count": 24,
   "id": "183c650b-5a5e-4672-a63c-ce4ae1f8383b",
   "metadata": {},
   "outputs": [
    {
     "name": "stdout",
     "output_type": "stream",
     "text": [
      "\n",
      "====================================================================================\n",
      "Unit : fs.Treated                                                          Time: 0.0\n",
      "------------------------------------------------------------------------------------\n",
      "    Stream Table\n",
      "                                    Units             Inlet  \n",
      "    Volumetric Flowrate        meter ** 3 / second    0.23889\n",
      "    Molar Alkalinity             mole / meter ** 3     3.8096\n",
      "    Mass Concentration S_I   kilogram / meter ** 3   0.061909\n",
      "    Mass Concentration S_S   kilogram / meter ** 3 0.00087127\n",
      "    Mass Concentration X_I   kilogram / meter ** 3  0.0054462\n",
      "    Mass Concentration X_S   kilogram / meter ** 3 0.00020555\n",
      "    Mass Concentration X_BH  kilogram / meter ** 3   0.010903\n",
      "    Mass Concentration X_BA  kilogram / meter ** 3 0.00078876\n",
      "    Mass Concentration X_P   kilogram / meter ** 3  0.0022565\n",
      "    Mass Concentration S_O   kilogram / meter ** 3 0.00044900\n",
      "    Mass Concentration S_NO  kilogram / meter ** 3   0.015456\n",
      "    Mass Concentration S_NH  kilogram / meter ** 3 0.00091693\n",
      "    Mass Concentration S_ND  kilogram / meter ** 3 0.00064661\n",
      "    Mass Concentration X_ND  kilogram / meter ** 3 1.4159e-05\n",
      "    Temperature                             kelvin     308.15\n",
      "    Pressure                                pascal 1.0132e+05\n",
      "====================================================================================\n"
     ]
    }
   ],
   "source": [
    "m.fs.Treated.report()"
   ]
  },
  {
   "cell_type": "markdown",
   "id": "c0868dd3-e4b8-4ddb-ab7f-2fa3bd0749d3",
   "metadata": {},
   "source": [
    "# Part 2: Demonstrate optimization and sensitivity analysis over specific parameters of the flowsheet\n",
    "\n",
    "In this section, we will integrate costing models into the flowsheet as well as establish effluent metric constraints based on real regulatory limits for wastewater treatment plants. Then we'll run an optimization to minimize the levelized cost of treatment followed by a sensitivity analysis to further explore the effect certain operating conditions have on the plant's economics."
   ]
  },
  {
   "cell_type": "markdown",
   "id": "c4837249-7950-4fa3-8ddb-51860ecd7ad5",
   "metadata": {},
   "source": [
    "## Step 1: Add costing models"
   ]
  },
  {
   "cell_type": "markdown",
   "id": "49177bc3-21f1-4d79-8907-15e6e2c17ca4",
   "metadata": {},
   "source": [
    "For each of the major unit operations in the BSM2 flowsheet, we'll create a UnitModelCostingBlock, which contains all the variables and constraints related to that unit's costing."
   ]
  },
  {
   "cell_type": "code",
   "execution_count": 25,
   "id": "a6c1fadc-243d-4307-9707-4a8ede50e4cb",
   "metadata": {},
   "outputs": [],
   "source": [
    "def add_costing(m):\n",
    "    # Base class for creating WaterTAP costing packages\n",
    "    m.fs.costing = WaterTAPCosting()\n",
    "    m.fs.costing.base_currency = pyo.units.USD_2020\n",
    "    \n",
    "    # Unit model costing blocks\n",
    "    m.fs.R1.costing = UnitModelCostingBlock(flowsheet_costing_block=m.fs.costing)\n",
    "    m.fs.R2.costing = UnitModelCostingBlock(flowsheet_costing_block=m.fs.costing)\n",
    "    m.fs.R3.costing = UnitModelCostingBlock(flowsheet_costing_block=m.fs.costing)\n",
    "    m.fs.R4.costing = UnitModelCostingBlock(flowsheet_costing_block=m.fs.costing)\n",
    "    m.fs.R5.costing = UnitModelCostingBlock(flowsheet_costing_block=m.fs.costing)\n",
    "    m.fs.CL.costing = UnitModelCostingBlock(\n",
    "        flowsheet_costing_block=m.fs.costing,\n",
    "        costing_method=cost_primary_clarifier,\n",
    "    )\n",
    "    \n",
    "    m.fs.CL1.costing = UnitModelCostingBlock(\n",
    "        flowsheet_costing_block=m.fs.costing,\n",
    "        costing_method=cost_circular_clarifier,\n",
    "    )\n",
    "    m.fs.RADM.costing = UnitModelCostingBlock(flowsheet_costing_block=m.fs.costing)\n",
    "    m.fs.DU.costing = UnitModelCostingBlock(flowsheet_costing_block=m.fs.costing)\n",
    "    m.fs.TU.costing = UnitModelCostingBlock(flowsheet_costing_block=m.fs.costing)"
   ]
  },
  {
   "cell_type": "markdown",
   "id": "9064b738-8bf3-4349-bf33-708709b08b10",
   "metadata": {},
   "source": [
    "Then we need to define the system level costs, namely annual water production, specific energy consumption, and levelized cost of water (LCOW)."
   ]
  },
  {
   "cell_type": "code",
   "execution_count": 26,
   "id": "50369b3f-384b-4151-acef-8810d6010b1e",
   "metadata": {},
   "outputs": [],
   "source": [
    "def add_extra(m):\n",
    "    # Process costing and system level metrics\n",
    "    m.fs.costing.cost_process()\n",
    "    m.fs.costing.add_annual_water_production(m.fs.Treated.properties[0].flow_vol)\n",
    "    m.fs.costing.add_LCOW(m.fs.FeedWater.properties[0].flow_vol)\n",
    "    m.fs.costing.add_specific_energy_consumption(m.fs.FeedWater.properties[0].flow_vol)\n",
    "    \n",
    "    # Apply scaling\n",
    "    iscale.set_scaling_factor(m.fs.costing.LCOW, 1e3)\n",
    "    iscale.set_scaling_factor(m.fs.costing.total_capital_cost, 1e-5)\n",
    "    \n",
    "    for block in m.fs.component_objects(pyo.Block, descend_into=True):\n",
    "        if isinstance(block, UnitModelBlockData) and hasattr(block, \"costing\"):\n",
    "            iscale.set_scaling_factor(block.costing.capital_cost, 1e-6)\n",
    "    \n",
    "    iscale.constraint_scaling_transform(m.fs.DU.costing.capital_cost_constraint, 1e-6)\n",
    "    iscale.constraint_scaling_transform(m.fs.RADM.costing.capital_cost_constraint, 1e-6)\n",
    "    \n",
    "    \n",
    "    # Initialize costing\n",
    "    m.fs.costing.initialize()"
   ]
  },
  {
   "cell_type": "markdown",
   "id": "ad1bfc8b-a344-4008-a4f8-036d65d68d82",
   "metadata": {},
   "source": [
    "## Step 2: Setup optimization\n",
    "\n",
    "We imple concentrations. Likewise, we'll unfix reactor volume, oxygen injection rates, and split fractions for recycle streams."
   ]
  },
  {
   "cell_type": "code",
   "execution_count": 27,
   "id": "e7d99cd3-e431-4e8d-bb50-969fe629d18a",
   "metadata": {},
   "outputs": [],
   "source": [
    "def setup_optimization(m):\n",
    "    # Define LCOW as the objective function\n",
    "    m.fs.objective = pyo.Objective(expr=m.fs.costing.LCOW)\n",
    "    \n",
    "    # Unfix the volume of the Activated Sludge reactors\n",
    "    for i in [\"R1\", \"R2\", \"R3\", \"R4\", \"R5\"]:\n",
    "        reactor = getattr(m.fs, i)\n",
    "        reactor.volume.unfix()\n",
    "        reactor.volume.setlb(1)\n",
    "        #reactor.volume.setub(2000)\n",
    "    \n",
    "    # Unfix the oxygen injections rates for the aerobic CSTRs\n",
    "    m.fs.R3.outlet.conc_mass_comp[:, \"S_O\"].unfix()\n",
    "    m.fs.R3.outlet.conc_mass_comp[:, \"S_O\"].setub(8e-3)\n",
    "    \n",
    "    m.fs.R4.outlet.conc_mass_comp[:, \"S_O\"].unfix()\n",
    "    m.fs.R4.outlet.conc_mass_comp[:, \"S_O\"].setub(8e-3)\n",
    "    \n",
    "    m.fs.R5.outlet.conc_mass_comp[:, \"S_O\"].unfix()\n",
    "    m.fs.R5.outlet.conc_mass_comp[:, \"S_O\"].setub(8e-3)\n",
    "    \n",
    "    # Unfix fraction of outflow from reactor 5 that goes to recycle\n",
    "    m.fs.SP5.split_fraction[:, \"underflow\"].unfix()\n",
    "    # m.fs.SP5.split_fraction[:, \"underflow\"].setlb(0.45)\n",
    "    m.fs.SP6.split_fraction[:, \"recycle\"].unfix()"
   ]
  },
  {
   "cell_type": "markdown",
   "id": "52941e7c-0ef2-494d-b243-579a344c06e9",
   "metadata": {},
   "source": [
    "## Step 3: Define the effluent concentration limits"
   ]
  },
  {
   "cell_type": "markdown",
   "id": "26980de5-c710-4b24-a6de-7eee088af432",
   "metadata": {},
   "source": [
    "Concentrations in the effluent water should not exceed regulatory limits, so we need to create constraints for the following metrics: total suspended solids (TSS), chemical oxygen demand (COD), total nitrogen, and 5-day biological oxygen demand (BOD5)."
   ]
  },
  {
   "cell_type": "code",
   "execution_count": 28,
   "id": "820abc0e-9633-432a-b710-22d90e0dd3d7",
   "metadata": {},
   "outputs": [],
   "source": [
    "def add_effluent_violations(m):\n",
    "    # Define the upper limit for TSS\n",
    "    m.fs.TSS_max = pyo.Var(initialize=0.03, units=pyo.units.kg / pyo.units.m**3)\n",
    "    m.fs.TSS_max.fix()\n",
    "    \n",
    "    # Add constraint ensuring effluent TSS is below the limit\n",
    "    @m.fs.Constraint(m.fs.time)\n",
    "    def eq_TSS_max(self, t):\n",
    "        return m.fs.CL1.effluent_state[0].TSS <= m.fs.TSS_max\n",
    "    \n",
    "    # Define the upper limit for COD\n",
    "    m.fs.COD_max = pyo.Var(initialize=0.1, units=pyo.units.kg / pyo.units.m**3)\n",
    "    m.fs.COD_max.fix()\n",
    "    \n",
    "    # Add constraint ensuring effluent COD is below the limit\n",
    "    @m.fs.Constraint(m.fs.time)\n",
    "    def eq_COD_max(self, t):\n",
    "        return m.fs.CL1.effluent_state[0].COD <= m.fs.COD_max\n",
    "    \n",
    "    # Define the upper limit for total nitrogen\n",
    "    m.fs.totalN_max = pyo.Var(initialize=0.018, units=pyo.units.kg / pyo.units.m**3)\n",
    "    m.fs.totalN_max.fix()\n",
    "    \n",
    "    # Add constraint ensuring total effluent nitrogen is below the limit\n",
    "    @m.fs.Constraint(m.fs.time)\n",
    "    def eq_totalN_max(self, t):\n",
    "        return m.fs.CL1.effluent_state[0].Total_N <= m.fs.totalN_max\n",
    "    \n",
    "    # Define the upper limit for BOD5\n",
    "    m.fs.BOD5_max = pyo.Var(initialize=0.01, units=pyo.units.kg / pyo.units.m**3)\n",
    "    m.fs.BOD5_max.fix()\n",
    "    \n",
    "    # Add constraint ensuring effluent BOD5 is below the limit\n",
    "    @m.fs.Constraint(m.fs.time)\n",
    "    def eq_BOD5_max(self, t):\n",
    "        return m.fs.CL1.effluent_state[0].BOD5[\"effluent\"] <= m.fs.BOD5_max"
   ]
  },
  {
   "cell_type": "markdown",
   "id": "ef30eda3-0882-4731-bcc4-0bdf7389f4d2",
   "metadata": {},
   "source": [
    "However, there is one more issue - in order to minimize the effluent concentrations, reactor volumes will be driven to their lower bound. In order prevent this, we must create constraints that relate the reactor volumes to each other."
   ]
  },
  {
   "cell_type": "code",
   "execution_count": 29,
   "id": "86088509-d0f8-4fb6-8786-01fa6fb4b821",
   "metadata": {},
   "outputs": [],
   "source": [
    "def add_reactor_volume_constraints(m):\n",
    "    @m.fs.Constraint(m.fs.time)\n",
    "    def Vol_1(self, t):\n",
    "        return m.fs.R1.volume[0] == m.fs.R2.volume[0]\n",
    "    \n",
    "    @m.fs.Constraint(m.fs.time)\n",
    "    def Vol_2(self, t):\n",
    "        return m.fs.R3.volume[0] == m.fs.R4.volume[0]\n",
    "    \n",
    "    @m.fs.Constraint(m.fs.time)\n",
    "    def Vol_3(self, t):\n",
    "        return m.fs.R5.volume[0] >= m.fs.R4.volume[0] * 0.5"
   ]
  },
  {
   "cell_type": "markdown",
   "id": "6fb061c8-ee51-4d2c-9908-d0e8dea27acd",
   "metadata": {},
   "source": [
    "## Step 4: Solve the system"
   ]
  },
  {
   "cell_type": "markdown",
   "id": "411f79ba-dfab-4dc5-9721-8f6361a75944",
   "metadata": {},
   "source": [
    "Now that we have all the necessary constraints in place, we can solve the system to minimize the levelized cost of water while remaining within regulatory limits."
   ]
  },
  {
   "cell_type": "code",
   "execution_count": 30,
   "id": "edbae858-96a9-4652-af7a-534d3b28d2c2",
   "metadata": {},
   "outputs": [],
   "source": [
    "add_costing(m)\n",
    "add_extra(m)\n",
    "setup_optimization(m)\n",
    "add_effluent_violations(m)\n",
    "add_reactor_volume_constraints(m)\n",
    "\n",
    "solver = get_solver()\n",
    "results = solver.solve(m, tee=False)"
   ]
  },
  {
   "cell_type": "markdown",
   "id": "36832036-4511-4bed-a02a-080f62a817f8",
   "metadata": {},
   "source": [
    "## Step 5: Conduct a sensitivity analysis"
   ]
  },
  {
   "cell_type": "markdown",
   "id": "ea904968-5c7d-4eb0-aa2b-e3e84f9d14c1",
   "metadata": {},
   "source": [
    "Now that we have arrived at one solution, we'd like to further explore the design space by conducting a sensitivity analysis on reactor volume to see\n",
    "to see how it affects the LCOT."
   ]
  },
  {
   "cell_type": "code",
   "execution_count": 31,
   "id": "630c9995-8c95-4617-bf0a-3bac9c845e67",
   "metadata": {},
   "outputs": [
    {
     "data": {
      "image/png": "[encoded data removed]",
      "text/plain": [
       "<Figure size 640x480 with 1 Axes>"
      ]
     },
     "metadata": {},
     "output_type": "display_data"
    }
   ],
   "source": [
    "# Import package for sensitvity analysis\n",
    "import numpy as np\n",
    "import matplotlib.pyplot as plt\n",
    "# Insert code for conducting sensitivity analysis\n",
    "def sensitivity_analysis_case1(num):\n",
    "    areation_tank_volume_list = np.linspace(1000, 2000, num)\n",
    "    TSS_out_list = np.zeros(num)\n",
    "    COD_out_list = np.zeros(num)\n",
    "    BOD_out_list = np.zeros(num)\n",
    "    TKN_out_list = np.zeros(num)\n",
    "    for i in range(0, num):\n",
    "        m = build()\n",
    "        m.fs.R3.volume.unfix()\n",
    "        m.fs.R3.volume.fix(areation_tank_volume_list[i])\n",
    "        m.fs.R4.volume.unfix()\n",
    "        m.fs.R4.volume.fix(areation_tank_volume_list[i])\n",
    "        m.fs.R5.volume.unfix()\n",
    "        m.fs.R5.volume.fix(areation_tank_volume_list[i])\n",
    "        scale_system(m)\n",
    "        initialize_system(m)\n",
    "        add_costing(m)\n",
    "        add_extra(m)\n",
    "        results = solver.solve(m, tee=False)\n",
    "        TSS_out_list[i]=pyo.value(m.fs.Treated.properties[0].TSS * 1e3)\n",
    "        COD_out_list[i]=pyo.value(m.fs.Treated.properties[0].COD * 1e3)\n",
    "        BOD_out_list[i]=pyo.value(m.fs.Treated.properties[0].BOD5[\"effluent\"] * 1e3)\n",
    "        TKN_out_list[i]=pyo.value(m.fs.Treated.properties[0].TKN * 1e3)\n",
    "\n",
    "    fig1, ax1 = plt.subplots()\n",
    "    # ax1.plot(areation_tank_volume_list, TSS_out_list, color=\"tab:blue\", label=\"TSS\")\n",
    "    # ax1.plot(areation_tank_volume_list, COD_out_list, color=\"tab:red\", label=\"COD\")\n",
    "    ax1.plot(areation_tank_volume_list, BOD_out_list, color=\"tab:green\", label=\"BOD5\")\n",
    "    ax1.plot(areation_tank_volume_list, TKN_out_list, color=\"tab:purple\", label=\"TKN\")\n",
    "    ax1.set_xlabel(\"Aeration Tank Reactor Volume (m3)\", fontsize=11)\n",
    "    ax1.set_ylabel(\"Effluent Concentration (mg/L)\", fontsize=11)\n",
    "    ax1.legend()\n",
    "    \n",
    "    # plt.show()\n",
    "   \n",
    "sensitivity_analysis_case1(num=10)"
   ]
  },
  {
   "cell_type": "code",
   "execution_count": 32,
   "id": "d40addfe-94f2-4e13-af69-acac09fdfea8",
   "metadata": {},
   "outputs": [
    {
     "data": {
      "image/png": "[encoded data removed]",
      "text/plain": [
       "<Figure size 640x480 with 1 Axes>"
      ]
     },
     "metadata": {},
     "output_type": "display_data"
    }
   ],
   "source": [
    "def sensitivity_analysis_case2(num):\n",
    "    split_fraction_list = np.linspace(0.6, 0.8, num)\n",
    "    TSS_out_list = np.zeros(num)\n",
    "    COD_out_list = np.zeros(num)\n",
    "    BOD_out_list = np.zeros(num)\n",
    "    TKN_out_list = np.zeros(num)\n",
    "    LCOW_list = np.zeros(num)\n",
    "    SEC_list = np.zeros(num)\n",
    "    for i in range(0, num):\n",
    "        m = build()\n",
    "        m.fs.SP5.split_fraction[:, \"underflow\"].unfix()\n",
    "        m.fs.SP5.split_fraction[:, \"underflow\"].fix(split_fraction_list[i])\n",
    "        scale_system(m)\n",
    "        initialize_system(m)\n",
    "        add_costing(m)\n",
    "        add_extra(m)\n",
    "        results = solver.solve(m, tee=False)\n",
    "        TSS_out_list[i]=pyo.value(m.fs.Treated.properties[0].TSS * 1e3)\n",
    "        COD_out_list[i]=pyo.value(m.fs.Treated.properties[0].COD * 1e3)\n",
    "        BOD_out_list[i]=pyo.value(m.fs.Treated.properties[0].BOD5[\"effluent\"] * 1e3)\n",
    "        TKN_out_list[i]=pyo.value(m.fs.Treated.properties[0].TKN * 1e3)\n",
    "        LCOW_list[i]=pyo.value(m.fs.costing.LCOW)\n",
    "        SEC_list[i]=pyo.value(m.fs.costing.specific_energy_consumption)\n",
    "\n",
    "    fig1, ax1 = plt.subplots()\n",
    "    # ax1.plot(R3_volume_list, TSS_out_list, color=\"tab:blue\", label=\"TSS\")\n",
    "    # ax1.plot(R3_volume_list, COD_out_list, color=\"tab:red\", label=\"COD\")\n",
    "    ax1.plot(split_fraction_list, BOD_out_list, color=\"tab:green\", label=\"BOD5\")\n",
    "    ax1.plot(split_fraction_list, TKN_out_list, color=\"tab:purple\", label=\"TKN\")\n",
    "    ax1.set_xlabel(\"Recycle Fraction\", fontsize=11)\n",
    "    ax1.set_ylabel(\"Effluent Concentration (mg/L)\", fontsize=11)\n",
    "    ax1.legend()\n",
    "\n",
    "    # fig2, ax2 = plt.subplots()\n",
    "    # ax2.plot(split_fraction_list, LCOW_list, color=\"tab:blue\", label=\"LCOW\")\n",
    "    # ax2.set_xlabel(\"Recycle Fraction\", fontsize=11)\n",
    "    # ax2.set_ylabel(\"Levelized Cost of Water (/$/m$^3$)\", fontsize=11)\n",
    "    # ax2.legend()\n",
    "    # plt.show()\n",
    "\n",
    "sensitivity_analysis_case2(num=5)"
   ]
  },
  {
   "cell_type": "code",
   "execution_count": 39,
   "id": "47533e9d-d8ce-41f3-a363-80fd662d4768",
   "metadata": {},
   "outputs": [
    {
     "data": {
      "image/png": "[encoded data removed]",
      "text/plain": [
       "<Figure size 640x480 with 2 Axes>"
      ]
     },
     "metadata": {},
     "output_type": "display_data"
    },
    {
     "data": {
      "image/png": "[encoded data removed]",
      "text/plain": [
       "<Figure size 640x480 with 2 Axes>"
      ]
     },
     "metadata": {},
     "output_type": "display_data"
    }
   ],
   "source": [
    "def sensitivity_analysis_case3(num):\n",
    "    anoxic_tank_volume_list = np.linspace(800, 1200, num)\n",
    "    areation_tank_volume_list = np.linspace(1200, 1500, num)\n",
    "    TSS_out_matrix = np.zeros((num, num))\n",
    "    COD_out_matrix = np.zeros((num, num))\n",
    "    BOD_out_matrix = np.zeros((num, num))\n",
    "    TKN_out_matrix = np.zeros((num, num))\n",
    "    LCOW_matrix = np.zeros((num, num))\n",
    "    SEC_matrix = np.zeros((num, num))\n",
    "    for i in range(0, num):\n",
    "        for j in range(0, num):\n",
    "            m = build()\n",
    "            m.fs.R1.volume.unfix()\n",
    "            m.fs.R1.volume.fix(anoxic_tank_volume_list[i])\n",
    "            m.fs.R2.volume.unfix()\n",
    "            m.fs.R2.volume.fix(anoxic_tank_volume_list[i])\n",
    "            m.fs.R3.volume.unfix()\n",
    "            m.fs.R3.volume.fix(areation_tank_volume_list[j])\n",
    "            m.fs.R4.volume.unfix()\n",
    "            m.fs.R4.volume.fix(areation_tank_volume_list[j])\n",
    "            m.fs.R5.volume.unfix()\n",
    "            m.fs.R5.volume.fix(areation_tank_volume_list[j])\n",
    "            scale_system(m)\n",
    "            initialize_system(m)\n",
    "            add_costing(m)\n",
    "            add_extra(m)\n",
    "            results = solver.solve(m, tee=False)\n",
    "            TSS_out_matrix[j, i]=pyo.value(m.fs.Treated.properties[0].TSS * 1e3)\n",
    "            COD_out_matrix[j, i]=pyo.value(m.fs.Treated.properties[0].COD * 1e3)\n",
    "            BOD_out_matrix[j, i]=pyo.value(m.fs.Treated.properties[0].BOD5[\"effluent\"] * 1e3)\n",
    "            TKN_out_matrix[j, i]=pyo.value(m.fs.Treated.properties[0].TKN * 1e3)\n",
    "            LCOW_matrix[j, i]=pyo.value(m.fs.costing.LCOW)\n",
    "            SEC_matrix[j,i]=pyo.value(m.fs.costing.specific_energy_consumption)\n",
    "\n",
    "    fig1, ax1 = plt.subplots()\n",
    "    CF = ax1.contourf(anoxic_tank_volume_list, areation_tank_volume_list, TKN_out_matrix, cmap=\"GnBu\")\n",
    "    ax1.set_xlabel(\"Anoxic Tank Reactor Volume (m3)\", fontsize=11)\n",
    "    ax1.set_ylabel(\"Aeration Tank Reactor Volume (m3)\", fontsize=11)\n",
    "    cbar = fig1.colorbar(CF)\n",
    "    cbar.ax.set_ylabel(\"Effluent TKN Concentration (mg/L)\", fontsize=11)\n",
    "\n",
    "    fig2, ax2 = plt.subplots()\n",
    "    CF = ax2.contourf(anoxic_tank_volume_list, areation_tank_volume_list, LCOW_matrix, cmap=\"GnBu\")\n",
    "    ax2.set_xlabel(\"Anoxic Tank Reactor Volume (m3)\", fontsize=11)\n",
    "    ax2.set_ylabel(\"Aeration Tank Reactor Volume (m3)\", fontsize=11)\n",
    "    cbar = fig2.colorbar(CF)\n",
    "    cbar.ax.set_ylabel(\"Levelized Cost of Water (/$/m$^3$)\", fontsize=11)\n",
    "   \n",
    "sensitivity_analysis_case3(num=10)"
   ]
  },
  {
   "cell_type": "markdown",
   "id": "42f15fde-d502-4b68-b0a6-69c967403477",
   "metadata": {},
   "source": [
    "## Step 6: Plot the sensitivity analysis"
   ]
  },
  {
   "cell_type": "markdown",
   "id": "f420acab-79b6-4ff8-ab93-6b50e049da97",
   "metadata": {},
   "source": [
    "In order to visualize the sensitivity analysis we need to ... FILL IN LATER"
   ]
  },
  {
   "cell_type": "markdown",
   "id": "2c343005-d536-420e-a236-d830b3dc182d",
   "metadata": {},
   "source": [
    "# Insert code for visualizing sensitivity analysis"
   ]
  },
  {
   "cell_type": "code",
   "execution_count": null,
   "id": "3ec3a101-2e65-472d-98a5-380eae627501",
   "metadata": {},
   "outputs": [],
   "source": []
  }
 ],
 "metadata": {
  "kernelspec": {
   "display_name": "Python 3 (ipykernel)",
   "language": "python",
   "name": "python3"
  },
  "language_info": {
   "codemirror_mode": {
    "name": "ipython",
    "version": 3
   },
   "file_extension": ".py",
   "mimetype": "text/x-python",
   "name": "python",
   "nbconvert_exporter": "python",
   "pygments_lexer": "ipython3",
   "version": "3.11.11"
  }
 },
 "nbformat": 4,
 "nbformat_minor": 5
}
