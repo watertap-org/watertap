{
 "cells": [
  {
   "cell_type": "markdown",
   "metadata": {},
   "source": [
    "# Flexible RO Multiperiod/Pricetaker Workflow\n",
    "\n",
    "This tutorial will show how to optimize the cost of a pricetaker model given a dataset of price signals and the system's operating conditions (start date, end date, flow rate, minimum recovery, etc.)\n",
    "\n",
    "### Important files\n",
    " - **flowsheet**: contains the functions needed for the construction of a flexible desalination flowsheet with cost expressions\n",
    " - **utils**: contains utility functions to streamline the workflow\n",
    " - **params**: contains the default values of all the required parameters\n",
    " - **PriceTakerModel**: contains the pricetaker model, where pricetakers are entities that must accept market prices since they lack the market share to directly influence the market price. When coupled with the multi-period modeling, this model is able to synthesize grid-centric modeling with steady-state, process-centric modeling:"
   ]
  },
  {
   "cell_type": "markdown",
   "metadata": {},
   "source": [
    "## Step 1: Import libraries from pandas, pyomo, and IDAES"
   ]
  },
  {
   "cell_type": "code",
   "execution_count": null,
   "metadata": {},
   "outputs": [],
   "source": [
    "# from idaes.apps.grid_integration import PriceTakerModel\n",
    "from watertap.flowsheets.flex_desal.price_taker_model import PriceTakerModel # Use this until IDAES is updated\n",
    "import pandas as pd\n",
    "import pyomo.environ as pyo\n",
    "from watertap.flowsheets.flex_desal import flowsheet as fs\n",
    "from watertap.flowsheets.flex_desal import utils\n",
    "from watertap.flowsheets.flex_desal.params import FlexDesalParams"
   ]
  },
  {
   "cell_type": "markdown",
   "metadata": {},
   "source": [
    "## Step 2: Interpret price signal data from the .csv"
   ]
  },
  {
   "cell_type": "code",
   "execution_count": null,
   "metadata": {},
   "outputs": [],
   "source": [
    "price_data = pd.read_csv(\"sbce_pricesignal.csv\")\n",
    "price_data[\"Energy Rate\"] = (\n",
    "    price_data[\"electric_energy_0_2022-07-05_2022-07-14_0\"]\n",
    "    + price_data[\"electric_energy_1_2022-07-05_2022-07-14_0\"]\n",
    "    + price_data[\"electric_energy_2_2022-07-05_2022-07-14_0\"]\n",
    "    + price_data[\"electric_energy_3_2022-07-05_2022-07-14_0\"]\n",
    ")\n",
    "price_data[\"Fixed Demand Rate\"] = price_data[\"electric_demand_maximum_2022-07-05_2022-07-14_0\"]\n",
    "price_data[\"Var Demand Rate\"] = price_data[\"electric_demand_peak-summer_2022-07-05_2022-07-14_0\"]\n",
    "price_data[\"Emissions Intensity\"] = 0\n",
    "price_data[\"Customer Cost\"] = price_data[\"electric_customer_0_2022-07-05_2022-07-14_0\"]"
   ]
  },
  {
   "cell_type": "markdown",
   "metadata": {},
   "source": [
    "## Step 3: Create an instance of the PriceTakerModel"
   ]
  },
  {
   "cell_type": "code",
   "execution_count": null,
   "metadata": {},
   "outputs": [],
   "source": [
    "m = PriceTakerModel()\n",
    "\n",
    "# Instantiate an object containing the model parameters\n",
    "m.params = FlexDesalParams(\n",
    "    start_date=\"2022-07-05 00:00:00\",\n",
    "    end_date=\"2022-07-15 00:00:00\",\n",
    "    annual_production_AF=3125, # acrft/yr\n",
    ")\n",
    "m.params.intake.nominal_flowrate = 1063.5 # m3/hr\n",
    "m.params.ro.update({\n",
    "    \"startup_delay\": 8, # hours\n",
    "    \"minimum_downtime\": 4, # hours\n",
    "    \"nominal_flowrate\": 337.670, # m3/hr\n",
    "    \"surrogate_type\": \"quadratic_surrogate\",\n",
    "    \"surrogate_a\": 11.509,\n",
    "    \"surrogate_b\": -10.269,\n",
    "    \"surrogate_c\": 5.627,\n",
    "    \"surrogate_d\": 0,\n",
    "    \"minimum_recovery\": 0.4,\n",
    "    \"nominal_recovery\": 0.465,\n",
    "    \"maximum_recovery\": 0.52,\n",
    "    \"allow_variable_recovery\": True,\n",
    "})\n",
    "\n",
    "# Append LMP data to the model\n",
    "m.append_lmp_data(lmp_data=price_data[\"Energy Rate\"])\n"
   ]
  },
  {
   "cell_type": "markdown",
   "metadata": {},
   "source": [
    "## Step 4: Build the multiperiod model"
   ]
  },
  {
   "cell_type": "code",
   "execution_count": null,
   "metadata": {},
   "outputs": [],
   "source": [
    "m.build_multiperiod_model(\n",
    "    flowsheet_func=fs.build_desal_flowsheet,\n",
    "    flowsheet_options={\"params\": m.params},\n",
    ")\n",
    "\n",
    "# Update the time-varying parameters other than the LMP, such as\n",
    "# demand costs and emissions intensity. LMP value is updated by default\n",
    "m.update_operation_params({\n",
    "    \"fixed_demand_rate\": price_data[\"Fixed Demand Rate\"],\n",
    "    \"variable_demand_rate\": price_data[\"Var Demand Rate\"],\n",
    "    \"emissions_intensity\": price_data[\"Emissions Intensity\"],\n",
    "    \"customer_cost\": price_data[\"Customer Cost\"],\n",
    "})"
   ]
  },
  {
   "cell_type": "markdown",
   "metadata": {},
   "source": [
    "## Step 5: Add constraints from the flowsheet (fs)"
   ]
  },
  {
   "cell_type": "code",
   "execution_count": null,
   "metadata": {},
   "outputs": [],
   "source": [
    "# Add demand cost and fixed cost calculation constraints\n",
    "fs.add_demand_and_fixed_costs(m)\n",
    "\n",
    "# Add the startup delay constraints\n",
    "fs.add_delayed_startup_constraints(m)"
   ]
  },
  {
   "cell_type": "markdown",
   "metadata": {},
   "source": [
    "## Step 6: Construct useful expressions or model-level constraints"
   ]
  },
  {
   "cell_type": "code",
   "execution_count": null,
   "metadata": {},
   "outputs": [],
   "source": [
    "m.total_water_production = pyo.Expression(\n",
    "    expr=m.params.timestep_hours * sum(m.period[:, :].posttreatment.product_flowrate)\n",
    ")\n",
    "m.total_energy_cost = pyo.Expression(expr=sum(m.period[:, :].energy_cost))\n",
    "m.total_demand_cost = pyo.Expression(expr=m.fixed_demand_cost + m.variable_demand_cost)\n",
    "m.total_customer_cost = pyo.Expression(\n",
    "    expr=sum(m.period[:, :].customer_cost) * m.params.num_months\n",
    ")\n",
    "m.total_electricity_cost = pyo.Expression(\n",
    "    expr=m.total_energy_cost + m.total_demand_cost + m.total_customer_cost\n",
    ")"
   ]
  },
  {
   "cell_type": "markdown",
   "metadata": {},
   "source": [
    "## Step 7: Add capacity limits - since off-design operation is not allowed, the minimum stable operation range is operating 1 skid"
   ]
  },
  {
   "cell_type": "code",
   "execution_count": null,
   "metadata": {},
   "outputs": [],
   "source": [
    "for skid in range(1, m.params.ro.num_ro_skids + 1):\n",
    "    m.add_capacity_limits(\n",
    "        op_block_name=f\"reverse_osmosis.ro_skid[{skid}]\", # Name of the operation model block\n",
    "        commodity=\"feed_flowrate\", # Name of the commodity on the operation model that capacity constraints will be applied to (flow rate, power, etc.)\n",
    "        capacity=m.params.ro.nominal_flowrate, # Maximum capacity on the commodity\n",
    "        op_range_lb=1, # Ratio of the capacity at minimum stable operation to the maximum capacity. Must be between [0, 1]\n",
    "    )"
   ]
  },
  {
   "cell_type": "markdown",
   "metadata": {},
   "source": [
    "NOTE: If the minimum uptime = 1 and the minimum downtime = 1, then the minimum uptime and downtime constraints are not needed.\n",
    "However, the startup variable is needed for delayed startup. So, we will add the minimum uptime and downtime constraints only\n",
    "for one skid. These constraints are not needed for the remaining skids."
   ]
  },
  {
   "cell_type": "markdown",
   "metadata": {},
   "source": [
    "## Step 8: Add startup and shutdown constraints for the RO skids"
   ]
  },
  {
   "cell_type": "markdown",
   "metadata": {},
   "source": [
    "for skid in range(1, m.params.ro.num_ro_skids + 1):\n",
    "    m.add_startup_shutdown(\n",
    "        op_block_name=f\"reverse_osmosis.ro_skid[{skid}]\",\n",
    "        up_time=m.params.ro.minimum_uptime,\n",
    "        down_time=m.params.ro.minimum_downtime,\n",
    "    )"
   ]
  },
  {
   "cell_type": "markdown",
   "metadata": {},
   "source": [
    "## Step 9: Fix operation variables that do not vary with time "
   ]
  },
  {
   "cell_type": "code",
   "execution_count": null,
   "metadata": {},
   "outputs": [],
   "source": [
    "# Feed flow to the intake does not vary with time\n",
    "m.fix_operation_var(\"intake.feed_flowrate\", m.params.intake.nominal_flowrate)\n",
    "# Pretreatment is either active (1) or inactive (0) for the entire run\n",
    "m.fix_operation_var(\"pretreatment.op_mode\", 1)"
   ]
  },
  {
   "cell_type": "markdown",
   "metadata": {},
   "source": [
    "## Step 10: Call the flowsheet function that constrains water production based on the water production target"
   ]
  },
  {
   "cell_type": "code",
   "execution_count": null,
   "metadata": {},
   "outputs": [],
   "source": [
    "fs.constrain_water_production(m)"
   ]
  },
  {
   "cell_type": "markdown",
   "metadata": {},
   "source": [
    "## Step 11: Call the objective function to minimize operating costs"
   ]
  },
  {
   "cell_type": "code",
   "execution_count": null,
   "metadata": {},
   "outputs": [],
   "source": [
    "# If water recovery is static, it must be fixed\n",
    "if not m.params.ro.allow_variable_recovery:\n",
    "    utils.fix_recovery(m, recovery=m.params.ro.nominal_recovery)\n",
    "    \n",
    "m.obj = pyo.Objective(\n",
    "    expr=m.total_energy_cost + m.total_demand_cost,\n",
    "    sense=pyo.minimize,\n",
    ")"
   ]
  },
  {
   "cell_type": "code",
   "execution_count": 11,
   "metadata": {},
   "outputs": [],
   "source": [
    "# # Use the following code to optimize net profit\n",
    "# m.add_hourly_cashflows(\n",
    "#     revenue_streams=[\"water_revenue\", \"demand_response_revenue\"],\n",
    "#     operational_costs=[\"emissions_cost\", \"energy_cost\"],\n",
    "# )\n",
    "# m.add_overall_cashflows(\n",
    "#     other_costs=[m.fixed_demand_cost, m.variable_demand_cost, m.fixed_monthly_cost]\n",
    "# )\n",
    "\n",
    "# m.add_objective_function(objective_type=\"net_profit\")"
   ]
  },
  {
   "cell_type": "markdown",
   "metadata": {},
   "source": [
    "## Step 12: Call Gurobi to solve the optimization problem. If a Gurobi license is not available, try resorting to a different solver"
   ]
  },
  {
   "cell_type": "code",
   "execution_count": null,
   "metadata": {},
   "outputs": [],
   "source": [
    "solver_name = \"gurobi\"\n",
    "mip_gap = 0.03\n",
    "\n",
    "if solver_name == \"gurobi\":\n",
    "    # solver = utils.get_gurobi_solver_model(m, mip_gap=0.005)\n",
    "    solver = pyo.SolverFactory(\"gurobi\")\n",
    "    solver.options[\"MIPGap\"] = mip_gap\n",
    "    solver.solve(m, tee=True)\n",
    "\n",
    "elif solver_name == \"scip\":\n",
    "    solver = pyo.SolverFactory(\"scip\")\n",
    "    solver.solve(m, tee=True)\n",
    "\n",
    "elif solver_name in [\"baron\", \"cplex\"]:\n",
    "    solver = pyo.SolverFactory(\"gams\")\n",
    "    solver.solve(\n",
    "        m, tee=True, solver=solver_name, add_options=[f\"options optcr={mip_gap};\"]\n",
    "    )"
   ]
  },
  {
   "cell_type": "markdown",
   "metadata": {},
   "source": [
    "## Step 13: Compile results"
   ]
  },
  {
   "cell_type": "code",
   "execution_count": null,
   "metadata": {},
   "outputs": [],
   "source": [
    "# Write optimal values of all operational variables to a csv file\n",
    "m.get_operation_var_values().to_csv(\"dummy_result.csv\")\n",
    "\n",
    "# Plot operational variables\n",
    "fig, axs = m.plot_operation_profile(\n",
    "    [\n",
    "        \"fixed_demand_rate\",\n",
    "        \"variable_demand_rate\",\n",
    "        \"posttreatment.product_flowrate\",\n",
    "        \"num_skids_online\",\n",
    "    ],\n",
    ")\n",
    "\n",
    "# Return the values of all variables and expressions that do not vary with time\n",
    "m.get_design_var_values()"
   ]
  },
  {
   "cell_type": "code",
   "execution_count": null,
   "metadata": {},
   "outputs": [],
   "source": []
  }
 ],
 "metadata": {
  "kernelspec": {
   "display_name": "Python 3 (ipykernel)",
   "language": "python",
   "name": "python3"
  },
  "language_info": {
   "codemirror_mode": {
    "name": "ipython",
    "version": 3
   },
   "file_extension": ".py",
   "mimetype": "text/x-python",
   "name": "python",
   "nbconvert_exporter": "python",
   "pygments_lexer": "ipython3",
   "version": "3.11.5"
  }
 },
 "nbformat": 4,
 "nbformat_minor": 4
}
