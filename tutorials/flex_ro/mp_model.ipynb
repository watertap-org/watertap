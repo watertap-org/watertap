{
 "cells": [
  {
   "cell_type": "markdown",
   "metadata": {},
   "source": [
    "# Flexible RO Multiperiod/Pricetaker Workflow\n",
    "\n",
    "This tutorial will show how to optimize the cost of a pricetaker model given a dataset of price signals and the system's operating conditions (start date, end date, flow rate, minimum recovery, etc.). See the [IDAES Pricetaker Documentation](https://github.com/IDAES/idaes-pse/blob/main/docs/reference_guides/apps/grid_integration/multiperiod/Price_Taker.rst) for more details.\n",
    "\n",
    "### Important files\n",
    " - **flowsheet**: contains the functions needed for the construction of a flexible desalination flowsheet with cost expressions\n",
    " - **utils**: contains utility functions to streamline the workflow\n",
    " - **params**: contains the default values of all the required parameters\n",
    " - **PriceTakerModel**: contains the pricetaker model, where pricetakers are entities that must accept market prices since they lack the market share to directly influence the market price. When coupled with the multi-period modeling, this model is able to synthesize grid-centric modeling with steady-state, process-centric modeling:"
   ]
  },
  {
   "cell_type": "markdown",
   "metadata": {},
   "source": [
    "## Step 1: Import libraries from pandas, pyomo, and IDAES"
   ]
  },
  {
   "cell_type": "code",
   "execution_count": 1,
   "metadata": {},
   "outputs": [],
   "source": [
    "# from idaes.apps.grid_integration import PriceTakerModel\n",
    "from watertap.flowsheets.flex_desal.price_taker_model import PriceTakerModel # Use this until IDAES is updated\n",
    "import pandas as pd\n",
    "import pyomo.environ as pyo\n",
    "from watertap.flowsheets.flex_desal import flowsheet as fs\n",
    "from watertap.flowsheets.flex_desal import utils\n",
    "from watertap.flowsheets.flex_desal.params import FlexDesalParams"
   ]
  },
  {
   "cell_type": "markdown",
   "metadata": {},
   "source": [
    "## Step 2: Interpret price signal data from the .csv"
   ]
  },
  {
   "cell_type": "code",
   "execution_count": 2,
   "metadata": {},
   "outputs": [],
   "source": [
    "price_data = pd.read_csv(\"sbce_pricesignal.csv\")\n",
    "price_data[\"Energy Rate\"] = (\n",
    "    price_data[\"electric_energy_0_2022-07-05_2022-07-14_0\"]\n",
    "    + price_data[\"electric_energy_1_2022-07-05_2022-07-14_0\"]\n",
    "    + price_data[\"electric_energy_2_2022-07-05_2022-07-14_0\"]\n",
    "    + price_data[\"electric_energy_3_2022-07-05_2022-07-14_0\"]\n",
    ")\n",
    "price_data[\"Fixed Demand Rate\"] = price_data[\"electric_demand_maximum_2022-07-05_2022-07-14_0\"]\n",
    "price_data[\"Var Demand Rate\"] = price_data[\"electric_demand_peak-summer_2022-07-05_2022-07-14_0\"]\n",
    "price_data[\"Emissions Intensity\"] = 0\n",
    "price_data[\"Customer Cost\"] = price_data[\"electric_customer_0_2022-07-05_2022-07-14_0\"]"
   ]
  },
  {
   "cell_type": "markdown",
   "metadata": {},
   "source": [
    "## Step 3: Create an instance of the PriceTakerModel"
   ]
  },
  {
   "cell_type": "code",
   "execution_count": 3,
   "metadata": {},
   "outputs": [],
   "source": [
    "m = PriceTakerModel()\n",
    "\n",
    "# Instantiate an object containing the model parameters\n",
    "m.params = FlexDesalParams(\n",
    "    start_date=\"2022-07-05 00:00:00\",\n",
    "    end_date=\"2022-07-15 00:00:00\",\n",
    "    annual_production_AF=3125, # acrft/yr\n",
    ")\n",
    "m.params.intake.nominal_flowrate = 1063.5 # m3/hr\n",
    "m.params.ro.update({\n",
    "    \"startup_delay\": 8, # hours\n",
    "    \"minimum_downtime\": 4, # hours\n",
    "    \"nominal_flowrate\": 337.670, # m3/hr\n",
    "    \"surrogate_type\": \"quadratic_surrogate\",\n",
    "    \"surrogate_a\": 11.509,\n",
    "    \"surrogate_b\": -10.269,\n",
    "    \"surrogate_c\": 5.627,\n",
    "    \"surrogate_d\": 0,\n",
    "    \"minimum_recovery\": 0.4,\n",
    "    \"nominal_recovery\": 0.465,\n",
    "    \"maximum_recovery\": 0.52,\n",
    "    \"allow_variable_recovery\": True,\n",
    "})\n",
    "\n",
    "# Append LMP data to the model\n",
    "m.append_lmp_data(lmp_data=price_data[\"Energy Rate\"])\n"
   ]
  },
  {
   "cell_type": "markdown",
   "metadata": {},
   "source": [
    "## Step 4: Build the multiperiod model"
   ]
  },
  {
   "cell_type": "code",
   "execution_count": 4,
   "metadata": {},
   "outputs": [],
   "source": [
    "m.build_multiperiod_model(\n",
    "    flowsheet_func=fs.build_desal_flowsheet,\n",
    "    flowsheet_options={\"params\": m.params},\n",
    ")\n",
    "\n",
    "# Update the time-varying parameters other than the LMP, such as\n",
    "# demand costs and emissions intensity. LMP value is updated by default\n",
    "m.update_operation_params({\n",
    "    \"fixed_demand_rate\": price_data[\"Fixed Demand Rate\"],\n",
    "    \"variable_demand_rate\": price_data[\"Var Demand Rate\"],\n",
    "    \"emissions_intensity\": price_data[\"Emissions Intensity\"],\n",
    "    \"customer_cost\": price_data[\"Customer Cost\"],\n",
    "})"
   ]
  },
  {
   "cell_type": "markdown",
   "metadata": {},
   "source": [
    "## Step 5: Add constraints from the flowsheet (fs)"
   ]
  },
  {
   "cell_type": "code",
   "execution_count": 5,
   "metadata": {},
   "outputs": [],
   "source": [
    "# Add demand cost and fixed cost calculation constraints\n",
    "fs.add_demand_and_fixed_costs(m)\n",
    "\n",
    "# Add the startup delay constraints\n",
    "fs.add_delayed_startup_constraints(m)"
   ]
  },
  {
   "cell_type": "markdown",
   "metadata": {},
   "source": [
    "## Step 6: Construct useful expressions or model-level constraints"
   ]
  },
  {
   "cell_type": "code",
   "execution_count": 6,
   "metadata": {},
   "outputs": [],
   "source": [
    "m.total_water_production = pyo.Expression(\n",
    "    expr=m.params.timestep_hours * sum(m.period[:, :].posttreatment.product_flowrate)\n",
    ")\n",
    "m.total_energy_cost = pyo.Expression(expr=sum(m.period[:, :].energy_cost))\n",
    "m.total_demand_cost = pyo.Expression(expr=m.fixed_demand_cost + m.variable_demand_cost)\n",
    "m.total_customer_cost = pyo.Expression(\n",
    "    expr=sum(m.period[:, :].customer_cost) * m.params.num_months\n",
    ")\n",
    "m.total_electricity_cost = pyo.Expression(\n",
    "    expr=m.total_energy_cost + m.total_demand_cost + m.total_customer_cost\n",
    ")"
   ]
  },
  {
   "cell_type": "markdown",
   "metadata": {},
   "source": [
    "## Step 7: Add capacity limits - since off-design operation is not allowed, the minimum stable operation range is operating 1 skid"
   ]
  },
  {
   "cell_type": "code",
   "execution_count": 7,
   "metadata": {},
   "outputs": [
    {
     "name": "stdout",
     "output_type": "stream",
     "text": [
      "2025-07-02 09:32:14 [INFO] idaes.watertap.flowsheets.flex_desal.price_taker_model: Created capacity limit constraints for commodity feed_flowrate in operation block reverse_osmosis.ro_skid[1] at ro_skid_1_feed_flowrate_limits\n",
      "2025-07-02 09:32:14 [INFO] idaes.watertap.flowsheets.flex_desal.price_taker_model: Created capacity limit constraints for commodity feed_flowrate in operation block reverse_osmosis.ro_skid[2] at ro_skid_2_feed_flowrate_limits\n",
      "2025-07-02 09:32:14 [INFO] idaes.watertap.flowsheets.flex_desal.price_taker_model: Created capacity limit constraints for commodity feed_flowrate in operation block reverse_osmosis.ro_skid[3] at ro_skid_3_feed_flowrate_limits\n"
     ]
    }
   ],
   "source": [
    "for skid in range(1, m.params.ro.num_ro_skids + 1):\n",
    "    m.add_capacity_limits(\n",
    "        op_block_name=f\"reverse_osmosis.ro_skid[{skid}]\", # Name of the operation model block\n",
    "        commodity=\"feed_flowrate\", # Name of the commodity on the operation model that capacity constraints will be applied to (flow rate, power, etc.)\n",
    "        capacity=m.params.ro.nominal_flowrate, # Maximum capacity on the commodity\n",
    "        op_range_lb=1, # Ratio of the capacity at minimum stable operation to the maximum capacity. Must be between [0, 1]\n",
    "    )"
   ]
  },
  {
   "cell_type": "markdown",
   "metadata": {},
   "source": [
    "NOTE: If the minimum uptime = 1 and the minimum downtime = 1, then the minimum uptime and downtime constraints are not needed.\n",
    "However, the startup variable is needed for delayed startup. So, we will add the minimum uptime and downtime constraints only\n",
    "for one skid. These constraints are not needed for the remaining skids."
   ]
  },
  {
   "cell_type": "markdown",
   "metadata": {},
   "source": [
    "## Step 8: Add startup and shutdown constraints for the RO skids"
   ]
  },
  {
   "cell_type": "markdown",
   "metadata": {},
   "source": [
    "for skid in range(1, m.params.ro.num_ro_skids + 1):\n",
    "    m.add_startup_shutdown(\n",
    "        op_block_name=f\"reverse_osmosis.ro_skid[{skid}]\",\n",
    "        up_time=m.params.ro.minimum_uptime,\n",
    "        down_time=m.params.ro.minimum_downtime,\n",
    "    )"
   ]
  },
  {
   "cell_type": "markdown",
   "metadata": {},
   "source": [
    "## Step 9: Fix operation variables that do not vary with time "
   ]
  },
  {
   "cell_type": "code",
   "execution_count": 8,
   "metadata": {},
   "outputs": [],
   "source": [
    "# Feed flow to the intake does not vary with time\n",
    "m.fix_operation_var(\"intake.feed_flowrate\", m.params.intake.nominal_flowrate)\n",
    "# Pretreatment is either active (1) or inactive (0) for the entire run\n",
    "m.fix_operation_var(\"pretreatment.op_mode\", 1)"
   ]
  },
  {
   "cell_type": "markdown",
   "metadata": {},
   "source": [
    "## Step 10: Call the flowsheet function that constrains water production based on the water production target"
   ]
  },
  {
   "cell_type": "code",
   "execution_count": 9,
   "metadata": {},
   "outputs": [],
   "source": [
    "fs.constrain_water_production(m)"
   ]
  },
  {
   "cell_type": "markdown",
   "metadata": {},
   "source": [
    "## Step 11: Call the objective function to minimize operating costs"
   ]
  },
  {
   "cell_type": "code",
   "execution_count": 10,
   "metadata": {},
   "outputs": [],
   "source": [
    "# If water recovery is static, it must be fixed\n",
    "if not m.params.ro.allow_variable_recovery:\n",
    "    utils.fix_recovery(m, recovery=m.params.ro.nominal_recovery)\n",
    "    \n",
    "m.obj = pyo.Objective(\n",
    "    expr=m.total_energy_cost + m.total_demand_cost,\n",
    "    sense=pyo.minimize,\n",
    ")"
   ]
  },
  {
   "cell_type": "code",
   "execution_count": 11,
   "metadata": {},
   "outputs": [],
   "source": [
    "# # Use the following code to optimize net profit\n",
    "# m.add_hourly_cashflows(\n",
    "#     revenue_streams=[\"water_revenue\", \"demand_response_revenue\"],\n",
    "#     operational_costs=[\"emissions_cost\", \"energy_cost\"],\n",
    "# )\n",
    "# m.add_overall_cashflows(\n",
    "#     other_costs=[m.fixed_demand_cost, m.variable_demand_cost, m.fixed_monthly_cost]\n",
    "# )\n",
    "\n",
    "# m.add_objective_function(objective_type=\"net_profit\")"
   ]
  },
  {
   "cell_type": "markdown",
   "metadata": {},
   "source": [
    "## Step 12: Call Gurobi to solve the optimization problem. If a Gurobi license is not available, try resorting to a different solver"
   ]
  },
  {
   "cell_type": "code",
   "execution_count": 12,
   "metadata": {},
   "outputs": [
    {
     "ename": "TimeoutExpired",
     "evalue": "Command '['C:\\\\Users\\\\mholl\\\\miniconda3\\\\envs\\\\watertap\\\\Scripts\\\\scip.exe', '--version']' timed out after 2 seconds",
     "output_type": "error",
     "traceback": [
      "\u001b[1;31m---------------------------------------------------------------------------\u001b[0m",
      "\u001b[1;31mTimeoutExpired\u001b[0m                            Traceback (most recent call last)",
      "Cell \u001b[1;32mIn[12], line 15\u001b[0m\n\u001b[0;32m     13\u001b[0m \u001b[38;5;28;01melif\u001b[39;00m solver_name \u001b[38;5;241m==\u001b[39m \u001b[38;5;124m\"\u001b[39m\u001b[38;5;124mscip\u001b[39m\u001b[38;5;124m\"\u001b[39m:\n\u001b[0;32m     14\u001b[0m     solver \u001b[38;5;241m=\u001b[39m pyo\u001b[38;5;241m.\u001b[39mSolverFactory(\u001b[38;5;124m\"\u001b[39m\u001b[38;5;124mscip\u001b[39m\u001b[38;5;124m\"\u001b[39m, validate\u001b[38;5;241m=\u001b[39m\u001b[38;5;28;01mFalse\u001b[39;00m)\n\u001b[1;32m---> 15\u001b[0m     \u001b[43msolver\u001b[49m\u001b[38;5;241;43m.\u001b[39;49m\u001b[43msolve\u001b[49m\u001b[43m(\u001b[49m\u001b[43mm\u001b[49m\u001b[43m,\u001b[49m\u001b[43m \u001b[49m\u001b[43mtee\u001b[49m\u001b[38;5;241;43m=\u001b[39;49m\u001b[38;5;28;43;01mTrue\u001b[39;49;00m\u001b[43m)\u001b[49m\n\u001b[0;32m     17\u001b[0m \u001b[38;5;28;01melif\u001b[39;00m solver_name \u001b[38;5;129;01min\u001b[39;00m [\u001b[38;5;124m\"\u001b[39m\u001b[38;5;124mbaron\u001b[39m\u001b[38;5;124m\"\u001b[39m, \u001b[38;5;124m\"\u001b[39m\u001b[38;5;124mcplex\u001b[39m\u001b[38;5;124m\"\u001b[39m]:\n\u001b[0;32m     18\u001b[0m     solver \u001b[38;5;241m=\u001b[39m pyo\u001b[38;5;241m.\u001b[39mSolverFactory(\u001b[38;5;124m\"\u001b[39m\u001b[38;5;124mgams\u001b[39m\u001b[38;5;124m\"\u001b[39m)\n",
      "File \u001b[1;32m~\\miniconda3\\envs\\watertap\\Lib\\site-packages\\pyomo\\opt\\base\\solvers.py:534\u001b[0m, in \u001b[0;36mOptSolver.solve\u001b[1;34m(self, *args, **kwds)\u001b[0m\n\u001b[0;32m    531\u001b[0m \u001b[38;5;28;01mdef\u001b[39;00m \u001b[38;5;21msolve\u001b[39m(\u001b[38;5;28mself\u001b[39m, \u001b[38;5;241m*\u001b[39margs, \u001b[38;5;241m*\u001b[39m\u001b[38;5;241m*\u001b[39mkwds):\n\u001b[0;32m    532\u001b[0m \u001b[38;5;250m    \u001b[39m\u001b[38;5;124;03m\"\"\"Solve the problem\"\"\"\u001b[39;00m\n\u001b[1;32m--> 534\u001b[0m     \u001b[38;5;28;43mself\u001b[39;49m\u001b[38;5;241;43m.\u001b[39;49m\u001b[43mavailable\u001b[49m\u001b[43m(\u001b[49m\u001b[43mexception_flag\u001b[49m\u001b[38;5;241;43m=\u001b[39;49m\u001b[38;5;28;43;01mTrue\u001b[39;49;00m\u001b[43m)\u001b[49m\n\u001b[0;32m    535\u001b[0m     \u001b[38;5;66;03m#\u001b[39;00m\n\u001b[0;32m    536\u001b[0m     \u001b[38;5;66;03m# If the inputs are models, then validate that they have been\u001b[39;00m\n\u001b[0;32m    537\u001b[0m     \u001b[38;5;66;03m# constructed! Collect suffix names to try and import from solution.\u001b[39;00m\n\u001b[0;32m    538\u001b[0m     \u001b[38;5;66;03m#\u001b[39;00m\n\u001b[0;32m    539\u001b[0m     \u001b[38;5;28;01mfrom\u001b[39;00m \u001b[38;5;21;01mpyomo\u001b[39;00m\u001b[38;5;21;01m.\u001b[39;00m\u001b[38;5;21;01mcore\u001b[39;00m\u001b[38;5;21;01m.\u001b[39;00m\u001b[38;5;21;01mbase\u001b[39;00m\u001b[38;5;21;01m.\u001b[39;00m\u001b[38;5;21;01mblock\u001b[39;00m \u001b[38;5;28;01mimport\u001b[39;00m BlockData\n",
      "File \u001b[1;32m~\\miniconda3\\envs\\watertap\\Lib\\site-packages\\pyomo\\opt\\solver\\shellcmd.py:134\u001b[0m, in \u001b[0;36mSystemCallSolver.available\u001b[1;34m(self, exception_flag)\u001b[0m\n\u001b[0;32m    132\u001b[0m     cm \u001b[38;5;241m=\u001b[39m nullcontext() \u001b[38;5;28;01mif\u001b[39;00m exception_flag \u001b[38;5;28;01melse\u001b[39;00m LoggingIntercept()\n\u001b[0;32m    133\u001b[0m     \u001b[38;5;28;01mwith\u001b[39;00m cm:\n\u001b[1;32m--> 134\u001b[0m         ans \u001b[38;5;241m=\u001b[39m \u001b[38;5;28;43mself\u001b[39;49m\u001b[38;5;241;43m.\u001b[39;49m\u001b[43mexecutable\u001b[49m\u001b[43m(\u001b[49m\u001b[43m)\u001b[49m\n\u001b[0;32m    135\u001b[0m \u001b[38;5;28;01mexcept\u001b[39;00m \u001b[38;5;167;01mNotImplementedError\u001b[39;00m:\n\u001b[0;32m    136\u001b[0m     ans \u001b[38;5;241m=\u001b[39m \u001b[38;5;28;01mNone\u001b[39;00m\n",
      "File \u001b[1;32m~\\miniconda3\\envs\\watertap\\Lib\\site-packages\\pyomo\\opt\\solver\\shellcmd.py:205\u001b[0m, in \u001b[0;36mSystemCallSolver.executable\u001b[1;34m(self)\u001b[0m\n\u001b[0;32m    198\u001b[0m \u001b[38;5;28;01mdef\u001b[39;00m \u001b[38;5;21mexecutable\u001b[39m(\u001b[38;5;28mself\u001b[39m):\n\u001b[0;32m    199\u001b[0m \u001b[38;5;250m    \u001b[39m\u001b[38;5;124;03m\"\"\"\u001b[39;00m\n\u001b[0;32m    200\u001b[0m \u001b[38;5;124;03m    Returns the executable used by this solver.\u001b[39;00m\n\u001b[0;32m    201\u001b[0m \u001b[38;5;124;03m    \"\"\"\u001b[39;00m\n\u001b[0;32m    202\u001b[0m     \u001b[38;5;28;01mreturn\u001b[39;00m (\n\u001b[0;32m    203\u001b[0m         \u001b[38;5;28mself\u001b[39m\u001b[38;5;241m.\u001b[39m_user_executable\n\u001b[0;32m    204\u001b[0m         \u001b[38;5;28;01mif\u001b[39;00m (\u001b[38;5;28mself\u001b[39m\u001b[38;5;241m.\u001b[39m_user_executable \u001b[38;5;129;01mis\u001b[39;00m \u001b[38;5;129;01mnot\u001b[39;00m \u001b[38;5;28;01mNone\u001b[39;00m)\n\u001b[1;32m--> 205\u001b[0m         \u001b[38;5;28;01melse\u001b[39;00m \u001b[38;5;28;43mself\u001b[39;49m\u001b[38;5;241;43m.\u001b[39;49m\u001b[43m_default_executable\u001b[49m\u001b[43m(\u001b[49m\u001b[43m)\u001b[49m\n\u001b[0;32m    206\u001b[0m     )\n",
      "File \u001b[1;32m~\\miniconda3\\envs\\watertap\\Lib\\site-packages\\pyomo\\solvers\\plugins\\solvers\\SCIPAMPL.py:72\u001b[0m, in \u001b[0;36mSCIPAMPL._default_executable\u001b[1;34m(self)\u001b[0m\n\u001b[0;32m     70\u001b[0m executable_path \u001b[38;5;241m=\u001b[39m executable\u001b[38;5;241m.\u001b[39mpath()\n\u001b[0;32m     71\u001b[0m \u001b[38;5;28;01mif\u001b[39;00m executable_path \u001b[38;5;129;01mnot\u001b[39;00m \u001b[38;5;129;01min\u001b[39;00m \u001b[38;5;28mself\u001b[39m\u001b[38;5;241m.\u001b[39m_known_versions:\n\u001b[1;32m---> 72\u001b[0m     \u001b[38;5;28mself\u001b[39m\u001b[38;5;241m.\u001b[39m_known_versions[executable_path] \u001b[38;5;241m=\u001b[39m \u001b[38;5;28;43mself\u001b[39;49m\u001b[38;5;241;43m.\u001b[39;49m\u001b[43m_get_version\u001b[49m\u001b[43m(\u001b[49m\n\u001b[0;32m     73\u001b[0m \u001b[43m        \u001b[49m\u001b[43mexecutable_path\u001b[49m\n\u001b[0;32m     74\u001b[0m \u001b[43m    \u001b[49m\u001b[43m)\u001b[49m\n\u001b[0;32m     75\u001b[0m _ver \u001b[38;5;241m=\u001b[39m \u001b[38;5;28mself\u001b[39m\u001b[38;5;241m.\u001b[39m_known_versions[executable_path]\n\u001b[0;32m     76\u001b[0m \u001b[38;5;28;01mif\u001b[39;00m _ver \u001b[38;5;129;01mand\u001b[39;00m _ver \u001b[38;5;241m>\u001b[39m\u001b[38;5;241m=\u001b[39m (\u001b[38;5;241m8\u001b[39m,):\n",
      "File \u001b[1;32m~\\miniconda3\\envs\\watertap\\Lib\\site-packages\\pyomo\\solvers\\plugins\\solvers\\SCIPAMPL.py:99\u001b[0m, in \u001b[0;36mSCIPAMPL._get_version\u001b[1;34m(self, solver_exec)\u001b[0m\n\u001b[0;32m     97\u001b[0m     \u001b[38;5;28;01mif\u001b[39;00m solver_exec \u001b[38;5;129;01mis\u001b[39;00m \u001b[38;5;28;01mNone\u001b[39;00m:\n\u001b[0;32m     98\u001b[0m         \u001b[38;5;28;01mreturn\u001b[39;00m _extract_version(\u001b[38;5;124m'\u001b[39m\u001b[38;5;124m'\u001b[39m)\n\u001b[1;32m---> 99\u001b[0m results \u001b[38;5;241m=\u001b[39m \u001b[43msubprocess\u001b[49m\u001b[38;5;241;43m.\u001b[39;49m\u001b[43mrun\u001b[49m\u001b[43m(\u001b[49m\n\u001b[0;32m    100\u001b[0m \u001b[43m    \u001b[49m\u001b[43m[\u001b[49m\u001b[43msolver_exec\u001b[49m\u001b[43m,\u001b[49m\u001b[43m \u001b[49m\u001b[38;5;124;43m\"\u001b[39;49m\u001b[38;5;124;43m--version\u001b[39;49m\u001b[38;5;124;43m\"\u001b[39;49m\u001b[43m]\u001b[49m\u001b[43m,\u001b[49m\n\u001b[0;32m    101\u001b[0m \u001b[43m    \u001b[49m\u001b[43mtimeout\u001b[49m\u001b[38;5;241;43m=\u001b[39;49m\u001b[38;5;28;43mself\u001b[39;49m\u001b[38;5;241;43m.\u001b[39;49m\u001b[43m_version_timeout\u001b[49m\u001b[43m,\u001b[49m\n\u001b[0;32m    102\u001b[0m \u001b[43m    \u001b[49m\u001b[43mstdout\u001b[49m\u001b[38;5;241;43m=\u001b[39;49m\u001b[43msubprocess\u001b[49m\u001b[38;5;241;43m.\u001b[39;49m\u001b[43mPIPE\u001b[49m\u001b[43m,\u001b[49m\n\u001b[0;32m    103\u001b[0m \u001b[43m    \u001b[49m\u001b[43mstderr\u001b[49m\u001b[38;5;241;43m=\u001b[39;49m\u001b[43msubprocess\u001b[49m\u001b[38;5;241;43m.\u001b[39;49m\u001b[43mSTDOUT\u001b[49m\u001b[43m,\u001b[49m\n\u001b[0;32m    104\u001b[0m \u001b[43m    \u001b[49m\u001b[43muniversal_newlines\u001b[49m\u001b[38;5;241;43m=\u001b[39;49m\u001b[38;5;28;43;01mTrue\u001b[39;49;00m\u001b[43m,\u001b[49m\n\u001b[0;32m    105\u001b[0m \u001b[43m\u001b[49m\u001b[43m)\u001b[49m\n\u001b[0;32m    106\u001b[0m \u001b[38;5;28;01mreturn\u001b[39;00m _extract_version(results\u001b[38;5;241m.\u001b[39mstdout)\n",
      "File \u001b[1;32m~\\miniconda3\\envs\\watertap\\Lib\\subprocess.py:550\u001b[0m, in \u001b[0;36mrun\u001b[1;34m(input, capture_output, timeout, check, *popenargs, **kwargs)\u001b[0m\n\u001b[0;32m    548\u001b[0m \u001b[38;5;28;01mwith\u001b[39;00m Popen(\u001b[38;5;241m*\u001b[39mpopenargs, \u001b[38;5;241m*\u001b[39m\u001b[38;5;241m*\u001b[39mkwargs) \u001b[38;5;28;01mas\u001b[39;00m process:\n\u001b[0;32m    549\u001b[0m     \u001b[38;5;28;01mtry\u001b[39;00m:\n\u001b[1;32m--> 550\u001b[0m         stdout, stderr \u001b[38;5;241m=\u001b[39m \u001b[43mprocess\u001b[49m\u001b[38;5;241;43m.\u001b[39;49m\u001b[43mcommunicate\u001b[49m\u001b[43m(\u001b[49m\u001b[38;5;28;43minput\u001b[39;49m\u001b[43m,\u001b[49m\u001b[43m \u001b[49m\u001b[43mtimeout\u001b[49m\u001b[38;5;241;43m=\u001b[39;49m\u001b[43mtimeout\u001b[49m\u001b[43m)\u001b[49m\n\u001b[0;32m    551\u001b[0m     \u001b[38;5;28;01mexcept\u001b[39;00m TimeoutExpired \u001b[38;5;28;01mas\u001b[39;00m exc:\n\u001b[0;32m    552\u001b[0m         process\u001b[38;5;241m.\u001b[39mkill()\n",
      "File \u001b[1;32m~\\miniconda3\\envs\\watertap\\Lib\\subprocess.py:1209\u001b[0m, in \u001b[0;36mPopen.communicate\u001b[1;34m(self, input, timeout)\u001b[0m\n\u001b[0;32m   1206\u001b[0m     endtime \u001b[38;5;241m=\u001b[39m \u001b[38;5;28;01mNone\u001b[39;00m\n\u001b[0;32m   1208\u001b[0m \u001b[38;5;28;01mtry\u001b[39;00m:\n\u001b[1;32m-> 1209\u001b[0m     stdout, stderr \u001b[38;5;241m=\u001b[39m \u001b[38;5;28;43mself\u001b[39;49m\u001b[38;5;241;43m.\u001b[39;49m\u001b[43m_communicate\u001b[49m\u001b[43m(\u001b[49m\u001b[38;5;28;43minput\u001b[39;49m\u001b[43m,\u001b[49m\u001b[43m \u001b[49m\u001b[43mendtime\u001b[49m\u001b[43m,\u001b[49m\u001b[43m \u001b[49m\u001b[43mtimeout\u001b[49m\u001b[43m)\u001b[49m\n\u001b[0;32m   1210\u001b[0m \u001b[38;5;28;01mexcept\u001b[39;00m \u001b[38;5;167;01mKeyboardInterrupt\u001b[39;00m:\n\u001b[0;32m   1211\u001b[0m     \u001b[38;5;66;03m# https://bugs.python.org/issue25942\u001b[39;00m\n\u001b[0;32m   1212\u001b[0m     \u001b[38;5;66;03m# See the detailed comment in .wait().\u001b[39;00m\n\u001b[0;32m   1213\u001b[0m     \u001b[38;5;28;01mif\u001b[39;00m timeout \u001b[38;5;129;01mis\u001b[39;00m \u001b[38;5;129;01mnot\u001b[39;00m \u001b[38;5;28;01mNone\u001b[39;00m:\n",
      "File \u001b[1;32m~\\miniconda3\\envs\\watertap\\Lib\\subprocess.py:1628\u001b[0m, in \u001b[0;36mPopen._communicate\u001b[1;34m(self, input, endtime, orig_timeout)\u001b[0m\n\u001b[0;32m   1626\u001b[0m     \u001b[38;5;28mself\u001b[39m\u001b[38;5;241m.\u001b[39mstdout_thread\u001b[38;5;241m.\u001b[39mjoin(\u001b[38;5;28mself\u001b[39m\u001b[38;5;241m.\u001b[39m_remaining_time(endtime))\n\u001b[0;32m   1627\u001b[0m     \u001b[38;5;28;01mif\u001b[39;00m \u001b[38;5;28mself\u001b[39m\u001b[38;5;241m.\u001b[39mstdout_thread\u001b[38;5;241m.\u001b[39mis_alive():\n\u001b[1;32m-> 1628\u001b[0m         \u001b[38;5;28;01mraise\u001b[39;00m TimeoutExpired(\u001b[38;5;28mself\u001b[39m\u001b[38;5;241m.\u001b[39margs, orig_timeout)\n\u001b[0;32m   1629\u001b[0m \u001b[38;5;28;01mif\u001b[39;00m \u001b[38;5;28mself\u001b[39m\u001b[38;5;241m.\u001b[39mstderr \u001b[38;5;129;01mis\u001b[39;00m \u001b[38;5;129;01mnot\u001b[39;00m \u001b[38;5;28;01mNone\u001b[39;00m:\n\u001b[0;32m   1630\u001b[0m     \u001b[38;5;28mself\u001b[39m\u001b[38;5;241m.\u001b[39mstderr_thread\u001b[38;5;241m.\u001b[39mjoin(\u001b[38;5;28mself\u001b[39m\u001b[38;5;241m.\u001b[39m_remaining_time(endtime))\n",
      "\u001b[1;31mTimeoutExpired\u001b[0m: Command '['C:\\\\Users\\\\mholl\\\\miniconda3\\\\envs\\\\watertap\\\\Scripts\\\\scip.exe', '--version']' timed out after 2 seconds"
     ]
    }
   ],
   "source": [
    "# solver_name = \"gurobi\"\n",
    "solver_name = \"scip\"\n",
    "# solver_name = \"baron\"\n",
    "# solver_name = \"cplex\"\n",
    "mip_gap = 0.03\n",
    "\n",
    "if solver_name == \"gurobi\":\n",
    "    # solver = utils.get_gurobi_solver_model(m, mip_gap=0.005)\n",
    "    solver = pyo.SolverFactory(\"gurobi\")\n",
    "    solver.options[\"MIPGap\"] = mip_gap\n",
    "    solver.solve(m, tee=True)\n",
    "\n",
    "elif solver_name == \"scip\":\n",
    "    solver = pyo.SolverFactory(\"scip\", validate=False)\n",
    "    solver.solve(m, tee=True)\n",
    "\n",
    "elif solver_name in [\"baron\", \"cplex\"]:\n",
    "    solver = pyo.SolverFactory(\"gams\")\n",
    "    solver.solve(\n",
    "        m, tee=True, solver=solver_name, add_options=[f\"options optcr={mip_gap};\"]\n",
    "    )"
   ]
  },
  {
   "cell_type": "markdown",
   "metadata": {},
   "source": [
    "## Step 13: Compile results"
   ]
  },
  {
   "cell_type": "code",
   "execution_count": null,
   "metadata": {},
   "outputs": [],
   "source": [
    "# Write optimal values of all operational variables to a csv file\n",
    "m.get_operation_var_values().to_csv(\"dummy_result.csv\")\n",
    "\n",
    "# Plot operational variables\n",
    "fig, axs = m.plot_operation_profile(\n",
    "    [\n",
    "        \"fixed_demand_rate\",\n",
    "        \"variable_demand_rate\",\n",
    "        \"posttreatment.product_flowrate\",\n",
    "        \"num_skids_online\",\n",
    "    ],\n",
    ")\n",
    "\n",
    "# Return the values of all variables and expressions that do not vary with time\n",
    "m.get_design_var_values()"
   ]
  },
  {
   "cell_type": "code",
   "execution_count": null,
   "metadata": {},
   "outputs": [],
   "source": []
  }
 ],
 "metadata": {
  "kernelspec": {
   "display_name": "Python 3 (ipykernel)",
   "language": "python",
   "name": "python3"
  },
  "language_info": {
   "codemirror_mode": {
    "name": "ipython",
    "version": 3
   },
   "file_extension": ".py",
   "mimetype": "text/x-python",
   "name": "python",
   "nbconvert_exporter": "python",
   "pygments_lexer": "ipython3",
   "version": "3.11.5"
  }
 },
 "nbformat": 4,
 "nbformat_minor": 4
}
