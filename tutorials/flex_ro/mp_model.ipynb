{
 "cells": [
  {
   "cell_type": "markdown",
   "metadata": {},
   "source": [
    "# Flexible RO Multiperiod/Pricetaker Workflow\n",
    "\n",
    "This tutorial will show how to optimize the cost of a pricetaker model given a dataset of price signals and the system's operating conditions (start date, end date, flow rate, minimum recovery, etc.). See the [IDAES Pricetaker Documentation](https://github.com/IDAES/idaes-pse/blob/main/docs/reference_guides/apps/grid_integration/multiperiod/Price_Taker.rst) for more details.\n",
    "\n",
    "### Important files\n",
    " - **flowsheet**: contains the functions needed for the construction of a flexible desalination flowsheet with cost expressions\n",
    " - **utils**: contains utility functions to streamline the workflow\n",
    " - **params**: contains the default values of all the required parameters\n",
    " - **PriceTakerModel**: contains the pricetaker model, where pricetakers are entities that must accept market prices since they lack the market share to directly influence the market price. When coupled with the multi-period modeling, this model is able to synthesize grid-centric modeling with steady-state, process-centric modeling:"
   ]
  },
  {
   "cell_type": "markdown",
   "metadata": {},
   "source": [
    "## Step 1: Import libraries from pandas, pyomo, and IDAES"
   ]
  },
  {
   "cell_type": "code",
   "execution_count": 1,
   "metadata": {},
   "outputs": [],
   "source": [
    "from idaes.apps.grid_integration import PriceTakerModel\n",
    "import pandas as pd\n",
    "import pyomo.environ as pyo\n",
    "from watertap.flowsheets.flex_desal import flowsheet as fs\n",
    "from watertap.flowsheets.flex_desal import utils\n",
    "from watertap.flowsheets.flex_desal.params import FlexDesalParams"
   ]
  },
  {
   "cell_type": "markdown",
   "metadata": {},
   "source": [
    "## Step 2: Interpret price signal data from the .csv"
   ]
  },
  {
   "cell_type": "code",
   "execution_count": 2,
   "metadata": {},
   "outputs": [],
   "source": [
    "price_data = pd.read_csv(\"sbce_pricesignal.csv\")\n",
    "price_data[\"Energy Rate\"] = (\n",
    "    price_data[\"electric_energy_0_2022-07-05_2022-07-14_0\"]\n",
    "    + price_data[\"electric_energy_1_2022-07-05_2022-07-14_0\"]\n",
    "    + price_data[\"electric_energy_2_2022-07-05_2022-07-14_0\"]\n",
    "    + price_data[\"electric_energy_3_2022-07-05_2022-07-14_0\"]\n",
    ")\n",
    "price_data[\"Fixed Demand Rate\"] = price_data[\"electric_demand_maximum_2022-07-05_2022-07-14_0\"]\n",
    "price_data[\"Var Demand Rate\"] = price_data[\"electric_demand_peak-summer_2022-07-05_2022-07-14_0\"]\n",
    "price_data[\"Emissions Intensity\"] = 0\n",
    "price_data[\"Customer Cost\"] = price_data[\"electric_customer_0_2022-07-05_2022-07-14_0\"]"
   ]
  },
  {
   "cell_type": "markdown",
   "metadata": {},
   "source": [
    "## Step 3: Create an instance of the PriceTakerModel"
   ]
  },
  {
   "cell_type": "code",
   "execution_count": 3,
   "metadata": {},
   "outputs": [],
   "source": [
    "m = PriceTakerModel()\n",
    "\n",
    "# Instantiate an object containing the model parameters\n",
    "m.params = FlexDesalParams(\n",
    "    start_date=\"2022-07-05 00:00:00\",\n",
    "    end_date=\"2022-07-15 00:00:00\",\n",
    "    annual_production_AF=3125, # acrft/yr\n",
    ")\n",
    "m.params.intake.nominal_flowrate = 1063.5 # m3/hr\n",
    "m.params.ro.update({\n",
    "    \"startup_delay\": 8, # hours\n",
    "    \"minimum_downtime\": 4, # hours\n",
    "    \"nominal_flowrate\": 337.670, # m3/hr\n",
    "    \"surrogate_type\": \"quadratic_surrogate\",\n",
    "    \"surrogate_a\": 11.509,\n",
    "    \"surrogate_b\": -10.269,\n",
    "    \"surrogate_c\": 5.627,\n",
    "    \"surrogate_d\": 0,\n",
    "    \"minimum_recovery\": 0.4,\n",
    "    \"nominal_recovery\": 0.465,\n",
    "    \"maximum_recovery\": 0.52,\n",
    "    \"allow_variable_recovery\": True,\n",
    "})\n",
    "\n",
    "# Append LMP data to the model\n",
    "m.append_lmp_data(lmp_data=price_data[\"Energy Rate\"])\n"
   ]
  },
  {
   "cell_type": "markdown",
   "metadata": {},
   "source": [
    "## Step 4: Build the multiperiod model"
   ]
  },
  {
   "cell_type": "code",
   "execution_count": 4,
   "metadata": {},
   "outputs": [],
   "source": [
    "m.build_multiperiod_model(\n",
    "    flowsheet_func=fs.build_desal_flowsheet,\n",
    "    flowsheet_options={\"params\": m.params},\n",
    ")\n",
    "\n",
    "# Update the time-varying parameters other than the LMP, such as\n",
    "# demand costs and emissions intensity. LMP value is updated by default\n",
    "m.update_operation_params({\n",
    "    \"fixed_demand_rate\": price_data[\"Fixed Demand Rate\"],\n",
    "    \"variable_demand_rate\": price_data[\"Var Demand Rate\"],\n",
    "    \"emissions_intensity\": price_data[\"Emissions Intensity\"],\n",
    "    \"customer_cost\": price_data[\"Customer Cost\"],\n",
    "})"
   ]
  },
  {
   "cell_type": "markdown",
   "metadata": {},
   "source": [
    "## Step 5: Add constraints from the flowsheet (fs)"
   ]
  },
  {
   "cell_type": "code",
   "execution_count": 5,
   "metadata": {},
   "outputs": [],
   "source": [
    "# Add demand cost and fixed cost calculation constraints\n",
    "fs.add_demand_and_fixed_costs(m)\n",
    "\n",
    "# Add the startup delay constraints\n",
    "fs.add_delayed_startup_constraints(m)"
   ]
  },
  {
   "cell_type": "markdown",
   "metadata": {},
   "source": [
    "## Step 6: Construct useful expressions or model-level constraints"
   ]
  },
  {
   "cell_type": "code",
   "execution_count": 6,
   "metadata": {},
   "outputs": [],
   "source": [
    "m.total_water_production = pyo.Expression(\n",
    "    expr=m.params.timestep_hours * sum(m.period[:, :].posttreatment.product_flowrate)\n",
    ")\n",
    "m.total_energy_cost = pyo.Expression(expr=sum(m.period[:, :].energy_cost))\n",
    "m.total_demand_cost = pyo.Expression(expr=m.fixed_demand_cost + m.variable_demand_cost)\n",
    "m.total_customer_cost = pyo.Expression(\n",
    "    expr=sum(m.period[:, :].customer_cost) * m.params.num_months\n",
    ")\n",
    "m.total_electricity_cost = pyo.Expression(\n",
    "    expr=m.total_energy_cost + m.total_demand_cost + m.total_customer_cost\n",
    ")"
   ]
  },
  {
   "cell_type": "markdown",
   "metadata": {},
   "source": [
    "## Step 7: Add capacity limits - since off-design operation is not allowed, the minimum stable operation range is operating 1 skid"
   ]
  },
  {
   "cell_type": "code",
   "execution_count": 7,
   "metadata": {},
   "outputs": [
    {
     "name": "stdout",
     "output_type": "stream",
     "text": [
      "2025-07-23 12:12:39 [INFO] idaes.watertap.flowsheets.flex_desal.price_taker_model: Created capacity limit constraints for commodity feed_flowrate in operation block reverse_osmosis.ro_skid[1] at ro_skid_1_feed_flowrate_limits\n",
      "2025-07-23 12:12:39 [INFO] idaes.watertap.flowsheets.flex_desal.price_taker_model: Created capacity limit constraints for commodity feed_flowrate in operation block reverse_osmosis.ro_skid[2] at ro_skid_2_feed_flowrate_limits\n",
      "2025-07-23 12:12:39 [INFO] idaes.watertap.flowsheets.flex_desal.price_taker_model: Created capacity limit constraints for commodity feed_flowrate in operation block reverse_osmosis.ro_skid[3] at ro_skid_3_feed_flowrate_limits\n"
     ]
    }
   ],
   "source": [
    "for skid in range(1, m.params.ro.num_ro_skids + 1):\n",
    "    m.add_capacity_limits(\n",
    "        op_block_name=f\"reverse_osmosis.ro_skid[{skid}]\", # Name of the operation model block\n",
    "        commodity=\"feed_flowrate\", # Name of the commodity on the operation model that capacity constraints will be applied to (flow rate, power, etc.)\n",
    "        capacity=m.params.ro.nominal_flowrate, # Maximum capacity on the commodity\n",
    "        op_range_lb=1, # Ratio of the capacity at minimum stable operation to the maximum capacity. Must be between [0, 1]\n",
    "    )"
   ]
  },
  {
   "cell_type": "markdown",
   "metadata": {},
   "source": [
    "NOTE: If the minimum uptime = 1 and the minimum downtime = 1, then the minimum uptime and downtime constraints are not needed.\n",
    "However, the startup variable is needed for delayed startup. So, we will add the minimum uptime and downtime constraints only\n",
    "for one skid. These constraints are not needed for the remaining skids."
   ]
  },
  {
   "cell_type": "markdown",
   "metadata": {},
   "source": [
    "## Step 8: Add startup and shutdown constraints for the RO skids"
   ]
  },
  {
   "cell_type": "markdown",
   "metadata": {},
   "source": [
    "for skid in range(1, m.params.ro.num_ro_skids + 1):\n",
    "    m.add_startup_shutdown(\n",
    "        op_block_name=f\"reverse_osmosis.ro_skid[{skid}]\",\n",
    "        up_time=m.params.ro.minimum_uptime,\n",
    "        down_time=m.params.ro.minimum_downtime,\n",
    "    )"
   ]
  },
  {
   "cell_type": "markdown",
   "metadata": {},
   "source": [
    "## Step 9: Fix operation variables that do not vary with time "
   ]
  },
  {
   "cell_type": "code",
   "execution_count": 8,
   "metadata": {},
   "outputs": [],
   "source": [
    "# Feed flow to the intake does not vary with time\n",
    "m.fix_operation_var(\"intake.feed_flowrate\", m.params.intake.nominal_flowrate)\n",
    "# Pretreatment is either active (1) or inactive (0) for the entire run\n",
    "m.fix_operation_var(\"pretreatment.op_mode\", 1)"
   ]
  },
  {
   "cell_type": "markdown",
   "metadata": {},
   "source": [
    "## Step 10: Call the flowsheet function that constrains water production based on the water production target"
   ]
  },
  {
   "cell_type": "code",
   "execution_count": 9,
   "metadata": {},
   "outputs": [],
   "source": [
    "fs.constrain_water_production(m)"
   ]
  },
  {
   "cell_type": "markdown",
   "metadata": {},
   "source": [
    "## Step 11: Call the objective function to minimize operating costs"
   ]
  },
  {
   "cell_type": "code",
   "execution_count": 10,
   "metadata": {},
   "outputs": [],
   "source": [
    "# If water recovery is static, it must be fixed\n",
    "if not m.params.ro.allow_variable_recovery:\n",
    "    utils.fix_recovery(m, recovery=m.params.ro.nominal_recovery)\n",
    "    \n",
    "m.obj = pyo.Objective(\n",
    "    expr=m.total_energy_cost + m.total_demand_cost,\n",
    "    sense=pyo.minimize,\n",
    ")"
   ]
  },
  {
   "cell_type": "code",
   "execution_count": 11,
   "metadata": {},
   "outputs": [],
   "source": [
    "# # Use the following code to optimize net profit\n",
    "# m.add_hourly_cashflows(\n",
    "#     revenue_streams=[\"water_revenue\", \"demand_response_revenue\"],\n",
    "#     operational_costs=[\"emissions_cost\", \"energy_cost\"],\n",
    "# )\n",
    "# m.add_overall_cashflows(\n",
    "#     other_costs=[m.fixed_demand_cost, m.variable_demand_cost, m.fixed_monthly_cost]\n",
    "# )\n",
    "\n",
    "# m.add_objective_function(objective_type=\"net_profit\")"
   ]
  },
  {
   "cell_type": "markdown",
   "metadata": {},
   "source": [
    "## Step 12: Call Gurobi to solve the optimization problem. If a Gurobi license is not available, try resorting to a different solver"
   ]
  },
  {
   "cell_type": "code",
   "execution_count": 12,
   "metadata": {},
   "outputs": [
    {
     "name": "stdout",
     "output_type": "stream",
     "text": [
      "--- Job model.gms Start 07/23/25 12:12:42 49.2.0 9b2b0844 WEX-WEI x86 64bit/MS Windows\n",
      "--- Applying:\n",
      "    C:\\GAMS\\49\\gmsprmNT.txt\n",
      "--- GAMS Parameters defined\n",
      "    Input C:\\Users\\mholl\\AppData\\Local\\Temp\\tmpscn6q9m7\\model.gms\n",
      "    Output C:\\Users\\mholl\\AppData\\Local\\Temp\\tmpscn6q9m7\\output.lst\n",
      "    ScrDir C:\\Users\\mholl\\AppData\\Local\\Temp\\tmpscn6q9m7\\225a\\\n",
      "    SysDir C:\\GAMS\\49\\\n",
      "    CurDir C:\\Users\\mholl\\AppData\\Local\\Temp\\tmpscn6q9m7\\\n",
      "    LogOption 3\n",
      "Licensee: Medium MUD - 10 User License                   G241206|0002CN-GEN\n",
      "          U.S. Department of Energy, National Energy Technology LaborDC9138\n",
      "          C:\\Users\\mholl\\Documents\\GAMS\\gamslice.txt\n",
      "          License Admin: Anthony P. Burgard, anthony.burgard@netl.doe.gov  \n",
      "          The maintenance period of the license will expire on Jan 30, 2026\n",
      "System information: 6 physical cores and 16 Gb memory detected\n",
      "GAMS 49.2.0   Copyright (C) 1987-2025 GAMS Development. All rights reserved\n",
      "--- Starting compilation\n",
      "--- model.gms(186164) 28 Mb\n",
      "--- model.gms(251178) 36 Mb\n",
      "--- model.gms(253538) 45 Mb\n",
      "--- Starting execution: elapsed 0:00:00.264\n",
      "--- model.gms(157474) 46 Mb\n",
      "--- Generating MINLP model GAMS_MODEL\n",
      "--- model.gms(157478) 61 Mb\n",
      "--- Reset Solvelink = 2\n",
      "---   49,923 rows  46,084 columns  142,188 non-zeroes\n",
      "---   51,840 nl-code  14,400 nl-non-zeroes\n",
      "---   8,640 discrete-columns\n",
      "--- Range statistics (absolute non-zero finite values)\n",
      "--- RHS       [min, max] : [ 1.000E+00, 2.471E+05] - Zero values observed as well\n",
      "--- Bound     [min, max] : [ 4.000E-01, 3.399E+00] - Zero values observed as well\n",
      "--- Matrix    [min, max] : [ 1.000E-02, 1.064E+03] - Zero values observed as well\n",
      "--- model.gms(157478) 59 Mb\n",
      "--- Executing BARON (Solvelink=2): elapsed 0:00:00.518\n",
      "\n",
      "GAMS/BARON       49.2.0 9b2b0844 Mar 5, 2025           WEI x86 64bit/MS Window\n",
      "\n",
      "===========================================================================\n",
      " BARON version 25.2.1. Built: WIN-64 Sat Feb 1 21:54:11 EST 2025 \n",
      " Running on machine MSI\n",
      "\n",
      " BARON is a product of The Optimization Firm.\n",
      " For information on BARON, see https://minlp.com/about-baron\n",
      "\n",
      " If you publish work using this software, please cite publications from\n",
      " https://minlp.com/baron-publications, such as: \n",
      "\n",
      " Zhang, Y. and N. V. Sahinidis, Solving continuous and discrete\n",
      " nonlinear programs with BARON, Comput Optim Appl (2024). \n",
      " https://doi.org/10.1007/s10589-024-00633-0\n",
      "===========================================================================\n",
      " This BARON run may utilize the following subsolver(s)\n",
      " For LP/MIP/QP: CLP/CBC, ILOG CPLEX                             \n",
      " For NLP: MINOS, SNOPT, IPOPT, FILTERSQP\n",
      "===========================================================================\n",
      " Doing local search\n",
      " Solving bounding LP\n",
      " Starting multi-start local search\n",
      " Estimated remaining time for local search is 303 secs\n",
      " Estimated remaining time for local search is 5581 secs\n",
      " Done with local search\n",
      "===========================================================================\n",
      "  Iteration       Time (s)     Mem   Lower bound     Upper bound   Progress\n",
      "*         1       16791.22   325MB     15457.5         69214.8        0.00%\n",
      "          1       16791.80   330MB     69214.8         69214.8      100.00%\n",
      "\n",
      "                         *** Normal completion ***            \n",
      "\n",
      " Wall clock time:                 20754.79\n",
      " Total CPU time used:             16791.80\n",
      "\n",
      " Total no. of BaR iterations:       1\n",
      " Best solution found at node:       1\n",
      " Max. no. of nodes in memory:       1\n",
      " \n",
      " All done\n",
      "===========================================================================\n",
      "\n",
      "Solution      = 69214.8317781065  found at node 1\n",
      "Best possible = 69214.8317781065\n",
      "Absolute gap  = 0  optca = 1E-9\n",
      "Relative gap  = 0  optcr = 0.03\n",
      "\n",
      "--- Reading solution for model GAMS_MODEL\n",
      "***\n",
      "*** Solver did not provide marginals for model GAMS_MODEL\n",
      "***\n",
      "--- Executing after solve: elapsed 5:45:57.248\n",
      "--- model.gms(157481) 59 Mb\n",
      "--- model.gms(166845) 61 Mb\n",
      "--- model.gms(222758) 61 Mb\n",
      "--- model.gms(241422) 61 Mb\n",
      "--- model.gms(253538) 61 Mb\n",
      "--- Putfile results C:\\Users\\mholl\\AppData\\Local\\Temp\\tmpscn6q9m7\\results.dat\n",
      "--- Putfile statresults C:\\Users\\mholl\\AppData\\Local\\Temp\\tmpscn6q9m7\\resultsstat.dat\n",
      "*** Status: Normal completion\n",
      "--- model.gms(253538) 59 Mb\n",
      "--- Job model.gms Stop 07/23/25 17:58:39 elapsed 5:45:57.590\n"
     ]
    }
   ],
   "source": [
    "solver_name = \"gurobi\"\n",
    "# solver_name = \"baron\"\n",
    "# solver_name = \"scip\"\n",
    "# solver_name = \"cplex\"\n",
    "mip_gap = 0.03\n",
    "\n",
    "if solver_name == \"gurobi\":\n",
    "    # solver = utils.get_gurobi_solver_model(m, mip_gap=0.005)\n",
    "    solver = pyo.SolverFactory(\"gurobi\")\n",
    "    solver.options[\"MIPGap\"] = mip_gap\n",
    "    solver.solve(m, tee=True)\n",
    "\n",
    "elif solver_name == \"scip\":\n",
    "    solver = pyo.SolverFactory(\"scip\", validate=False)\n",
    "    solver.solve(m, tee=True)\n",
    "\n",
    "elif solver_name in [\"baron\", \"cplex\"]:\n",
    "    solver = pyo.SolverFactory(\"gams\")\n",
    "    solver.solve(\n",
    "        m, tee=True, solver=solver_name, add_options=[f\"options optcr={mip_gap};\"]\n",
    "    )"
   ]
  },
  {
   "cell_type": "markdown",
   "metadata": {},
   "source": [
    "## Step 13: Compile results"
   ]
  },
  {
   "cell_type": "code",
   "execution_count": 13,
   "metadata": {},
   "outputs": [
    {
     "data": {
      "text/plain": [
       "{'fixed_demand_cost': 5657.947123229376,\n",
       " 'variable_demand_cost': 1195.4489455428004,\n",
       " 'fixed_monthly_cost': 247096.774193548,\n",
       " 'total_water_production': 105606.1643835637,\n",
       " 'total_energy_cost': 62361.43570933105,\n",
       " 'total_demand_cost': 6853.3960687721765,\n",
       " 'total_customer_cost': 1177.3419354838923,\n",
       " 'total_electricity_cost': 70392.17371358712}"
      ]
     },
     "execution_count": 13,
     "metadata": {},
     "output_type": "execute_result"
    },
    {
     "data": {
      "image/png": "[encoded data removed]",
      "text/plain": [
       "<Figure size 640x480 with 5 Axes>"
      ]
     },
     "metadata": {},
     "output_type": "display_data"
    }
   ],
   "source": [
    "# Write optimal values of all operational variables to a csv file\n",
    "m.get_operation_var_values().to_csv(\"dummy_result.csv\")\n",
    "\n",
    "# Plot operational variables\n",
    "fig, axs = m.plot_operation_profile(\n",
    "    [\n",
    "        \"fixed_demand_rate\",\n",
    "        \"variable_demand_rate\",\n",
    "        \"posttreatment.product_flowrate\",\n",
    "        \"num_skids_online\",\n",
    "    ],\n",
    ")\n",
    "\n",
    "# Return the values of all variables and expressions that do not vary with time\n",
    "m.get_design_var_values()"
   ]
  },
  {
   "cell_type": "code",
   "execution_count": null,
   "metadata": {},
   "outputs": [],
   "source": []
  }
 ],
 "metadata": {
  "kernelspec": {
   "display_name": "Python 3 (ipykernel)",
   "language": "python",
   "name": "python3"
  },
  "language_info": {
   "codemirror_mode": {
    "name": "ipython",
    "version": 3
   },
   "file_extension": ".py",
   "mimetype": "text/x-python",
   "name": "python",
   "nbconvert_exporter": "python",
   "pygments_lexer": "ipython3",
   "version": "3.11.5"
  }
 },
 "nbformat": 4,
 "nbformat_minor": 4
}
