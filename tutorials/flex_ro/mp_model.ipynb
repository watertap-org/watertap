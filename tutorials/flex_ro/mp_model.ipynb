{
 "cells": [
  {
   "cell_type": "code",
   "execution_count": 1,
   "metadata": {},
   "outputs": [],
   "source": [
    "from idaes.apps.grid_integration import PriceTakerModel\n",
    "import pandas as pd\n",
    "import pyomo.environ as pyo\n",
    "import flowsheet as fs\n",
    "import utils\n",
    "from params import FlexDesalParams"
   ]
  },
  {
   "cell_type": "code",
   "execution_count": 2,
   "metadata": {},
   "outputs": [],
   "source": [
    "price_data = pd.read_csv(\"sbce_pricesignal.csv\")\n",
    "price_data[\"Energy Rate\"] = (\n",
    "    price_data[\"electric_energy_0_2022-07-05_2022-07-14_0\"]\n",
    "    + price_data[\"electric_energy_1_2022-07-05_2022-07-14_0\"]\n",
    "    + price_data[\"electric_energy_2_2022-07-05_2022-07-14_0\"]\n",
    "    + price_data[\"electric_energy_3_2022-07-05_2022-07-14_0\"]\n",
    ")\n",
    "price_data[\"Fixed Demand Rate\"] = price_data[\"electric_demand_maximum_2022-07-05_2022-07-14_0\"]\n",
    "price_data[\"Var Demand Rate\"] = price_data[\"electric_demand_peak-summer_2022-07-05_2022-07-14_0\"]\n",
    "price_data[\"Emissions Intensity\"] = 0\n",
    "price_data[\"Customer Cost\"] = price_data[\"electric_customer_0_2022-07-05_2022-07-14_0\"]"
   ]
  },
  {
   "cell_type": "code",
   "execution_count": 3,
   "metadata": {},
   "outputs": [],
   "source": [
    "# Create an instance of the PriceTakerModel\n",
    "m = PriceTakerModel()\n",
    "\n",
    "# Instantiate an object containing the model parameters\n",
    "m.params = FlexDesalParams(\n",
    "    start_date=\"2022-07-05 00:00:00\",\n",
    "    end_date=\"2022-07-15 00:00:00\",\n",
    "    annual_production_AF=3125,\n",
    ")\n",
    "m.params.intake.nominal_flowrate = 1063.5\n",
    "m.params.ro.update({\n",
    "    \"startup_delay\": 8,\n",
    "    \"minimum_downtime\": 4,\n",
    "    \"nominal_flowrate\": 337.670,\n",
    "    \"surrogate_type\": \"quadratic_surrogate\",\n",
    "    \"surrogate_a\": 11.509,\n",
    "    \"surrogate_b\": -10.269,\n",
    "    \"surrogate_c\": 5.627,\n",
    "    \"surrogate_d\": 0,\n",
    "    \"minimum_recovery\": 0.4,\n",
    "    \"nominal_recovery\": 0.465,\n",
    "    \"maximum_recovery\": 0.52,\n",
    "    \"allow_variable_recovery\": True,\n",
    "})"
   ]
  },
  {
   "cell_type": "code",
   "execution_count": 4,
   "metadata": {},
   "outputs": [],
   "source": [
    "# Append LMP data to the model\n",
    "m.append_lmp_data(lmp_data=price_data[\"Energy Rate\"])\n",
    "\n",
    "# Build the multiperiod model\n",
    "m.build_multiperiod_model(\n",
    "    flowsheet_func=fs.build_desal_flowsheet,\n",
    "    flowsheet_options={\"params\": m.params},\n",
    ")\n",
    "\n",
    "# Update the time-varying parameters other than the LMP, such as\n",
    "# demand costs and emissions intensity. LMP value is updated by default\n",
    "m.update_operation_params({\n",
    "    \"fixed_demand_rate\": price_data[\"Fixed Demand Rate\"],\n",
    "    \"variable_demand_rate\": price_data[\"Var Demand Rate\"],\n",
    "    \"emissions_intensity\": price_data[\"Emissions Intensity\"],\n",
    "    \"customer_cost\": price_data[\"Customer Cost\"],\n",
    "})\n",
    "\n",
    "# Add demand cost and fixed cost calculation constraints\n",
    "fs.add_demand_and_fixed_costs(m)\n",
    "\n",
    "# Add the startup delay constraints\n",
    "fs.add_delayed_startup_constraints(m)\n",
    "\n",
    "# Construct useful expressions or model-level constraints\n",
    "m.total_water_production = pyo.Expression(\n",
    "    expr=m.params.timestep_hours * sum(m.period[:, :].posttreatment.product_flowrate)\n",
    ")\n",
    "m.total_energy_cost = pyo.Expression(expr=sum(m.period[:, :].energy_cost))\n",
    "m.total_demand_cost = pyo.Expression(expr=m.fixed_demand_cost + m.variable_demand_cost)\n",
    "m.total_customer_cost = pyo.Expression(\n",
    "    expr=sum(m.period[:, :].customer_cost) * m.params.num_months\n",
    ")\n",
    "m.total_electricity_cost = pyo.Expression(\n",
    "    expr=m.total_energy_cost + m.total_demand_cost + m.total_customer_cost\n",
    ")"
   ]
  },
  {
   "cell_type": "code",
   "execution_count": 5,
   "metadata": {},
   "outputs": [
    {
     "name": "stdout",
     "output_type": "stream",
     "text": [
      "2025-06-20 13:07:35 [INFO] idaes.apps.grid_integration.pricetaker.price_taker_model: Created capacity limit constraints for commodity feed_flowrate in operation block reverse_osmosis.ro_skid[1] at ro_skid_1_feed_flowrate_limits\n",
      "2025-06-20 13:07:36 [INFO] idaes.apps.grid_integration.pricetaker.price_taker_model: Created capacity limit constraints for commodity feed_flowrate in operation block reverse_osmosis.ro_skid[2] at ro_skid_2_feed_flowrate_limits\n",
      "2025-06-20 13:07:36 [INFO] idaes.apps.grid_integration.pricetaker.price_taker_model: Created capacity limit constraints for commodity feed_flowrate in operation block reverse_osmosis.ro_skid[3] at ro_skid_3_feed_flowrate_limits\n"
     ]
    }
   ],
   "source": [
    "# Off-design operation is not allowed. Therefore the minimum stable operation\n",
    "# range is the same as the capacity (i.e., op_range_lb = 1)\n",
    "for skid in range(1, m.params.ro.num_ro_skids + 1):\n",
    "    m.add_capacity_limits(\n",
    "        op_block_name=f\"reverse_osmosis.ro_skid[{skid}]\",\n",
    "        commodity=\"feed_flowrate\",\n",
    "        capacity=m.params.ro.nominal_flowrate,\n",
    "        op_range_lb=1,\n",
    "    )"
   ]
  },
  {
   "cell_type": "markdown",
   "metadata": {},
   "source": [
    "NOTE: If the minimum uptime = 1 and the minimum downtime = 1, then the minimum uptime and downtime constraints are not needed.\n",
    "However, the startup variable is needed for delayed startup. So, we will add the minimum uptime and downtime constraints only\n",
    "for one skid. These constraints are not needed for the remaining skids."
   ]
  },
  {
   "cell_type": "code",
   "execution_count": 6,
   "metadata": {},
   "outputs": [
    {
     "name": "stdout",
     "output_type": "stream",
     "text": [
      "2025-06-20 13:07:38 [INFO] idaes.apps.grid_integration.pricetaker.price_taker_model: Created startup/shutdown constraints for operation model  reverse_osmosis.ro_skid[1] at ro_skid_1_startup_shutdown.\n",
      "2025-06-20 13:07:38 [INFO] idaes.apps.grid_integration.pricetaker.price_taker_model: Created startup/shutdown constraints for operation model  reverse_osmosis.ro_skid[2] at ro_skid_2_startup_shutdown.\n",
      "2025-06-20 13:07:38 [INFO] idaes.apps.grid_integration.pricetaker.price_taker_model: Created startup/shutdown constraints for operation model  reverse_osmosis.ro_skid[3] at ro_skid_3_startup_shutdown.\n"
     ]
    }
   ],
   "source": [
    "# Add startup and shutdown constraints for ro_skids\n",
    "for skid in range(1, m.params.ro.num_ro_skids + 1):\n",
    "    m.add_startup_shutdown(\n",
    "        op_block_name=f\"reverse_osmosis.ro_skid[{skid}]\",\n",
    "        up_time=m.params.ro.minimum_uptime,\n",
    "        down_time=m.params.ro.minimum_downtime,\n",
    "    )"
   ]
  },
  {
   "cell_type": "code",
   "execution_count": 7,
   "metadata": {},
   "outputs": [],
   "source": [
    "# Feed flowrate to the intake is fixed, and it does not vary with time\n",
    "m.fix_operation_var(\"intake.feed_flowrate\", m.params.intake.nominal_flowrate)\n",
    "m.fix_operation_var(\"pretreatment.op_mode\", 1)"
   ]
  },
  {
   "cell_type": "code",
   "execution_count": 8,
   "metadata": {},
   "outputs": [],
   "source": [
    "fs.constrain_water_production(m)"
   ]
  },
  {
   "cell_type": "code",
   "execution_count": 9,
   "metadata": {},
   "outputs": [],
   "source": [
    "if not m.params.ro.allow_variable_recovery:\n",
    "    # Need to fix the variable recovery\n",
    "    utils.fix_recovery(m, recovery=m.params.ro.nominal_recovery)"
   ]
  },
  {
   "cell_type": "code",
   "execution_count": 10,
   "metadata": {},
   "outputs": [],
   "source": [
    "m.obj = pyo.Objective(\n",
    "    expr=m.total_energy_cost + m.total_demand_cost,\n",
    "    sense=pyo.minimize,\n",
    ")"
   ]
  },
  {
   "cell_type": "code",
   "execution_count": 11,
   "metadata": {},
   "outputs": [],
   "source": [
    "# # Use the following code to optimize net profit\n",
    "# m.add_hourly_cashflows(\n",
    "#     revenue_streams=[\"water_revenue\", \"demand_response_revenue\"],\n",
    "#     operational_costs=[\"emissions_cost\", \"energy_cost\"],\n",
    "# )\n",
    "# m.add_overall_cashflows(\n",
    "#     other_costs=[m.fixed_demand_cost, m.variable_demand_cost, m.fixed_monthly_cost]\n",
    "# )\n",
    "\n",
    "# m.add_objective_function(objective_type=\"net_profit\")"
   ]
  },
  {
   "cell_type": "code",
   "execution_count": 12,
   "metadata": {},
   "outputs": [
    {
     "name": "stdout",
     "output_type": "stream",
     "text": [
      "Read LP format model from file C:\\Users\\RADHAK~1\\AppData\\Local\\Temp\\tmpwvf2uf0_.pyomo.lp\n",
      "Reading time = 0.07 seconds\n",
      "x1: 49910 rows, 48003 columns, 149808 nonzeros\n",
      "Set parameter MIPGap to value 0.03\n",
      "Gurobi Optimizer version 12.0.0 build v12.0.0rc1 (win64 - Windows 11.0 (26100.2))\n",
      "\n",
      "CPU model: 13th Gen Intel(R) Core(TM) i9-13950HX, instruction set [SSE2|AVX|AVX2]\n",
      "Thread count: 24 physical cores, 32 logical processors, using up to 32 threads\n",
      "\n",
      "Non-default parameters:\n",
      "MIPGap  0.03\n",
      "\n",
      "Optimize a model with 49910 rows, 48003 columns and 149808 nonzeros\n",
      "Model fingerprint: 0x2c0caf44\n",
      "Model has 8640 quadratic constraints\n",
      "Variable types: 37443 continuous, 10560 integer (10560 binary)\n",
      "Coefficient statistics:\n",
      "  Matrix range     [1e-02, 1e+03]\n",
      "  QMatrix range    [1e+00, 1e+01]\n",
      "  QLMatrix range   [1e+00, 1e+01]\n",
      "  Objective range  [3e-02, 1e+00]\n",
      "  Bounds range     [4e-01, 3e+00]\n",
      "  RHS range        [1e+00, 2e+05]\n",
      "  QRHS range       [6e+00, 6e+00]\n",
      "Presolve removed 31361 rows and 21925 columns\n",
      "Presolve time: 0.18s\n",
      "Presolved: 50229 rows, 26079 columns, 145549 nonzeros\n",
      "Presolved model has 8640 bilinear constraint(s)\n",
      "\n",
      "Solving non-convex MIQCP\n",
      "\n",
      "Variable types: 20323 continuous, 5756 integer (5756 binary)\n",
      "Found heuristic solution: objective 98991.419564\n",
      "\n",
      "Deterministic concurrent LP optimizer: primal and dual simplex (primal and dual model)\n",
      "Showing primal log only...\n",
      "\n",
      "Root relaxation presolved: 47350 rows, 23199 columns, 138831 nonzeros\n",
      "\n",
      "Concurrent spin time: 0.10s (can be avoided by choosing Method=3)\n",
      "\n",
      "Solved with dual simplex\n",
      "\n",
      "Root relaxation: objective 7.303303e+04, 18452 iterations, 0.87 seconds (1.42 work units)\n",
      "\n",
      "    Nodes    |    Current Node    |     Objective Bounds      |     Work\n",
      " Expl Unexpl |  Obj  Depth IntInf | Incumbent    BestBd   Gap | It/Node Time\n",
      "\n",
      "     0     0 73033.0274    0 2509 98991.4196 73033.0274  26.2%     -    1s\n",
      "     0     0 73647.3922    0 2788 98991.4196 73647.3922  25.6%     -    2s\n",
      "H    0     0                    80308.094364 73648.9950  8.29%     -    2s\n",
      "     0     0 73652.9376    0 2759 80308.0944 73652.9376  8.29%     -    2s\n",
      "     0     0 74135.5111    0 2984 80308.0944 74135.5111  7.69%     -    3s\n",
      "H    0     0                    80204.066557 74136.4556  7.57%     -    3s\n",
      "     0     0 74144.1258    0 3060 80204.0666 74144.1258  7.56%     -    3s\n",
      "H    0     0                    79991.169898 74211.2949  7.23%     -    4s\n",
      "     0     0 74211.2949    0 3184 79991.1699 74211.2949  7.23%     -    4s\n",
      "     0     0 74217.5582    0 3326 79991.1699 74217.5582  7.22%     -    4s\n",
      "H    0     0                    78890.129558 74273.8406  5.85%     -    5s\n",
      "     0     0 74273.8406    0 3539 78890.1296 74273.8406  5.85%     -    5s\n",
      "     0     0 74290.0732    0 3556 78890.1296 74290.0732  5.83%     -    5s\n",
      "     0     0 74555.6087    0 3900 78890.1296 74555.6087  5.49%     -    7s\n",
      "H    0     0                    78744.746372 74558.8101  5.32%     -    7s\n",
      "H    0     0                    78622.028978 74558.8101  5.17%     -    7s\n",
      "H    0     0                    78621.390751 74558.8101  5.17%     -    7s\n",
      "H    0     0                    78551.194823 74558.8101  5.08%     -    7s\n",
      "H    0     0                    78545.334867 74558.8101  5.08%     -    7s\n",
      "     0     0 74586.8218    0 4015 78545.3349 74586.8218  5.04%     -    8s\n",
      "     0     0 74665.8024    0 4276 78545.3349 74665.8024  4.94%     -    9s\n",
      "H    0     0                    78449.508235 74669.5531  4.82%     -    9s\n",
      "H    0     0                    78328.860491 74669.5531  4.67%     -    9s\n",
      "H    0     0                    78328.178166 74686.4373  4.65%     -    9s\n",
      "H    0     0                    78196.068212 74686.4373  4.49%     -    9s\n",
      "     0     0 74686.4373    0 4371 78196.0682 74686.4373  4.49%     -    9s\n",
      "H    0     0                    78159.647800 74724.7046  4.39%     -   10s\n",
      "H    0     0                    78050.182074 74724.7046  4.26%     -   10s\n",
      "H    0     0                    77789.777967 74724.7046  3.94%     -   10s\n",
      "     0     0 74724.7046    0 4646 77789.7780 74724.7046  3.94%     -   10s\n",
      "     0     0 74731.7955    0 4720 77789.7780 74731.7955  3.93%     -   11s\n",
      "     0     0 74747.6669    0 4914 77789.7780 74747.6669  3.91%     -   11s\n",
      "     0     0 74750.1575    0 4934 77789.7780 74750.1575  3.91%     -   12s\n",
      "     0     0 74763.2968    0 5098 77789.7780 74763.2968  3.89%     -   13s\n",
      "     0     0 74766.9399    0 5155 77789.7780 74766.9399  3.89%     -   13s\n",
      "     0     0 74778.5795    0 5424 77789.7780 74778.5795  3.87%     -   14s\n",
      "H    0     0                    77759.064337 74780.5184  3.83%     -   14s\n",
      "     0     0 74782.6503    0 5411 77759.0643 74782.6503  3.83%     -   15s\n",
      "     0     0 74788.9326    0 5852 77759.0643 74788.9326  3.82%     -   15s\n",
      "     0     0 74791.6604    0 5881 77759.0643 74791.6604  3.82%     -   16s\n",
      "     0     0 74792.9576    0 6725 77759.0643 74792.9576  3.81%     -   16s\n",
      "     0     0 74794.0877    0 7015 77759.0643 74794.0877  3.81%     -   17s\n",
      "     0     0 74795.8254    0 7322 77759.0643 74795.8254  3.81%     -   17s\n",
      "     0     0 74796.7031    0 7314 77759.0643 74796.7031  3.81%     -   18s\n",
      "     0     2 74796.7031    0 7314 77759.0643 74796.7031  3.81%     -   26s\n",
      "     1     4 75123.5070    1 7117 77759.0643 74796.7031  3.81%   547   30s\n",
      "     7    16 75807.5690    3 6835 77759.0643 75118.3381  3.40%  6116   38s\n",
      "    15    32 76208.4769    4 6567 77759.0643 75205.3550  3.28%  6289   43s\n",
      "    31    54 76379.3257    5 6601 77759.0643 75224.5578  3.26%  6556   50s\n",
      "H   42    54                    77748.970759 75224.5578  3.25%  6213   50s\n",
      "    55   127 77699.9644    6 5945 77748.9708 75245.7507  3.22%  6776   63s\n",
      "   132   164     cutoff    7      77748.9708 75374.1804  3.05%  4931   75s\n",
      "H  137   164                    77741.660453 75374.1804  3.05%  5191   75s\n",
      "H  163   164                    77653.786986 75374.1804  2.94%  5245   75s\n",
      "\n",
      "Cutting planes:\n",
      "  Gomory: 25\n",
      "  Implied bound: 406\n",
      "  MIR: 1261\n",
      "  Flow cover: 1426\n",
      "  Mod-K: 1\n",
      "  RLT: 1824\n",
      "  Relax-and-lift: 170\n",
      "\n",
      "Explored 175 nodes (977068 simplex iterations) in 75.41 seconds (119.53 work units)\n",
      "Thread count was 32 (of 32 available processors)\n",
      "\n",
      "Solution count 10: 77653.8 77741.7 77749 ... 78328.9\n",
      "\n",
      "Optimal solution found (tolerance 3.00e-02)\n",
      "Best objective 7.765378698595e+04, best bound 7.537418043269e+04, gap 2.9356%\n"
     ]
    }
   ],
   "source": [
    "solver_name = \"gurobi\"\n",
    "mip_gap = 0.03\n",
    "\n",
    "if solver_name == \"gurobi\":\n",
    "    # solver = utils.get_gurobi_solver_model(m, mip_gap=0.005)\n",
    "    solver = pyo.SolverFactory(\"gurobi\")\n",
    "    solver.options[\"MIPGap\"] = mip_gap\n",
    "    solver.solve(m, tee=True)\n",
    "\n",
    "elif solver_name == \"scip\":\n",
    "    solver = pyo.SolverFactory(\"scip\")\n",
    "    solver.solve(m, tee=True)\n",
    "\n",
    "elif solver_name in [\"baron\", \"cplex\"]:\n",
    "    solver = pyo.SolverFactory(\"gams\")\n",
    "    solver.solve(\n",
    "        m, tee=True, solver=solver_name, add_options=[f\"options optcr={mip_gap};\"]\n",
    "    )"
   ]
  },
  {
   "cell_type": "code",
   "execution_count": 13,
   "metadata": {},
   "outputs": [],
   "source": [
    "# Write optimal values of all operational variables to a csv file\n",
    "m.get_operation_var_values().to_csv(\"dummy_result.csv\")"
   ]
  },
  {
   "cell_type": "code",
   "execution_count": 14,
   "metadata": {},
   "outputs": [
    {
     "data": {
      "image/png": "[encoded data removed]",
      "text/plain": [
       "<Figure size 640x480 with 5 Axes>"
      ]
     },
     "metadata": {},
     "output_type": "display_data"
    }
   ],
   "source": [
    "fig, axs = m.plot_operation_profile(\n",
    "    [\n",
    "        \"fixed_demand_rate\",\n",
    "        \"variable_demand_rate\",\n",
    "        \"posttreatment.product_flowrate\",\n",
    "        \"num_skids_online\",\n",
    "    ],\n",
    ")"
   ]
  },
  {
   "cell_type": "code",
   "execution_count": 15,
   "metadata": {},
   "outputs": [
    {
     "data": {
      "text/plain": [
       "{'fixed_demand_cost': 5657.947123229169,\n",
       " 'variable_demand_cost': 1076.0834800607392,\n",
       " 'fixed_monthly_cost': 247096.7741935484,\n",
       " 'total_water_production': 105606.16438355984,\n",
       " 'total_energy_cost': 70919.7563826574,\n",
       " 'total_demand_cost': 6734.030603289908,\n",
       " 'total_customer_cost': 1177.3419354838923,\n",
       " 'total_electricity_cost': 78831.1289214312}"
      ]
     },
     "execution_count": 15,
     "metadata": {},
     "output_type": "execute_result"
    }
   ],
   "source": [
    "m.get_design_var_values()"
   ]
  },
  {
   "cell_type": "code",
   "execution_count": null,
   "metadata": {},
   "outputs": [],
   "source": []
  }
 ],
 "metadata": {
  "kernelspec": {
   "display_name": "idaes",
   "language": "python",
   "name": "python3"
  },
  "language_info": {
   "codemirror_mode": {
    "name": "ipython",
    "version": 3
   },
   "file_extension": ".py",
   "mimetype": "text/x-python",
   "name": "python",
   "nbconvert_exporter": "python",
   "pygments_lexer": "ipython3",
   "version": "3.12.7"
  }
 },
 "nbformat": 4,
 "nbformat_minor": 2
}
