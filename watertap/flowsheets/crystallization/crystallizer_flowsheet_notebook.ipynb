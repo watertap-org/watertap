{
 "cells": [
  {
   "cell_type": "markdown",
   "id": "53209fc8",
   "metadata": {},
   "source": [
    "# WaterTAP — Steam-Driven Crystallizer (Industry Demo)\n",
    "section A: Digital twin of a forced-circulation crystallizer heated by steam: properties → equipment → connections → costing → operating → simulate baseline → optimize → KPIs."
   ]
  },
  {
   "cell_type": "markdown",
   "id": "46ead941",
   "metadata": {},
   "source": [
    "## Step 1 — Import project flowsheet"
   ]
  },
  {
   "cell_type": "code",
   "execution_count": null,
   "id": "edca48de",
   "metadata": {},
   "outputs": [],
   "source": [
    "import logging, warnings, io\n",
    "import idaes.logger as idaeslog\n",
    "\n",
    "for _n in (\"idaes\", \"idaes.core.util.scaling\", \"pyomo\", \"watertap\"):\n",
    "    try:\n",
    "        idaeslog.getLogger(_n).setLevel(idaeslog.CRITICAL)\n",
    "    except Exception:\n",
    "        logging.getLogger(_n).setLevel(logging.CRITICAL)\n",
    "logging.getLogger().setLevel(logging.CRITICAL)\n",
    "warnings.filterwarnings(\"ignore\")\n",
    "\n",
    "# core imports\n",
    "import crystallizer_live_steam_with_condenser_chiller as steam\n",
    "from pyomo.common.log import LoggingIntercept\n",
    "from IPython.display import Image, display\n",
    "import os\n",
    "\n",
    "for p in (\"fc.png\", \"/mnt/data/fc.png\"):\n",
    "    if os.path.exists(p):\n",
    "        display(Image(p, width=560))\n",
    "        break\n",
    "else:\n",
    "    print(\"Place 'fc.png' next to this notebook (or /mnt/data).\")\n",
    "print(\"✅ Module imported\")"
   ]
  },
  {
   "cell_type": "markdown",
   "id": "f0c9cb7e",
   "metadata": {},
   "source": [
    "## Step 2 — Build the flowsheet (how it’s constructed)\n",
    "• **Add properties (thermophysical models):** brine (NaCl–H₂O) for the feed, mixed recycle, and purge streams; water/steam for vapor/condensate; a crystallizer salt package for **enthalpy** and **phase equilibrium/solubility** to represent supersaturation and crystal formation.  \n",
    "• **Add unit models (equipment):** Feed & **Mixer** (blend with recycle), **Pump** (forced circulation), **Steam Heater** (hot-side steam / cold-side brine), **Crystallizer** (crystal growth + vapor disengagement), **Condenser + Chiller** (recover water and close the cold loop), **Separator** (split slurry into recycle + purge), **Product** (distillate).  \n",
    "• **Add connections (arcs):** pipe unit ports in process order; route vapor to condenser; return condenser cold outlet via chiller; create recycle and purge branches like a plant PFD.  \n",
    "• **Add practical constraints:**  \n",
    "  – **Max temperature rise across the liquor in the heater** to moderate supersaturation rate, avoid wall-scale/flash boiling, and protect the exchanger—typically **~3–6 K** (site-tuned).  \n",
    "  – **ΔTmin check** (steam–liquor approach) for heat-exchanger design sanity.\n",
    "• **purge stream:** a small, controlled branch removes concentrated liquor/solids to keep the loop inside scaling limits and keep product quality steady—just like FC circuits in the field.  \n",
    "• **Add costing:** cost blocks on key units so physics maps directly to **LCOW** and energy KPIs."
   ]
  },
  {
   "cell_type": "code",
   "execution_count": null,
   "id": "3c086cae",
   "metadata": {},
   "outputs": [],
   "source": [
    "# Build (logs suppressed)\n",
    "with LoggingIntercept(io.StringIO(), level=logging.CRITICAL):\n",
    "    m = steam.build()\n",
    "print(\"✅ Flowsheet built\")\n",
    "# --- Example snippet (comments only)\n",
    "# # m.fs.brine_props = ...\n",
    "# # m.fs.mixer = ...; m.fs.pump = ...; m.fs.heater = ...; m.fs.cryst = ...\n",
    "# # m.fs.condenser = ...; m.fs.chiller = ...; m.fs.separator = ...\n",
    "# # m.fs.s01 = Arc(...);  # etc."
   ]
  },
  {
   "cell_type": "markdown",
   "id": "16b69350",
   "metadata": {
    "lines_to_next_cell": 2
   },
   "source": [
    "## Step 3 — Set operating conditions (datasheet values)\n",
    "**What gets specified:** feed composition/temperature/pressure, pump ΔP for circulation, crystallizer operating temperature, steam-side conditions.  "
   ]
  },
  {
   "cell_type": "code",
   "execution_count": null,
   "id": "d7f0da56",
   "metadata": {},
   "outputs": [],
   "source": [
    "steam.set_operating_conditions(m)\n",
    "print(\"✅ Operating conditions applied\")\n",
    "# --- Example snippet (comments only)\n",
    "# # m.fs.feed.flow_mass_phase_comp[0,\"Liq\",\"NaCl\"].fix(...)\n",
    "# # m.fs.feed.temperature[0].fix(...); m.fs.pump.deltaP.fix(...)\n",
    "# # m.fs.cryst.temperature_operating.set_value(...)\n",
    "# # steam-side specs on heater; condenser/chiller temperatures/UA/area"
   ]
  },
  {
   "cell_type": "markdown",
   "id": "b4845bb2",
   "metadata": {},
   "source": [
    "## Step 4 — Initialize (steady-state startup sequence) - (fully specified, DOF = 0)\n",
    "Bring units online in process order and align states across connections so the flowsheet starts from a stable, plant-sensible point before solving."
   ]
  },
  {
   "cell_type": "code",
   "execution_count": null,
   "id": "f8ff2803",
   "metadata": {
    "lines_to_next_cell": 2
   },
   "outputs": [],
   "source": [
    "with LoggingIntercept(io.StringIO(), level=logging.CRITICAL):\n",
    "    steam.initialize_system(m)\n",
    "print(\"✅ Initialization complete\")"
   ]
  },
  {
   "cell_type": "markdown",
   "id": "8b444e06",
   "metadata": {},
   "source": [
    "## Step 5 — Set optimization (steady state, with bounds)\n",
    "Promote selected operating variables to **decisions** and apply **bounds** (e.g., heater outlet-temperature band, circulation targets).  \n",
    "This remains a steady-state problem but opens degrees of freedom to seek **best achievable cost/energy** under practical limits."
   ]
  },
  {
   "cell_type": "code",
   "execution_count": null,
   "id": "7153a357",
   "metadata": {},
   "outputs": [],
   "source": [
    "if hasattr(steam, \"optimize_set_up\"):\n",
    "    steam.optimize_set_up(m)  # e.g., objective = LCOW + bounds on key decisions\n",
    "    print(\"✅ Optimization setup applied (steady state, bounded DOFs)\")\n",
    "else:\n",
    "    print(\"ℹ️ No optimization setup exposed; skipping optimization step.\")"
   ]
  },
  {
   "cell_type": "markdown",
   "id": "855d83f8",
   "metadata": {},
   "source": [
    "## Step 6 — Optimize (steady state)\n",
    "Solve the bounded, steady-state optimization to find an economical/energy-efficient operating point within plant-sensible limits."
   ]
  },
  {
   "cell_type": "code",
   "execution_count": null,
   "id": "c315266e",
   "metadata": {},
   "outputs": [],
   "source": [
    "if hasattr(steam, \"optimize_set_up\"):\n",
    "    with LoggingIntercept(io.StringIO(), level=logging.CRITICAL):\n",
    "        steam.solve(m)\n",
    "    print(\"✅ Optimization solved\")\n",
    "else:\n",
    "    print(\"ℹ️ Optimization not configured; showing baseline KPIs.\")"
   ]
  },
  {
   "cell_type": "markdown",
   "id": "47dc9670",
   "metadata": {},
   "source": [
    "## Step 8 — KPIs (unit-labeled, plant-relevant)\n",
    "• **Feed (kg/s)** — incoming mass rate to the loop  \n",
    "• **Distillate (kg/s)** — clean water produced  \n",
    "• **Solids NaCl (kg/s)** — crystal production rate  \n",
    "• **Steam (kg/s)** — motive steam to the heater  \n",
    "• **Heat duty (MW)** — steam-side duty at the heater  \n",
    "• **Heater area (m²)** — exchanger size implication  \n",
    "• **LCOW ($/m³)** — levelized cost signal for decision-making"
   ]
  },
  {
   "cell_type": "code",
   "execution_count": null,
   "id": "39390a74",
   "metadata": {},
   "outputs": [],
   "source": [
    "from pyomo.environ import value\n",
    "import pandas as pd\n",
    "\n",
    "\n",
    "def kpis_mass_energy(m):\n",
    "    # Feed (kg/s): Liq H2O + Liq NaCl\n",
    "    feed_kg_s = value(m.fs.feed.flow_mass_phase_comp[0, \"Liq\", \"H2O\"]) + value(\n",
    "        m.fs.feed.flow_mass_phase_comp[0, \"Liq\", \"NaCl\"]\n",
    "    )\n",
    "\n",
    "    # Distillate (kg/s)\n",
    "    if hasattr(m.fs, \"distillate\"):  # FC & MVC\n",
    "        d = m.fs.distillate.properties[0]\n",
    "        try:\n",
    "            dist_kg_s = value(d.flow_mass_phase_comp[\"Liq\", \"H2O\"])\n",
    "        except Exception:\n",
    "            dist_kg_s = value(d.flow_mass_phase_comp[\"Vap\", \"H2O\"])\n",
    "    else:\n",
    "        # TVC — total condensate = (brine vapor + motive steam);\n",
    "        def _water_mass(sb):\n",
    "            try:\n",
    "                return value(sb.flow_mass_phase_comp[\"Liq\", \"H2O\"])\n",
    "            except Exception:\n",
    "                return value(sb.flow_mass_phase_comp[\"Vap\", \"H2O\"])\n",
    "\n",
    "        dh = m.fs.distillate_heater.properties[0]\n",
    "        dc = m.fs.distillate_condenser.properties[0]\n",
    "        total_cond_kg_s = _water_mass(dh) + _water_mass(dc)\n",
    "\n",
    "        motive_kg_s = value(\n",
    "            m.fs.SteamEjector.properties_motive_steam[0].flow_mass_phase_comp[\n",
    "                \"Vap\", \"H2O\"\n",
    "            ]\n",
    "        )\n",
    "\n",
    "        dist_kg_s = max(total_cond_kg_s - motive_kg_s, 0.0)  # net from brine\n",
    "\n",
    "    # Solids NaCl (kg/s)\n",
    "    solids_kg_s = value(m.fs.crystallizer.solids.flow_mass_phase_comp[0, \"Sol\", \"NaCl\"])\n",
    "\n",
    "    # External steam (kg/s)\n",
    "    if hasattr(m.fs, \"SteamEjector\"):  # TVC → motive steam only\n",
    "        steam_kg_s = value(\n",
    "            m.fs.SteamEjector.properties_motive_steam[0].flow_mass_phase_comp[\n",
    "                \"Vap\", \"H2O\"\n",
    "            ]\n",
    "        )\n",
    "    elif hasattr(m.fs, \"compressor\"):  # MVC → none\n",
    "        steam_kg_s = 0.0\n",
    "    else:  # FC → live steam at heater hot-side inlet\n",
    "        steam_kg_s = value(\n",
    "            m.fs.heater.hot_side_inlet.flow_mass_phase_comp[0, \"Vap\", \"H2O\"]\n",
    "        )\n",
    "\n",
    "    # Heat duty (MW) & heater area (m²)\n",
    "    heat_MW = value(m.fs.heater.hot.heat[0]) / 1e6\n",
    "    area_m2 = value(m.fs.heater.area) if hasattr(m.fs.heater, \"area\") else float(\"nan\")\n",
    "\n",
    "    # LCOW ($/m³)\n",
    "    lcow = value(m.fs.costing.LCOW)\n",
    "\n",
    "    return pd.DataFrame(\n",
    "        [\n",
    "            {\n",
    "                \"Feed (kg/s)\": feed_kg_s,\n",
    "                \"Distillate (kg/s)\": dist_kg_s,\n",
    "                \"Solids NaCl (kg/s)\": solids_kg_s,\n",
    "                \"Steam (kg/s)\": steam_kg_s,\n",
    "                \"Heat duty (MW)\": heat_MW,\n",
    "                \"Heater area (m²)\": area_m2,\n",
    "                \"LCOW ($/m³)\": lcow,\n",
    "            }\n",
    "        ]\n",
    "    )\n",
    "\n",
    "\n",
    "# Render KPIs\n",
    "kpi_table = kpis_mass_energy(m)\n",
    "cols = [\n",
    "    \"Feed (kg/s)\",\n",
    "    \"Distillate (kg/s)\",\n",
    "    \"Solids NaCl (kg/s)\",\n",
    "    \"Steam (kg/s)\",\n",
    "    \"Heat duty (MW)\",\n",
    "    \"Heater area (m²)\",\n",
    "    \"LCOW ($/m³)\",\n",
    "]\n",
    "kpi_table = kpi_table[[c for c in cols if c in kpi_table.columns]]\n",
    "kpi_table.style.format(\n",
    "    {\n",
    "        \"Feed (kg/s)\": \"{:.3f}\",\n",
    "        \"Distillate (kg/s)\": \"{:.3f}\",\n",
    "        \"Solids NaCl (kg/s)\": \"{:.3f}\",\n",
    "        \"Steam (kg/s)\": \"{:.3f}\",\n",
    "        \"Heat duty (MW)\": \"{:.3f}\",\n",
    "        \"Heater area (m²)\": \"{:.2f}\",\n",
    "        \"LCOW ($/m³)\": \"{:.2f}\",\n",
    "    }\n",
    ")"
   ]
  },
  {
   "cell_type": "markdown",
   "id": "e2207246",
   "metadata": {},
   "source": [
    "## Section B — Fast-Build MVC (Mechanical Vapor Recompression)\n",
    "**What’s added vs steam-driven:**  \n",
    "• **Compressor** mechanically recompresses vapor instead of using more live steam.  \n",
    "• Condenser/heat-exchange loop returns latent heat to the brine; electricity becomes the primary energy driver.  \n",
    "**Connections:** crystallizer vapor → **compressor**  → back into the heater hot side; product water leaves the hot side of heater.  \n",
    "**Plant intuition:** lower steam use, higher kWh; good where electricity is cheap or steam is constrained."
   ]
  },
  {
   "cell_type": "code",
   "execution_count": null,
   "id": "695051eb",
   "metadata": {},
   "outputs": [],
   "source": [
    "from IPython.display import Image, display\n",
    "import os, io\n",
    "from pyomo.common.log import LoggingIntercept\n",
    "\n",
    "if os.path.exists(\"mvc.png\"):\n",
    "    display(Image(\"mvc.png\", width=560))\n",
    "\n",
    "import Crystallizer_MVR as mvc\n",
    "\n",
    "\n",
    "with LoggingIntercept(io.StringIO(), level=logging.CRITICAL):\n",
    "    m_mvc = mvc.build()\n",
    "    mvc.set_operating_conditions(m_mvc)\n",
    "    mvc.initialize_system(m_mvc)\n",
    "    if hasattr(mvc, \"optimize_set_up\"):\n",
    "        mvc.optimize_set_up(m_mvc)\n",
    "    mvc.solve(m_mvc)\n",
    "print(\"✅ MVC flowsheet solved\")"
   ]
  },
  {
   "cell_type": "markdown",
   "id": "1f7cb64b",
   "metadata": {},
   "source": [
    "## Section C — Fast-Build TVC (Steam Ejector / Thermal Vapor Compression)\n",
    "**What’s added vs steam-driven:**  \n",
    "• **Steam ejector (TVC)** uses **motive steam** to draw and recompress vapor, cutting net external steam to the heater.  \n",
    "**Connections:** crystallizer vapor → **steam ejector** (plus motive steam) → condenser loop → back to heater; distillate still from condenser.  \n",
    "**Plant intuition:** mid-ground between steam-only and MVC—still uses steam, but leverages ejector mixing to reduce overall duty."
   ]
  },
  {
   "cell_type": "code",
   "execution_count": null,
   "id": "9a6c0ba9",
   "metadata": {},
   "outputs": [],
   "source": [
    "if os.path.exists(\"tvc.png\"):\n",
    "    display(Image(\"tvc.png\", width=560))\n",
    "\n",
    "import crystallizer_TVC as tvc\n",
    "\n",
    "\n",
    "with LoggingIntercept(io.StringIO(), level=logging.CRITICAL):\n",
    "    m_tvc = tvc.build()\n",
    "    tvc.set_operating_conditions(m_tvc)\n",
    "    tvc.initialize_system(m_tvc)\n",
    "    if hasattr(tvc, \"optimize_set_up\"):\n",
    "        tvc.optimize_set_up(m_tvc)\n",
    "    tvc.solve(m_tvc)\n",
    "print(\"✅ TVC flowsheet solved\")"
   ]
  },
  {
   "cell_type": "markdown",
   "id": "17fff5fa",
   "metadata": {},
   "source": [
    "## Section D — KPI comparison (Steam-Driven vs MVC vs TVC)\n",
    "**LCOW** is the headline metric for decision-making."
   ]
  },
  {
   "cell_type": "code",
   "execution_count": null,
   "id": "2fe50201",
   "metadata": {
    "lines_to_next_cell": 0
   },
   "outputs": [],
   "source": [
    "from pyomo.environ import value\n",
    "\n",
    "\n",
    "def kpis_generic(model):\n",
    "    # reuse mass/energy from earlier; keep LCOW included\n",
    "    row = kpis_mass_energy(model).iloc[0].to_dict()\n",
    "    return row\n",
    "\n",
    "\n",
    "rows = [\n",
    "    {\"Flowsheet\": \"Steam-Driven\", **kpis_generic(m)},\n",
    "    {\"Flowsheet\": \"MVC (MVR)\", **kpis_generic(m_mvc)},\n",
    "    {\"Flowsheet\": \"TVC (Ejector)\", **kpis_generic(m_tvc)},\n",
    "]\n",
    "df_kpis = pd.DataFrame(rows).set_index(\"Flowsheet\")\n",
    "df_kpis"
   ]
  },
  {
   "cell_type": "markdown",
   "id": "a97de85f",
   "metadata": {},
   "source": [
    "## Section E — LCOW comparison (bar)\n",
    "LCOW summarizes the combined effect of energy, throughput, and operating assumptions—ideal for quick technology screening."
   ]
  },
  {
   "cell_type": "code",
   "execution_count": null,
   "id": "59d8b509",
   "metadata": {},
   "outputs": [],
   "source": [
    "_ = (\n",
    "    df_kpis[[\"LCOW ($/m³)\"]]\n",
    "    .sort_values(\"LCOW ($/m³)\")\n",
    "    .style.format({\"LCOW ($/m³)\": \"{:.2f}\"})\n",
    "    .bar(subset=[\"LCOW ($/m³)\"], color=\"#1f77b4\")\n",
    ")\n",
    "_"
   ]
  },
  {
   "cell_type": "markdown",
   "id": "ce66d114",
   "metadata": {},
   "source": [
    "## Section F — Energy-price sweeps for technology screening\n",
    "WaterTAP sweeps **steam price ($/ton)** and **electricity price (¢/kWh)** across ranges to compute **LCOW** for each flowsheet (Steam-Driven, MVC, TVC), revealing:\n",
    "- **LCOW vs steam price**: how each option’s cost moves with steam.  \n",
    "- **Least-cost technology map (steam vs electricity)**: which option is lowest-cost at a given price pair and the **switch lines** between them.  \n",
    "- **LCOW surface heatmap**: sensitivity of minimum LCOW to concurrent steam and electricity price changes.  \n",
    "Use these to quickly **screen technologies**, plan **energy contracts**, and understand **price-exposure risk**."
   ]
  },
  {
   "cell_type": "code",
   "execution_count": null,
   "id": "3c82d4d8",
   "metadata": {},
   "outputs": [],
   "source": [
    "from IPython.display import Image, display\n",
    "from pathlib import Path\n",
    "\n",
    "for fn in (\n",
    "    \"steam_cost_vs_lcow.png\",\n",
    "    \"steam-electricity-heat-map.png\",\n",
    "    \"least-cost-map.png\",\n",
    "    \"/mnt/data/steam_cost_vs_lcow.png\",\n",
    "    \"/mnt/data/steam-electricity-heat-map.png\",\n",
    "    \"/mnt/data/least-cost-map.png\",\n",
    "):\n",
    "    if Path(fn).exists():\n",
    "        display(Image(fn, width=900))\n",
    "\n",
    "# --- How to reproduce (commented- time-consuming)\n",
    "# from sweep_analysis_and_plots import main\n",
    "# main()\n",
    "\n",
    "# # Or run individual sweeps (time-consuming):\n",
    "# from sweep_electricity import run_electricity_price_sweep as run_electricity_sweep  # MVC electricity sweep\n",
    "# from sweep_steam import run_steam_cost_sweep as run_steam_hr_sweep  # TVC steam sweep\n",
    "# from sweep_steam_no_heat_recovery import run_steam_cost_sweep as run_steam_nhr_sweep   # FC steam sweep\n",
    "# run_electricity_sweep(nx=200, output_filename=\"electricity_price_sweep_elec.csv\")\n",
    "# run_steam_hr_sweep(nx=200, output_filename=\"steam_price_sweep_hr.csv\")\n",
    "# run_steam_nhr_sweep(nx=200, output_filename=\"steam_price_sweep_nhr.csv\")\n",
    "# --------------------------------------------------------------------------------"
   ]
  }
 ],
 "metadata": {
  "jupytext": {
   "cell_metadata_filter": "-all",
   "main_language": "python",
   "notebook_metadata_filter": "-all"
  },
  "kernelspec": {
   "display_name": "Python (watertap-dev)",
   "language": "python",
   "name": "watertap-dev"
  },
  "language_info": {
   "codemirror_mode": {
    "name": "ipython",
    "version": 3
   },
   "file_extension": ".py",
   "mimetype": "text/x-python",
   "name": "python",
   "nbconvert_exporter": "python",
   "pygments_lexer": "ipython3",
   "version": "3.9.21"
  }
 },
 "nbformat": 4,
 "nbformat_minor": 5
}
