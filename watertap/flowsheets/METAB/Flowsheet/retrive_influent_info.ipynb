{
 "cells": [
  {
   "cell_type": "code",
   "execution_count": 1,
   "id": "22b22e21",
   "metadata": {},
   "outputs": [
    {
     "name": "stdout",
     "output_type": "stream",
     "text": [
      "All impact indicators have been removed from the registry.\n",
      "All impact items have been removed from the registry.\n"
     ]
    },
    {
     "name": "stderr",
     "output_type": "stream",
     "text": [
      "c:\\Users\\Maojian\\anaconda3\\envs\\qsdsan\\lib\\site-packages\\qsdsan\\_process.py:1033: FutureWarning: Series.__getitem__ treating keys as positions is deprecated. In a future version, integer keys will always be treated as labels (consistent with DataFrame behavior). To access a value by position, use `ser.iloc[pos]`\n",
      "  ID = proc[0]\n",
      "c:\\Users\\Maojian\\anaconda3\\envs\\qsdsan\\lib\\site-packages\\qsdsan\\_process.py:1033: FutureWarning: Series.__getitem__ treating keys as positions is deprecated. In a future version, integer keys will always be treated as labels (consistent with DataFrame behavior). To access a value by position, use `ser.iloc[pos]`\n",
      "  ID = proc[0]\n",
      "c:\\Users\\Maojian\\anaconda3\\envs\\qsdsan\\lib\\site-packages\\qsdsan\\_process.py:1033: FutureWarning: Series.__getitem__ treating keys as positions is deprecated. In a future version, integer keys will always be treated as labels (consistent with DataFrame behavior). To access a value by position, use `ser.iloc[pos]`\n",
      "  ID = proc[0]\n",
      "c:\\Users\\Maojian\\anaconda3\\envs\\qsdsan\\lib\\site-packages\\qsdsan\\_process.py:1033: FutureWarning: Series.__getitem__ treating keys as positions is deprecated. In a future version, integer keys will always be treated as labels (consistent with DataFrame behavior). To access a value by position, use `ser.iloc[pos]`\n",
      "  ID = proc[0]\n",
      "c:\\Users\\Maojian\\anaconda3\\envs\\qsdsan\\lib\\site-packages\\qsdsan\\_process.py:1033: FutureWarning: Series.__getitem__ treating keys as positions is deprecated. In a future version, integer keys will always be treated as labels (consistent with DataFrame behavior). To access a value by position, use `ser.iloc[pos]`\n",
      "  ID = proc[0]\n",
      "c:\\Users\\Maojian\\anaconda3\\envs\\qsdsan\\lib\\site-packages\\qsdsan\\_process.py:1033: FutureWarning: Series.__getitem__ treating keys as positions is deprecated. In a future version, integer keys will always be treated as labels (consistent with DataFrame behavior). To access a value by position, use `ser.iloc[pos]`\n",
      "  ID = proc[0]\n",
      "c:\\Users\\Maojian\\anaconda3\\envs\\qsdsan\\lib\\site-packages\\qsdsan\\_process.py:1033: FutureWarning: Series.__getitem__ treating keys as positions is deprecated. In a future version, integer keys will always be treated as labels (consistent with DataFrame behavior). To access a value by position, use `ser.iloc[pos]`\n",
      "  ID = proc[0]\n",
      "c:\\Users\\Maojian\\anaconda3\\envs\\qsdsan\\lib\\site-packages\\qsdsan\\_process.py:1033: FutureWarning: Series.__getitem__ treating keys as positions is deprecated. In a future version, integer keys will always be treated as labels (consistent with DataFrame behavior). To access a value by position, use `ser.iloc[pos]`\n",
      "  ID = proc[0]\n",
      "c:\\Users\\Maojian\\anaconda3\\envs\\qsdsan\\lib\\site-packages\\qsdsan\\_process.py:1033: FutureWarning: Series.__getitem__ treating keys as positions is deprecated. In a future version, integer keys will always be treated as labels (consistent with DataFrame behavior). To access a value by position, use `ser.iloc[pos]`\n",
      "  ID = proc[0]\n",
      "c:\\Users\\Maojian\\anaconda3\\envs\\qsdsan\\lib\\site-packages\\qsdsan\\_process.py:1033: FutureWarning: Series.__getitem__ treating keys as positions is deprecated. In a future version, integer keys will always be treated as labels (consistent with DataFrame behavior). To access a value by position, use `ser.iloc[pos]`\n",
      "  ID = proc[0]\n",
      "c:\\Users\\Maojian\\anaconda3\\envs\\qsdsan\\lib\\site-packages\\qsdsan\\_process.py:1033: FutureWarning: Series.__getitem__ treating keys as positions is deprecated. In a future version, integer keys will always be treated as labels (consistent with DataFrame behavior). To access a value by position, use `ser.iloc[pos]`\n",
      "  ID = proc[0]\n",
      "c:\\Users\\Maojian\\anaconda3\\envs\\qsdsan\\lib\\site-packages\\qsdsan\\_process.py:1033: FutureWarning: Series.__getitem__ treating keys as positions is deprecated. In a future version, integer keys will always be treated as labels (consistent with DataFrame behavior). To access a value by position, use `ser.iloc[pos]`\n",
      "  ID = proc[0]\n",
      "c:\\Users\\Maojian\\anaconda3\\envs\\qsdsan\\lib\\site-packages\\qsdsan\\_process.py:1033: FutureWarning: Series.__getitem__ treating keys as positions is deprecated. In a future version, integer keys will always be treated as labels (consistent with DataFrame behavior). To access a value by position, use `ser.iloc[pos]`\n",
      "  ID = proc[0]\n",
      "c:\\Users\\Maojian\\anaconda3\\envs\\qsdsan\\lib\\site-packages\\qsdsan\\_process.py:1033: FutureWarning: Series.__getitem__ treating keys as positions is deprecated. In a future version, integer keys will always be treated as labels (consistent with DataFrame behavior). To access a value by position, use `ser.iloc[pos]`\n",
      "  ID = proc[0]\n",
      "c:\\Users\\Maojian\\anaconda3\\envs\\qsdsan\\lib\\site-packages\\qsdsan\\_process.py:1033: FutureWarning: Series.__getitem__ treating keys as positions is deprecated. In a future version, integer keys will always be treated as labels (consistent with DataFrame behavior). To access a value by position, use `ser.iloc[pos]`\n",
      "  ID = proc[0]\n",
      "c:\\Users\\Maojian\\anaconda3\\envs\\qsdsan\\lib\\site-packages\\qsdsan\\_process.py:1033: FutureWarning: Series.__getitem__ treating keys as positions is deprecated. In a future version, integer keys will always be treated as labels (consistent with DataFrame behavior). To access a value by position, use `ser.iloc[pos]`\n",
      "  ID = proc[0]\n",
      "c:\\Users\\Maojian\\anaconda3\\envs\\qsdsan\\lib\\site-packages\\qsdsan\\_process.py:1033: FutureWarning: Series.__getitem__ treating keys as positions is deprecated. In a future version, integer keys will always be treated as labels (consistent with DataFrame behavior). To access a value by position, use `ser.iloc[pos]`\n",
      "  ID = proc[0]\n",
      "c:\\Users\\Maojian\\anaconda3\\envs\\qsdsan\\lib\\site-packages\\qsdsan\\_process.py:1033: FutureWarning: Series.__getitem__ treating keys as positions is deprecated. In a future version, integer keys will always be treated as labels (consistent with DataFrame behavior). To access a value by position, use `ser.iloc[pos]`\n",
      "  ID = proc[0]\n",
      "c:\\Users\\Maojian\\anaconda3\\envs\\qsdsan\\lib\\site-packages\\qsdsan\\_process.py:1033: FutureWarning: Series.__getitem__ treating keys as positions is deprecated. In a future version, integer keys will always be treated as labels (consistent with DataFrame behavior). To access a value by position, use `ser.iloc[pos]`\n",
      "  ID = proc[0]\n",
      "c:\\Users\\Maojian\\anaconda3\\envs\\qsdsan\\lib\\site-packages\\biosteam\\units\\_pump.py:224: RuntimeWarning: <Pump: R2recir_Pump> no pump type available at current power (0.0674 hp), head (0.209 ft), kinematic viscosity (8.92e-07 m2/s), and NPSH (34 ft); assuming centrigugal pump\n",
      "  warn(f'{repr(self)} no pump type available at current power '\n"
     ]
    }
   ],
   "source": [
    "\n",
    "from exposan.metab import create_system\n",
    "\n",
    "__author__ = \"Maojian Wang\"\n",
    "\n",
    "inf_fr = 9.18\n",
    "temp = 24.58\n",
    "hrt = 11.39\n",
    "n_stages = 2\n",
    "reactor_type = \"FB\"\n",
    "gas_extraction = \"M\"\n",
    "t_span = 200\n",
    "# set model\n",
    "sys = create_system(\n",
    "    n_stages=n_stages,  # number of stages\n",
    "    reactor_type=reactor_type,  # PB for packed bed, FB for fluidized bed, or UASB\n",
    "    gas_extraction=gas_extraction,\n",
    "    Q=inf_fr,  # influent flowrate in m3/d\n",
    "    T=temp,  # reactor temperature in degree C\n",
    "    tot_HRT=hrt,  # total HRT in d\n",
    ")\n",
    "# run model\n",
    "sys.simulate(state_reset_hook=\"reset_cache\", t_span=(0, t_span), method=\"BDF\")\n"
   ]
  },
  {
   "cell_type": "code",
   "execution_count": 5,
   "id": "861b5cfc",
   "metadata": {},
   "outputs": [],
   "source": [
    "def get_mass_flowrate(case=None, df=None, stream=None):\n",
    "    # df = None\n",
    "    # stream = eff_dg\n",
    "    keys = str(stream.components)[20:-2].split(\",\")\n",
    "    values = [[float(x)] for x in list(stream.state[:-1])]\n",
    "    fr_dict = dict(zip(keys, values))\n",
    "    # if len(stream.state) != len(stream.conc.to_array()):\n",
    "    fr_dict[\"Volumetric Flowrate\"] = [stream.state[-1]]\n",
    "    print(fr_dict)\n",
    "    if df == None:\n",
    "        df = pd.DataFrame(fr_dict)\n",
    "        # print(df)\n",
    "    else:\n",
    "        df.loc[len(df)] = fr_dict\n",
    "\n",
    "    df = df.loc[:, (df != 0).any(axis=0)]\n",
    "\n",
    "    return df"
   ]
  },
  {
   "cell_type": "code",
   "execution_count": 8,
   "id": "c9b11c32",
   "metadata": {},
   "outputs": [
    {
     "name": "stdout",
     "output_type": "stream",
     "text": [
      "{'S_su': [3000.000000000001], ' S_aa': [600.0000000000001], ' S_fa': [400.00000000000017], ' S_va': [400.00000000000017], ' S_bu': [400.00000000000017], ' S_pro': [400.00000000000017], ' S_ac': [400.00000000000017], ' S_h2': [5.000000000000002e-06], ' S_ch4': [0.005000000000000001], ' S_IC': [480.4280000000002], ' S_IN': [140.06700000000004], ' S_I': [20.000000000000004], ' X_c': [100.00000000000004], ' X_ch': [300.00000000000006], ' X_pr': [500.0000000000002], ' X_li': [250.0000000000001], ' X_su': [0.0], ' X_aa': [1.0000000000000002], ' X_fa': [1.0000000000000002], ' X_c4': [1.0000000000000002], ' X_pro': [1.0000000000000002], ' X_ac': [1.0000000000000002], ' X_h2': [1.0000000000000002], ' X_I': [25.00000000000001], ' S_cat': [40.00000000000001], ' S_an': [20.000000000000004], ' H2O': [990964.2006568097], 'Volumetric Flowrate': [9.179999999999996]}\n"
     ]
    }
   ],
   "source": [
    "import pandas as pd\n",
    "influent = get_mass_flowrate(sys, None, sys.ins[0])"
   ]
  },
  {
   "cell_type": "code",
   "execution_count": 9,
   "id": "eb50f608",
   "metadata": {},
   "outputs": [],
   "source": [
    "influent.to_csv('brewery_ins.csv')"
   ]
  },
  {
   "cell_type": "code",
   "execution_count": null,
   "id": "98d9dbf3",
   "metadata": {},
   "outputs": [],
   "source": []
  }
 ],
 "metadata": {
  "kernelspec": {
   "display_name": "qsdsan",
   "language": "python",
   "name": "python3"
  },
  "language_info": {
   "codemirror_mode": {
    "name": "ipython",
    "version": 3
   },
   "file_extension": ".py",
   "mimetype": "text/x-python",
   "name": "python",
   "nbconvert_exporter": "python",
   "pygments_lexer": "ipython3",
   "version": "3.9.19"
  }
 },
 "nbformat": 4,
 "nbformat_minor": 5
}
