{
 "cells": [
  {
   "cell_type": "markdown",
   "id": "88bd343f",
   "metadata": {},
   "source": [
    "# Workflow Demo\n",
    "\n",
    "This is a demo and case study of the model integration workflow to connect external models "
   ]
  },
  {
   "cell_type": "markdown",
   "id": "e96f2d97",
   "metadata": {},
   "source": [
    "## Step 3 Surrogate model training"
   ]
  },
  {
   "cell_type": "code",
   "execution_count": 4,
   "id": "c068785a",
   "metadata": {},
   "outputs": [],
   "source": [
    "import surrogate_model_generator as s3"
   ]
  },
  {
   "cell_type": "code",
   "execution_count": null,
   "id": "74842511",
   "metadata": {},
   "outputs": [
    {
     "name": "stdout",
     "output_type": "stream",
     "text": [
      "\n",
      "===========================Polynomial Regression===============================================\n",
      "\n",
      "Warning: solution.pickle already exists; previous file will be overwritten.\n",
      "\n",
      "No iterations will be run.\n",
      "Default parameter estimation method is used.\n",
      "Parameter estimation method:  pyomo \n",
      "\n",
      "max_fraction_training_samples set at  0.5\n",
      "Number of adaptive samples (no_adaptive_samples) set at  4\n",
      "Maximum number of iterations (Max_iter) set at:  0\n"
     ]
    },
    {
     "ename": "KeyboardInterrupt",
     "evalue": "",
     "output_type": "error",
     "traceback": [
      "\u001b[1;31m---------------------------------------------------------------------------\u001b[0m",
      "\u001b[1;31mKeyboardInterrupt\u001b[0m                         Traceback (most recent call last)",
      "Cell \u001b[1;32mIn[5], line 2\u001b[0m\n\u001b[0;32m      1\u001b[0m feed_data, input_data, output_data \u001b[38;5;241m=\u001b[39m s3\u001b[38;5;241m.\u001b[39mget_data()\n\u001b[1;32m----> 2\u001b[0m \u001b[43ms3\u001b[49m\u001b[38;5;241;43m.\u001b[39;49m\u001b[43mgen_surrogate_model\u001b[49m\u001b[43m(\u001b[49m\n\u001b[0;32m      3\u001b[0m \u001b[43m        \u001b[49m\u001b[43mtool\u001b[49m\u001b[38;5;241;43m=\u001b[39;49m\u001b[38;5;124;43m\"\u001b[39;49m\u001b[38;5;124;43midaes\u001b[39;49m\u001b[38;5;124;43m\"\u001b[39;49m\u001b[43m,\u001b[49m\n\u001b[0;32m      4\u001b[0m \u001b[43m        \u001b[49m\u001b[43mmethod\u001b[49m\u001b[38;5;241;43m=\u001b[39;49m\u001b[38;5;124;43m\"\u001b[39;49m\u001b[38;5;124;43mpoly\u001b[39;49m\u001b[38;5;124;43m\"\u001b[39;49m\u001b[43m,\u001b[49m\u001b[43m  \u001b[49m\u001b[38;5;66;43;03m# kri, poly,rbf,alamo\u001b[39;49;00m\n\u001b[0;32m      5\u001b[0m \u001b[43m        \u001b[49m\u001b[43mfeed_data\u001b[49m\u001b[38;5;241;43m=\u001b[39;49m\u001b[43mfeed_data\u001b[49m\u001b[43m,\u001b[49m\n\u001b[0;32m      6\u001b[0m \u001b[43m        \u001b[49m\u001b[43minput_data\u001b[49m\u001b[38;5;241;43m=\u001b[39;49m\u001b[43minput_data\u001b[49m\u001b[43m,\u001b[49m\n\u001b[0;32m      7\u001b[0m \u001b[43m        \u001b[49m\u001b[43moutput_data\u001b[49m\u001b[38;5;241;43m=\u001b[39;49m\u001b[43moutput_data\u001b[49m\u001b[43m,\u001b[49m\n\u001b[0;32m      8\u001b[0m \u001b[43m    \u001b[49m\u001b[43m)\u001b[49m\n",
      "File \u001b[1;32mc:\\Users\\Maojian\\watertap\\watertap\\watertap\\flowsheets\\METAB\\Model Integration\\surrogate_model_generator.py:87\u001b[0m, in \u001b[0;36mgen_surrogate_model\u001b[1;34m(tool, method, feed_data, input_data, output_data)\u001b[0m\n\u001b[0;32m     85\u001b[0m trainer\u001b[38;5;241m.\u001b[39mconfig\u001b[38;5;241m.\u001b[39mnumber_of_crossvalidations \u001b[38;5;241m=\u001b[39m \u001b[38;5;241m3\u001b[39m\n\u001b[0;32m     86\u001b[0m \u001b[38;5;66;03m# Train surrogate (calls PySMO through IDAES Python wrapper)\u001b[39;00m\n\u001b[1;32m---> 87\u001b[0m poly_train \u001b[38;5;241m=\u001b[39m \u001b[43mtrainer\u001b[49m\u001b[38;5;241;43m.\u001b[39;49m\u001b[43mtrain_surrogate\u001b[49m\u001b[43m(\u001b[49m\u001b[43m)\u001b[49m\n\u001b[0;32m     89\u001b[0m poly_surr \u001b[38;5;241m=\u001b[39m PysmoSurrogate(\n\u001b[0;32m     90\u001b[0m     poly_train, input_labels, output_labels, input_bounds\n\u001b[0;32m     91\u001b[0m )\n\u001b[0;32m     93\u001b[0m poly_surr\u001b[38;5;241m.\u001b[39msave_to_file(\n\u001b[0;32m     94\u001b[0m     \u001b[38;5;124m\"\u001b[39m\u001b[38;5;124m./results/\u001b[39m\u001b[38;5;132;01m{}\u001b[39;00m\u001b[38;5;124m_surrogate.json\u001b[39m\u001b[38;5;124m\"\u001b[39m\u001b[38;5;241m.\u001b[39mformat(method), overwrite\u001b[38;5;241m=\u001b[39m\u001b[38;5;28;01mTrue\u001b[39;00m\n\u001b[0;32m     95\u001b[0m )\n",
      "File \u001b[1;32mc:\\Users\\Maojian\\anaconda3\\envs\\watertap\\lib\\site-packages\\idaes\\core\\surrogate\\pysmo_surrogate.py:196\u001b[0m, in \u001b[0;36mPysmoTrainer.train_surrogate\u001b[1;34m(self)\u001b[0m\n\u001b[0;32m    194\u001b[0m \u001b[38;5;28;01mif\u001b[39;00m \u001b[38;5;28mhasattr\u001b[39m(\u001b[38;5;28mself\u001b[39m, \u001b[38;5;124m\"\u001b[39m\u001b[38;5;124m_input_bounds\u001b[39m\u001b[38;5;124m\"\u001b[39m):\n\u001b[0;32m    195\u001b[0m     \u001b[38;5;28mself\u001b[39m\u001b[38;5;241m.\u001b[39m_trained\u001b[38;5;241m.\u001b[39minput_bounds \u001b[38;5;241m=\u001b[39m \u001b[38;5;28mself\u001b[39m\u001b[38;5;241m.\u001b[39m_input_bounds\n\u001b[1;32m--> 196\u001b[0m \u001b[38;5;28;43mself\u001b[39;49m\u001b[38;5;241;43m.\u001b[39;49m\u001b[43m_training_main_loop\u001b[49m\u001b[43m(\u001b[49m\u001b[43m)\u001b[49m\n\u001b[0;32m    197\u001b[0m \u001b[38;5;28;01mreturn\u001b[39;00m \u001b[38;5;28mself\u001b[39m\u001b[38;5;241m.\u001b[39m_trained\n",
      "File \u001b[1;32mc:\\Users\\Maojian\\anaconda3\\envs\\watertap\\lib\\site-packages\\idaes\\core\\surrogate\\pysmo_surrogate.py:223\u001b[0m, in \u001b[0;36mPysmoTrainer._training_main_loop\u001b[1;34m(self)\u001b[0m\n\u001b[0;32m    221\u001b[0m \u001b[38;5;66;03m# Create and train model\u001b[39;00m\n\u001b[0;32m    222\u001b[0m model \u001b[38;5;241m=\u001b[39m \u001b[38;5;28mself\u001b[39m\u001b[38;5;241m.\u001b[39m_create_model(pysmo_input, output_label)\n\u001b[1;32m--> 223\u001b[0m \u001b[43mmodel\u001b[49m\u001b[38;5;241;43m.\u001b[39;49m\u001b[43mtraining\u001b[49m\u001b[43m(\u001b[49m\u001b[43m)\u001b[49m\n\u001b[0;32m    224\u001b[0m \u001b[38;5;66;03m# Store results\u001b[39;00m\n\u001b[0;32m    225\u001b[0m result \u001b[38;5;241m=\u001b[39m PysmoSurrogateTrainingResult()\n",
      "File \u001b[1;32mc:\\Users\\Maojian\\anaconda3\\envs\\watertap\\lib\\site-packages\\idaes\\core\\surrogate\\pysmo\\polynomial_regression.py:1636\u001b[0m, in \u001b[0;36mPolynomialRegression.training\u001b[1;34m(self)\u001b[0m\n\u001b[0;32m   1632\u001b[0m npe \u001b[38;5;241m=\u001b[39m NumpyEvaluator(cMap)\n\u001b[0;32m   1633\u001b[0m additional_data \u001b[38;5;241m=\u001b[39m \u001b[38;5;28mlist\u001b[39m(\n\u001b[0;32m   1634\u001b[0m     npe\u001b[38;5;241m.\u001b[39mwalk_expression(term) \u001b[38;5;28;01mfor\u001b[39;00m term \u001b[38;5;129;01min\u001b[39;00m \u001b[38;5;28mself\u001b[39m\u001b[38;5;241m.\u001b[39madditional_term_expressions\n\u001b[0;32m   1635\u001b[0m )\n\u001b[1;32m-> 1636\u001b[0m \u001b[38;5;28;01mreturn\u001b[39;00m \u001b[38;5;28;43mself\u001b[39;49m\u001b[38;5;241;43m.\u001b[39;49m\u001b[43mpolynomial_regression_fitting\u001b[49m\u001b[43m(\u001b[49m\u001b[43madditional_data\u001b[49m\u001b[43m)\u001b[49m\n",
      "File \u001b[1;32mc:\\Users\\Maojian\\anaconda3\\envs\\watertap\\lib\\site-packages\\idaes\\core\\surrogate\\pysmo\\polynomial_regression.py:1205\u001b[0m, in \u001b[0;36mPolynomialRegression.polynomial_regression_fitting\u001b[1;34m(self, additional_regression_features)\u001b[0m\n\u001b[0;32m   1203\u001b[0m \u001b[38;5;28;01mfor\u001b[39;00m poly_order \u001b[38;5;129;01min\u001b[39;00m \u001b[38;5;28mrange\u001b[39m(\u001b[38;5;241m1\u001b[39m, \u001b[38;5;28mself\u001b[39m\u001b[38;5;241m.\u001b[39mmax_polynomial_order \u001b[38;5;241m+\u001b[39m \u001b[38;5;241m1\u001b[39m):\n\u001b[0;32m   1204\u001b[0m     \u001b[38;5;28;01mfor\u001b[39;00m cv_number \u001b[38;5;129;01min\u001b[39;00m \u001b[38;5;28mrange\u001b[39m(\u001b[38;5;241m1\u001b[39m, \u001b[38;5;28mself\u001b[39m\u001b[38;5;241m.\u001b[39mnumber_of_crossvalidations \u001b[38;5;241m+\u001b[39m \u001b[38;5;241m1\u001b[39m):\n\u001b[1;32m-> 1205\u001b[0m         phi, train_error, cv_error \u001b[38;5;241m=\u001b[39m \u001b[38;5;28;43mself\u001b[39;49m\u001b[38;5;241;43m.\u001b[39;49m\u001b[43mpolyregression\u001b[49m\u001b[43m(\u001b[49m\n\u001b[0;32m   1206\u001b[0m \u001b[43m            \u001b[49m\u001b[43mpoly_order\u001b[49m\u001b[43m,\u001b[49m\n\u001b[0;32m   1207\u001b[0m \u001b[43m            \u001b[49m\u001b[43mtraining_data\u001b[49m\u001b[43m[\u001b[49m\u001b[38;5;124;43m\"\u001b[39;49m\u001b[38;5;124;43mtraining_set_\u001b[39;49m\u001b[38;5;124;43m\"\u001b[39;49m\u001b[43m \u001b[49m\u001b[38;5;241;43m+\u001b[39;49m\u001b[43m \u001b[49m\u001b[38;5;28;43mstr\u001b[39;49m\u001b[43m(\u001b[49m\u001b[43mcv_number\u001b[49m\u001b[43m)\u001b[49m\u001b[43m]\u001b[49m\u001b[43m,\u001b[49m\n\u001b[0;32m   1208\u001b[0m \u001b[43m            \u001b[49m\u001b[43mcross_val_data\u001b[49m\u001b[43m[\u001b[49m\u001b[38;5;124;43m\"\u001b[39;49m\u001b[38;5;124;43mtest_set_\u001b[39;49m\u001b[38;5;124;43m\"\u001b[39;49m\u001b[43m \u001b[49m\u001b[38;5;241;43m+\u001b[39;49m\u001b[43m \u001b[49m\u001b[38;5;28;43mstr\u001b[39;49m\u001b[43m(\u001b[49m\u001b[43mcv_number\u001b[49m\u001b[43m)\u001b[49m\u001b[43m]\u001b[49m\u001b[43m,\u001b[49m\n\u001b[0;32m   1209\u001b[0m \u001b[43m        \u001b[49m\u001b[43m)\u001b[49m\n\u001b[0;32m   1210\u001b[0m         \u001b[38;5;28;01mif\u001b[39;00m cv_error \u001b[38;5;241m<\u001b[39m best_error:\n\u001b[0;32m   1211\u001b[0m             best_error \u001b[38;5;241m=\u001b[39m cv_error\n",
      "File \u001b[1;32mc:\\Users\\Maojian\\anaconda3\\envs\\watertap\\lib\\site-packages\\idaes\\core\\surrogate\\pysmo\\polynomial_regression.py:898\u001b[0m, in \u001b[0;36mPolynomialRegression.polyregression\u001b[1;34m(self, poly_order, training_data, test_data, additional_x_training_data, additional_x_test_data)\u001b[0m\n\u001b[0;32m    894\u001b[0m     phi_vector \u001b[38;5;241m=\u001b[39m \u001b[38;5;28mself\u001b[39m\u001b[38;5;241m.\u001b[39mbfgs_parameter_optimization(\n\u001b[0;32m    895\u001b[0m         x_polynomial_data, y_training_data\n\u001b[0;32m    896\u001b[0m     )\n\u001b[0;32m    897\u001b[0m \u001b[38;5;28;01melif\u001b[39;00m \u001b[38;5;28mself\u001b[39m\u001b[38;5;241m.\u001b[39msolution_method \u001b[38;5;241m==\u001b[39m \u001b[38;5;124m\"\u001b[39m\u001b[38;5;124mpyomo\u001b[39m\u001b[38;5;124m\"\u001b[39m:\n\u001b[1;32m--> 898\u001b[0m     phi_vector \u001b[38;5;241m=\u001b[39m \u001b[38;5;28;43mself\u001b[39;49m\u001b[38;5;241;43m.\u001b[39;49m\u001b[43mpyomo_optimization\u001b[49m\u001b[43m(\u001b[49m\u001b[43mx_polynomial_data\u001b[49m\u001b[43m,\u001b[49m\u001b[43m \u001b[49m\u001b[43my_training_data\u001b[49m\u001b[43m)\u001b[49m\n\u001b[0;32m    899\u001b[0m phi_vector \u001b[38;5;241m=\u001b[39m phi_vector\u001b[38;5;241m.\u001b[39mreshape(\n\u001b[0;32m    900\u001b[0m     phi_vector\u001b[38;5;241m.\u001b[39mshape[\u001b[38;5;241m0\u001b[39m], \u001b[38;5;241m1\u001b[39m\n\u001b[0;32m    901\u001b[0m )  \u001b[38;5;66;03m# Pseudo-inverse approach\u001b[39;00m\n\u001b[0;32m    903\u001b[0m x_polynomial_data_test \u001b[38;5;241m=\u001b[39m \u001b[38;5;28mself\u001b[39m\u001b[38;5;241m.\u001b[39mpolygeneration(\n\u001b[0;32m    904\u001b[0m     poly_order, \u001b[38;5;28mself\u001b[39m\u001b[38;5;241m.\u001b[39mmultinomials, x_test_data, additional_x_test_data\n\u001b[0;32m    905\u001b[0m )\n",
      "File \u001b[1;32mc:\\Users\\Maojian\\anaconda3\\envs\\watertap\\lib\\site-packages\\idaes\\core\\surrogate\\pysmo\\polynomial_regression.py:814\u001b[0m, in \u001b[0;36mPolynomialRegression.pyomo_optimization\u001b[1;34m(x, y)\u001b[0m\n\u001b[0;32m    812\u001b[0m opt\u001b[38;5;241m.\u001b[39moptions[\u001b[38;5;124m\"\u001b[39m\u001b[38;5;124mmax_iter\u001b[39m\u001b[38;5;124m\"\u001b[39m] \u001b[38;5;241m=\u001b[39m \u001b[38;5;241m1000\u001b[39m\n\u001b[0;32m    813\u001b[0m \u001b[38;5;66;03m# TODO: Should this be checking the for a feasible solution?\u001b[39;00m\n\u001b[1;32m--> 814\u001b[0m \u001b[43mopt\u001b[49m\u001b[38;5;241;43m.\u001b[39;49m\u001b[43msolve\u001b[49m\u001b[43m(\u001b[49m\u001b[43minstance\u001b[49m\u001b[43m)\u001b[49m\n\u001b[0;32m    816\u001b[0m \u001b[38;5;66;03m# Convert theta variable into numpy array\u001b[39;00m\n\u001b[0;32m    817\u001b[0m phi \u001b[38;5;241m=\u001b[39m np\u001b[38;5;241m.\u001b[39mzeros((\u001b[38;5;28mlen\u001b[39m(instance\u001b[38;5;241m.\u001b[39mtheta), \u001b[38;5;241m1\u001b[39m))\n",
      "File \u001b[1;32mc:\\Users\\Maojian\\anaconda3\\envs\\watertap\\lib\\site-packages\\pyomo\\opt\\base\\solvers.py:610\u001b[0m, in \u001b[0;36mOptSolver.solve\u001b[1;34m(self, *args, **kwds)\u001b[0m\n\u001b[0;32m    607\u001b[0m \u001b[38;5;28;01mif\u001b[39;00m \u001b[38;5;129;01mnot\u001b[39;00m _model \u001b[38;5;129;01mis\u001b[39;00m \u001b[38;5;28;01mNone\u001b[39;00m:\n\u001b[0;32m    608\u001b[0m     \u001b[38;5;28mself\u001b[39m\u001b[38;5;241m.\u001b[39m_initialize_callbacks(_model)\n\u001b[1;32m--> 610\u001b[0m _status \u001b[38;5;241m=\u001b[39m \u001b[38;5;28;43mself\u001b[39;49m\u001b[38;5;241;43m.\u001b[39;49m\u001b[43m_apply_solver\u001b[49m\u001b[43m(\u001b[49m\u001b[43m)\u001b[49m\n\u001b[0;32m    611\u001b[0m \u001b[38;5;28;01mif\u001b[39;00m \u001b[38;5;28mhasattr\u001b[39m(\u001b[38;5;28mself\u001b[39m, \u001b[38;5;124m'\u001b[39m\u001b[38;5;124m_transformation_data\u001b[39m\u001b[38;5;124m'\u001b[39m):\n\u001b[0;32m    612\u001b[0m     \u001b[38;5;28;01mdel\u001b[39;00m \u001b[38;5;28mself\u001b[39m\u001b[38;5;241m.\u001b[39m_transformation_data\n",
      "File \u001b[1;32mc:\\Users\\Maojian\\anaconda3\\envs\\watertap\\lib\\site-packages\\pyomo\\opt\\solver\\shellcmd.py:266\u001b[0m, in \u001b[0;36mSystemCallSolver._apply_solver\u001b[1;34m(self)\u001b[0m\n\u001b[0;32m    263\u001b[0m         \u001b[38;5;28mprint\u001b[39m(\u001b[38;5;124m\"\u001b[39m\u001b[38;5;124mSolver problem files: \u001b[39m\u001b[38;5;132;01m%s\u001b[39;00m\u001b[38;5;124m\"\u001b[39m \u001b[38;5;241m%\u001b[39m \u001b[38;5;28mstr\u001b[39m(\u001b[38;5;28mself\u001b[39m\u001b[38;5;241m.\u001b[39m_problem_files))\n\u001b[0;32m    265\u001b[0m sys\u001b[38;5;241m.\u001b[39mstdout\u001b[38;5;241m.\u001b[39mflush()\n\u001b[1;32m--> 266\u001b[0m \u001b[38;5;28mself\u001b[39m\u001b[38;5;241m.\u001b[39m_rc, \u001b[38;5;28mself\u001b[39m\u001b[38;5;241m.\u001b[39m_log \u001b[38;5;241m=\u001b[39m \u001b[38;5;28;43mself\u001b[39;49m\u001b[38;5;241;43m.\u001b[39;49m\u001b[43m_execute_command\u001b[49m\u001b[43m(\u001b[49m\u001b[38;5;28;43mself\u001b[39;49m\u001b[38;5;241;43m.\u001b[39;49m\u001b[43m_command\u001b[49m\u001b[43m)\u001b[49m\n\u001b[0;32m    267\u001b[0m sys\u001b[38;5;241m.\u001b[39mstdout\u001b[38;5;241m.\u001b[39mflush()\n\u001b[0;32m    268\u001b[0m \u001b[38;5;28;01mreturn\u001b[39;00m Bunch(rc\u001b[38;5;241m=\u001b[39m\u001b[38;5;28mself\u001b[39m\u001b[38;5;241m.\u001b[39m_rc, log\u001b[38;5;241m=\u001b[39m\u001b[38;5;28mself\u001b[39m\u001b[38;5;241m.\u001b[39m_log)\n",
      "File \u001b[1;32mc:\\Users\\Maojian\\anaconda3\\envs\\watertap\\lib\\site-packages\\pyomo\\opt\\solver\\shellcmd.py:333\u001b[0m, in \u001b[0;36mSystemCallSolver._execute_command\u001b[1;34m(self, command)\u001b[0m\n\u001b[0;32m    330\u001b[0m     ostreams\u001b[38;5;241m.\u001b[39mappend(sys\u001b[38;5;241m.\u001b[39mstdout)\n\u001b[0;32m    332\u001b[0m \u001b[38;5;28;01mtry\u001b[39;00m:\n\u001b[1;32m--> 333\u001b[0m     \u001b[38;5;28;01mwith\u001b[39;00m TeeStream(\u001b[38;5;241m*\u001b[39mostreams) \u001b[38;5;28;01mas\u001b[39;00m t:\n\u001b[0;32m    334\u001b[0m         results \u001b[38;5;241m=\u001b[39m subprocess\u001b[38;5;241m.\u001b[39mrun(\n\u001b[0;32m    335\u001b[0m             command\u001b[38;5;241m.\u001b[39mcmd,\n\u001b[0;32m    336\u001b[0m             \u001b[38;5;28minput\u001b[39m\u001b[38;5;241m=\u001b[39m_input,\n\u001b[1;32m   (...)\u001b[0m\n\u001b[0;32m    342\u001b[0m             cwd\u001b[38;5;241m=\u001b[39mcommand\u001b[38;5;241m.\u001b[39mcwd \u001b[38;5;28;01mif\u001b[39;00m \u001b[38;5;124m\"\u001b[39m\u001b[38;5;124mcwd\u001b[39m\u001b[38;5;124m\"\u001b[39m \u001b[38;5;129;01min\u001b[39;00m command \u001b[38;5;28;01melse\u001b[39;00m \u001b[38;5;28;01mNone\u001b[39;00m,\n\u001b[0;32m    343\u001b[0m         )\n\u001b[0;32m    344\u001b[0m         t\u001b[38;5;241m.\u001b[39mSTDOUT\u001b[38;5;241m.\u001b[39mflush()\n",
      "File \u001b[1;32mc:\\Users\\Maojian\\anaconda3\\envs\\watertap\\lib\\site-packages\\pyomo\\common\\tee.py:430\u001b[0m, in \u001b[0;36mTeeStream.__exit__\u001b[1;34m(self, et, ev, tb)\u001b[0m\n\u001b[0;32m    429\u001b[0m \u001b[38;5;28;01mdef\u001b[39;00m \u001b[38;5;21m__exit__\u001b[39m(\u001b[38;5;28mself\u001b[39m, et, ev, tb):\n\u001b[1;32m--> 430\u001b[0m     \u001b[38;5;28;43mself\u001b[39;49m\u001b[38;5;241;43m.\u001b[39;49m\u001b[43mclose\u001b[49m\u001b[43m(\u001b[49m\u001b[43met\u001b[49m\u001b[43m \u001b[49m\u001b[38;5;129;43;01mis\u001b[39;49;00m\u001b[43m \u001b[49m\u001b[38;5;129;43;01mnot\u001b[39;49;00m\u001b[43m \u001b[49m\u001b[38;5;28;43;01mNone\u001b[39;49;00m\u001b[43m)\u001b[49m\n",
      "File \u001b[1;32mc:\\Users\\Maojian\\anaconda3\\envs\\watertap\\lib\\site-packages\\pyomo\\common\\tee.py:398\u001b[0m, in \u001b[0;36mTeeStream.close\u001b[1;34m(self, in_exception)\u001b[0m\n\u001b[0;32m    396\u001b[0m \u001b[38;5;28;01mwhile\u001b[39;00m \u001b[38;5;28;01mTrue\u001b[39;00m:\n\u001b[0;32m    397\u001b[0m     \u001b[38;5;28;01mfor\u001b[39;00m th \u001b[38;5;129;01min\u001b[39;00m \u001b[38;5;28mself\u001b[39m\u001b[38;5;241m.\u001b[39m_threads:\n\u001b[1;32m--> 398\u001b[0m         \u001b[43mth\u001b[49m\u001b[38;5;241;43m.\u001b[39;49m\u001b[43mjoin\u001b[49m\u001b[43m(\u001b[49m\u001b[43m_poll\u001b[49m\u001b[43m)\u001b[49m\n\u001b[0;32m    399\u001b[0m     \u001b[38;5;28mself\u001b[39m\u001b[38;5;241m.\u001b[39m_threads[:] \u001b[38;5;241m=\u001b[39m [th \u001b[38;5;28;01mfor\u001b[39;00m th \u001b[38;5;129;01min\u001b[39;00m \u001b[38;5;28mself\u001b[39m\u001b[38;5;241m.\u001b[39m_threads \u001b[38;5;28;01mif\u001b[39;00m th\u001b[38;5;241m.\u001b[39mis_alive()]\n\u001b[0;32m    400\u001b[0m     \u001b[38;5;28;01mif\u001b[39;00m \u001b[38;5;129;01mnot\u001b[39;00m \u001b[38;5;28mself\u001b[39m\u001b[38;5;241m.\u001b[39m_threads:\n",
      "File \u001b[1;32mc:\\Users\\Maojian\\anaconda3\\envs\\watertap\\lib\\threading.py:1100\u001b[0m, in \u001b[0;36mThread.join\u001b[1;34m(self, timeout)\u001b[0m\n\u001b[0;32m   1096\u001b[0m     \u001b[38;5;28mself\u001b[39m\u001b[38;5;241m.\u001b[39m_wait_for_tstate_lock()\n\u001b[0;32m   1097\u001b[0m \u001b[38;5;28;01melse\u001b[39;00m:\n\u001b[0;32m   1098\u001b[0m     \u001b[38;5;66;03m# the behavior of a negative timeout isn't documented, but\u001b[39;00m\n\u001b[0;32m   1099\u001b[0m     \u001b[38;5;66;03m# historically .join(timeout=x) for x<0 has acted as if timeout=0\u001b[39;00m\n\u001b[1;32m-> 1100\u001b[0m     \u001b[38;5;28;43mself\u001b[39;49m\u001b[38;5;241;43m.\u001b[39;49m\u001b[43m_wait_for_tstate_lock\u001b[49m\u001b[43m(\u001b[49m\u001b[43mtimeout\u001b[49m\u001b[38;5;241;43m=\u001b[39;49m\u001b[38;5;28;43mmax\u001b[39;49m\u001b[43m(\u001b[49m\u001b[43mtimeout\u001b[49m\u001b[43m,\u001b[49m\u001b[43m \u001b[49m\u001b[38;5;241;43m0\u001b[39;49m\u001b[43m)\u001b[49m\u001b[43m)\u001b[49m\n",
      "File \u001b[1;32mc:\\Users\\Maojian\\anaconda3\\envs\\watertap\\lib\\threading.py:1116\u001b[0m, in \u001b[0;36mThread._wait_for_tstate_lock\u001b[1;34m(self, block, timeout)\u001b[0m\n\u001b[0;32m   1113\u001b[0m     \u001b[38;5;28;01mreturn\u001b[39;00m\n\u001b[0;32m   1115\u001b[0m \u001b[38;5;28;01mtry\u001b[39;00m:\n\u001b[1;32m-> 1116\u001b[0m     \u001b[38;5;28;01mif\u001b[39;00m \u001b[43mlock\u001b[49m\u001b[38;5;241;43m.\u001b[39;49m\u001b[43macquire\u001b[49m\u001b[43m(\u001b[49m\u001b[43mblock\u001b[49m\u001b[43m,\u001b[49m\u001b[43m \u001b[49m\u001b[43mtimeout\u001b[49m\u001b[43m)\u001b[49m:\n\u001b[0;32m   1117\u001b[0m         lock\u001b[38;5;241m.\u001b[39mrelease()\n\u001b[0;32m   1118\u001b[0m         \u001b[38;5;28mself\u001b[39m\u001b[38;5;241m.\u001b[39m_stop()\n",
      "\u001b[1;31mKeyboardInterrupt\u001b[0m: "
     ]
    }
   ],
   "source": [
    "feed_data, input_data, output_data = s3.get_data()\n",
    "output_data = s3.outputs_selections(output_data)\n",
    "\n",
    "s3.gen_surrogate_model(\n",
    "        tool=\"idaes\",\n",
    "        method=\"poly\",  # kri, poly,rbf,alamo\n",
    "        feed_data=feed_data,\n",
    "        input_data=input_data,\n",
    "        output_data=output_data,\n",
    "    )"
   ]
  }
 ],
 "metadata": {
  "kernelspec": {
   "display_name": "watertap",
   "language": "python",
   "name": "python3"
  },
  "language_info": {
   "codemirror_mode": {
    "name": "ipython",
    "version": 3
   },
   "file_extension": ".py",
   "mimetype": "text/x-python",
   "name": "python",
   "nbconvert_exporter": "python",
   "pygments_lexer": "ipython3",
   "version": "3.10.14"
  }
 },
 "nbformat": 4,
 "nbformat_minor": 5
}
