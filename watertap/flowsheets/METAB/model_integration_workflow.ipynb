{
 "cells": [
  {
   "cell_type": "markdown",
   "id": "88bd343f",
   "metadata": {},
   "source": [
    "# This is a demo and case study of the model integration workflow to connect external models "
   ]
  }
 ],
 "metadata": {
  "language_info": {
   "name": "python"
  }
 },
 "nbformat": 4,
 "nbformat_minor": 5
}
